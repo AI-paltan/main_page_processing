{
 "cells": [
  {
   "cell_type": "code",
   "execution_count": 1,
   "id": "fcaf257c-ebc0-40e3-aa43-4e690da866f3",
   "metadata": {},
   "outputs": [],
   "source": [
    "import pandas as pd\n",
    "import os\n",
    "from os import path\n",
    "import json"
   ]
  },
  {
   "cell_type": "code",
   "execution_count": 2,
   "id": "ed1838a0-46b7-4cea-9475-1f69d095bd5f",
   "metadata": {},
   "outputs": [
    {
     "name": "stderr",
     "output_type": "stream",
     "text": [
      "/home/jayesh/anaconda3/envs/crm_syd/lib/python3.9/site-packages/fuzzywuzzy/fuzz.py:11: UserWarning: Using slow pure-python SequenceMatcher. Install python-Levenshtein to remove this warning\n",
      "  warnings.warn('Using slow pure-python SequenceMatcher. Install python-Levenshtein to remove this warning')\n"
     ]
    }
   ],
   "source": [
    "from process_core import mainPageProcess"
   ]
  },
  {
   "cell_type": "code",
   "execution_count": 3,
   "id": "c9421439-c5df-48b9-a629-1ab10545cb0d",
   "metadata": {},
   "outputs": [],
   "source": [
    "fileid = \"2c4aedd7-c500-454f-9298-2283d27aefab\""
   ]
  },
  {
   "cell_type": "code",
   "execution_count": 4,
   "id": "96c338e9-ca67-46f3-8aeb-a91163d1ffdf",
   "metadata": {},
   "outputs": [],
   "source": [
    "mp = mainPageProcess()"
   ]
  },
  {
   "cell_type": "code",
   "execution_count": null,
   "id": "6c822b59-da1c-49cc-8ee3-1c1463d9d0dc",
   "metadata": {},
   "outputs": [],
   "source": []
  },
  {
   "cell_type": "code",
   "execution_count": 5,
   "id": "6cc6a570-f398-4ab9-8412-8267b7a2bc53",
   "metadata": {
    "collapsed": true,
    "jupyter": {
     "outputs_hidden": true
    },
    "tags": []
   },
   "outputs": [
    {
     "name": "stderr",
     "output_type": "stream",
     "text": [
      "/home/jayesh/mgs_ai/crm_syd_1/main_page_processing_service/utils.py:54: FutureWarning: iteritems is deprecated and will be removed in a future version. Use .items instead.\n",
      "  for col_idx, item in row.iteritems():\n",
      "/home/jayesh/mgs_ai/crm_syd_1/main_page_processing_service/utils.py:54: FutureWarning: iteritems is deprecated and will be removed in a future version. Use .items instead.\n",
      "  for col_idx, item in row.iteritems():\n",
      "/home/jayesh/mgs_ai/crm_syd_1/main_page_processing_service/utils.py:54: FutureWarning: iteritems is deprecated and will be removed in a future version. Use .items instead.\n",
      "  for col_idx, item in row.iteritems():\n",
      "/home/jayesh/mgs_ai/crm_syd_1/main_page_processing_service/note_standardise_utils.py:174: FutureWarning: iteritems is deprecated and will be removed in a future version. Use .items instead.\n",
      "  for col_idx, item in row.iteritems():\n",
      "/home/jayesh/mgs_ai/crm_syd_1/main_page_processing_service/note_standardise_utils.py:293: FutureWarning: In a future version, `df.iloc[:, i] = newvals` will attempt to set the values inplace instead of always setting a new array. To retain the old behavior, use either `df[df.columns[i]] = newvals` or, if columns are non-unique, `df.isetitem(i, newvals)`\n",
      "  df.iloc[:,col] = df.iloc[:,col].apply(clean_number).apply(pd.to_numeric , errors='coerce')\n",
      "/home/jayesh/mgs_ai/crm_syd_1/main_page_processing_service/note_standardise_utils.py:463: FutureWarning: iteritems is deprecated and will be removed in a future version. Use .items instead.\n",
      "  for col_header , line_row in fin_df.filter(like=\"line_item\", axis=1).iteritems():\n",
      "/home/jayesh/mgs_ai/crm_syd_1/main_page_processing_service/note_standardise_utils.py:174: FutureWarning: iteritems is deprecated and will be removed in a future version. Use .items instead.\n",
      "  for col_idx, item in row.iteritems():\n",
      "/home/jayesh/mgs_ai/crm_syd_1/main_page_processing_service/note_standardise_utils.py:293: FutureWarning: In a future version, `df.iloc[:, i] = newvals` will attempt to set the values inplace instead of always setting a new array. To retain the old behavior, use either `df[df.columns[i]] = newvals` or, if columns are non-unique, `df.isetitem(i, newvals)`\n",
      "  df.iloc[:,col] = df.iloc[:,col].apply(clean_number).apply(pd.to_numeric , errors='coerce')\n",
      "/home/jayesh/mgs_ai/crm_syd_1/main_page_processing_service/note_standardise_utils.py:463: FutureWarning: iteritems is deprecated and will be removed in a future version. Use .items instead.\n",
      "  for col_header , line_row in fin_df.filter(like=\"line_item\", axis=1).iteritems():\n",
      "/home/jayesh/mgs_ai/crm_syd_1/main_page_processing_service/note_standardise_utils.py:174: FutureWarning: iteritems is deprecated and will be removed in a future version. Use .items instead.\n",
      "  for col_idx, item in row.iteritems():\n",
      "/home/jayesh/mgs_ai/crm_syd_1/main_page_processing_service/note_standardise_utils.py:293: FutureWarning: In a future version, `df.iloc[:, i] = newvals` will attempt to set the values inplace instead of always setting a new array. To retain the old behavior, use either `df[df.columns[i]] = newvals` or, if columns are non-unique, `df.isetitem(i, newvals)`\n",
      "  df.iloc[:,col] = df.iloc[:,col].apply(clean_number).apply(pd.to_numeric , errors='coerce')\n",
      "/home/jayesh/mgs_ai/crm_syd_1/main_page_processing_service/note_standardise_utils.py:463: FutureWarning: iteritems is deprecated and will be removed in a future version. Use .items instead.\n",
      "  for col_header , line_row in fin_df.filter(like=\"line_item\", axis=1).iteritems():\n",
      "/home/jayesh/mgs_ai/crm_syd_1/main_page_processing_service/note_standardise_utils.py:174: FutureWarning: iteritems is deprecated and will be removed in a future version. Use .items instead.\n",
      "  for col_idx, item in row.iteritems():\n",
      "/home/jayesh/mgs_ai/crm_syd_1/main_page_processing_service/note_standardise_utils.py:293: FutureWarning: In a future version, `df.iloc[:, i] = newvals` will attempt to set the values inplace instead of always setting a new array. To retain the old behavior, use either `df[df.columns[i]] = newvals` or, if columns are non-unique, `df.isetitem(i, newvals)`\n",
      "  df.iloc[:,col] = df.iloc[:,col].apply(clean_number).apply(pd.to_numeric , errors='coerce')\n",
      "/home/jayesh/mgs_ai/crm_syd_1/main_page_processing_service/note_standardise_utils.py:463: FutureWarning: iteritems is deprecated and will be removed in a future version. Use .items instead.\n",
      "  for col_header , line_row in fin_df.filter(like=\"line_item\", axis=1).iteritems():\n",
      "/home/jayesh/mgs_ai/crm_syd_1/main_page_processing_service/note_standardise_utils.py:174: FutureWarning: iteritems is deprecated and will be removed in a future version. Use .items instead.\n",
      "  for col_idx, item in row.iteritems():\n",
      "/home/jayesh/mgs_ai/crm_syd_1/main_page_processing_service/note_standardise_utils.py:293: FutureWarning: In a future version, `df.iloc[:, i] = newvals` will attempt to set the values inplace instead of always setting a new array. To retain the old behavior, use either `df[df.columns[i]] = newvals` or, if columns are non-unique, `df.isetitem(i, newvals)`\n",
      "  df.iloc[:,col] = df.iloc[:,col].apply(clean_number).apply(pd.to_numeric , errors='coerce')\n",
      "/home/jayesh/mgs_ai/crm_syd_1/main_page_processing_service/note_standardise_utils.py:463: FutureWarning: iteritems is deprecated and will be removed in a future version. Use .items instead.\n",
      "  for col_header , line_row in fin_df.filter(like=\"line_item\", axis=1).iteritems():\n",
      "/home/jayesh/mgs_ai/crm_syd_1/main_page_processing_service/note_standardise_utils.py:174: FutureWarning: iteritems is deprecated and will be removed in a future version. Use .items instead.\n",
      "  for col_idx, item in row.iteritems():\n",
      "/home/jayesh/mgs_ai/crm_syd_1/main_page_processing_service/note_standardise_utils.py:293: FutureWarning: In a future version, `df.iloc[:, i] = newvals` will attempt to set the values inplace instead of always setting a new array. To retain the old behavior, use either `df[df.columns[i]] = newvals` or, if columns are non-unique, `df.isetitem(i, newvals)`\n",
      "  df.iloc[:,col] = df.iloc[:,col].apply(clean_number).apply(pd.to_numeric , errors='coerce')\n",
      "/home/jayesh/mgs_ai/crm_syd_1/main_page_processing_service/note_standardise_utils.py:463: FutureWarning: iteritems is deprecated and will be removed in a future version. Use .items instead.\n",
      "  for col_header , line_row in fin_df.filter(like=\"line_item\", axis=1).iteritems():\n",
      "/home/jayesh/mgs_ai/crm_syd_1/main_page_processing_service/note_standardise_utils.py:174: FutureWarning: iteritems is deprecated and will be removed in a future version. Use .items instead.\n",
      "  for col_idx, item in row.iteritems():\n",
      "/home/jayesh/mgs_ai/crm_syd_1/main_page_processing_service/note_standardise_utils.py:293: FutureWarning: In a future version, `df.iloc[:, i] = newvals` will attempt to set the values inplace instead of always setting a new array. To retain the old behavior, use either `df[df.columns[i]] = newvals` or, if columns are non-unique, `df.isetitem(i, newvals)`\n",
      "  df.iloc[:,col] = df.iloc[:,col].apply(clean_number).apply(pd.to_numeric , errors='coerce')\n",
      "/home/jayesh/mgs_ai/crm_syd_1/main_page_processing_service/note_standardise_utils.py:463: FutureWarning: iteritems is deprecated and will be removed in a future version. Use .items instead.\n",
      "  for col_header , line_row in fin_df.filter(like=\"line_item\", axis=1).iteritems():\n",
      "/home/jayesh/mgs_ai/crm_syd_1/main_page_processing_service/note_standardise_utils.py:174: FutureWarning: iteritems is deprecated and will be removed in a future version. Use .items instead.\n",
      "  for col_idx, item in row.iteritems():\n",
      "/home/jayesh/mgs_ai/crm_syd_1/main_page_processing_service/note_standardise_utils.py:293: FutureWarning: In a future version, `df.iloc[:, i] = newvals` will attempt to set the values inplace instead of always setting a new array. To retain the old behavior, use either `df[df.columns[i]] = newvals` or, if columns are non-unique, `df.isetitem(i, newvals)`\n",
      "  df.iloc[:,col] = df.iloc[:,col].apply(clean_number).apply(pd.to_numeric , errors='coerce')\n",
      "/home/jayesh/mgs_ai/crm_syd_1/main_page_processing_service/note_standardise_utils.py:463: FutureWarning: iteritems is deprecated and will be removed in a future version. Use .items instead.\n",
      "  for col_header , line_row in fin_df.filter(like=\"line_item\", axis=1).iteritems():\n",
      "/home/jayesh/mgs_ai/crm_syd_1/main_page_processing_service/note_standardise_utils.py:174: FutureWarning: iteritems is deprecated and will be removed in a future version. Use .items instead.\n",
      "  for col_idx, item in row.iteritems():\n",
      "/home/jayesh/mgs_ai/crm_syd_1/main_page_processing_service/note_standardise_utils.py:293: FutureWarning: In a future version, `df.iloc[:, i] = newvals` will attempt to set the values inplace instead of always setting a new array. To retain the old behavior, use either `df[df.columns[i]] = newvals` or, if columns are non-unique, `df.isetitem(i, newvals)`\n",
      "  df.iloc[:,col] = df.iloc[:,col].apply(clean_number).apply(pd.to_numeric , errors='coerce')\n",
      "/home/jayesh/mgs_ai/crm_syd_1/main_page_processing_service/note_standardise_utils.py:463: FutureWarning: iteritems is deprecated and will be removed in a future version. Use .items instead.\n",
      "  for col_header , line_row in fin_df.filter(like=\"line_item\", axis=1).iteritems():\n",
      "/home/jayesh/mgs_ai/crm_syd_1/main_page_processing_service/note_standardise_utils.py:174: FutureWarning: iteritems is deprecated and will be removed in a future version. Use .items instead.\n",
      "  for col_idx, item in row.iteritems():\n",
      "/home/jayesh/mgs_ai/crm_syd_1/main_page_processing_service/note_standardise_utils.py:293: FutureWarning: In a future version, `df.iloc[:, i] = newvals` will attempt to set the values inplace instead of always setting a new array. To retain the old behavior, use either `df[df.columns[i]] = newvals` or, if columns are non-unique, `df.isetitem(i, newvals)`\n",
      "  df.iloc[:,col] = df.iloc[:,col].apply(clean_number).apply(pd.to_numeric , errors='coerce')\n",
      "/home/jayesh/mgs_ai/crm_syd_1/main_page_processing_service/note_standardise_utils.py:463: FutureWarning: iteritems is deprecated and will be removed in a future version. Use .items instead.\n",
      "  for col_header , line_row in fin_df.filter(like=\"line_item\", axis=1).iteritems():\n",
      "/home/jayesh/mgs_ai/crm_syd_1/main_page_processing_service/note_standardise_utils.py:174: FutureWarning: iteritems is deprecated and will be removed in a future version. Use .items instead.\n",
      "  for col_idx, item in row.iteritems():\n",
      "/home/jayesh/mgs_ai/crm_syd_1/main_page_processing_service/note_standardise_utils.py:293: FutureWarning: In a future version, `df.iloc[:, i] = newvals` will attempt to set the values inplace instead of always setting a new array. To retain the old behavior, use either `df[df.columns[i]] = newvals` or, if columns are non-unique, `df.isetitem(i, newvals)`\n",
      "  df.iloc[:,col] = df.iloc[:,col].apply(clean_number).apply(pd.to_numeric , errors='coerce')\n",
      "/home/jayesh/mgs_ai/crm_syd_1/main_page_processing_service/note_standardise_utils.py:463: FutureWarning: iteritems is deprecated and will be removed in a future version. Use .items instead.\n",
      "  for col_header , line_row in fin_df.filter(like=\"line_item\", axis=1).iteritems():\n",
      "/home/jayesh/mgs_ai/crm_syd_1/main_page_processing_service/note_standardise_utils.py:174: FutureWarning: iteritems is deprecated and will be removed in a future version. Use .items instead.\n",
      "  for col_idx, item in row.iteritems():\n",
      "/home/jayesh/mgs_ai/crm_syd_1/main_page_processing_service/note_standardise_utils.py:293: FutureWarning: In a future version, `df.iloc[:, i] = newvals` will attempt to set the values inplace instead of always setting a new array. To retain the old behavior, use either `df[df.columns[i]] = newvals` or, if columns are non-unique, `df.isetitem(i, newvals)`\n",
      "  df.iloc[:,col] = df.iloc[:,col].apply(clean_number).apply(pd.to_numeric , errors='coerce')\n",
      "/home/jayesh/mgs_ai/crm_syd_1/main_page_processing_service/note_standardise_utils.py:463: FutureWarning: iteritems is deprecated and will be removed in a future version. Use .items instead.\n",
      "  for col_header , line_row in fin_df.filter(like=\"line_item\", axis=1).iteritems():\n",
      "/home/jayesh/mgs_ai/crm_syd_1/main_page_processing_service/note_standardise_utils.py:174: FutureWarning: iteritems is deprecated and will be removed in a future version. Use .items instead.\n",
      "  for col_idx, item in row.iteritems():\n",
      "/home/jayesh/mgs_ai/crm_syd_1/main_page_processing_service/note_standardise_utils.py:293: FutureWarning: In a future version, `df.iloc[:, i] = newvals` will attempt to set the values inplace instead of always setting a new array. To retain the old behavior, use either `df[df.columns[i]] = newvals` or, if columns are non-unique, `df.isetitem(i, newvals)`\n",
      "  df.iloc[:,col] = df.iloc[:,col].apply(clean_number).apply(pd.to_numeric , errors='coerce')\n",
      "/home/jayesh/mgs_ai/crm_syd_1/main_page_processing_service/note_standardise_utils.py:463: FutureWarning: iteritems is deprecated and will be removed in a future version. Use .items instead.\n",
      "  for col_header , line_row in fin_df.filter(like=\"line_item\", axis=1).iteritems():\n",
      "/home/jayesh/mgs_ai/crm_syd_1/main_page_processing_service/note_standardise_utils.py:174: FutureWarning: iteritems is deprecated and will be removed in a future version. Use .items instead.\n",
      "  for col_idx, item in row.iteritems():\n",
      "/home/jayesh/mgs_ai/crm_syd_1/main_page_processing_service/note_standardise_utils.py:293: FutureWarning: In a future version, `df.iloc[:, i] = newvals` will attempt to set the values inplace instead of always setting a new array. To retain the old behavior, use either `df[df.columns[i]] = newvals` or, if columns are non-unique, `df.isetitem(i, newvals)`\n",
      "  df.iloc[:,col] = df.iloc[:,col].apply(clean_number).apply(pd.to_numeric , errors='coerce')\n",
      "/home/jayesh/mgs_ai/crm_syd_1/main_page_processing_service/note_standardise_utils.py:463: FutureWarning: iteritems is deprecated and will be removed in a future version. Use .items instead.\n",
      "  for col_header , line_row in fin_df.filter(like=\"line_item\", axis=1).iteritems():\n",
      "/home/jayesh/mgs_ai/crm_syd_1/main_page_processing_service/note_standardise_utils.py:174: FutureWarning: iteritems is deprecated and will be removed in a future version. Use .items instead.\n",
      "  for col_idx, item in row.iteritems():\n",
      "/home/jayesh/mgs_ai/crm_syd_1/main_page_processing_service/note_standardise_utils.py:293: FutureWarning: In a future version, `df.iloc[:, i] = newvals` will attempt to set the values inplace instead of always setting a new array. To retain the old behavior, use either `df[df.columns[i]] = newvals` or, if columns are non-unique, `df.isetitem(i, newvals)`\n",
      "  df.iloc[:,col] = df.iloc[:,col].apply(clean_number).apply(pd.to_numeric , errors='coerce')\n",
      "/home/jayesh/mgs_ai/crm_syd_1/main_page_processing_service/note_standardise_utils.py:463: FutureWarning: iteritems is deprecated and will be removed in a future version. Use .items instead.\n",
      "  for col_header , line_row in fin_df.filter(like=\"line_item\", axis=1).iteritems():\n",
      "/home/jayesh/mgs_ai/crm_syd_1/main_page_processing_service/note_standardise_utils.py:174: FutureWarning: iteritems is deprecated and will be removed in a future version. Use .items instead.\n",
      "  for col_idx, item in row.iteritems():\n",
      "/home/jayesh/mgs_ai/crm_syd_1/main_page_processing_service/note_standardise_utils.py:293: FutureWarning: In a future version, `df.iloc[:, i] = newvals` will attempt to set the values inplace instead of always setting a new array. To retain the old behavior, use either `df[df.columns[i]] = newvals` or, if columns are non-unique, `df.isetitem(i, newvals)`\n",
      "  df.iloc[:,col] = df.iloc[:,col].apply(clean_number).apply(pd.to_numeric , errors='coerce')\n",
      "/home/jayesh/mgs_ai/crm_syd_1/main_page_processing_service/note_standardise_utils.py:463: FutureWarning: iteritems is deprecated and will be removed in a future version. Use .items instead.\n",
      "  for col_header , line_row in fin_df.filter(like=\"line_item\", axis=1).iteritems():\n",
      "/home/jayesh/mgs_ai/crm_syd_1/main_page_processing_service/note_standardise_utils.py:174: FutureWarning: iteritems is deprecated and will be removed in a future version. Use .items instead.\n",
      "  for col_idx, item in row.iteritems():\n",
      "/home/jayesh/mgs_ai/crm_syd_1/main_page_processing_service/note_standardise_utils.py:293: FutureWarning: In a future version, `df.iloc[:, i] = newvals` will attempt to set the values inplace instead of always setting a new array. To retain the old behavior, use either `df[df.columns[i]] = newvals` or, if columns are non-unique, `df.isetitem(i, newvals)`\n",
      "  df.iloc[:,col] = df.iloc[:,col].apply(clean_number).apply(pd.to_numeric , errors='coerce')\n",
      "/home/jayesh/mgs_ai/crm_syd_1/main_page_processing_service/note_standardise_utils.py:463: FutureWarning: iteritems is deprecated and will be removed in a future version. Use .items instead.\n",
      "  for col_header , line_row in fin_df.filter(like=\"line_item\", axis=1).iteritems():\n",
      "/home/jayesh/mgs_ai/crm_syd_1/main_page_processing_service/note_standardise_utils.py:174: FutureWarning: iteritems is deprecated and will be removed in a future version. Use .items instead.\n",
      "  for col_idx, item in row.iteritems():\n",
      "/home/jayesh/mgs_ai/crm_syd_1/main_page_processing_service/note_standardise_utils.py:293: FutureWarning: In a future version, `df.iloc[:, i] = newvals` will attempt to set the values inplace instead of always setting a new array. To retain the old behavior, use either `df[df.columns[i]] = newvals` or, if columns are non-unique, `df.isetitem(i, newvals)`\n",
      "  df.iloc[:,col] = df.iloc[:,col].apply(clean_number).apply(pd.to_numeric , errors='coerce')\n",
      "/home/jayesh/mgs_ai/crm_syd_1/main_page_processing_service/note_standardise_utils.py:463: FutureWarning: iteritems is deprecated and will be removed in a future version. Use .items instead.\n",
      "  for col_header , line_row in fin_df.filter(like=\"line_item\", axis=1).iteritems():\n",
      "/home/jayesh/mgs_ai/crm_syd_1/main_page_processing_service/note_standardise_utils.py:174: FutureWarning: iteritems is deprecated and will be removed in a future version. Use .items instead.\n",
      "  for col_idx, item in row.iteritems():\n",
      "/home/jayesh/mgs_ai/crm_syd_1/main_page_processing_service/note_standardise_utils.py:293: FutureWarning: In a future version, `df.iloc[:, i] = newvals` will attempt to set the values inplace instead of always setting a new array. To retain the old behavior, use either `df[df.columns[i]] = newvals` or, if columns are non-unique, `df.isetitem(i, newvals)`\n",
      "  df.iloc[:,col] = df.iloc[:,col].apply(clean_number).apply(pd.to_numeric , errors='coerce')\n",
      "/home/jayesh/mgs_ai/crm_syd_1/main_page_processing_service/note_standardise_utils.py:463: FutureWarning: iteritems is deprecated and will be removed in a future version. Use .items instead.\n",
      "  for col_header , line_row in fin_df.filter(like=\"line_item\", axis=1).iteritems():\n",
      "/home/jayesh/mgs_ai/crm_syd_1/main_page_processing_service/note_standardise_utils.py:174: FutureWarning: iteritems is deprecated and will be removed in a future version. Use .items instead.\n",
      "  for col_idx, item in row.iteritems():\n",
      "/home/jayesh/mgs_ai/crm_syd_1/main_page_processing_service/note_standardise_utils.py:293: FutureWarning: In a future version, `df.iloc[:, i] = newvals` will attempt to set the values inplace instead of always setting a new array. To retain the old behavior, use either `df[df.columns[i]] = newvals` or, if columns are non-unique, `df.isetitem(i, newvals)`\n",
      "  df.iloc[:,col] = df.iloc[:,col].apply(clean_number).apply(pd.to_numeric , errors='coerce')\n",
      "/home/jayesh/mgs_ai/crm_syd_1/main_page_processing_service/note_standardise_utils.py:463: FutureWarning: iteritems is deprecated and will be removed in a future version. Use .items instead.\n",
      "  for col_header , line_row in fin_df.filter(like=\"line_item\", axis=1).iteritems():\n",
      "/home/jayesh/mgs_ai/crm_syd_1/main_page_processing_service/note_standardise_utils.py:174: FutureWarning: iteritems is deprecated and will be removed in a future version. Use .items instead.\n",
      "  for col_idx, item in row.iteritems():\n",
      "/home/jayesh/mgs_ai/crm_syd_1/main_page_processing_service/note_standardise_utils.py:293: FutureWarning: In a future version, `df.iloc[:, i] = newvals` will attempt to set the values inplace instead of always setting a new array. To retain the old behavior, use either `df[df.columns[i]] = newvals` or, if columns are non-unique, `df.isetitem(i, newvals)`\n",
      "  df.iloc[:,col] = df.iloc[:,col].apply(clean_number).apply(pd.to_numeric , errors='coerce')\n",
      "/home/jayesh/mgs_ai/crm_syd_1/main_page_processing_service/note_standardise_utils.py:463: FutureWarning: iteritems is deprecated and will be removed in a future version. Use .items instead.\n",
      "  for col_header , line_row in fin_df.filter(like=\"line_item\", axis=1).iteritems():\n",
      "/home/jayesh/mgs_ai/crm_syd_1/main_page_processing_service/note_standardise_utils.py:174: FutureWarning: iteritems is deprecated and will be removed in a future version. Use .items instead.\n",
      "  for col_idx, item in row.iteritems():\n",
      "/home/jayesh/mgs_ai/crm_syd_1/main_page_processing_service/note_standardise_utils.py:293: FutureWarning: In a future version, `df.iloc[:, i] = newvals` will attempt to set the values inplace instead of always setting a new array. To retain the old behavior, use either `df[df.columns[i]] = newvals` or, if columns are non-unique, `df.isetitem(i, newvals)`\n",
      "  df.iloc[:,col] = df.iloc[:,col].apply(clean_number).apply(pd.to_numeric , errors='coerce')\n",
      "/home/jayesh/mgs_ai/crm_syd_1/main_page_processing_service/note_standardise_utils.py:463: FutureWarning: iteritems is deprecated and will be removed in a future version. Use .items instead.\n",
      "  for col_header , line_row in fin_df.filter(like=\"line_item\", axis=1).iteritems():\n"
     ]
    }
   ],
   "source": [
    "cbs_dict,cpl_dict,ccf_dict,meta_dict,final_notes_dict,ref_notes_list, notes_region_meta_data,cropped_table_dict = mp.process_main_pages(fileid=fileid)"
   ]
  },
  {
   "cell_type": "code",
   "execution_count": null,
   "id": "f6598617-3366-4f2d-8884-f64bbe0e2a59",
   "metadata": {
    "tags": []
   },
   "outputs": [],
   "source": []
  },
  {
   "cell_type": "code",
   "execution_count": null,
   "id": "c0a06ebd-4f07-40e9-83a9-2187f3e01688",
   "metadata": {
    "tags": []
   },
   "outputs": [],
   "source": []
  },
  {
   "cell_type": "code",
   "execution_count": null,
   "id": "da2f8f25-cb81-4d57-9093-a0c9d4f74e31",
   "metadata": {
    "tags": []
   },
   "outputs": [],
   "source": []
  },
  {
   "cell_type": "code",
   "execution_count": 11,
   "id": "e30680e0-ccbc-4b84-9be6-45270c3e9c4a",
   "metadata": {
    "tags": []
   },
   "outputs": [],
   "source": [
    "# mp.standardised_cropped_dict"
   ]
  },
  {
   "cell_type": "code",
   "execution_count": 8,
   "id": "b8112870-6660-4086-8d6b-f4a8a9ce1dd7",
   "metadata": {},
   "outputs": [],
   "source": [
    "output_folder = './output/'\n",
    "file_folder = os.path.join(output_folder,fileid)"
   ]
  },
  {
   "cell_type": "code",
   "execution_count": 9,
   "id": "8c297c88-352a-420c-a58c-13c1f110655f",
   "metadata": {},
   "outputs": [],
   "source": [
    "try:\n",
    "    os.mkdir(file_folder)\n",
    "except:\n",
    "    pass"
   ]
  },
  {
   "cell_type": "code",
   "execution_count": 10,
   "id": "00a4dd4a-8719-4e53-ae69-18e4a543a526",
   "metadata": {},
   "outputs": [],
   "source": [
    "##saving notes and respective account dict\n",
    "with open(os.path.join(file_folder,f\"{fileid}_notes_account_dict.json\"),\"w\") as f:\n",
    "    json.dump(mp.final_notes_dict,f)"
   ]
  },
  {
   "cell_type": "code",
   "execution_count": 11,
   "id": "34ef4bf3-56f0-4c56-afc6-eda1a0378c7d",
   "metadata": {},
   "outputs": [],
   "source": [
    "##saving notes region meta_data\n",
    "notes_region_meta_data.to_csv(os.path.join(file_folder,f\"{fileid}_notes_region_meta_data.csv\"),index=False)"
   ]
  },
  {
   "cell_type": "code",
   "execution_count": 13,
   "id": "4998128e-2a7d-4723-b95b-fe674aded962",
   "metadata": {},
   "outputs": [],
   "source": [
    "###saving notes reference dict\n",
    "with open(os.path.join(file_folder,f\"{fileid}_notes_ref_list.json\"),\"w\") as f:\n",
    "    json.dump(mp.notes_ref_dict,f)"
   ]
  },
  {
   "cell_type": "code",
   "execution_count": 15,
   "id": "8b22f884-3f16-4ba8-9c8e-6c316aa81552",
   "metadata": {},
   "outputs": [
    {
     "name": "stderr",
     "output_type": "stream",
     "text": [
      "/tmp/ipykernel_558/2464765726.py:5: FutureWarning: save is not part of the public API, usage can give unexpected results and will be removed in a future version\n",
      "  writer.save()\n"
     ]
    }
   ],
   "source": [
    "##saving main page data in excel\n",
    "writer = pd.ExcelWriter(os.path.join(file_folder,f\"{fileid}_notes_cropped_df.xlsx\"), engine='xlsxwriter')\n",
    "for key,value in mp.cropped_table_dict.items():\n",
    "    value.to_excel(writer, sheet_name=key[:20],index=False)\n",
    "writer.save()"
   ]
  },
  {
   "cell_type": "code",
   "execution_count": 16,
   "id": "e3e8dd77-d420-4eb4-914d-bca0fd31df92",
   "metadata": {},
   "outputs": [
    {
     "name": "stderr",
     "output_type": "stream",
     "text": [
      "/tmp/ipykernel_558/3704416319.py:9: FutureWarning: save is not part of the public API, usage can give unexpected results and will be removed in a future version\n",
      "  writer.save()\n"
     ]
    }
   ],
   "source": [
    "## saving data in excel\n",
    "writer = pd.ExcelWriter(os.path.join(file_folder,f\"{fileid}_main_pages.xlsx\"), engine='xlsxwriter')\n",
    "for key,value in cbs_dict.items():\n",
    "    value.to_excel(writer, sheet_name=f\"cbs_{key}\",index=False)\n",
    "for key,value in cpl_dict.items():\n",
    "    value.to_excel(writer, sheet_name=f\"cpl_{key}\",index=False)\n",
    "for key,value in ccf_dict.items():\n",
    "    value.to_excel(writer, sheet_name=f\"ccf_{key}\",index=False)\n",
    "writer.save()"
   ]
  },
  {
   "cell_type": "code",
   "execution_count": 17,
   "id": "5743af4a-28af-4d52-b702-14d1b5e0fbad",
   "metadata": {},
   "outputs": [
    {
     "name": "stderr",
     "output_type": "stream",
     "text": [
      "/tmp/ipykernel_558/2511572040.py:10: FutureWarning: save is not part of the public API, usage can give unexpected results and will be removed in a future version\n",
      "  writer.save()\n"
     ]
    }
   ],
   "source": [
    "writer = pd.ExcelWriter(os.path.join(file_folder,f\"{fileid}_notes_standard_cropped_df.xlsx\"), engine='xlsxwriter')\n",
    "for key,value in mp.standardised_cropped_dict.items():\n",
    "    # print(key)\n",
    "    # print(value)\n",
    "    if value is not None:\n",
    "        value.to_excel(writer, sheet_name=key[:20],index=False)\n",
    "    else:\n",
    "        temp_df = pd.DataFrame()\n",
    "        temp_df.to_excel(writer, sheet_name=key[:20],index=False)\n",
    "writer.save()"
   ]
  },
  {
   "cell_type": "code",
   "execution_count": null,
   "id": "b9ecb224-6ff5-4a03-813c-feebf8d7e5ec",
   "metadata": {},
   "outputs": [],
   "source": []
  },
  {
   "cell_type": "code",
   "execution_count": 10,
   "id": "00fd7e8d-ead6-4cf3-81ca-e369504b0b5a",
   "metadata": {},
   "outputs": [],
   "source": [
    "### testing code"
   ]
  },
  {
   "cell_type": "code",
   "execution_count": 6,
   "id": "d6909804-8416-4f86-bcbe-7778d9f566f3",
   "metadata": {},
   "outputs": [],
   "source": [
    "from database import get_db, get_db1\n",
    "import db_models"
   ]
  },
  {
   "cell_type": "code",
   "execution_count": 7,
   "id": "3f815a6b-8404-4b04-983e-57c547786499",
   "metadata": {},
   "outputs": [],
   "source": [
    "db = get_db1()"
   ]
  },
  {
   "cell_type": "code",
   "execution_count": 8,
   "id": "bf42defe-b672-4688-b589-fdb44abde5a1",
   "metadata": {},
   "outputs": [],
   "source": [
    "page_query = db.query(db_models.PageLogs).filter(db_models.PageLogs.fileid == \"599060e9-8b46-46ec-87b9-c79cde8a82b7\").order_by(db_models.PageLogs.time.desc())\n",
    "pages = page_query.all()"
   ]
  },
  {
   "cell_type": "code",
   "execution_count": 9,
   "id": "2412e908-75f4-48ce-ac4d-b821b87a47ab",
   "metadata": {},
   "outputs": [
    {
     "name": "stdout",
     "output_type": "stream",
     "text": [
      "                                             0      1         2         3\n",
      "0                                          NaN    NaN      2020      2019\n",
      "1                                          NaN    NaN      $000      $000\n",
      "2                                          NaN  Notes       NaN       NaN\n",
      "3                                       Assets    NaN       NaN       NaN\n",
      "4                               Current assets    NaN       NaN       NaN\n",
      "5                    Cash and cash equivalents      6     19589     28259\n",
      "6                  Trade and other receivables      7     13624     11999\n",
      "7                                  Inventories      8     27198     26953\n",
      "8                             Financial assets      9       NaN     29753\n",
      "9   Income tax receivable from related parties     20      6318      7530\n",
      "10                        Other current assets     10       489       328\n",
      "11                        Total current assets    NaN     67218    104822\n",
      "12                          Non-current assets    NaN       NaN       NaN\n",
      "13                Investment in joint ventures     11     47672     54535\n",
      "14               Property, plant and equipment     12     17531      3731\n",
      "15                         Right-of-use assets     13      1007      1476\n",
      "16                            Financial assets      9       NaN     12453\n",
      "17                         Deferred tax assets      5     24223     12309\n",
      "18                    Other non-current assets     10       NaN       678\n",
      "19                    Total non-current assets    NaN     90433     85182\n",
      "20                                Total assets    NaN    157651    190004\n",
      "21                                 Liabilities    NaN       NaN       NaN\n",
      "22                         Current liabilities    NaN       NaN       NaN\n",
      "23                    Trade and other payables    NaN     22315     26101\n",
      "24                                  Borrowings     16       NaN      4000\n",
      "25                                  Provisions     17      9459      9228\n",
      "26                       Financial liabilities     15      2935       NaN\n",
      "27                           Lease liabilities     13       412       471\n",
      "28                   Total current liabilities    NaN     35121     39800\n",
      "29                     Non-current liabilities    NaN       NaN       NaN\n",
      "30                    Trade and other payables    NaN      3254      3036\n",
      "31                                  Provisions     17     48427     10629\n",
      "32                           Lease liabilities     13       641      1042\n",
      "33                    Deferred tax liabilities      5     18466     23326\n",
      "34               Total non-current liabilities    NaN     70788     38033\n",
      "35                           Total liabilities    NaN    105909     77833\n",
      "36                                  Net assets    NaN     51742    112171\n",
      "37                                      Equity    NaN       NaN       NaN\n",
      "38                          Contributed equity     18    150997    150997\n",
      "39                          Accumulated losses    NaN  (94,999)  (74,616)\n",
      "40                                    Reserves     19   (4,256)     35790\n",
      "41                                Total equity    NaN     51742    112171\n",
      "                                             0      1         2         3\n",
      "0                                          NaN    NaN      2020      2019\n",
      "1                                          NaN    NaN      $000      $000\n",
      "2                                          NaN  Notes       NaN       NaN\n",
      "3                                       Assets    NaN       NaN       NaN\n",
      "4                               Current assets    NaN       NaN       NaN\n",
      "5                    Cash and cash equivalents      6     19589     28259\n",
      "6                  Trade and other receivables      7     13624     11999\n",
      "7                                  Inventories      8     27198     26953\n",
      "8                             Financial assets      9       NaN     29753\n",
      "9   Income tax receivable from related parties     20      6318      7530\n",
      "10                        Other current assets     10       489       328\n",
      "11                        Total current assets    NaN     67218    104822\n",
      "12                          Non-current assets    NaN       NaN       NaN\n",
      "13                Investment in joint ventures     11     47672     54535\n",
      "14               Property, plant and equipment     12     17531      3731\n",
      "15                         Right-of-use assets     13      1007      1476\n",
      "16                            Financial assets      9       NaN     12453\n",
      "17                         Deferred tax assets      5     24223     12309\n",
      "18                    Other non-current assets     10       NaN       678\n",
      "19                    Total non-current assets    NaN     90433     85182\n",
      "20                                Total assets    NaN    157651    190004\n",
      "21                                 Liabilities    NaN       NaN       NaN\n",
      "22                         Current liabilities    NaN       NaN       NaN\n",
      "23                    Trade and other payables    NaN     22315     26101\n",
      "24                                  Borrowings     16       NaN      4000\n",
      "25                                  Provisions     17      9459      9228\n",
      "26                       Financial liabilities     15      2935       NaN\n",
      "27                           Lease liabilities     13       412       471\n",
      "28                   Total current liabilities    NaN     35121     39800\n",
      "29                     Non-current liabilities    NaN       NaN       NaN\n",
      "30                    Trade and other payables    NaN      3254      3036\n",
      "31                                  Provisions     17     48427     10629\n",
      "32                           Lease liabilities     13       641      1042\n",
      "33                    Deferred tax liabilities      5     18466     23326\n",
      "34               Total non-current liabilities    NaN     70788     38033\n",
      "35                           Total liabilities    NaN    105909     77833\n",
      "36                                  Net assets    NaN     51742    112171\n",
      "37                                      Equity    NaN       NaN       NaN\n",
      "38                          Contributed equity     18    150997    150997\n",
      "39                          Accumulated losses    NaN  (94,999)  (74,616)\n",
      "40                                    Reserves     19   (4,256)     35790\n",
      "41                                Total equity    NaN     51742    112171\n"
     ]
    }
   ],
   "source": [
    "for page in pages:\n",
    "    if page.page_number == 7:\n",
    "        tabale_query = db.query(db_models.TableLogs).filter(db_models.TableLogs.pageid == page.pageid).order_by(db_models.TableLogs.time.desc())\n",
    "        tables = tabale_query.all()\n",
    "        for table in tables:\n",
    "            print(pd.read_html(table.html_string)[0])"
   ]
  },
  {
   "cell_type": "code",
   "execution_count": null,
   "id": "b77cf246-cb57-46dc-8f78-49fb89e821ad",
   "metadata": {},
   "outputs": [],
   "source": []
  },
  {
   "cell_type": "code",
   "execution_count": null,
   "id": "e244b931-e68e-4e2c-a7b9-d74b71d7c8be",
   "metadata": {},
   "outputs": [],
   "source": []
  },
  {
   "cell_type": "code",
   "execution_count": null,
   "id": "f70908ca-19bf-429f-b3a0-f9d361d1c73e",
   "metadata": {},
   "outputs": [],
   "source": []
  },
  {
   "cell_type": "code",
   "execution_count": null,
   "id": "47bb9e50-3e96-442d-9a9f-8bec9bf1010c",
   "metadata": {},
   "outputs": [],
   "source": []
  },
  {
   "cell_type": "code",
   "execution_count": null,
   "id": "cc9f2310-d42e-4a2d-8621-f102364de229",
   "metadata": {},
   "outputs": [],
   "source": []
  },
  {
   "cell_type": "code",
   "execution_count": null,
   "id": "c2a4be54-623a-498d-8085-551dc06776cd",
   "metadata": {},
   "outputs": [],
   "source": []
  }
 ],
 "metadata": {
  "kernelspec": {
   "display_name": "Python 3 (ipykernel)",
   "language": "python",
   "name": "python3"
  },
  "language_info": {
   "codemirror_mode": {
    "name": "ipython",
    "version": 3
   },
   "file_extension": ".py",
   "mimetype": "text/x-python",
   "name": "python",
   "nbconvert_exporter": "python",
   "pygments_lexer": "ipython3",
   "version": "3.9.0"
  }
 },
 "nbformat": 4,
 "nbformat_minor": 5
}
