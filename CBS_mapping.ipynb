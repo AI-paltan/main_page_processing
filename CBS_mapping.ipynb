{
 "cells": [
  {
   "cell_type": "code",
   "execution_count": 1,
   "id": "7150f011",
   "metadata": {},
   "outputs": [],
   "source": [
    "import pandas as pd\n",
    "import numpy as np\n",
    "import IPython\n",
    "from IPython.display import display"
   ]
  },
  {
   "cell_type": "code",
   "execution_count": 2,
   "id": "7079f568",
   "metadata": {},
   "outputs": [
    {
     "name": "stderr",
     "output_type": "stream",
     "text": [
      "/home/jayesh/anaconda3/envs/crm_syd/lib/python3.9/site-packages/fuzzywuzzy/fuzz.py:11: UserWarning: Using slow pure-python SequenceMatcher. Install python-Levenshtein to remove this warning\n",
      "  warnings.warn('Using slow pure-python SequenceMatcher. Install python-Levenshtein to remove this warning')\n"
     ]
    }
   ],
   "source": [
    "from process_core import mainPageProcess"
   ]
  },
  {
   "cell_type": "code",
   "execution_count": 3,
   "id": "317fe668",
   "metadata": {},
   "outputs": [],
   "source": [
    "from CBS_mapping import CBSMapping"
   ]
  },
  {
   "cell_type": "code",
   "execution_count": 4,
   "id": "ed07dd36",
   "metadata": {},
   "outputs": [],
   "source": [
    "fileid = \"599060e9-8b46-46ec-87b9-c79cde8a82b7\""
   ]
  },
  {
   "cell_type": "code",
   "execution_count": 5,
   "id": "64633591-3113-4e58-b41b-8cf98f30cd33",
   "metadata": {},
   "outputs": [],
   "source": [
    "mp = mainPageProcess()"
   ]
  },
  {
   "cell_type": "code",
   "execution_count": 6,
   "id": "a64474f1-9844-4667-9d21-c3bdd65e230b",
   "metadata": {
    "collapsed": true,
    "jupyter": {
     "outputs_hidden": true
    },
    "tags": []
   },
   "outputs": [
    {
     "name": "stderr",
     "output_type": "stream",
     "text": [
      "/home/jayesh/mgs_ai/crm_syd_1/main_page_processing_service/utils.py:54: FutureWarning: iteritems is deprecated and will be removed in a future version. Use .items instead.\n",
      "  for col_idx, item in row.iteritems():\n",
      "/home/jayesh/mgs_ai/crm_syd_1/main_page_processing_service/utils.py:54: FutureWarning: iteritems is deprecated and will be removed in a future version. Use .items instead.\n",
      "  for col_idx, item in row.iteritems():\n",
      "/home/jayesh/mgs_ai/crm_syd_1/main_page_processing_service/utils.py:54: FutureWarning: iteritems is deprecated and will be removed in a future version. Use .items instead.\n",
      "  for col_idx, item in row.iteritems():\n",
      "/home/jayesh/mgs_ai/crm_syd_1/main_page_processing_service/note_standardise_utils.py:174: FutureWarning: iteritems is deprecated and will be removed in a future version. Use .items instead.\n",
      "  for col_idx, item in row.iteritems():\n",
      "/home/jayesh/mgs_ai/crm_syd_1/main_page_processing_service/note_standardise_utils.py:293: FutureWarning: In a future version, `df.iloc[:, i] = newvals` will attempt to set the values inplace instead of always setting a new array. To retain the old behavior, use either `df[df.columns[i]] = newvals` or, if columns are non-unique, `df.isetitem(i, newvals)`\n",
      "  df.iloc[:,col] = df.iloc[:,col].apply(clean_number).apply(pd.to_numeric , errors='coerce')\n",
      "/home/jayesh/mgs_ai/crm_syd_1/main_page_processing_service/note_standardise_utils.py:174: FutureWarning: iteritems is deprecated and will be removed in a future version. Use .items instead.\n",
      "  for col_idx, item in row.iteritems():\n",
      "/home/jayesh/mgs_ai/crm_syd_1/main_page_processing_service/note_standardise_utils.py:293: FutureWarning: In a future version, `df.iloc[:, i] = newvals` will attempt to set the values inplace instead of always setting a new array. To retain the old behavior, use either `df[df.columns[i]] = newvals` or, if columns are non-unique, `df.isetitem(i, newvals)`\n",
      "  df.iloc[:,col] = df.iloc[:,col].apply(clean_number).apply(pd.to_numeric , errors='coerce')\n",
      "/home/jayesh/mgs_ai/crm_syd_1/main_page_processing_service/note_standardise_utils.py:174: FutureWarning: iteritems is deprecated and will be removed in a future version. Use .items instead.\n",
      "  for col_idx, item in row.iteritems():\n",
      "/home/jayesh/mgs_ai/crm_syd_1/main_page_processing_service/note_standardise_utils.py:293: FutureWarning: In a future version, `df.iloc[:, i] = newvals` will attempt to set the values inplace instead of always setting a new array. To retain the old behavior, use either `df[df.columns[i]] = newvals` or, if columns are non-unique, `df.isetitem(i, newvals)`\n",
      "  df.iloc[:,col] = df.iloc[:,col].apply(clean_number).apply(pd.to_numeric , errors='coerce')\n",
      "/home/jayesh/mgs_ai/crm_syd_1/main_page_processing_service/note_standardise_utils.py:174: FutureWarning: iteritems is deprecated and will be removed in a future version. Use .items instead.\n",
      "  for col_idx, item in row.iteritems():\n",
      "/home/jayesh/mgs_ai/crm_syd_1/main_page_processing_service/note_standardise_utils.py:293: FutureWarning: In a future version, `df.iloc[:, i] = newvals` will attempt to set the values inplace instead of always setting a new array. To retain the old behavior, use either `df[df.columns[i]] = newvals` or, if columns are non-unique, `df.isetitem(i, newvals)`\n",
      "  df.iloc[:,col] = df.iloc[:,col].apply(clean_number).apply(pd.to_numeric , errors='coerce')\n",
      "/home/jayesh/mgs_ai/crm_syd_1/main_page_processing_service/note_standardise_utils.py:174: FutureWarning: iteritems is deprecated and will be removed in a future version. Use .items instead.\n",
      "  for col_idx, item in row.iteritems():\n",
      "/home/jayesh/mgs_ai/crm_syd_1/main_page_processing_service/note_standardise_utils.py:293: FutureWarning: In a future version, `df.iloc[:, i] = newvals` will attempt to set the values inplace instead of always setting a new array. To retain the old behavior, use either `df[df.columns[i]] = newvals` or, if columns are non-unique, `df.isetitem(i, newvals)`\n",
      "  df.iloc[:,col] = df.iloc[:,col].apply(clean_number).apply(pd.to_numeric , errors='coerce')\n",
      "/home/jayesh/mgs_ai/crm_syd_1/main_page_processing_service/note_standardise_utils.py:174: FutureWarning: iteritems is deprecated and will be removed in a future version. Use .items instead.\n",
      "  for col_idx, item in row.iteritems():\n",
      "/home/jayesh/mgs_ai/crm_syd_1/main_page_processing_service/note_standardise_utils.py:293: FutureWarning: In a future version, `df.iloc[:, i] = newvals` will attempt to set the values inplace instead of always setting a new array. To retain the old behavior, use either `df[df.columns[i]] = newvals` or, if columns are non-unique, `df.isetitem(i, newvals)`\n",
      "  df.iloc[:,col] = df.iloc[:,col].apply(clean_number).apply(pd.to_numeric , errors='coerce')\n",
      "/home/jayesh/mgs_ai/crm_syd_1/main_page_processing_service/note_standardise_utils.py:174: FutureWarning: iteritems is deprecated and will be removed in a future version. Use .items instead.\n",
      "  for col_idx, item in row.iteritems():\n",
      "/home/jayesh/mgs_ai/crm_syd_1/main_page_processing_service/note_standardise_utils.py:293: FutureWarning: In a future version, `df.iloc[:, i] = newvals` will attempt to set the values inplace instead of always setting a new array. To retain the old behavior, use either `df[df.columns[i]] = newvals` or, if columns are non-unique, `df.isetitem(i, newvals)`\n",
      "  df.iloc[:,col] = df.iloc[:,col].apply(clean_number).apply(pd.to_numeric , errors='coerce')\n",
      "/home/jayesh/mgs_ai/crm_syd_1/main_page_processing_service/note_standardise_utils.py:174: FutureWarning: iteritems is deprecated and will be removed in a future version. Use .items instead.\n",
      "  for col_idx, item in row.iteritems():\n",
      "/home/jayesh/mgs_ai/crm_syd_1/main_page_processing_service/note_standardise_utils.py:293: FutureWarning: In a future version, `df.iloc[:, i] = newvals` will attempt to set the values inplace instead of always setting a new array. To retain the old behavior, use either `df[df.columns[i]] = newvals` or, if columns are non-unique, `df.isetitem(i, newvals)`\n",
      "  df.iloc[:,col] = df.iloc[:,col].apply(clean_number).apply(pd.to_numeric , errors='coerce')\n",
      "/home/jayesh/mgs_ai/crm_syd_1/main_page_processing_service/note_standardise_utils.py:466: FutureWarning: iteritems is deprecated and will be removed in a future version. Use .items instead.\n",
      "  for col_header , line_row in fin_df.filter(like=\"line_item\", axis=1).iteritems():\n",
      "/home/jayesh/mgs_ai/crm_syd_1/main_page_processing_service/note_standardise_utils.py:174: FutureWarning: iteritems is deprecated and will be removed in a future version. Use .items instead.\n",
      "  for col_idx, item in row.iteritems():\n",
      "/home/jayesh/mgs_ai/crm_syd_1/main_page_processing_service/note_standardise_utils.py:293: FutureWarning: In a future version, `df.iloc[:, i] = newvals` will attempt to set the values inplace instead of always setting a new array. To retain the old behavior, use either `df[df.columns[i]] = newvals` or, if columns are non-unique, `df.isetitem(i, newvals)`\n",
      "  df.iloc[:,col] = df.iloc[:,col].apply(clean_number).apply(pd.to_numeric , errors='coerce')\n",
      "/home/jayesh/mgs_ai/crm_syd_1/main_page_processing_service/note_standardise_utils.py:174: FutureWarning: iteritems is deprecated and will be removed in a future version. Use .items instead.\n",
      "  for col_idx, item in row.iteritems():\n",
      "/home/jayesh/mgs_ai/crm_syd_1/main_page_processing_service/note_standardise_utils.py:293: FutureWarning: In a future version, `df.iloc[:, i] = newvals` will attempt to set the values inplace instead of always setting a new array. To retain the old behavior, use either `df[df.columns[i]] = newvals` or, if columns are non-unique, `df.isetitem(i, newvals)`\n",
      "  df.iloc[:,col] = df.iloc[:,col].apply(clean_number).apply(pd.to_numeric , errors='coerce')\n",
      "/home/jayesh/mgs_ai/crm_syd_1/main_page_processing_service/note_standardise_utils.py:174: FutureWarning: iteritems is deprecated and will be removed in a future version. Use .items instead.\n",
      "  for col_idx, item in row.iteritems():\n",
      "/home/jayesh/mgs_ai/crm_syd_1/main_page_processing_service/note_standardise_utils.py:293: FutureWarning: In a future version, `df.iloc[:, i] = newvals` will attempt to set the values inplace instead of always setting a new array. To retain the old behavior, use either `df[df.columns[i]] = newvals` or, if columns are non-unique, `df.isetitem(i, newvals)`\n",
      "  df.iloc[:,col] = df.iloc[:,col].apply(clean_number).apply(pd.to_numeric , errors='coerce')\n",
      "/home/jayesh/mgs_ai/crm_syd_1/main_page_processing_service/note_standardise_utils.py:466: FutureWarning: iteritems is deprecated and will be removed in a future version. Use .items instead.\n",
      "  for col_header , line_row in fin_df.filter(like=\"line_item\", axis=1).iteritems():\n",
      "/home/jayesh/mgs_ai/crm_syd_1/main_page_processing_service/note_standardise_utils.py:174: FutureWarning: iteritems is deprecated and will be removed in a future version. Use .items instead.\n",
      "  for col_idx, item in row.iteritems():\n",
      "/home/jayesh/mgs_ai/crm_syd_1/main_page_processing_service/note_standardise_utils.py:293: FutureWarning: In a future version, `df.iloc[:, i] = newvals` will attempt to set the values inplace instead of always setting a new array. To retain the old behavior, use either `df[df.columns[i]] = newvals` or, if columns are non-unique, `df.isetitem(i, newvals)`\n",
      "  df.iloc[:,col] = df.iloc[:,col].apply(clean_number).apply(pd.to_numeric , errors='coerce')\n",
      "/home/jayesh/mgs_ai/crm_syd_1/main_page_processing_service/note_standardise_utils.py:174: FutureWarning: iteritems is deprecated and will be removed in a future version. Use .items instead.\n",
      "  for col_idx, item in row.iteritems():\n",
      "/home/jayesh/mgs_ai/crm_syd_1/main_page_processing_service/note_standardise_utils.py:293: FutureWarning: In a future version, `df.iloc[:, i] = newvals` will attempt to set the values inplace instead of always setting a new array. To retain the old behavior, use either `df[df.columns[i]] = newvals` or, if columns are non-unique, `df.isetitem(i, newvals)`\n",
      "  df.iloc[:,col] = df.iloc[:,col].apply(clean_number).apply(pd.to_numeric , errors='coerce')\n",
      "/home/jayesh/mgs_ai/crm_syd_1/main_page_processing_service/note_standardise_utils.py:174: FutureWarning: iteritems is deprecated and will be removed in a future version. Use .items instead.\n",
      "  for col_idx, item in row.iteritems():\n",
      "/home/jayesh/mgs_ai/crm_syd_1/main_page_processing_service/note_standardise_utils.py:293: FutureWarning: In a future version, `df.iloc[:, i] = newvals` will attempt to set the values inplace instead of always setting a new array. To retain the old behavior, use either `df[df.columns[i]] = newvals` or, if columns are non-unique, `df.isetitem(i, newvals)`\n",
      "  df.iloc[:,col] = df.iloc[:,col].apply(clean_number).apply(pd.to_numeric , errors='coerce')\n",
      "/home/jayesh/mgs_ai/crm_syd_1/main_page_processing_service/note_standardise_utils.py:174: FutureWarning: iteritems is deprecated and will be removed in a future version. Use .items instead.\n",
      "  for col_idx, item in row.iteritems():\n",
      "/home/jayesh/mgs_ai/crm_syd_1/main_page_processing_service/note_standardise_utils.py:293: FutureWarning: In a future version, `df.iloc[:, i] = newvals` will attempt to set the values inplace instead of always setting a new array. To retain the old behavior, use either `df[df.columns[i]] = newvals` or, if columns are non-unique, `df.isetitem(i, newvals)`\n",
      "  df.iloc[:,col] = df.iloc[:,col].apply(clean_number).apply(pd.to_numeric , errors='coerce')\n",
      "/home/jayesh/mgs_ai/crm_syd_1/main_page_processing_service/note_standardise_utils.py:174: FutureWarning: iteritems is deprecated and will be removed in a future version. Use .items instead.\n",
      "  for col_idx, item in row.iteritems():\n",
      "/home/jayesh/mgs_ai/crm_syd_1/main_page_processing_service/note_standardise_utils.py:293: FutureWarning: In a future version, `df.iloc[:, i] = newvals` will attempt to set the values inplace instead of always setting a new array. To retain the old behavior, use either `df[df.columns[i]] = newvals` or, if columns are non-unique, `df.isetitem(i, newvals)`\n",
      "  df.iloc[:,col] = df.iloc[:,col].apply(clean_number).apply(pd.to_numeric , errors='coerce')\n",
      "/home/jayesh/mgs_ai/crm_syd_1/main_page_processing_service/note_standardise_utils.py:174: FutureWarning: iteritems is deprecated and will be removed in a future version. Use .items instead.\n",
      "  for col_idx, item in row.iteritems():\n",
      "/home/jayesh/mgs_ai/crm_syd_1/main_page_processing_service/note_standardise_utils.py:293: FutureWarning: In a future version, `df.iloc[:, i] = newvals` will attempt to set the values inplace instead of always setting a new array. To retain the old behavior, use either `df[df.columns[i]] = newvals` or, if columns are non-unique, `df.isetitem(i, newvals)`\n",
      "  df.iloc[:,col] = df.iloc[:,col].apply(clean_number).apply(pd.to_numeric , errors='coerce')\n",
      "/home/jayesh/mgs_ai/crm_syd_1/main_page_processing_service/note_standardise_utils.py:174: FutureWarning: iteritems is deprecated and will be removed in a future version. Use .items instead.\n",
      "  for col_idx, item in row.iteritems():\n",
      "/home/jayesh/mgs_ai/crm_syd_1/main_page_processing_service/note_standardise_utils.py:293: FutureWarning: In a future version, `df.iloc[:, i] = newvals` will attempt to set the values inplace instead of always setting a new array. To retain the old behavior, use either `df[df.columns[i]] = newvals` or, if columns are non-unique, `df.isetitem(i, newvals)`\n",
      "  df.iloc[:,col] = df.iloc[:,col].apply(clean_number).apply(pd.to_numeric , errors='coerce')\n",
      "/home/jayesh/mgs_ai/crm_syd_1/main_page_processing_service/note_standardise_utils.py:174: FutureWarning: iteritems is deprecated and will be removed in a future version. Use .items instead.\n",
      "  for col_idx, item in row.iteritems():\n",
      "/home/jayesh/mgs_ai/crm_syd_1/main_page_processing_service/note_standardise_utils.py:293: FutureWarning: In a future version, `df.iloc[:, i] = newvals` will attempt to set the values inplace instead of always setting a new array. To retain the old behavior, use either `df[df.columns[i]] = newvals` or, if columns are non-unique, `df.isetitem(i, newvals)`\n",
      "  df.iloc[:,col] = df.iloc[:,col].apply(clean_number).apply(pd.to_numeric , errors='coerce')\n"
     ]
    }
   ],
   "source": [
    "cbs_dict,cpl_dict,ccf_dict,meta_dict,final_notes_dict,ref_notes_list, notes_region_meta_data,cropped_table_dict = mp.process_main_pages(fileid=fileid)"
   ]
  },
  {
   "cell_type": "code",
   "execution_count": 7,
   "id": "8f6f89e8",
   "metadata": {},
   "outputs": [],
   "source": [
    "cbs_dict[7].columns = cbs_dict[7].columns.map(str)"
   ]
  },
  {
   "cell_type": "code",
   "execution_count": 8,
   "id": "92a5a42c",
   "metadata": {},
   "outputs": [],
   "source": [
    "obj_cbs_mapping = CBSMapping(cbs_df=cbs_dict[7],notes_ref_dict=mp.notes_ref_dict,notes_region_meta_data=mp.notes_region_meta_data,standardised_cropped_dict=mp.standardised_cropped_dict,standard_note_meta_dict=mp.standard_note_meta_dict,transformed_standardised_cropped_dict=mp.transformed_standardised_cropped_dict)"
   ]
  },
  {
   "cell_type": "code",
   "execution_count": 9,
   "id": "87f071aa",
   "metadata": {
    "tags": []
   },
   "outputs": [
    {
     "name": "stdout",
     "output_type": "stream",
     "text": [
      "2019\n",
      "main_page_best_match:= {'data_index': [2], 'score': 100, 'value': 28259.0, 'label': ['Cash and cash equivalents'], 'note_numbers': ['6']}\n",
      "2020\n",
      "main_page_best_match:= {'data_index': [2], 'score': 100, 'value': 19589.0, 'label': ['Cash and cash equivalents'], 'note_numbers': ['6']}\n",
      "1.raw_note_list: ['6'],note_number_list: ['6'],sbnoue: [''],tableid:[UUID('783d1f36-c06c-3414-ac20-69f7abffe2dd'), UUID('783d1f36-c06c-3414-ac20-69f7abffe2dd')]\n"
     ]
    }
   ],
   "source": [
    "obj_cbs_mapping.trigger_job()"
   ]
  },
  {
   "cell_type": "code",
   "execution_count": null,
   "id": "bbb2f9ca",
   "metadata": {},
   "outputs": [],
   "source": []
  },
  {
   "cell_type": "code",
   "execution_count": 21,
   "id": "059ce5a7",
   "metadata": {},
   "outputs": [
    {
     "data": {
      "text/plain": [
       "{'ca_cash_and_cash_equivalents': {'main_page_row_indices': [2],\n",
       "  'main_page_year_total': [28259.0, 19589.0],\n",
       "  'main_page_raw_note': ['6'],\n",
       "  'notes_table_df':   raw_note_no note_no subnote_no  \\\n",
       "  0           6       6              \n",
       "  1           6       6              \n",
       "  2           6       6              \n",
       "  3           6       6              \n",
       "  \n",
       "                                             line_item  year  value  \n",
       "  0                     $000  Cash at bank and on hand  2020  19589  \n",
       "  1  $000 Cash at banks earns interest at floating ...  2020    NaN  \n",
       "  2                     $000  Cash at bank and on hand  2019  28259  \n",
       "  3  $000 Cash at banks earns interest at floating ...  2019    NaN  }}"
      ]
     },
     "execution_count": 21,
     "metadata": {},
     "output_type": "execute_result"
    }
   ],
   "source": [
    "obj_cbs_mapping.bs_bucket_dict"
   ]
  },
  {
   "cell_type": "code",
   "execution_count": 22,
   "id": "8541fa29",
   "metadata": {},
   "outputs": [
    {
     "data": {
      "text/html": [
       "<div>\n",
       "<style scoped>\n",
       "    .dataframe tbody tr th:only-of-type {\n",
       "        vertical-align: middle;\n",
       "    }\n",
       "\n",
       "    .dataframe tbody tr th {\n",
       "        vertical-align: top;\n",
       "    }\n",
       "\n",
       "    .dataframe thead th {\n",
       "        text-align: right;\n",
       "    }\n",
       "</style>\n",
       "<table border=\"1\" class=\"dataframe\">\n",
       "  <thead>\n",
       "    <tr style=\"text-align: right;\">\n",
       "      <th></th>\n",
       "      <th>raw_note_no</th>\n",
       "      <th>note_no</th>\n",
       "      <th>subnote_no</th>\n",
       "      <th>line_item</th>\n",
       "      <th>year</th>\n",
       "      <th>value</th>\n",
       "    </tr>\n",
       "  </thead>\n",
       "  <tbody>\n",
       "    <tr>\n",
       "      <th>0</th>\n",
       "      <td>6</td>\n",
       "      <td>6</td>\n",
       "      <td></td>\n",
       "      <td>$000  Cash at bank and on hand</td>\n",
       "      <td>2020</td>\n",
       "      <td>19589</td>\n",
       "    </tr>\n",
       "    <tr>\n",
       "      <th>1</th>\n",
       "      <td>6</td>\n",
       "      <td>6</td>\n",
       "      <td></td>\n",
       "      <td>$000 Cash at banks earns interest at floating ...</td>\n",
       "      <td>2020</td>\n",
       "      <td>NaN</td>\n",
       "    </tr>\n",
       "    <tr>\n",
       "      <th>2</th>\n",
       "      <td>6</td>\n",
       "      <td>6</td>\n",
       "      <td></td>\n",
       "      <td>$000  Cash at bank and on hand</td>\n",
       "      <td>2019</td>\n",
       "      <td>28259</td>\n",
       "    </tr>\n",
       "    <tr>\n",
       "      <th>3</th>\n",
       "      <td>6</td>\n",
       "      <td>6</td>\n",
       "      <td></td>\n",
       "      <td>$000 Cash at banks earns interest at floating ...</td>\n",
       "      <td>2019</td>\n",
       "      <td>NaN</td>\n",
       "    </tr>\n",
       "  </tbody>\n",
       "</table>\n",
       "</div>"
      ],
      "text/plain": [
       "  raw_note_no note_no subnote_no  \\\n",
       "0           6       6              \n",
       "1           6       6              \n",
       "2           6       6              \n",
       "3           6       6              \n",
       "\n",
       "                                           line_item  year  value  \n",
       "0                     $000  Cash at bank and on hand  2020  19589  \n",
       "1  $000 Cash at banks earns interest at floating ...  2020    NaN  \n",
       "2                     $000  Cash at bank and on hand  2019  28259  \n",
       "3  $000 Cash at banks earns interest at floating ...  2019    NaN  "
      ]
     },
     "metadata": {},
     "output_type": "display_data"
    }
   ],
   "source": [
    "display(obj_cbs_mapping.bs_bucket_dict['ca_cash_and_cash_equivalents']['notes_table_df'])"
   ]
  },
  {
   "cell_type": "code",
   "execution_count": null,
   "id": "3e9025cc-5c9d-4793-a026-1e93251ad69d",
   "metadata": {},
   "outputs": [],
   "source": []
  },
  {
   "cell_type": "code",
   "execution_count": null,
   "id": "40723d60",
   "metadata": {},
   "outputs": [],
   "source": []
  },
  {
   "cell_type": "code",
   "execution_count": 12,
   "id": "0603964b-bebf-44df-9535-a2287e15f4cf",
   "metadata": {},
   "outputs": [
    {
     "name": "stdout",
     "output_type": "stream",
     "text": [
      "ada\n",
      "adad\n",
      "iii\n",
      "ppp\n"
     ]
    }
   ],
   "source": [
    "a = ['ada','iii']\n",
    "b = ['adad','ppp']\n",
    "for x,y in zip(a,b):\n",
    "    print(x)\n",
    "    print(y)"
   ]
  },
  {
   "cell_type": "code",
   "execution_count": null,
   "id": "7d03dca5-6d0f-44c4-b4c3-7606012a193e",
   "metadata": {},
   "outputs": [],
   "source": []
  },
  {
   "cell_type": "code",
   "execution_count": null,
   "id": "20d73883-91af-4878-bdc4-37407bcb061b",
   "metadata": {},
   "outputs": [],
   "source": []
  },
  {
   "cell_type": "code",
   "execution_count": 13,
   "id": "a1a3b4f8",
   "metadata": {},
   "outputs": [],
   "source": [
    "##dev code"
   ]
  },
  {
   "cell_type": "code",
   "execution_count": 14,
   "id": "fb84da54",
   "metadata": {},
   "outputs": [],
   "source": [
    "from TechMagicFuzzy import TechMagicFuzzy"
   ]
  },
  {
   "cell_type": "code",
   "execution_count": 15,
   "id": "57fd7f74",
   "metadata": {},
   "outputs": [],
   "source": [
    "obj_techfuzzy = TechMagicFuzzy()"
   ]
  },
  {
   "cell_type": "code",
   "execution_count": 16,
   "id": "38fc6acb",
   "metadata": {},
   "outputs": [],
   "source": [
    "text1 = \"Trade and Other receivabkles\"\n",
    "keywords1 = [\"current\"]\n",
    "text2 = \" Trade and Other receivabkles add ada\""
   ]
  },
  {
   "cell_type": "code",
   "execution_count": 17,
   "id": "2dd2e68b",
   "metadata": {},
   "outputs": [
    {
     "data": {
      "text/plain": [
       "[('current', 43)]"
      ]
     },
     "execution_count": 17,
     "metadata": {},
     "output_type": "execute_result"
    }
   ],
   "source": [
    "obj_techfuzzy.partial_ratio_pro(text1, keywords1)"
   ]
  },
  {
   "cell_type": "code",
   "execution_count": 18,
   "id": "d662c696",
   "metadata": {},
   "outputs": [
    {
     "data": {
      "text/plain": [
       "[('current', 24)]"
      ]
     },
     "execution_count": 18,
     "metadata": {},
     "output_type": "execute_result"
    }
   ],
   "source": [
    "obj_techfuzzy.token_sort_pro(text1, keywords1)"
   ]
  },
  {
   "cell_type": "code",
   "execution_count": null,
   "id": "cf962f46",
   "metadata": {},
   "outputs": [],
   "source": []
  },
  {
   "cell_type": "code",
   "execution_count": 19,
   "id": "3bd333e1",
   "metadata": {},
   "outputs": [],
   "source": [
    "from fuzzywuzzy import fuzz"
   ]
  },
  {
   "cell_type": "code",
   "execution_count": 20,
   "id": "96efb987",
   "metadata": {},
   "outputs": [
    {
     "data": {
      "text/plain": [
       "86"
      ]
     },
     "execution_count": 20,
     "metadata": {},
     "output_type": "execute_result"
    }
   ],
   "source": [
    "fuzz.ratio(text1,text2)"
   ]
  },
  {
   "cell_type": "code",
   "execution_count": null,
   "id": "05c85e2f",
   "metadata": {},
   "outputs": [],
   "source": []
  },
  {
   "cell_type": "code",
   "execution_count": null,
   "id": "a3300299",
   "metadata": {},
   "outputs": [],
   "source": []
  }
 ],
 "metadata": {
  "kernelspec": {
   "display_name": "Python 3 (ipykernel)",
   "language": "python",
   "name": "python3"
  },
  "language_info": {
   "codemirror_mode": {
    "name": "ipython",
    "version": 3
   },
   "file_extension": ".py",
   "mimetype": "text/x-python",
   "name": "python",
   "nbconvert_exporter": "python",
   "pygments_lexer": "ipython3",
   "version": "3.9.0"
  }
 },
 "nbformat": 4,
 "nbformat_minor": 5
}
