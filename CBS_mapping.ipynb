{
 "cells": [
  {
   "cell_type": "code",
   "execution_count": 1,
   "id": "7150f011",
   "metadata": {},
   "outputs": [],
   "source": [
    "import pandas as pd\n",
    "import numpy as np\n",
    "import IPython\n",
    "from IPython.display import display"
   ]
  },
  {
   "cell_type": "code",
   "execution_count": 2,
   "id": "7079f568",
   "metadata": {},
   "outputs": [
    {
     "name": "stderr",
     "output_type": "stream",
     "text": [
      "/home/jayesh/anaconda3/envs/crm_syd/lib/python3.9/site-packages/fuzzywuzzy/fuzz.py:11: UserWarning: Using slow pure-python SequenceMatcher. Install python-Levenshtein to remove this warning\n",
      "  warnings.warn('Using slow pure-python SequenceMatcher. Install python-Levenshtein to remove this warning')\n"
     ]
    }
   ],
   "source": [
    "from process_core import mainPageProcess"
   ]
  },
  {
   "cell_type": "code",
   "execution_count": 3,
   "id": "317fe668",
   "metadata": {},
   "outputs": [],
   "source": [
    "from CBS_mapping import CBSMapping"
   ]
  },
  {
   "cell_type": "code",
   "execution_count": 20,
   "id": "ed07dd36",
   "metadata": {},
   "outputs": [],
   "source": [
    "fileid = \"198bbc2f-29f0-447c-b676-dab7954af178\""
   ]
  },
  {
   "cell_type": "code",
   "execution_count": 21,
   "id": "64633591-3113-4e58-b41b-8cf98f30cd33",
   "metadata": {},
   "outputs": [],
   "source": [
    "mp = mainPageProcess()"
   ]
  },
  {
   "cell_type": "code",
   "execution_count": 22,
   "id": "a64474f1-9844-4667-9d21-c3bdd65e230b",
   "metadata": {
    "tags": []
   },
   "outputs": [
    {
     "name": "stderr",
     "output_type": "stream",
     "text": [
      "/home/jayesh/mgs_ai/crm_syd_1/main_page_processing_service/utils.py:54: FutureWarning: iteritems is deprecated and will be removed in a future version. Use .items instead.\n",
      "  for col_idx, item in row.iteritems():\n",
      "/home/jayesh/mgs_ai/crm_syd_1/main_page_processing_service/utils.py:54: FutureWarning: iteritems is deprecated and will be removed in a future version. Use .items instead.\n",
      "  for col_idx, item in row.iteritems():\n",
      "/home/jayesh/mgs_ai/crm_syd_1/main_page_processing_service/utils.py:54: FutureWarning: iteritems is deprecated and will be removed in a future version. Use .items instead.\n",
      "  for col_idx, item in row.iteritems():\n"
     ]
    },
    {
     "name": "stdout",
     "output_type": "stream",
     "text": [
      "'value'\n",
      "'value'\n",
      "cannot unpack non-iterable NoneType object\n"
     ]
    },
    {
     "name": "stderr",
     "output_type": "stream",
     "text": [
      "/home/jayesh/mgs_ai/crm_syd_1/main_page_processing_service/note_standardise_utils.py:174: FutureWarning: iteritems is deprecated and will be removed in a future version. Use .items instead.\n",
      "  for col_idx, item in row.iteritems():\n",
      "/home/jayesh/mgs_ai/crm_syd_1/main_page_processing_service/note_standardise_utils.py:466: FutureWarning: iteritems is deprecated and will be removed in a future version. Use .items instead.\n",
      "  for col_header , line_row in fin_df.filter(like=\"line_item\", axis=1).iteritems():\n",
      "/home/jayesh/mgs_ai/crm_syd_1/main_page_processing_service/note_standardise_utils.py:174: FutureWarning: iteritems is deprecated and will be removed in a future version. Use .items instead.\n",
      "  for col_idx, item in row.iteritems():\n",
      "/home/jayesh/mgs_ai/crm_syd_1/main_page_processing_service/note_standardise_utils.py:293: FutureWarning: In a future version, `df.iloc[:, i] = newvals` will attempt to set the values inplace instead of always setting a new array. To retain the old behavior, use either `df[df.columns[i]] = newvals` or, if columns are non-unique, `df.isetitem(i, newvals)`\n",
      "  df.iloc[:,col] = df.iloc[:,col].apply(clean_number).apply(pd.to_numeric , errors='coerce')\n",
      "/home/jayesh/mgs_ai/crm_syd_1/main_page_processing_service/note_standardise_utils.py:174: FutureWarning: iteritems is deprecated and will be removed in a future version. Use .items instead.\n",
      "  for col_idx, item in row.iteritems():\n",
      "/home/jayesh/mgs_ai/crm_syd_1/main_page_processing_service/note_standardise_utils.py:293: FutureWarning: In a future version, `df.iloc[:, i] = newvals` will attempt to set the values inplace instead of always setting a new array. To retain the old behavior, use either `df[df.columns[i]] = newvals` or, if columns are non-unique, `df.isetitem(i, newvals)`\n",
      "  df.iloc[:,col] = df.iloc[:,col].apply(clean_number).apply(pd.to_numeric , errors='coerce')\n",
      "/home/jayesh/mgs_ai/crm_syd_1/main_page_processing_service/note_standardise_utils.py:174: FutureWarning: iteritems is deprecated and will be removed in a future version. Use .items instead.\n",
      "  for col_idx, item in row.iteritems():\n",
      "/home/jayesh/mgs_ai/crm_syd_1/main_page_processing_service/note_standardise_utils.py:466: FutureWarning: iteritems is deprecated and will be removed in a future version. Use .items instead.\n",
      "  for col_header , line_row in fin_df.filter(like=\"line_item\", axis=1).iteritems():\n",
      "/home/jayesh/mgs_ai/crm_syd_1/main_page_processing_service/note_standardise_utils.py:174: FutureWarning: iteritems is deprecated and will be removed in a future version. Use .items instead.\n",
      "  for col_idx, item in row.iteritems():\n",
      "/home/jayesh/mgs_ai/crm_syd_1/main_page_processing_service/note_standardise_utils.py:293: FutureWarning: In a future version, `df.iloc[:, i] = newvals` will attempt to set the values inplace instead of always setting a new array. To retain the old behavior, use either `df[df.columns[i]] = newvals` or, if columns are non-unique, `df.isetitem(i, newvals)`\n",
      "  df.iloc[:,col] = df.iloc[:,col].apply(clean_number).apply(pd.to_numeric , errors='coerce')\n",
      "/home/jayesh/mgs_ai/crm_syd_1/main_page_processing_service/note_standardise_utils.py:174: FutureWarning: iteritems is deprecated and will be removed in a future version. Use .items instead.\n",
      "  for col_idx, item in row.iteritems():\n",
      "/home/jayesh/mgs_ai/crm_syd_1/main_page_processing_service/note_standardise_utils.py:293: FutureWarning: In a future version, `df.iloc[:, i] = newvals` will attempt to set the values inplace instead of always setting a new array. To retain the old behavior, use either `df[df.columns[i]] = newvals` or, if columns are non-unique, `df.isetitem(i, newvals)`\n",
      "  df.iloc[:,col] = df.iloc[:,col].apply(clean_number).apply(pd.to_numeric , errors='coerce')\n",
      "/home/jayesh/mgs_ai/crm_syd_1/main_page_processing_service/note_standardise_utils.py:174: FutureWarning: iteritems is deprecated and will be removed in a future version. Use .items instead.\n",
      "  for col_idx, item in row.iteritems():\n",
      "/home/jayesh/mgs_ai/crm_syd_1/main_page_processing_service/note_standardise_utils.py:293: FutureWarning: In a future version, `df.iloc[:, i] = newvals` will attempt to set the values inplace instead of always setting a new array. To retain the old behavior, use either `df[df.columns[i]] = newvals` or, if columns are non-unique, `df.isetitem(i, newvals)`\n",
      "  df.iloc[:,col] = df.iloc[:,col].apply(clean_number).apply(pd.to_numeric , errors='coerce')\n",
      "/home/jayesh/mgs_ai/crm_syd_1/main_page_processing_service/note_standardise_utils.py:174: FutureWarning: iteritems is deprecated and will be removed in a future version. Use .items instead.\n",
      "  for col_idx, item in row.iteritems():\n",
      "/home/jayesh/mgs_ai/crm_syd_1/main_page_processing_service/note_standardise_utils.py:293: FutureWarning: In a future version, `df.iloc[:, i] = newvals` will attempt to set the values inplace instead of always setting a new array. To retain the old behavior, use either `df[df.columns[i]] = newvals` or, if columns are non-unique, `df.isetitem(i, newvals)`\n",
      "  df.iloc[:,col] = df.iloc[:,col].apply(clean_number).apply(pd.to_numeric , errors='coerce')\n",
      "/home/jayesh/mgs_ai/crm_syd_1/main_page_processing_service/note_standardise_utils.py:174: FutureWarning: iteritems is deprecated and will be removed in a future version. Use .items instead.\n",
      "  for col_idx, item in row.iteritems():\n",
      "/home/jayesh/mgs_ai/crm_syd_1/main_page_processing_service/note_standardise_utils.py:293: FutureWarning: In a future version, `df.iloc[:, i] = newvals` will attempt to set the values inplace instead of always setting a new array. To retain the old behavior, use either `df[df.columns[i]] = newvals` or, if columns are non-unique, `df.isetitem(i, newvals)`\n",
      "  df.iloc[:,col] = df.iloc[:,col].apply(clean_number).apply(pd.to_numeric , errors='coerce')\n"
     ]
    }
   ],
   "source": [
    "cbs_dict,cpl_dict,ccf_dict,meta_dict,final_notes_dict,ref_notes_list, notes_region_meta_data,cropped_table_dict = mp.process_main_pages(fileid=fileid)"
   ]
  },
  {
   "cell_type": "code",
   "execution_count": 23,
   "id": "fdd44a03-84ec-4cf6-b7db-fc0b78c44059",
   "metadata": {},
   "outputs": [
    {
     "data": {
      "text/plain": [
       "dict_keys([7])"
      ]
     },
     "execution_count": 23,
     "metadata": {},
     "output_type": "execute_result"
    }
   ],
   "source": [
    "cbs_dict.keys()"
   ]
  },
  {
   "cell_type": "code",
   "execution_count": 25,
   "id": "8f6f89e8",
   "metadata": {},
   "outputs": [],
   "source": [
    "cbs_dict[7].columns = cbs_dict[7].columns.map(str)"
   ]
  },
  {
   "cell_type": "code",
   "execution_count": 26,
   "id": "92a5a42c",
   "metadata": {},
   "outputs": [],
   "source": [
    "obj_cbs_mapping = CBSMapping(cbs_df=cbs_dict[7],notes_ref_dict=mp.notes_ref_dict,notes_region_meta_data=mp.notes_region_meta_data,standardised_cropped_dict=mp.standardised_cropped_dict,standard_note_meta_dict=mp.standard_note_meta_dict,transformed_standardised_cropped_dict=mp.transformed_standardised_cropped_dict)"
   ]
  },
  {
   "cell_type": "code",
   "execution_count": 27,
   "id": "87f071aa",
   "metadata": {
    "tags": []
   },
   "outputs": [
    {
     "name": "stderr",
     "output_type": "stream",
     "text": [
      "/home/jayesh/mgs_ai/crm_syd_1/main_page_processing_service/DataBucketingUtils.py:287: FutureWarning: The frame.append method is deprecated and will be removed from pandas in a future version. Use pandas.concat instead.\n",
      "  new_horizontal_note_df = new_horizontal_note_df.append(tmp_df, ignore_index=True)\n",
      "/home/jayesh/mgs_ai/crm_syd_1/main_page_processing_service/DataBucketingUtils.py:287: FutureWarning: The frame.append method is deprecated and will be removed from pandas in a future version. Use pandas.concat instead.\n",
      "  new_horizontal_note_df = new_horizontal_note_df.append(tmp_df, ignore_index=True)\n",
      "/home/jayesh/mgs_ai/crm_syd_1/main_page_processing_service/DataBucketingUtils.py:287: FutureWarning: The frame.append method is deprecated and will be removed from pandas in a future version. Use pandas.concat instead.\n",
      "  new_horizontal_note_df = new_horizontal_note_df.append(tmp_df, ignore_index=True)\n",
      "/home/jayesh/mgs_ai/crm_syd_1/main_page_processing_service/DataBucketingUtils.py:287: FutureWarning: The frame.append method is deprecated and will be removed from pandas in a future version. Use pandas.concat instead.\n",
      "  new_horizontal_note_df = new_horizontal_note_df.append(tmp_df, ignore_index=True)\n",
      "/home/jayesh/mgs_ai/crm_syd_1/main_page_processing_service/DataBucketingUtils.py:287: FutureWarning: The frame.append method is deprecated and will be removed from pandas in a future version. Use pandas.concat instead.\n",
      "  new_horizontal_note_df = new_horizontal_note_df.append(tmp_df, ignore_index=True)\n",
      "/home/jayesh/mgs_ai/crm_syd_1/main_page_processing_service/DataBucketingUtils.py:287: FutureWarning: The frame.append method is deprecated and will be removed from pandas in a future version. Use pandas.concat instead.\n",
      "  new_horizontal_note_df = new_horizontal_note_df.append(tmp_df, ignore_index=True)\n",
      "/home/jayesh/mgs_ai/crm_syd_1/main_page_processing_service/DataBucketingUtils.py:287: FutureWarning: The frame.append method is deprecated and will be removed from pandas in a future version. Use pandas.concat instead.\n",
      "  new_horizontal_note_df = new_horizontal_note_df.append(tmp_df, ignore_index=True)\n",
      "/home/jayesh/mgs_ai/crm_syd_1/main_page_processing_service/DataBucketingUtils.py:287: FutureWarning: The frame.append method is deprecated and will be removed from pandas in a future version. Use pandas.concat instead.\n",
      "  new_horizontal_note_df = new_horizontal_note_df.append(tmp_df, ignore_index=True)\n",
      "/home/jayesh/mgs_ai/crm_syd_1/main_page_processing_service/DataBucketingUtils.py:287: FutureWarning: The frame.append method is deprecated and will be removed from pandas in a future version. Use pandas.concat instead.\n",
      "  new_horizontal_note_df = new_horizontal_note_df.append(tmp_df, ignore_index=True)\n",
      "/home/jayesh/mgs_ai/crm_syd_1/main_page_processing_service/DataBucketingUtils.py:287: FutureWarning: The frame.append method is deprecated and will be removed from pandas in a future version. Use pandas.concat instead.\n",
      "  new_horizontal_note_df = new_horizontal_note_df.append(tmp_df, ignore_index=True)\n",
      "/home/jayesh/mgs_ai/crm_syd_1/main_page_processing_service/DataBucketingUtils.py:287: FutureWarning: The frame.append method is deprecated and will be removed from pandas in a future version. Use pandas.concat instead.\n",
      "  new_horizontal_note_df = new_horizontal_note_df.append(tmp_df, ignore_index=True)\n",
      "/home/jayesh/mgs_ai/crm_syd_1/main_page_processing_service/DataBucketingUtils.py:287: FutureWarning: The frame.append method is deprecated and will be removed from pandas in a future version. Use pandas.concat instead.\n",
      "  new_horizontal_note_df = new_horizontal_note_df.append(tmp_df, ignore_index=True)\n",
      "/home/jayesh/mgs_ai/crm_syd_1/main_page_processing_service/DataBucketingUtils.py:287: FutureWarning: The frame.append method is deprecated and will be removed from pandas in a future version. Use pandas.concat instead.\n",
      "  new_horizontal_note_df = new_horizontal_note_df.append(tmp_df, ignore_index=True)\n",
      "/home/jayesh/mgs_ai/crm_syd_1/main_page_processing_service/DataBucketingUtils.py:287: FutureWarning: The frame.append method is deprecated and will be removed from pandas in a future version. Use pandas.concat instead.\n",
      "  new_horizontal_note_df = new_horizontal_note_df.append(tmp_df, ignore_index=True)\n",
      "/home/jayesh/mgs_ai/crm_syd_1/main_page_processing_service/DataBucketingUtils.py:287: FutureWarning: The frame.append method is deprecated and will be removed from pandas in a future version. Use pandas.concat instead.\n",
      "  new_horizontal_note_df = new_horizontal_note_df.append(tmp_df, ignore_index=True)\n",
      "/home/jayesh/mgs_ai/crm_syd_1/main_page_processing_service/DataBucketingUtils.py:287: FutureWarning: The frame.append method is deprecated and will be removed from pandas in a future version. Use pandas.concat instead.\n",
      "  new_horizontal_note_df = new_horizontal_note_df.append(tmp_df, ignore_index=True)\n",
      "/home/jayesh/mgs_ai/crm_syd_1/main_page_processing_service/DataBucketingUtils.py:287: FutureWarning: The frame.append method is deprecated and will be removed from pandas in a future version. Use pandas.concat instead.\n",
      "  new_horizontal_note_df = new_horizontal_note_df.append(tmp_df, ignore_index=True)\n",
      "/home/jayesh/mgs_ai/crm_syd_1/main_page_processing_service/DataBucketingUtils.py:287: FutureWarning: The frame.append method is deprecated and will be removed from pandas in a future version. Use pandas.concat instead.\n",
      "  new_horizontal_note_df = new_horizontal_note_df.append(tmp_df, ignore_index=True)\n",
      "/home/jayesh/mgs_ai/crm_syd_1/main_page_processing_service/DataBucketingUtils.py:287: FutureWarning: The frame.append method is deprecated and will be removed from pandas in a future version. Use pandas.concat instead.\n",
      "  new_horizontal_note_df = new_horizontal_note_df.append(tmp_df, ignore_index=True)\n",
      "/home/jayesh/mgs_ai/crm_syd_1/main_page_processing_service/DataBucketingUtils.py:287: FutureWarning: The frame.append method is deprecated and will be removed from pandas in a future version. Use pandas.concat instead.\n",
      "  new_horizontal_note_df = new_horizontal_note_df.append(tmp_df, ignore_index=True)\n",
      "/home/jayesh/mgs_ai/crm_syd_1/main_page_processing_service/DataBucketingUtils.py:287: FutureWarning: The frame.append method is deprecated and will be removed from pandas in a future version. Use pandas.concat instead.\n",
      "  new_horizontal_note_df = new_horizontal_note_df.append(tmp_df, ignore_index=True)\n",
      "/home/jayesh/mgs_ai/crm_syd_1/main_page_processing_service/DataBucketingUtils.py:287: FutureWarning: The frame.append method is deprecated and will be removed from pandas in a future version. Use pandas.concat instead.\n",
      "  new_horizontal_note_df = new_horizontal_note_df.append(tmp_df, ignore_index=True)\n",
      "/home/jayesh/mgs_ai/crm_syd_1/main_page_processing_service/DataBucketingUtils.py:287: FutureWarning: The frame.append method is deprecated and will be removed from pandas in a future version. Use pandas.concat instead.\n",
      "  new_horizontal_note_df = new_horizontal_note_df.append(tmp_df, ignore_index=True)\n",
      "/home/jayesh/mgs_ai/crm_syd_1/main_page_processing_service/DataBucketingUtils.py:287: FutureWarning: The frame.append method is deprecated and will be removed from pandas in a future version. Use pandas.concat instead.\n",
      "  new_horizontal_note_df = new_horizontal_note_df.append(tmp_df, ignore_index=True)\n",
      "/home/jayesh/mgs_ai/crm_syd_1/main_page_processing_service/DataBucketingUtils.py:287: FutureWarning: The frame.append method is deprecated and will be removed from pandas in a future version. Use pandas.concat instead.\n",
      "  new_horizontal_note_df = new_horizontal_note_df.append(tmp_df, ignore_index=True)\n",
      "/home/jayesh/mgs_ai/crm_syd_1/main_page_processing_service/DataBucketingUtils.py:287: FutureWarning: The frame.append method is deprecated and will be removed from pandas in a future version. Use pandas.concat instead.\n",
      "  new_horizontal_note_df = new_horizontal_note_df.append(tmp_df, ignore_index=True)\n",
      "/home/jayesh/mgs_ai/crm_syd_1/main_page_processing_service/DataBucketingUtils.py:287: FutureWarning: The frame.append method is deprecated and will be removed from pandas in a future version. Use pandas.concat instead.\n",
      "  new_horizontal_note_df = new_horizontal_note_df.append(tmp_df, ignore_index=True)\n",
      "/home/jayesh/mgs_ai/crm_syd_1/main_page_processing_service/DataBucketingUtils.py:287: FutureWarning: The frame.append method is deprecated and will be removed from pandas in a future version. Use pandas.concat instead.\n",
      "  new_horizontal_note_df = new_horizontal_note_df.append(tmp_df, ignore_index=True)\n",
      "/home/jayesh/mgs_ai/crm_syd_1/main_page_processing_service/DataBucketingUtils.py:287: FutureWarning: The frame.append method is deprecated and will be removed from pandas in a future version. Use pandas.concat instead.\n",
      "  new_horizontal_note_df = new_horizontal_note_df.append(tmp_df, ignore_index=True)\n",
      "/home/jayesh/mgs_ai/crm_syd_1/main_page_processing_service/DataBucketingUtils.py:287: FutureWarning: The frame.append method is deprecated and will be removed from pandas in a future version. Use pandas.concat instead.\n",
      "  new_horizontal_note_df = new_horizontal_note_df.append(tmp_df, ignore_index=True)\n",
      "/home/jayesh/mgs_ai/crm_syd_1/main_page_processing_service/DataBucketingUtils.py:287: FutureWarning: The frame.append method is deprecated and will be removed from pandas in a future version. Use pandas.concat instead.\n",
      "  new_horizontal_note_df = new_horizontal_note_df.append(tmp_df, ignore_index=True)\n",
      "/home/jayesh/mgs_ai/crm_syd_1/main_page_processing_service/DataBucketingUtils.py:287: FutureWarning: The frame.append method is deprecated and will be removed from pandas in a future version. Use pandas.concat instead.\n",
      "  new_horizontal_note_df = new_horizontal_note_df.append(tmp_df, ignore_index=True)\n",
      "/home/jayesh/mgs_ai/crm_syd_1/main_page_processing_service/DataBucketingUtils.py:287: FutureWarning: The frame.append method is deprecated and will be removed from pandas in a future version. Use pandas.concat instead.\n",
      "  new_horizontal_note_df = new_horizontal_note_df.append(tmp_df, ignore_index=True)\n",
      "/home/jayesh/mgs_ai/crm_syd_1/main_page_processing_service/DataBucketingUtils.py:287: FutureWarning: The frame.append method is deprecated and will be removed from pandas in a future version. Use pandas.concat instead.\n",
      "  new_horizontal_note_df = new_horizontal_note_df.append(tmp_df, ignore_index=True)\n",
      "/home/jayesh/mgs_ai/crm_syd_1/main_page_processing_service/DataBucketingUtils.py:287: FutureWarning: The frame.append method is deprecated and will be removed from pandas in a future version. Use pandas.concat instead.\n",
      "  new_horizontal_note_df = new_horizontal_note_df.append(tmp_df, ignore_index=True)\n",
      "/home/jayesh/mgs_ai/crm_syd_1/main_page_processing_service/DataBucketingUtils.py:287: FutureWarning: The frame.append method is deprecated and will be removed from pandas in a future version. Use pandas.concat instead.\n",
      "  new_horizontal_note_df = new_horizontal_note_df.append(tmp_df, ignore_index=True)\n",
      "/home/jayesh/mgs_ai/crm_syd_1/main_page_processing_service/DataBucketingUtils.py:287: FutureWarning: The frame.append method is deprecated and will be removed from pandas in a future version. Use pandas.concat instead.\n",
      "  new_horizontal_note_df = new_horizontal_note_df.append(tmp_df, ignore_index=True)\n",
      "/home/jayesh/mgs_ai/crm_syd_1/main_page_processing_service/DataBucketingUtils.py:287: FutureWarning: The frame.append method is deprecated and will be removed from pandas in a future version. Use pandas.concat instead.\n",
      "  new_horizontal_note_df = new_horizontal_note_df.append(tmp_df, ignore_index=True)\n",
      "/home/jayesh/mgs_ai/crm_syd_1/main_page_processing_service/DataBucketingUtils.py:287: FutureWarning: The frame.append method is deprecated and will be removed from pandas in a future version. Use pandas.concat instead.\n",
      "  new_horizontal_note_df = new_horizontal_note_df.append(tmp_df, ignore_index=True)\n",
      "/home/jayesh/mgs_ai/crm_syd_1/main_page_processing_service/DataBucketingUtils.py:287: FutureWarning: The frame.append method is deprecated and will be removed from pandas in a future version. Use pandas.concat instead.\n",
      "  new_horizontal_note_df = new_horizontal_note_df.append(tmp_df, ignore_index=True)\n",
      "/home/jayesh/mgs_ai/crm_syd_1/main_page_processing_service/DataBucketingUtils.py:287: FutureWarning: The frame.append method is deprecated and will be removed from pandas in a future version. Use pandas.concat instead.\n",
      "  new_horizontal_note_df = new_horizontal_note_df.append(tmp_df, ignore_index=True)\n",
      "/home/jayesh/mgs_ai/crm_syd_1/main_page_processing_service/DataBucketingUtils.py:287: FutureWarning: The frame.append method is deprecated and will be removed from pandas in a future version. Use pandas.concat instead.\n",
      "  new_horizontal_note_df = new_horizontal_note_df.append(tmp_df, ignore_index=True)\n",
      "/home/jayesh/mgs_ai/crm_syd_1/main_page_processing_service/DataBucketingUtils.py:287: FutureWarning: The frame.append method is deprecated and will be removed from pandas in a future version. Use pandas.concat instead.\n",
      "  new_horizontal_note_df = new_horizontal_note_df.append(tmp_df, ignore_index=True)\n",
      "/home/jayesh/mgs_ai/crm_syd_1/main_page_processing_service/DataBucketingUtils.py:287: FutureWarning: The frame.append method is deprecated and will be removed from pandas in a future version. Use pandas.concat instead.\n",
      "  new_horizontal_note_df = new_horizontal_note_df.append(tmp_df, ignore_index=True)\n",
      "/home/jayesh/mgs_ai/crm_syd_1/main_page_processing_service/DataBucketingUtils.py:287: FutureWarning: The frame.append method is deprecated and will be removed from pandas in a future version. Use pandas.concat instead.\n",
      "  new_horizontal_note_df = new_horizontal_note_df.append(tmp_df, ignore_index=True)\n",
      "/home/jayesh/mgs_ai/crm_syd_1/main_page_processing_service/DataBucketingUtils.py:287: FutureWarning: The frame.append method is deprecated and will be removed from pandas in a future version. Use pandas.concat instead.\n",
      "  new_horizontal_note_df = new_horizontal_note_df.append(tmp_df, ignore_index=True)\n",
      "/home/jayesh/mgs_ai/crm_syd_1/main_page_processing_service/DataBucketingUtils.py:287: FutureWarning: The frame.append method is deprecated and will be removed from pandas in a future version. Use pandas.concat instead.\n",
      "  new_horizontal_note_df = new_horizontal_note_df.append(tmp_df, ignore_index=True)\n",
      "/home/jayesh/mgs_ai/crm_syd_1/main_page_processing_service/DataBucketingUtils.py:287: FutureWarning: The frame.append method is deprecated and will be removed from pandas in a future version. Use pandas.concat instead.\n",
      "  new_horizontal_note_df = new_horizontal_note_df.append(tmp_df, ignore_index=True)\n",
      "/home/jayesh/mgs_ai/crm_syd_1/main_page_processing_service/DataBucketingUtils.py:287: FutureWarning: The frame.append method is deprecated and will be removed from pandas in a future version. Use pandas.concat instead.\n",
      "  new_horizontal_note_df = new_horizontal_note_df.append(tmp_df, ignore_index=True)\n",
      "/home/jayesh/mgs_ai/crm_syd_1/main_page_processing_service/DataBucketingUtils.py:287: FutureWarning: The frame.append method is deprecated and will be removed from pandas in a future version. Use pandas.concat instead.\n",
      "  new_horizontal_note_df = new_horizontal_note_df.append(tmp_df, ignore_index=True)\n",
      "/home/jayesh/mgs_ai/crm_syd_1/main_page_processing_service/DataBucketingUtils.py:287: FutureWarning: The frame.append method is deprecated and will be removed from pandas in a future version. Use pandas.concat instead.\n",
      "  new_horizontal_note_df = new_horizontal_note_df.append(tmp_df, ignore_index=True)\n",
      "/home/jayesh/mgs_ai/crm_syd_1/main_page_processing_service/DataBucketingUtils.py:287: FutureWarning: The frame.append method is deprecated and will be removed from pandas in a future version. Use pandas.concat instead.\n",
      "  new_horizontal_note_df = new_horizontal_note_df.append(tmp_df, ignore_index=True)\n",
      "/home/jayesh/mgs_ai/crm_syd_1/main_page_processing_service/DataBucketingUtils.py:287: FutureWarning: The frame.append method is deprecated and will be removed from pandas in a future version. Use pandas.concat instead.\n",
      "  new_horizontal_note_df = new_horizontal_note_df.append(tmp_df, ignore_index=True)\n",
      "/home/jayesh/mgs_ai/crm_syd_1/main_page_processing_service/DataBucketingUtils.py:287: FutureWarning: The frame.append method is deprecated and will be removed from pandas in a future version. Use pandas.concat instead.\n",
      "  new_horizontal_note_df = new_horizontal_note_df.append(tmp_df, ignore_index=True)\n",
      "/home/jayesh/mgs_ai/crm_syd_1/main_page_processing_service/DataBucketingUtils.py:287: FutureWarning: The frame.append method is deprecated and will be removed from pandas in a future version. Use pandas.concat instead.\n",
      "  new_horizontal_note_df = new_horizontal_note_df.append(tmp_df, ignore_index=True)\n",
      "/home/jayesh/mgs_ai/crm_syd_1/main_page_processing_service/DataBucketingUtils.py:287: FutureWarning: The frame.append method is deprecated and will be removed from pandas in a future version. Use pandas.concat instead.\n",
      "  new_horizontal_note_df = new_horizontal_note_df.append(tmp_df, ignore_index=True)\n",
      "/home/jayesh/mgs_ai/crm_syd_1/main_page_processing_service/DataBucketingUtils.py:287: FutureWarning: The frame.append method is deprecated and will be removed from pandas in a future version. Use pandas.concat instead.\n",
      "  new_horizontal_note_df = new_horizontal_note_df.append(tmp_df, ignore_index=True)\n",
      "/home/jayesh/mgs_ai/crm_syd_1/main_page_processing_service/DataBucketingUtils.py:287: FutureWarning: The frame.append method is deprecated and will be removed from pandas in a future version. Use pandas.concat instead.\n",
      "  new_horizontal_note_df = new_horizontal_note_df.append(tmp_df, ignore_index=True)\n",
      "/home/jayesh/mgs_ai/crm_syd_1/main_page_processing_service/DataBucketingUtils.py:287: FutureWarning: The frame.append method is deprecated and will be removed from pandas in a future version. Use pandas.concat instead.\n",
      "  new_horizontal_note_df = new_horizontal_note_df.append(tmp_df, ignore_index=True)\n",
      "/home/jayesh/mgs_ai/crm_syd_1/main_page_processing_service/DataBucketingUtils.py:287: FutureWarning: The frame.append method is deprecated and will be removed from pandas in a future version. Use pandas.concat instead.\n",
      "  new_horizontal_note_df = new_horizontal_note_df.append(tmp_df, ignore_index=True)\n",
      "/home/jayesh/mgs_ai/crm_syd_1/main_page_processing_service/DataBucketingUtils.py:287: FutureWarning: The frame.append method is deprecated and will be removed from pandas in a future version. Use pandas.concat instead.\n",
      "  new_horizontal_note_df = new_horizontal_note_df.append(tmp_df, ignore_index=True)\n",
      "/home/jayesh/mgs_ai/crm_syd_1/main_page_processing_service/DataBucketingUtils.py:287: FutureWarning: The frame.append method is deprecated and will be removed from pandas in a future version. Use pandas.concat instead.\n",
      "  new_horizontal_note_df = new_horizontal_note_df.append(tmp_df, ignore_index=True)\n",
      "/home/jayesh/mgs_ai/crm_syd_1/main_page_processing_service/DataBucketingUtils.py:287: FutureWarning: The frame.append method is deprecated and will be removed from pandas in a future version. Use pandas.concat instead.\n",
      "  new_horizontal_note_df = new_horizontal_note_df.append(tmp_df, ignore_index=True)\n",
      "/home/jayesh/mgs_ai/crm_syd_1/main_page_processing_service/DataBucketingUtils.py:287: FutureWarning: The frame.append method is deprecated and will be removed from pandas in a future version. Use pandas.concat instead.\n",
      "  new_horizontal_note_df = new_horizontal_note_df.append(tmp_df, ignore_index=True)\n",
      "/home/jayesh/mgs_ai/crm_syd_1/main_page_processing_service/DataBucketingUtils.py:287: FutureWarning: The frame.append method is deprecated and will be removed from pandas in a future version. Use pandas.concat instead.\n",
      "  new_horizontal_note_df = new_horizontal_note_df.append(tmp_df, ignore_index=True)\n",
      "/home/jayesh/mgs_ai/crm_syd_1/main_page_processing_service/DataBucketingUtils.py:287: FutureWarning: The frame.append method is deprecated and will be removed from pandas in a future version. Use pandas.concat instead.\n",
      "  new_horizontal_note_df = new_horizontal_note_df.append(tmp_df, ignore_index=True)\n",
      "/home/jayesh/mgs_ai/crm_syd_1/main_page_processing_service/DataBucketingUtils.py:287: FutureWarning: The frame.append method is deprecated and will be removed from pandas in a future version. Use pandas.concat instead.\n",
      "  new_horizontal_note_df = new_horizontal_note_df.append(tmp_df, ignore_index=True)\n",
      "/home/jayesh/mgs_ai/crm_syd_1/main_page_processing_service/DataBucketingUtils.py:287: FutureWarning: The frame.append method is deprecated and will be removed from pandas in a future version. Use pandas.concat instead.\n",
      "  new_horizontal_note_df = new_horizontal_note_df.append(tmp_df, ignore_index=True)\n",
      "/home/jayesh/mgs_ai/crm_syd_1/main_page_processing_service/DataBucketingUtils.py:287: FutureWarning: The frame.append method is deprecated and will be removed from pandas in a future version. Use pandas.concat instead.\n",
      "  new_horizontal_note_df = new_horizontal_note_df.append(tmp_df, ignore_index=True)\n",
      "/home/jayesh/mgs_ai/crm_syd_1/main_page_processing_service/DataBucketingUtils.py:287: FutureWarning: The frame.append method is deprecated and will be removed from pandas in a future version. Use pandas.concat instead.\n",
      "  new_horizontal_note_df = new_horizontal_note_df.append(tmp_df, ignore_index=True)\n",
      "/home/jayesh/mgs_ai/crm_syd_1/main_page_processing_service/DataBucketingUtils.py:287: FutureWarning: The frame.append method is deprecated and will be removed from pandas in a future version. Use pandas.concat instead.\n",
      "  new_horizontal_note_df = new_horizontal_note_df.append(tmp_df, ignore_index=True)\n",
      "/home/jayesh/mgs_ai/crm_syd_1/main_page_processing_service/DataBucketingUtils.py:287: FutureWarning: The frame.append method is deprecated and will be removed from pandas in a future version. Use pandas.concat instead.\n",
      "  new_horizontal_note_df = new_horizontal_note_df.append(tmp_df, ignore_index=True)\n",
      "/home/jayesh/mgs_ai/crm_syd_1/main_page_processing_service/DataBucketingUtils.py:287: FutureWarning: The frame.append method is deprecated and will be removed from pandas in a future version. Use pandas.concat instead.\n",
      "  new_horizontal_note_df = new_horizontal_note_df.append(tmp_df, ignore_index=True)\n",
      "/home/jayesh/mgs_ai/crm_syd_1/main_page_processing_service/DataBucketingUtils.py:287: FutureWarning: The frame.append method is deprecated and will be removed from pandas in a future version. Use pandas.concat instead.\n",
      "  new_horizontal_note_df = new_horizontal_note_df.append(tmp_df, ignore_index=True)\n",
      "/home/jayesh/mgs_ai/crm_syd_1/main_page_processing_service/DataBucketingUtils.py:287: FutureWarning: The frame.append method is deprecated and will be removed from pandas in a future version. Use pandas.concat instead.\n",
      "  new_horizontal_note_df = new_horizontal_note_df.append(tmp_df, ignore_index=True)\n",
      "/home/jayesh/mgs_ai/crm_syd_1/main_page_processing_service/DataBucketingUtils.py:287: FutureWarning: The frame.append method is deprecated and will be removed from pandas in a future version. Use pandas.concat instead.\n",
      "  new_horizontal_note_df = new_horizontal_note_df.append(tmp_df, ignore_index=True)\n",
      "/home/jayesh/mgs_ai/crm_syd_1/main_page_processing_service/DataBucketingUtils.py:287: FutureWarning: The frame.append method is deprecated and will be removed from pandas in a future version. Use pandas.concat instead.\n",
      "  new_horizontal_note_df = new_horizontal_note_df.append(tmp_df, ignore_index=True)\n",
      "/home/jayesh/mgs_ai/crm_syd_1/main_page_processing_service/DataBucketingUtils.py:287: FutureWarning: The frame.append method is deprecated and will be removed from pandas in a future version. Use pandas.concat instead.\n",
      "  new_horizontal_note_df = new_horizontal_note_df.append(tmp_df, ignore_index=True)\n",
      "/home/jayesh/mgs_ai/crm_syd_1/main_page_processing_service/DataBucketingUtils.py:287: FutureWarning: The frame.append method is deprecated and will be removed from pandas in a future version. Use pandas.concat instead.\n",
      "  new_horizontal_note_df = new_horizontal_note_df.append(tmp_df, ignore_index=True)\n",
      "/home/jayesh/mgs_ai/crm_syd_1/main_page_processing_service/DataBucketingUtils.py:287: FutureWarning: The frame.append method is deprecated and will be removed from pandas in a future version. Use pandas.concat instead.\n",
      "  new_horizontal_note_df = new_horizontal_note_df.append(tmp_df, ignore_index=True)\n",
      "/home/jayesh/mgs_ai/crm_syd_1/main_page_processing_service/DataBucketingUtils.py:287: FutureWarning: The frame.append method is deprecated and will be removed from pandas in a future version. Use pandas.concat instead.\n",
      "  new_horizontal_note_df = new_horizontal_note_df.append(tmp_df, ignore_index=True)\n",
      "/home/jayesh/mgs_ai/crm_syd_1/main_page_processing_service/DataBucketingUtils.py:287: FutureWarning: The frame.append method is deprecated and will be removed from pandas in a future version. Use pandas.concat instead.\n",
      "  new_horizontal_note_df = new_horizontal_note_df.append(tmp_df, ignore_index=True)\n",
      "/home/jayesh/mgs_ai/crm_syd_1/main_page_processing_service/DataBucketingUtils.py:287: FutureWarning: The frame.append method is deprecated and will be removed from pandas in a future version. Use pandas.concat instead.\n",
      "  new_horizontal_note_df = new_horizontal_note_df.append(tmp_df, ignore_index=True)\n",
      "/home/jayesh/mgs_ai/crm_syd_1/main_page_processing_service/DataBucketingUtils.py:287: FutureWarning: The frame.append method is deprecated and will be removed from pandas in a future version. Use pandas.concat instead.\n",
      "  new_horizontal_note_df = new_horizontal_note_df.append(tmp_df, ignore_index=True)\n",
      "/home/jayesh/mgs_ai/crm_syd_1/main_page_processing_service/DataBucketingUtils.py:287: FutureWarning: The frame.append method is deprecated and will be removed from pandas in a future version. Use pandas.concat instead.\n",
      "  new_horizontal_note_df = new_horizontal_note_df.append(tmp_df, ignore_index=True)\n",
      "/home/jayesh/mgs_ai/crm_syd_1/main_page_processing_service/DataBucketingUtils.py:287: FutureWarning: The frame.append method is deprecated and will be removed from pandas in a future version. Use pandas.concat instead.\n",
      "  new_horizontal_note_df = new_horizontal_note_df.append(tmp_df, ignore_index=True)\n",
      "/home/jayesh/mgs_ai/crm_syd_1/main_page_processing_service/DataBucketingUtils.py:287: FutureWarning: The frame.append method is deprecated and will be removed from pandas in a future version. Use pandas.concat instead.\n",
      "  new_horizontal_note_df = new_horizontal_note_df.append(tmp_df, ignore_index=True)\n",
      "/home/jayesh/mgs_ai/crm_syd_1/main_page_processing_service/DataBucketingUtils.py:287: FutureWarning: The frame.append method is deprecated and will be removed from pandas in a future version. Use pandas.concat instead.\n",
      "  new_horizontal_note_df = new_horizontal_note_df.append(tmp_df, ignore_index=True)\n",
      "/home/jayesh/mgs_ai/crm_syd_1/main_page_processing_service/DataBucketingUtils.py:287: FutureWarning: The frame.append method is deprecated and will be removed from pandas in a future version. Use pandas.concat instead.\n",
      "  new_horizontal_note_df = new_horizontal_note_df.append(tmp_df, ignore_index=True)\n",
      "/home/jayesh/mgs_ai/crm_syd_1/main_page_processing_service/DataBucketingUtils.py:287: FutureWarning: The frame.append method is deprecated and will be removed from pandas in a future version. Use pandas.concat instead.\n",
      "  new_horizontal_note_df = new_horizontal_note_df.append(tmp_df, ignore_index=True)\n",
      "/home/jayesh/mgs_ai/crm_syd_1/main_page_processing_service/DataBucketingUtils.py:287: FutureWarning: The frame.append method is deprecated and will be removed from pandas in a future version. Use pandas.concat instead.\n",
      "  new_horizontal_note_df = new_horizontal_note_df.append(tmp_df, ignore_index=True)\n",
      "/home/jayesh/mgs_ai/crm_syd_1/main_page_processing_service/DataBucketingUtils.py:287: FutureWarning: The frame.append method is deprecated and will be removed from pandas in a future version. Use pandas.concat instead.\n",
      "  new_horizontal_note_df = new_horizontal_note_df.append(tmp_df, ignore_index=True)\n",
      "/home/jayesh/mgs_ai/crm_syd_1/main_page_processing_service/DataBucketingUtils.py:287: FutureWarning: The frame.append method is deprecated and will be removed from pandas in a future version. Use pandas.concat instead.\n",
      "  new_horizontal_note_df = new_horizontal_note_df.append(tmp_df, ignore_index=True)\n",
      "/home/jayesh/mgs_ai/crm_syd_1/main_page_processing_service/DataBucketingUtils.py:287: FutureWarning: The frame.append method is deprecated and will be removed from pandas in a future version. Use pandas.concat instead.\n",
      "  new_horizontal_note_df = new_horizontal_note_df.append(tmp_df, ignore_index=True)\n",
      "/home/jayesh/mgs_ai/crm_syd_1/main_page_processing_service/DataBucketingUtils.py:287: FutureWarning: The frame.append method is deprecated and will be removed from pandas in a future version. Use pandas.concat instead.\n",
      "  new_horizontal_note_df = new_horizontal_note_df.append(tmp_df, ignore_index=True)\n",
      "/home/jayesh/mgs_ai/crm_syd_1/main_page_processing_service/DataBucketingUtils.py:287: FutureWarning: The frame.append method is deprecated and will be removed from pandas in a future version. Use pandas.concat instead.\n",
      "  new_horizontal_note_df = new_horizontal_note_df.append(tmp_df, ignore_index=True)\n",
      "/home/jayesh/mgs_ai/crm_syd_1/main_page_processing_service/DataBucketingUtils.py:266: FutureWarning: The frame.append method is deprecated and will be removed from pandas in a future version. Use pandas.concat instead.\n",
      "  temp_horizontal_df = temp_horizontal_df.append(horizontal_note_df)\n",
      "/home/jayesh/mgs_ai/crm_syd_1/main_page_processing_service/DataBucketingUtils.py:287: FutureWarning: The frame.append method is deprecated and will be removed from pandas in a future version. Use pandas.concat instead.\n",
      "  new_horizontal_note_df = new_horizontal_note_df.append(tmp_df, ignore_index=True)\n",
      "/home/jayesh/mgs_ai/crm_syd_1/main_page_processing_service/DataBucketingUtils.py:287: FutureWarning: The frame.append method is deprecated and will be removed from pandas in a future version. Use pandas.concat instead.\n",
      "  new_horizontal_note_df = new_horizontal_note_df.append(tmp_df, ignore_index=True)\n",
      "/home/jayesh/mgs_ai/crm_syd_1/main_page_processing_service/DataBucketingUtils.py:287: FutureWarning: The frame.append method is deprecated and will be removed from pandas in a future version. Use pandas.concat instead.\n",
      "  new_horizontal_note_df = new_horizontal_note_df.append(tmp_df, ignore_index=True)\n",
      "/home/jayesh/mgs_ai/crm_syd_1/main_page_processing_service/DataBucketingUtils.py:287: FutureWarning: The frame.append method is deprecated and will be removed from pandas in a future version. Use pandas.concat instead.\n",
      "  new_horizontal_note_df = new_horizontal_note_df.append(tmp_df, ignore_index=True)\n",
      "/home/jayesh/mgs_ai/crm_syd_1/main_page_processing_service/DataBucketingUtils.py:287: FutureWarning: The frame.append method is deprecated and will be removed from pandas in a future version. Use pandas.concat instead.\n",
      "  new_horizontal_note_df = new_horizontal_note_df.append(tmp_df, ignore_index=True)\n",
      "/home/jayesh/mgs_ai/crm_syd_1/main_page_processing_service/DataBucketingUtils.py:287: FutureWarning: The frame.append method is deprecated and will be removed from pandas in a future version. Use pandas.concat instead.\n",
      "  new_horizontal_note_df = new_horizontal_note_df.append(tmp_df, ignore_index=True)\n",
      "/home/jayesh/mgs_ai/crm_syd_1/main_page_processing_service/DataBucketingUtils.py:287: FutureWarning: The frame.append method is deprecated and will be removed from pandas in a future version. Use pandas.concat instead.\n",
      "  new_horizontal_note_df = new_horizontal_note_df.append(tmp_df, ignore_index=True)\n",
      "/home/jayesh/mgs_ai/crm_syd_1/main_page_processing_service/DataBucketingUtils.py:287: FutureWarning: The frame.append method is deprecated and will be removed from pandas in a future version. Use pandas.concat instead.\n",
      "  new_horizontal_note_df = new_horizontal_note_df.append(tmp_df, ignore_index=True)\n",
      "/home/jayesh/mgs_ai/crm_syd_1/main_page_processing_service/DataBucketingUtils.py:287: FutureWarning: The frame.append method is deprecated and will be removed from pandas in a future version. Use pandas.concat instead.\n",
      "  new_horizontal_note_df = new_horizontal_note_df.append(tmp_df, ignore_index=True)\n",
      "/home/jayesh/mgs_ai/crm_syd_1/main_page_processing_service/DataBucketingUtils.py:287: FutureWarning: The frame.append method is deprecated and will be removed from pandas in a future version. Use pandas.concat instead.\n",
      "  new_horizontal_note_df = new_horizontal_note_df.append(tmp_df, ignore_index=True)\n",
      "/home/jayesh/mgs_ai/crm_syd_1/main_page_processing_service/DataBucketingUtils.py:287: FutureWarning: The frame.append method is deprecated and will be removed from pandas in a future version. Use pandas.concat instead.\n",
      "  new_horizontal_note_df = new_horizontal_note_df.append(tmp_df, ignore_index=True)\n",
      "/home/jayesh/mgs_ai/crm_syd_1/main_page_processing_service/DataBucketingUtils.py:287: FutureWarning: The frame.append method is deprecated and will be removed from pandas in a future version. Use pandas.concat instead.\n",
      "  new_horizontal_note_df = new_horizontal_note_df.append(tmp_df, ignore_index=True)\n",
      "/home/jayesh/mgs_ai/crm_syd_1/main_page_processing_service/DataBucketingUtils.py:287: FutureWarning: The frame.append method is deprecated and will be removed from pandas in a future version. Use pandas.concat instead.\n",
      "  new_horizontal_note_df = new_horizontal_note_df.append(tmp_df, ignore_index=True)\n",
      "/home/jayesh/mgs_ai/crm_syd_1/main_page_processing_service/DataBucketingUtils.py:287: FutureWarning: The frame.append method is deprecated and will be removed from pandas in a future version. Use pandas.concat instead.\n",
      "  new_horizontal_note_df = new_horizontal_note_df.append(tmp_df, ignore_index=True)\n",
      "/home/jayesh/mgs_ai/crm_syd_1/main_page_processing_service/DataBucketingUtils.py:287: FutureWarning: The frame.append method is deprecated and will be removed from pandas in a future version. Use pandas.concat instead.\n",
      "  new_horizontal_note_df = new_horizontal_note_df.append(tmp_df, ignore_index=True)\n",
      "/home/jayesh/mgs_ai/crm_syd_1/main_page_processing_service/DataBucketingUtils.py:287: FutureWarning: The frame.append method is deprecated and will be removed from pandas in a future version. Use pandas.concat instead.\n",
      "  new_horizontal_note_df = new_horizontal_note_df.append(tmp_df, ignore_index=True)\n",
      "/home/jayesh/mgs_ai/crm_syd_1/main_page_processing_service/DataBucketingUtils.py:287: FutureWarning: The frame.append method is deprecated and will be removed from pandas in a future version. Use pandas.concat instead.\n",
      "  new_horizontal_note_df = new_horizontal_note_df.append(tmp_df, ignore_index=True)\n",
      "/home/jayesh/mgs_ai/crm_syd_1/main_page_processing_service/DataBucketingUtils.py:287: FutureWarning: The frame.append method is deprecated and will be removed from pandas in a future version. Use pandas.concat instead.\n",
      "  new_horizontal_note_df = new_horizontal_note_df.append(tmp_df, ignore_index=True)\n",
      "/home/jayesh/mgs_ai/crm_syd_1/main_page_processing_service/DataBucketingUtils.py:287: FutureWarning: The frame.append method is deprecated and will be removed from pandas in a future version. Use pandas.concat instead.\n",
      "  new_horizontal_note_df = new_horizontal_note_df.append(tmp_df, ignore_index=True)\n",
      "/home/jayesh/mgs_ai/crm_syd_1/main_page_processing_service/DataBucketingUtils.py:287: FutureWarning: The frame.append method is deprecated and will be removed from pandas in a future version. Use pandas.concat instead.\n",
      "  new_horizontal_note_df = new_horizontal_note_df.append(tmp_df, ignore_index=True)\n",
      "/home/jayesh/mgs_ai/crm_syd_1/main_page_processing_service/DataBucketingUtils.py:287: FutureWarning: The frame.append method is deprecated and will be removed from pandas in a future version. Use pandas.concat instead.\n",
      "  new_horizontal_note_df = new_horizontal_note_df.append(tmp_df, ignore_index=True)\n",
      "/home/jayesh/mgs_ai/crm_syd_1/main_page_processing_service/DataBucketingUtils.py:287: FutureWarning: The frame.append method is deprecated and will be removed from pandas in a future version. Use pandas.concat instead.\n",
      "  new_horizontal_note_df = new_horizontal_note_df.append(tmp_df, ignore_index=True)\n",
      "/home/jayesh/mgs_ai/crm_syd_1/main_page_processing_service/DataBucketingUtils.py:287: FutureWarning: The frame.append method is deprecated and will be removed from pandas in a future version. Use pandas.concat instead.\n",
      "  new_horizontal_note_df = new_horizontal_note_df.append(tmp_df, ignore_index=True)\n",
      "/home/jayesh/mgs_ai/crm_syd_1/main_page_processing_service/DataBucketingUtils.py:287: FutureWarning: The frame.append method is deprecated and will be removed from pandas in a future version. Use pandas.concat instead.\n",
      "  new_horizontal_note_df = new_horizontal_note_df.append(tmp_df, ignore_index=True)\n",
      "/home/jayesh/mgs_ai/crm_syd_1/main_page_processing_service/DataBucketingUtils.py:287: FutureWarning: The frame.append method is deprecated and will be removed from pandas in a future version. Use pandas.concat instead.\n",
      "  new_horizontal_note_df = new_horizontal_note_df.append(tmp_df, ignore_index=True)\n",
      "/home/jayesh/mgs_ai/crm_syd_1/main_page_processing_service/DataBucketingUtils.py:287: FutureWarning: The frame.append method is deprecated and will be removed from pandas in a future version. Use pandas.concat instead.\n",
      "  new_horizontal_note_df = new_horizontal_note_df.append(tmp_df, ignore_index=True)\n",
      "/home/jayesh/mgs_ai/crm_syd_1/main_page_processing_service/DataBucketingUtils.py:287: FutureWarning: The frame.append method is deprecated and will be removed from pandas in a future version. Use pandas.concat instead.\n",
      "  new_horizontal_note_df = new_horizontal_note_df.append(tmp_df, ignore_index=True)\n",
      "/home/jayesh/mgs_ai/crm_syd_1/main_page_processing_service/DataBucketingUtils.py:287: FutureWarning: The frame.append method is deprecated and will be removed from pandas in a future version. Use pandas.concat instead.\n",
      "  new_horizontal_note_df = new_horizontal_note_df.append(tmp_df, ignore_index=True)\n",
      "/home/jayesh/mgs_ai/crm_syd_1/main_page_processing_service/DataBucketingUtils.py:287: FutureWarning: The frame.append method is deprecated and will be removed from pandas in a future version. Use pandas.concat instead.\n",
      "  new_horizontal_note_df = new_horizontal_note_df.append(tmp_df, ignore_index=True)\n",
      "/home/jayesh/mgs_ai/crm_syd_1/main_page_processing_service/DataBucketingUtils.py:287: FutureWarning: The frame.append method is deprecated and will be removed from pandas in a future version. Use pandas.concat instead.\n",
      "  new_horizontal_note_df = new_horizontal_note_df.append(tmp_df, ignore_index=True)\n",
      "/home/jayesh/mgs_ai/crm_syd_1/main_page_processing_service/DataBucketingUtils.py:287: FutureWarning: The frame.append method is deprecated and will be removed from pandas in a future version. Use pandas.concat instead.\n",
      "  new_horizontal_note_df = new_horizontal_note_df.append(tmp_df, ignore_index=True)\n",
      "/home/jayesh/mgs_ai/crm_syd_1/main_page_processing_service/DataBucketingUtils.py:287: FutureWarning: The frame.append method is deprecated and will be removed from pandas in a future version. Use pandas.concat instead.\n",
      "  new_horizontal_note_df = new_horizontal_note_df.append(tmp_df, ignore_index=True)\n",
      "/home/jayesh/mgs_ai/crm_syd_1/main_page_processing_service/DataBucketingUtils.py:287: FutureWarning: The frame.append method is deprecated and will be removed from pandas in a future version. Use pandas.concat instead.\n",
      "  new_horizontal_note_df = new_horizontal_note_df.append(tmp_df, ignore_index=True)\n",
      "/home/jayesh/mgs_ai/crm_syd_1/main_page_processing_service/DataBucketingUtils.py:287: FutureWarning: The frame.append method is deprecated and will be removed from pandas in a future version. Use pandas.concat instead.\n",
      "  new_horizontal_note_df = new_horizontal_note_df.append(tmp_df, ignore_index=True)\n",
      "/home/jayesh/mgs_ai/crm_syd_1/main_page_processing_service/DataBucketingUtils.py:287: FutureWarning: The frame.append method is deprecated and will be removed from pandas in a future version. Use pandas.concat instead.\n",
      "  new_horizontal_note_df = new_horizontal_note_df.append(tmp_df, ignore_index=True)\n",
      "/home/jayesh/mgs_ai/crm_syd_1/main_page_processing_service/DataBucketingUtils.py:287: FutureWarning: The frame.append method is deprecated and will be removed from pandas in a future version. Use pandas.concat instead.\n",
      "  new_horizontal_note_df = new_horizontal_note_df.append(tmp_df, ignore_index=True)\n",
      "/home/jayesh/mgs_ai/crm_syd_1/main_page_processing_service/DataBucketingUtils.py:287: FutureWarning: The frame.append method is deprecated and will be removed from pandas in a future version. Use pandas.concat instead.\n",
      "  new_horizontal_note_df = new_horizontal_note_df.append(tmp_df, ignore_index=True)\n",
      "/home/jayesh/mgs_ai/crm_syd_1/main_page_processing_service/DataBucketingUtils.py:287: FutureWarning: The frame.append method is deprecated and will be removed from pandas in a future version. Use pandas.concat instead.\n",
      "  new_horizontal_note_df = new_horizontal_note_df.append(tmp_df, ignore_index=True)\n",
      "/home/jayesh/mgs_ai/crm_syd_1/main_page_processing_service/DataBucketingUtils.py:287: FutureWarning: The frame.append method is deprecated and will be removed from pandas in a future version. Use pandas.concat instead.\n",
      "  new_horizontal_note_df = new_horizontal_note_df.append(tmp_df, ignore_index=True)\n",
      "/home/jayesh/mgs_ai/crm_syd_1/main_page_processing_service/DataBucketingUtils.py:287: FutureWarning: The frame.append method is deprecated and will be removed from pandas in a future version. Use pandas.concat instead.\n",
      "  new_horizontal_note_df = new_horizontal_note_df.append(tmp_df, ignore_index=True)\n",
      "/home/jayesh/mgs_ai/crm_syd_1/main_page_processing_service/DataBucketingUtils.py:287: FutureWarning: The frame.append method is deprecated and will be removed from pandas in a future version. Use pandas.concat instead.\n",
      "  new_horizontal_note_df = new_horizontal_note_df.append(tmp_df, ignore_index=True)\n",
      "/home/jayesh/mgs_ai/crm_syd_1/main_page_processing_service/DataBucketingUtils.py:287: FutureWarning: The frame.append method is deprecated and will be removed from pandas in a future version. Use pandas.concat instead.\n",
      "  new_horizontal_note_df = new_horizontal_note_df.append(tmp_df, ignore_index=True)\n",
      "/home/jayesh/mgs_ai/crm_syd_1/main_page_processing_service/DataBucketingUtils.py:287: FutureWarning: The frame.append method is deprecated and will be removed from pandas in a future version. Use pandas.concat instead.\n",
      "  new_horizontal_note_df = new_horizontal_note_df.append(tmp_df, ignore_index=True)\n",
      "/home/jayesh/mgs_ai/crm_syd_1/main_page_processing_service/DataBucketingUtils.py:287: FutureWarning: The frame.append method is deprecated and will be removed from pandas in a future version. Use pandas.concat instead.\n",
      "  new_horizontal_note_df = new_horizontal_note_df.append(tmp_df, ignore_index=True)\n",
      "/home/jayesh/mgs_ai/crm_syd_1/main_page_processing_service/DataBucketingUtils.py:287: FutureWarning: The frame.append method is deprecated and will be removed from pandas in a future version. Use pandas.concat instead.\n",
      "  new_horizontal_note_df = new_horizontal_note_df.append(tmp_df, ignore_index=True)\n",
      "/home/jayesh/mgs_ai/crm_syd_1/main_page_processing_service/DataBucketingUtils.py:287: FutureWarning: The frame.append method is deprecated and will be removed from pandas in a future version. Use pandas.concat instead.\n",
      "  new_horizontal_note_df = new_horizontal_note_df.append(tmp_df, ignore_index=True)\n",
      "/home/jayesh/mgs_ai/crm_syd_1/main_page_processing_service/DataBucketingUtils.py:287: FutureWarning: The frame.append method is deprecated and will be removed from pandas in a future version. Use pandas.concat instead.\n",
      "  new_horizontal_note_df = new_horizontal_note_df.append(tmp_df, ignore_index=True)\n",
      "/home/jayesh/mgs_ai/crm_syd_1/main_page_processing_service/DataBucketingUtils.py:287: FutureWarning: The frame.append method is deprecated and will be removed from pandas in a future version. Use pandas.concat instead.\n",
      "  new_horizontal_note_df = new_horizontal_note_df.append(tmp_df, ignore_index=True)\n",
      "/home/jayesh/mgs_ai/crm_syd_1/main_page_processing_service/DataBucketingUtils.py:287: FutureWarning: The frame.append method is deprecated and will be removed from pandas in a future version. Use pandas.concat instead.\n",
      "  new_horizontal_note_df = new_horizontal_note_df.append(tmp_df, ignore_index=True)\n",
      "/home/jayesh/mgs_ai/crm_syd_1/main_page_processing_service/DataBucketingUtils.py:287: FutureWarning: The frame.append method is deprecated and will be removed from pandas in a future version. Use pandas.concat instead.\n",
      "  new_horizontal_note_df = new_horizontal_note_df.append(tmp_df, ignore_index=True)\n",
      "/home/jayesh/mgs_ai/crm_syd_1/main_page_processing_service/DataBucketingUtils.py:287: FutureWarning: The frame.append method is deprecated and will be removed from pandas in a future version. Use pandas.concat instead.\n",
      "  new_horizontal_note_df = new_horizontal_note_df.append(tmp_df, ignore_index=True)\n",
      "/home/jayesh/mgs_ai/crm_syd_1/main_page_processing_service/DataBucketingUtils.py:287: FutureWarning: The frame.append method is deprecated and will be removed from pandas in a future version. Use pandas.concat instead.\n",
      "  new_horizontal_note_df = new_horizontal_note_df.append(tmp_df, ignore_index=True)\n",
      "/home/jayesh/mgs_ai/crm_syd_1/main_page_processing_service/DataBucketingUtils.py:287: FutureWarning: The frame.append method is deprecated and will be removed from pandas in a future version. Use pandas.concat instead.\n",
      "  new_horizontal_note_df = new_horizontal_note_df.append(tmp_df, ignore_index=True)\n",
      "/home/jayesh/mgs_ai/crm_syd_1/main_page_processing_service/DataBucketingUtils.py:287: FutureWarning: The frame.append method is deprecated and will be removed from pandas in a future version. Use pandas.concat instead.\n",
      "  new_horizontal_note_df = new_horizontal_note_df.append(tmp_df, ignore_index=True)\n",
      "/home/jayesh/mgs_ai/crm_syd_1/main_page_processing_service/DataBucketingUtils.py:287: FutureWarning: The frame.append method is deprecated and will be removed from pandas in a future version. Use pandas.concat instead.\n",
      "  new_horizontal_note_df = new_horizontal_note_df.append(tmp_df, ignore_index=True)\n",
      "/home/jayesh/mgs_ai/crm_syd_1/main_page_processing_service/DataBucketingUtils.py:287: FutureWarning: The frame.append method is deprecated and will be removed from pandas in a future version. Use pandas.concat instead.\n",
      "  new_horizontal_note_df = new_horizontal_note_df.append(tmp_df, ignore_index=True)\n",
      "/home/jayesh/mgs_ai/crm_syd_1/main_page_processing_service/DataBucketingUtils.py:287: FutureWarning: The frame.append method is deprecated and will be removed from pandas in a future version. Use pandas.concat instead.\n",
      "  new_horizontal_note_df = new_horizontal_note_df.append(tmp_df, ignore_index=True)\n",
      "/home/jayesh/mgs_ai/crm_syd_1/main_page_processing_service/DataBucketingUtils.py:287: FutureWarning: The frame.append method is deprecated and will be removed from pandas in a future version. Use pandas.concat instead.\n",
      "  new_horizontal_note_df = new_horizontal_note_df.append(tmp_df, ignore_index=True)\n",
      "/home/jayesh/mgs_ai/crm_syd_1/main_page_processing_service/DataBucketingUtils.py:287: FutureWarning: The frame.append method is deprecated and will be removed from pandas in a future version. Use pandas.concat instead.\n",
      "  new_horizontal_note_df = new_horizontal_note_df.append(tmp_df, ignore_index=True)\n",
      "/home/jayesh/mgs_ai/crm_syd_1/main_page_processing_service/DataBucketingUtils.py:287: FutureWarning: The frame.append method is deprecated and will be removed from pandas in a future version. Use pandas.concat instead.\n",
      "  new_horizontal_note_df = new_horizontal_note_df.append(tmp_df, ignore_index=True)\n",
      "/home/jayesh/mgs_ai/crm_syd_1/main_page_processing_service/DataBucketingUtils.py:287: FutureWarning: The frame.append method is deprecated and will be removed from pandas in a future version. Use pandas.concat instead.\n",
      "  new_horizontal_note_df = new_horizontal_note_df.append(tmp_df, ignore_index=True)\n",
      "/home/jayesh/mgs_ai/crm_syd_1/main_page_processing_service/DataBucketingUtils.py:287: FutureWarning: The frame.append method is deprecated and will be removed from pandas in a future version. Use pandas.concat instead.\n",
      "  new_horizontal_note_df = new_horizontal_note_df.append(tmp_df, ignore_index=True)\n",
      "/home/jayesh/mgs_ai/crm_syd_1/main_page_processing_service/DataBucketingUtils.py:287: FutureWarning: The frame.append method is deprecated and will be removed from pandas in a future version. Use pandas.concat instead.\n",
      "  new_horizontal_note_df = new_horizontal_note_df.append(tmp_df, ignore_index=True)\n",
      "/home/jayesh/mgs_ai/crm_syd_1/main_page_processing_service/DataBucketingUtils.py:287: FutureWarning: The frame.append method is deprecated and will be removed from pandas in a future version. Use pandas.concat instead.\n",
      "  new_horizontal_note_df = new_horizontal_note_df.append(tmp_df, ignore_index=True)\n",
      "/home/jayesh/mgs_ai/crm_syd_1/main_page_processing_service/DataBucketingUtils.py:287: FutureWarning: The frame.append method is deprecated and will be removed from pandas in a future version. Use pandas.concat instead.\n",
      "  new_horizontal_note_df = new_horizontal_note_df.append(tmp_df, ignore_index=True)\n",
      "/home/jayesh/mgs_ai/crm_syd_1/main_page_processing_service/DataBucketingUtils.py:287: FutureWarning: The frame.append method is deprecated and will be removed from pandas in a future version. Use pandas.concat instead.\n",
      "  new_horizontal_note_df = new_horizontal_note_df.append(tmp_df, ignore_index=True)\n",
      "/home/jayesh/mgs_ai/crm_syd_1/main_page_processing_service/DataBucketingUtils.py:287: FutureWarning: The frame.append method is deprecated and will be removed from pandas in a future version. Use pandas.concat instead.\n",
      "  new_horizontal_note_df = new_horizontal_note_df.append(tmp_df, ignore_index=True)\n",
      "/home/jayesh/mgs_ai/crm_syd_1/main_page_processing_service/DataBucketingUtils.py:287: FutureWarning: The frame.append method is deprecated and will be removed from pandas in a future version. Use pandas.concat instead.\n",
      "  new_horizontal_note_df = new_horizontal_note_df.append(tmp_df, ignore_index=True)\n",
      "/home/jayesh/mgs_ai/crm_syd_1/main_page_processing_service/DataBucketingUtils.py:287: FutureWarning: The frame.append method is deprecated and will be removed from pandas in a future version. Use pandas.concat instead.\n",
      "  new_horizontal_note_df = new_horizontal_note_df.append(tmp_df, ignore_index=True)\n",
      "/home/jayesh/mgs_ai/crm_syd_1/main_page_processing_service/DataBucketingUtils.py:287: FutureWarning: The frame.append method is deprecated and will be removed from pandas in a future version. Use pandas.concat instead.\n",
      "  new_horizontal_note_df = new_horizontal_note_df.append(tmp_df, ignore_index=True)\n",
      "/home/jayesh/mgs_ai/crm_syd_1/main_page_processing_service/DataBucketingUtils.py:287: FutureWarning: The frame.append method is deprecated and will be removed from pandas in a future version. Use pandas.concat instead.\n",
      "  new_horizontal_note_df = new_horizontal_note_df.append(tmp_df, ignore_index=True)\n",
      "/home/jayesh/mgs_ai/crm_syd_1/main_page_processing_service/DataBucketingUtils.py:287: FutureWarning: The frame.append method is deprecated and will be removed from pandas in a future version. Use pandas.concat instead.\n",
      "  new_horizontal_note_df = new_horizontal_note_df.append(tmp_df, ignore_index=True)\n",
      "/home/jayesh/mgs_ai/crm_syd_1/main_page_processing_service/DataBucketingUtils.py:287: FutureWarning: The frame.append method is deprecated and will be removed from pandas in a future version. Use pandas.concat instead.\n",
      "  new_horizontal_note_df = new_horizontal_note_df.append(tmp_df, ignore_index=True)\n",
      "/home/jayesh/mgs_ai/crm_syd_1/main_page_processing_service/DataBucketingUtils.py:287: FutureWarning: The frame.append method is deprecated and will be removed from pandas in a future version. Use pandas.concat instead.\n",
      "  new_horizontal_note_df = new_horizontal_note_df.append(tmp_df, ignore_index=True)\n",
      "/home/jayesh/mgs_ai/crm_syd_1/main_page_processing_service/DataBucketingUtils.py:287: FutureWarning: The frame.append method is deprecated and will be removed from pandas in a future version. Use pandas.concat instead.\n",
      "  new_horizontal_note_df = new_horizontal_note_df.append(tmp_df, ignore_index=True)\n",
      "/home/jayesh/mgs_ai/crm_syd_1/main_page_processing_service/DataBucketingUtils.py:287: FutureWarning: The frame.append method is deprecated and will be removed from pandas in a future version. Use pandas.concat instead.\n",
      "  new_horizontal_note_df = new_horizontal_note_df.append(tmp_df, ignore_index=True)\n",
      "/home/jayesh/mgs_ai/crm_syd_1/main_page_processing_service/DataBucketingUtils.py:287: FutureWarning: The frame.append method is deprecated and will be removed from pandas in a future version. Use pandas.concat instead.\n",
      "  new_horizontal_note_df = new_horizontal_note_df.append(tmp_df, ignore_index=True)\n",
      "/home/jayesh/mgs_ai/crm_syd_1/main_page_processing_service/DataBucketingUtils.py:287: FutureWarning: The frame.append method is deprecated and will be removed from pandas in a future version. Use pandas.concat instead.\n",
      "  new_horizontal_note_df = new_horizontal_note_df.append(tmp_df, ignore_index=True)\n",
      "/home/jayesh/mgs_ai/crm_syd_1/main_page_processing_service/DataBucketingUtils.py:287: FutureWarning: The frame.append method is deprecated and will be removed from pandas in a future version. Use pandas.concat instead.\n",
      "  new_horizontal_note_df = new_horizontal_note_df.append(tmp_df, ignore_index=True)\n",
      "/home/jayesh/mgs_ai/crm_syd_1/main_page_processing_service/DataBucketingUtils.py:287: FutureWarning: The frame.append method is deprecated and will be removed from pandas in a future version. Use pandas.concat instead.\n",
      "  new_horizontal_note_df = new_horizontal_note_df.append(tmp_df, ignore_index=True)\n",
      "/home/jayesh/mgs_ai/crm_syd_1/main_page_processing_service/DataBucketingUtils.py:287: FutureWarning: The frame.append method is deprecated and will be removed from pandas in a future version. Use pandas.concat instead.\n",
      "  new_horizontal_note_df = new_horizontal_note_df.append(tmp_df, ignore_index=True)\n",
      "/home/jayesh/mgs_ai/crm_syd_1/main_page_processing_service/DataBucketingUtils.py:287: FutureWarning: The frame.append method is deprecated and will be removed from pandas in a future version. Use pandas.concat instead.\n",
      "  new_horizontal_note_df = new_horizontal_note_df.append(tmp_df, ignore_index=True)\n",
      "/home/jayesh/mgs_ai/crm_syd_1/main_page_processing_service/DataBucketingUtils.py:287: FutureWarning: The frame.append method is deprecated and will be removed from pandas in a future version. Use pandas.concat instead.\n",
      "  new_horizontal_note_df = new_horizontal_note_df.append(tmp_df, ignore_index=True)\n",
      "/home/jayesh/mgs_ai/crm_syd_1/main_page_processing_service/DataBucketingUtils.py:287: FutureWarning: The frame.append method is deprecated and will be removed from pandas in a future version. Use pandas.concat instead.\n",
      "  new_horizontal_note_df = new_horizontal_note_df.append(tmp_df, ignore_index=True)\n",
      "/home/jayesh/mgs_ai/crm_syd_1/main_page_processing_service/DataBucketingUtils.py:287: FutureWarning: The frame.append method is deprecated and will be removed from pandas in a future version. Use pandas.concat instead.\n",
      "  new_horizontal_note_df = new_horizontal_note_df.append(tmp_df, ignore_index=True)\n",
      "/home/jayesh/mgs_ai/crm_syd_1/main_page_processing_service/DataBucketingUtils.py:287: FutureWarning: The frame.append method is deprecated and will be removed from pandas in a future version. Use pandas.concat instead.\n",
      "  new_horizontal_note_df = new_horizontal_note_df.append(tmp_df, ignore_index=True)\n",
      "/home/jayesh/mgs_ai/crm_syd_1/main_page_processing_service/DataBucketingUtils.py:287: FutureWarning: The frame.append method is deprecated and will be removed from pandas in a future version. Use pandas.concat instead.\n",
      "  new_horizontal_note_df = new_horizontal_note_df.append(tmp_df, ignore_index=True)\n",
      "/home/jayesh/mgs_ai/crm_syd_1/main_page_processing_service/DataBucketingUtils.py:287: FutureWarning: The frame.append method is deprecated and will be removed from pandas in a future version. Use pandas.concat instead.\n",
      "  new_horizontal_note_df = new_horizontal_note_df.append(tmp_df, ignore_index=True)\n",
      "/home/jayesh/mgs_ai/crm_syd_1/main_page_processing_service/DataBucketingUtils.py:287: FutureWarning: The frame.append method is deprecated and will be removed from pandas in a future version. Use pandas.concat instead.\n",
      "  new_horizontal_note_df = new_horizontal_note_df.append(tmp_df, ignore_index=True)\n",
      "/home/jayesh/mgs_ai/crm_syd_1/main_page_processing_service/DataBucketingUtils.py:287: FutureWarning: The frame.append method is deprecated and will be removed from pandas in a future version. Use pandas.concat instead.\n",
      "  new_horizontal_note_df = new_horizontal_note_df.append(tmp_df, ignore_index=True)\n",
      "/home/jayesh/mgs_ai/crm_syd_1/main_page_processing_service/DataBucketingUtils.py:287: FutureWarning: The frame.append method is deprecated and will be removed from pandas in a future version. Use pandas.concat instead.\n",
      "  new_horizontal_note_df = new_horizontal_note_df.append(tmp_df, ignore_index=True)\n",
      "/home/jayesh/mgs_ai/crm_syd_1/main_page_processing_service/DataBucketingUtils.py:287: FutureWarning: The frame.append method is deprecated and will be removed from pandas in a future version. Use pandas.concat instead.\n",
      "  new_horizontal_note_df = new_horizontal_note_df.append(tmp_df, ignore_index=True)\n",
      "/home/jayesh/mgs_ai/crm_syd_1/main_page_processing_service/DataBucketingUtils.py:287: FutureWarning: The frame.append method is deprecated and will be removed from pandas in a future version. Use pandas.concat instead.\n",
      "  new_horizontal_note_df = new_horizontal_note_df.append(tmp_df, ignore_index=True)\n",
      "/home/jayesh/mgs_ai/crm_syd_1/main_page_processing_service/DataBucketingUtils.py:287: FutureWarning: The frame.append method is deprecated and will be removed from pandas in a future version. Use pandas.concat instead.\n",
      "  new_horizontal_note_df = new_horizontal_note_df.append(tmp_df, ignore_index=True)\n",
      "/home/jayesh/mgs_ai/crm_syd_1/main_page_processing_service/DataBucketingUtils.py:287: FutureWarning: The frame.append method is deprecated and will be removed from pandas in a future version. Use pandas.concat instead.\n",
      "  new_horizontal_note_df = new_horizontal_note_df.append(tmp_df, ignore_index=True)\n",
      "/home/jayesh/mgs_ai/crm_syd_1/main_page_processing_service/DataBucketingUtils.py:287: FutureWarning: The frame.append method is deprecated and will be removed from pandas in a future version. Use pandas.concat instead.\n",
      "  new_horizontal_note_df = new_horizontal_note_df.append(tmp_df, ignore_index=True)\n",
      "/home/jayesh/mgs_ai/crm_syd_1/main_page_processing_service/DataBucketingUtils.py:266: FutureWarning: The frame.append method is deprecated and will be removed from pandas in a future version. Use pandas.concat instead.\n",
      "  temp_horizontal_df = temp_horizontal_df.append(horizontal_note_df)\n",
      "/home/jayesh/mgs_ai/crm_syd_1/main_page_processing_service/DataBucketingUtils.py:287: FutureWarning: The frame.append method is deprecated and will be removed from pandas in a future version. Use pandas.concat instead.\n",
      "  new_horizontal_note_df = new_horizontal_note_df.append(tmp_df, ignore_index=True)\n",
      "/home/jayesh/mgs_ai/crm_syd_1/main_page_processing_service/DataBucketingUtils.py:287: FutureWarning: The frame.append method is deprecated and will be removed from pandas in a future version. Use pandas.concat instead.\n",
      "  new_horizontal_note_df = new_horizontal_note_df.append(tmp_df, ignore_index=True)\n",
      "/home/jayesh/mgs_ai/crm_syd_1/main_page_processing_service/DataBucketingUtils.py:287: FutureWarning: The frame.append method is deprecated and will be removed from pandas in a future version. Use pandas.concat instead.\n",
      "  new_horizontal_note_df = new_horizontal_note_df.append(tmp_df, ignore_index=True)\n",
      "/home/jayesh/mgs_ai/crm_syd_1/main_page_processing_service/DataBucketingUtils.py:266: FutureWarning: The frame.append method is deprecated and will be removed from pandas in a future version. Use pandas.concat instead.\n",
      "  temp_horizontal_df = temp_horizontal_df.append(horizontal_note_df)\n",
      "/home/jayesh/mgs_ai/crm_syd_1/main_page_processing_service/DataBucketingUtils.py:287: FutureWarning: The frame.append method is deprecated and will be removed from pandas in a future version. Use pandas.concat instead.\n",
      "  new_horizontal_note_df = new_horizontal_note_df.append(tmp_df, ignore_index=True)\n",
      "/home/jayesh/mgs_ai/crm_syd_1/main_page_processing_service/DataBucketingUtils.py:287: FutureWarning: The frame.append method is deprecated and will be removed from pandas in a future version. Use pandas.concat instead.\n",
      "  new_horizontal_note_df = new_horizontal_note_df.append(tmp_df, ignore_index=True)\n",
      "/home/jayesh/mgs_ai/crm_syd_1/main_page_processing_service/DataBucketingUtils.py:287: FutureWarning: The frame.append method is deprecated and will be removed from pandas in a future version. Use pandas.concat instead.\n",
      "  new_horizontal_note_df = new_horizontal_note_df.append(tmp_df, ignore_index=True)\n",
      "/home/jayesh/mgs_ai/crm_syd_1/main_page_processing_service/DataBucketingUtils.py:287: FutureWarning: The frame.append method is deprecated and will be removed from pandas in a future version. Use pandas.concat instead.\n",
      "  new_horizontal_note_df = new_horizontal_note_df.append(tmp_df, ignore_index=True)\n",
      "/home/jayesh/mgs_ai/crm_syd_1/main_page_processing_service/DataBucketingUtils.py:287: FutureWarning: The frame.append method is deprecated and will be removed from pandas in a future version. Use pandas.concat instead.\n",
      "  new_horizontal_note_df = new_horizontal_note_df.append(tmp_df, ignore_index=True)\n",
      "/home/jayesh/mgs_ai/crm_syd_1/main_page_processing_service/DataBucketingUtils.py:287: FutureWarning: The frame.append method is deprecated and will be removed from pandas in a future version. Use pandas.concat instead.\n",
      "  new_horizontal_note_df = new_horizontal_note_df.append(tmp_df, ignore_index=True)\n",
      "/home/jayesh/mgs_ai/crm_syd_1/main_page_processing_service/DataBucketingUtils.py:287: FutureWarning: The frame.append method is deprecated and will be removed from pandas in a future version. Use pandas.concat instead.\n",
      "  new_horizontal_note_df = new_horizontal_note_df.append(tmp_df, ignore_index=True)\n",
      "/home/jayesh/mgs_ai/crm_syd_1/main_page_processing_service/DataBucketingUtils.py:287: FutureWarning: The frame.append method is deprecated and will be removed from pandas in a future version. Use pandas.concat instead.\n",
      "  new_horizontal_note_df = new_horizontal_note_df.append(tmp_df, ignore_index=True)\n",
      "/home/jayesh/mgs_ai/crm_syd_1/main_page_processing_service/DataBucketingUtils.py:287: FutureWarning: The frame.append method is deprecated and will be removed from pandas in a future version. Use pandas.concat instead.\n",
      "  new_horizontal_note_df = new_horizontal_note_df.append(tmp_df, ignore_index=True)\n",
      "/home/jayesh/mgs_ai/crm_syd_1/main_page_processing_service/DataBucketingUtils.py:287: FutureWarning: The frame.append method is deprecated and will be removed from pandas in a future version. Use pandas.concat instead.\n",
      "  new_horizontal_note_df = new_horizontal_note_df.append(tmp_df, ignore_index=True)\n",
      "/home/jayesh/mgs_ai/crm_syd_1/main_page_processing_service/DataBucketingUtils.py:287: FutureWarning: The frame.append method is deprecated and will be removed from pandas in a future version. Use pandas.concat instead.\n",
      "  new_horizontal_note_df = new_horizontal_note_df.append(tmp_df, ignore_index=True)\n",
      "/home/jayesh/mgs_ai/crm_syd_1/main_page_processing_service/DataBucketingUtils.py:287: FutureWarning: The frame.append method is deprecated and will be removed from pandas in a future version. Use pandas.concat instead.\n",
      "  new_horizontal_note_df = new_horizontal_note_df.append(tmp_df, ignore_index=True)\n",
      "/home/jayesh/mgs_ai/crm_syd_1/main_page_processing_service/DataBucketingUtils.py:287: FutureWarning: The frame.append method is deprecated and will be removed from pandas in a future version. Use pandas.concat instead.\n",
      "  new_horizontal_note_df = new_horizontal_note_df.append(tmp_df, ignore_index=True)\n",
      "/home/jayesh/mgs_ai/crm_syd_1/main_page_processing_service/DataBucketingUtils.py:287: FutureWarning: The frame.append method is deprecated and will be removed from pandas in a future version. Use pandas.concat instead.\n",
      "  new_horizontal_note_df = new_horizontal_note_df.append(tmp_df, ignore_index=True)\n",
      "/home/jayesh/mgs_ai/crm_syd_1/main_page_processing_service/DataBucketingUtils.py:287: FutureWarning: The frame.append method is deprecated and will be removed from pandas in a future version. Use pandas.concat instead.\n",
      "  new_horizontal_note_df = new_horizontal_note_df.append(tmp_df, ignore_index=True)\n",
      "/home/jayesh/mgs_ai/crm_syd_1/main_page_processing_service/DataBucketingUtils.py:287: FutureWarning: The frame.append method is deprecated and will be removed from pandas in a future version. Use pandas.concat instead.\n",
      "  new_horizontal_note_df = new_horizontal_note_df.append(tmp_df, ignore_index=True)\n",
      "/home/jayesh/mgs_ai/crm_syd_1/main_page_processing_service/DataBucketingUtils.py:287: FutureWarning: The frame.append method is deprecated and will be removed from pandas in a future version. Use pandas.concat instead.\n",
      "  new_horizontal_note_df = new_horizontal_note_df.append(tmp_df, ignore_index=True)\n",
      "/home/jayesh/mgs_ai/crm_syd_1/main_page_processing_service/DataBucketingUtils.py:287: FutureWarning: The frame.append method is deprecated and will be removed from pandas in a future version. Use pandas.concat instead.\n",
      "  new_horizontal_note_df = new_horizontal_note_df.append(tmp_df, ignore_index=True)\n",
      "/home/jayesh/mgs_ai/crm_syd_1/main_page_processing_service/DataBucketingUtils.py:287: FutureWarning: The frame.append method is deprecated and will be removed from pandas in a future version. Use pandas.concat instead.\n",
      "  new_horizontal_note_df = new_horizontal_note_df.append(tmp_df, ignore_index=True)\n",
      "/home/jayesh/mgs_ai/crm_syd_1/main_page_processing_service/DataBucketingUtils.py:287: FutureWarning: The frame.append method is deprecated and will be removed from pandas in a future version. Use pandas.concat instead.\n",
      "  new_horizontal_note_df = new_horizontal_note_df.append(tmp_df, ignore_index=True)\n",
      "/home/jayesh/mgs_ai/crm_syd_1/main_page_processing_service/DataBucketingUtils.py:287: FutureWarning: The frame.append method is deprecated and will be removed from pandas in a future version. Use pandas.concat instead.\n",
      "  new_horizontal_note_df = new_horizontal_note_df.append(tmp_df, ignore_index=True)\n",
      "/home/jayesh/mgs_ai/crm_syd_1/main_page_processing_service/DataBucketingUtils.py:287: FutureWarning: The frame.append method is deprecated and will be removed from pandas in a future version. Use pandas.concat instead.\n",
      "  new_horizontal_note_df = new_horizontal_note_df.append(tmp_df, ignore_index=True)\n",
      "/home/jayesh/mgs_ai/crm_syd_1/main_page_processing_service/DataBucketingUtils.py:287: FutureWarning: The frame.append method is deprecated and will be removed from pandas in a future version. Use pandas.concat instead.\n",
      "  new_horizontal_note_df = new_horizontal_note_df.append(tmp_df, ignore_index=True)\n",
      "/home/jayesh/mgs_ai/crm_syd_1/main_page_processing_service/DataBucketingUtils.py:287: FutureWarning: The frame.append method is deprecated and will be removed from pandas in a future version. Use pandas.concat instead.\n",
      "  new_horizontal_note_df = new_horizontal_note_df.append(tmp_df, ignore_index=True)\n",
      "/home/jayesh/mgs_ai/crm_syd_1/main_page_processing_service/DataBucketingUtils.py:287: FutureWarning: The frame.append method is deprecated and will be removed from pandas in a future version. Use pandas.concat instead.\n",
      "  new_horizontal_note_df = new_horizontal_note_df.append(tmp_df, ignore_index=True)\n",
      "/home/jayesh/mgs_ai/crm_syd_1/main_page_processing_service/DataBucketingUtils.py:287: FutureWarning: The frame.append method is deprecated and will be removed from pandas in a future version. Use pandas.concat instead.\n",
      "  new_horizontal_note_df = new_horizontal_note_df.append(tmp_df, ignore_index=True)\n",
      "/home/jayesh/mgs_ai/crm_syd_1/main_page_processing_service/DataBucketingUtils.py:287: FutureWarning: The frame.append method is deprecated and will be removed from pandas in a future version. Use pandas.concat instead.\n",
      "  new_horizontal_note_df = new_horizontal_note_df.append(tmp_df, ignore_index=True)\n",
      "/home/jayesh/mgs_ai/crm_syd_1/main_page_processing_service/DataBucketingUtils.py:287: FutureWarning: The frame.append method is deprecated and will be removed from pandas in a future version. Use pandas.concat instead.\n",
      "  new_horizontal_note_df = new_horizontal_note_df.append(tmp_df, ignore_index=True)\n",
      "/home/jayesh/mgs_ai/crm_syd_1/main_page_processing_service/DataBucketingUtils.py:287: FutureWarning: The frame.append method is deprecated and will be removed from pandas in a future version. Use pandas.concat instead.\n",
      "  new_horizontal_note_df = new_horizontal_note_df.append(tmp_df, ignore_index=True)\n",
      "/home/jayesh/mgs_ai/crm_syd_1/main_page_processing_service/DataBucketingUtils.py:287: FutureWarning: The frame.append method is deprecated and will be removed from pandas in a future version. Use pandas.concat instead.\n",
      "  new_horizontal_note_df = new_horizontal_note_df.append(tmp_df, ignore_index=True)\n",
      "/home/jayesh/mgs_ai/crm_syd_1/main_page_processing_service/DataBucketingUtils.py:287: FutureWarning: The frame.append method is deprecated and will be removed from pandas in a future version. Use pandas.concat instead.\n",
      "  new_horizontal_note_df = new_horizontal_note_df.append(tmp_df, ignore_index=True)\n",
      "/home/jayesh/mgs_ai/crm_syd_1/main_page_processing_service/DataBucketingUtils.py:287: FutureWarning: The frame.append method is deprecated and will be removed from pandas in a future version. Use pandas.concat instead.\n",
      "  new_horizontal_note_df = new_horizontal_note_df.append(tmp_df, ignore_index=True)\n",
      "/home/jayesh/mgs_ai/crm_syd_1/main_page_processing_service/DataBucketingUtils.py:287: FutureWarning: The frame.append method is deprecated and will be removed from pandas in a future version. Use pandas.concat instead.\n",
      "  new_horizontal_note_df = new_horizontal_note_df.append(tmp_df, ignore_index=True)\n",
      "/home/jayesh/mgs_ai/crm_syd_1/main_page_processing_service/DataBucketingUtils.py:287: FutureWarning: The frame.append method is deprecated and will be removed from pandas in a future version. Use pandas.concat instead.\n",
      "  new_horizontal_note_df = new_horizontal_note_df.append(tmp_df, ignore_index=True)\n",
      "/home/jayesh/mgs_ai/crm_syd_1/main_page_processing_service/DataBucketingUtils.py:287: FutureWarning: The frame.append method is deprecated and will be removed from pandas in a future version. Use pandas.concat instead.\n",
      "  new_horizontal_note_df = new_horizontal_note_df.append(tmp_df, ignore_index=True)\n",
      "/home/jayesh/mgs_ai/crm_syd_1/main_page_processing_service/DataBucketingUtils.py:287: FutureWarning: The frame.append method is deprecated and will be removed from pandas in a future version. Use pandas.concat instead.\n",
      "  new_horizontal_note_df = new_horizontal_note_df.append(tmp_df, ignore_index=True)\n",
      "/home/jayesh/mgs_ai/crm_syd_1/main_page_processing_service/DataBucketingUtils.py:287: FutureWarning: The frame.append method is deprecated and will be removed from pandas in a future version. Use pandas.concat instead.\n",
      "  new_horizontal_note_df = new_horizontal_note_df.append(tmp_df, ignore_index=True)\n",
      "/home/jayesh/mgs_ai/crm_syd_1/main_page_processing_service/DataBucketingUtils.py:287: FutureWarning: The frame.append method is deprecated and will be removed from pandas in a future version. Use pandas.concat instead.\n",
      "  new_horizontal_note_df = new_horizontal_note_df.append(tmp_df, ignore_index=True)\n",
      "/home/jayesh/mgs_ai/crm_syd_1/main_page_processing_service/DataBucketingUtils.py:287: FutureWarning: The frame.append method is deprecated and will be removed from pandas in a future version. Use pandas.concat instead.\n",
      "  new_horizontal_note_df = new_horizontal_note_df.append(tmp_df, ignore_index=True)\n",
      "/home/jayesh/mgs_ai/crm_syd_1/main_page_processing_service/DataBucketingUtils.py:287: FutureWarning: The frame.append method is deprecated and will be removed from pandas in a future version. Use pandas.concat instead.\n",
      "  new_horizontal_note_df = new_horizontal_note_df.append(tmp_df, ignore_index=True)\n",
      "/home/jayesh/mgs_ai/crm_syd_1/main_page_processing_service/DataBucketingUtils.py:287: FutureWarning: The frame.append method is deprecated and will be removed from pandas in a future version. Use pandas.concat instead.\n",
      "  new_horizontal_note_df = new_horizontal_note_df.append(tmp_df, ignore_index=True)\n",
      "/home/jayesh/mgs_ai/crm_syd_1/main_page_processing_service/DataBucketingUtils.py:287: FutureWarning: The frame.append method is deprecated and will be removed from pandas in a future version. Use pandas.concat instead.\n",
      "  new_horizontal_note_df = new_horizontal_note_df.append(tmp_df, ignore_index=True)\n",
      "/home/jayesh/mgs_ai/crm_syd_1/main_page_processing_service/DataBucketingUtils.py:287: FutureWarning: The frame.append method is deprecated and will be removed from pandas in a future version. Use pandas.concat instead.\n",
      "  new_horizontal_note_df = new_horizontal_note_df.append(tmp_df, ignore_index=True)\n",
      "/home/jayesh/mgs_ai/crm_syd_1/main_page_processing_service/DataBucketingUtils.py:287: FutureWarning: The frame.append method is deprecated and will be removed from pandas in a future version. Use pandas.concat instead.\n",
      "  new_horizontal_note_df = new_horizontal_note_df.append(tmp_df, ignore_index=True)\n",
      "/home/jayesh/mgs_ai/crm_syd_1/main_page_processing_service/DataBucketingUtils.py:287: FutureWarning: The frame.append method is deprecated and will be removed from pandas in a future version. Use pandas.concat instead.\n",
      "  new_horizontal_note_df = new_horizontal_note_df.append(tmp_df, ignore_index=True)\n",
      "/home/jayesh/mgs_ai/crm_syd_1/main_page_processing_service/DataBucketingUtils.py:287: FutureWarning: The frame.append method is deprecated and will be removed from pandas in a future version. Use pandas.concat instead.\n",
      "  new_horizontal_note_df = new_horizontal_note_df.append(tmp_df, ignore_index=True)\n",
      "/home/jayesh/mgs_ai/crm_syd_1/main_page_processing_service/DataBucketingUtils.py:287: FutureWarning: The frame.append method is deprecated and will be removed from pandas in a future version. Use pandas.concat instead.\n",
      "  new_horizontal_note_df = new_horizontal_note_df.append(tmp_df, ignore_index=True)\n",
      "/home/jayesh/mgs_ai/crm_syd_1/main_page_processing_service/DataBucketingUtils.py:287: FutureWarning: The frame.append method is deprecated and will be removed from pandas in a future version. Use pandas.concat instead.\n",
      "  new_horizontal_note_df = new_horizontal_note_df.append(tmp_df, ignore_index=True)\n",
      "/home/jayesh/mgs_ai/crm_syd_1/main_page_processing_service/DataBucketingUtils.py:287: FutureWarning: The frame.append method is deprecated and will be removed from pandas in a future version. Use pandas.concat instead.\n",
      "  new_horizontal_note_df = new_horizontal_note_df.append(tmp_df, ignore_index=True)\n",
      "/home/jayesh/mgs_ai/crm_syd_1/main_page_processing_service/DataBucketingUtils.py:287: FutureWarning: The frame.append method is deprecated and will be removed from pandas in a future version. Use pandas.concat instead.\n",
      "  new_horizontal_note_df = new_horizontal_note_df.append(tmp_df, ignore_index=True)\n",
      "/home/jayesh/mgs_ai/crm_syd_1/main_page_processing_service/DataBucketingUtils.py:287: FutureWarning: The frame.append method is deprecated and will be removed from pandas in a future version. Use pandas.concat instead.\n",
      "  new_horizontal_note_df = new_horizontal_note_df.append(tmp_df, ignore_index=True)\n",
      "/home/jayesh/mgs_ai/crm_syd_1/main_page_processing_service/DataBucketingUtils.py:287: FutureWarning: The frame.append method is deprecated and will be removed from pandas in a future version. Use pandas.concat instead.\n",
      "  new_horizontal_note_df = new_horizontal_note_df.append(tmp_df, ignore_index=True)\n",
      "/home/jayesh/mgs_ai/crm_syd_1/main_page_processing_service/DataBucketingUtils.py:287: FutureWarning: The frame.append method is deprecated and will be removed from pandas in a future version. Use pandas.concat instead.\n",
      "  new_horizontal_note_df = new_horizontal_note_df.append(tmp_df, ignore_index=True)\n",
      "/home/jayesh/mgs_ai/crm_syd_1/main_page_processing_service/DataBucketingUtils.py:287: FutureWarning: The frame.append method is deprecated and will be removed from pandas in a future version. Use pandas.concat instead.\n",
      "  new_horizontal_note_df = new_horizontal_note_df.append(tmp_df, ignore_index=True)\n",
      "/home/jayesh/mgs_ai/crm_syd_1/main_page_processing_service/DataBucketingUtils.py:287: FutureWarning: The frame.append method is deprecated and will be removed from pandas in a future version. Use pandas.concat instead.\n",
      "  new_horizontal_note_df = new_horizontal_note_df.append(tmp_df, ignore_index=True)\n",
      "/home/jayesh/mgs_ai/crm_syd_1/main_page_processing_service/DataBucketingUtils.py:287: FutureWarning: The frame.append method is deprecated and will be removed from pandas in a future version. Use pandas.concat instead.\n",
      "  new_horizontal_note_df = new_horizontal_note_df.append(tmp_df, ignore_index=True)\n",
      "/home/jayesh/mgs_ai/crm_syd_1/main_page_processing_service/DataBucketingUtils.py:287: FutureWarning: The frame.append method is deprecated and will be removed from pandas in a future version. Use pandas.concat instead.\n",
      "  new_horizontal_note_df = new_horizontal_note_df.append(tmp_df, ignore_index=True)\n",
      "/home/jayesh/mgs_ai/crm_syd_1/main_page_processing_service/DataBucketingUtils.py:287: FutureWarning: The frame.append method is deprecated and will be removed from pandas in a future version. Use pandas.concat instead.\n",
      "  new_horizontal_note_df = new_horizontal_note_df.append(tmp_df, ignore_index=True)\n",
      "/home/jayesh/mgs_ai/crm_syd_1/main_page_processing_service/DataBucketingUtils.py:287: FutureWarning: The frame.append method is deprecated and will be removed from pandas in a future version. Use pandas.concat instead.\n",
      "  new_horizontal_note_df = new_horizontal_note_df.append(tmp_df, ignore_index=True)\n",
      "/home/jayesh/mgs_ai/crm_syd_1/main_page_processing_service/DataBucketingUtils.py:287: FutureWarning: The frame.append method is deprecated and will be removed from pandas in a future version. Use pandas.concat instead.\n",
      "  new_horizontal_note_df = new_horizontal_note_df.append(tmp_df, ignore_index=True)\n",
      "/home/jayesh/mgs_ai/crm_syd_1/main_page_processing_service/DataBucketingUtils.py:287: FutureWarning: The frame.append method is deprecated and will be removed from pandas in a future version. Use pandas.concat instead.\n",
      "  new_horizontal_note_df = new_horizontal_note_df.append(tmp_df, ignore_index=True)\n",
      "/home/jayesh/mgs_ai/crm_syd_1/main_page_processing_service/DataBucketingUtils.py:287: FutureWarning: The frame.append method is deprecated and will be removed from pandas in a future version. Use pandas.concat instead.\n",
      "  new_horizontal_note_df = new_horizontal_note_df.append(tmp_df, ignore_index=True)\n",
      "/home/jayesh/mgs_ai/crm_syd_1/main_page_processing_service/DataBucketingUtils.py:287: FutureWarning: The frame.append method is deprecated and will be removed from pandas in a future version. Use pandas.concat instead.\n",
      "  new_horizontal_note_df = new_horizontal_note_df.append(tmp_df, ignore_index=True)\n",
      "/home/jayesh/mgs_ai/crm_syd_1/main_page_processing_service/DataBucketingUtils.py:287: FutureWarning: The frame.append method is deprecated and will be removed from pandas in a future version. Use pandas.concat instead.\n",
      "  new_horizontal_note_df = new_horizontal_note_df.append(tmp_df, ignore_index=True)\n",
      "/home/jayesh/mgs_ai/crm_syd_1/main_page_processing_service/DataBucketingUtils.py:287: FutureWarning: The frame.append method is deprecated and will be removed from pandas in a future version. Use pandas.concat instead.\n",
      "  new_horizontal_note_df = new_horizontal_note_df.append(tmp_df, ignore_index=True)\n",
      "/home/jayesh/mgs_ai/crm_syd_1/main_page_processing_service/DataBucketingUtils.py:287: FutureWarning: The frame.append method is deprecated and will be removed from pandas in a future version. Use pandas.concat instead.\n",
      "  new_horizontal_note_df = new_horizontal_note_df.append(tmp_df, ignore_index=True)\n",
      "/home/jayesh/mgs_ai/crm_syd_1/main_page_processing_service/DataBucketingUtils.py:287: FutureWarning: The frame.append method is deprecated and will be removed from pandas in a future version. Use pandas.concat instead.\n",
      "  new_horizontal_note_df = new_horizontal_note_df.append(tmp_df, ignore_index=True)\n",
      "/home/jayesh/mgs_ai/crm_syd_1/main_page_processing_service/DataBucketingUtils.py:287: FutureWarning: The frame.append method is deprecated and will be removed from pandas in a future version. Use pandas.concat instead.\n",
      "  new_horizontal_note_df = new_horizontal_note_df.append(tmp_df, ignore_index=True)\n",
      "/home/jayesh/mgs_ai/crm_syd_1/main_page_processing_service/DataBucketingUtils.py:287: FutureWarning: The frame.append method is deprecated and will be removed from pandas in a future version. Use pandas.concat instead.\n",
      "  new_horizontal_note_df = new_horizontal_note_df.append(tmp_df, ignore_index=True)\n",
      "/home/jayesh/mgs_ai/crm_syd_1/main_page_processing_service/DataBucketingUtils.py:287: FutureWarning: The frame.append method is deprecated and will be removed from pandas in a future version. Use pandas.concat instead.\n",
      "  new_horizontal_note_df = new_horizontal_note_df.append(tmp_df, ignore_index=True)\n",
      "/home/jayesh/mgs_ai/crm_syd_1/main_page_processing_service/DataBucketingUtils.py:287: FutureWarning: The frame.append method is deprecated and will be removed from pandas in a future version. Use pandas.concat instead.\n",
      "  new_horizontal_note_df = new_horizontal_note_df.append(tmp_df, ignore_index=True)\n",
      "/home/jayesh/mgs_ai/crm_syd_1/main_page_processing_service/DataBucketingUtils.py:287: FutureWarning: The frame.append method is deprecated and will be removed from pandas in a future version. Use pandas.concat instead.\n",
      "  new_horizontal_note_df = new_horizontal_note_df.append(tmp_df, ignore_index=True)\n",
      "/home/jayesh/mgs_ai/crm_syd_1/main_page_processing_service/DataBucketingUtils.py:287: FutureWarning: The frame.append method is deprecated and will be removed from pandas in a future version. Use pandas.concat instead.\n",
      "  new_horizontal_note_df = new_horizontal_note_df.append(tmp_df, ignore_index=True)\n",
      "/home/jayesh/mgs_ai/crm_syd_1/main_page_processing_service/DataBucketingUtils.py:287: FutureWarning: The frame.append method is deprecated and will be removed from pandas in a future version. Use pandas.concat instead.\n",
      "  new_horizontal_note_df = new_horizontal_note_df.append(tmp_df, ignore_index=True)\n",
      "/home/jayesh/mgs_ai/crm_syd_1/main_page_processing_service/DataBucketingUtils.py:287: FutureWarning: The frame.append method is deprecated and will be removed from pandas in a future version. Use pandas.concat instead.\n",
      "  new_horizontal_note_df = new_horizontal_note_df.append(tmp_df, ignore_index=True)\n",
      "/home/jayesh/mgs_ai/crm_syd_1/main_page_processing_service/DataBucketingUtils.py:287: FutureWarning: The frame.append method is deprecated and will be removed from pandas in a future version. Use pandas.concat instead.\n",
      "  new_horizontal_note_df = new_horizontal_note_df.append(tmp_df, ignore_index=True)\n",
      "/home/jayesh/mgs_ai/crm_syd_1/main_page_processing_service/DataBucketingUtils.py:287: FutureWarning: The frame.append method is deprecated and will be removed from pandas in a future version. Use pandas.concat instead.\n",
      "  new_horizontal_note_df = new_horizontal_note_df.append(tmp_df, ignore_index=True)\n",
      "/home/jayesh/mgs_ai/crm_syd_1/main_page_processing_service/DataBucketingUtils.py:287: FutureWarning: The frame.append method is deprecated and will be removed from pandas in a future version. Use pandas.concat instead.\n",
      "  new_horizontal_note_df = new_horizontal_note_df.append(tmp_df, ignore_index=True)\n",
      "/home/jayesh/mgs_ai/crm_syd_1/main_page_processing_service/DataBucketingUtils.py:287: FutureWarning: The frame.append method is deprecated and will be removed from pandas in a future version. Use pandas.concat instead.\n",
      "  new_horizontal_note_df = new_horizontal_note_df.append(tmp_df, ignore_index=True)\n",
      "/home/jayesh/mgs_ai/crm_syd_1/main_page_processing_service/DataBucketingUtils.py:287: FutureWarning: The frame.append method is deprecated and will be removed from pandas in a future version. Use pandas.concat instead.\n",
      "  new_horizontal_note_df = new_horizontal_note_df.append(tmp_df, ignore_index=True)\n",
      "/home/jayesh/mgs_ai/crm_syd_1/main_page_processing_service/DataBucketingUtils.py:287: FutureWarning: The frame.append method is deprecated and will be removed from pandas in a future version. Use pandas.concat instead.\n",
      "  new_horizontal_note_df = new_horizontal_note_df.append(tmp_df, ignore_index=True)\n",
      "/home/jayesh/mgs_ai/crm_syd_1/main_page_processing_service/DataBucketingUtils.py:287: FutureWarning: The frame.append method is deprecated and will be removed from pandas in a future version. Use pandas.concat instead.\n",
      "  new_horizontal_note_df = new_horizontal_note_df.append(tmp_df, ignore_index=True)\n",
      "/home/jayesh/mgs_ai/crm_syd_1/main_page_processing_service/DataBucketingUtils.py:287: FutureWarning: The frame.append method is deprecated and will be removed from pandas in a future version. Use pandas.concat instead.\n",
      "  new_horizontal_note_df = new_horizontal_note_df.append(tmp_df, ignore_index=True)\n",
      "/home/jayesh/mgs_ai/crm_syd_1/main_page_processing_service/DataBucketingUtils.py:287: FutureWarning: The frame.append method is deprecated and will be removed from pandas in a future version. Use pandas.concat instead.\n",
      "  new_horizontal_note_df = new_horizontal_note_df.append(tmp_df, ignore_index=True)\n",
      "/home/jayesh/mgs_ai/crm_syd_1/main_page_processing_service/DataBucketingUtils.py:287: FutureWarning: The frame.append method is deprecated and will be removed from pandas in a future version. Use pandas.concat instead.\n",
      "  new_horizontal_note_df = new_horizontal_note_df.append(tmp_df, ignore_index=True)\n",
      "/home/jayesh/mgs_ai/crm_syd_1/main_page_processing_service/DataBucketingUtils.py:287: FutureWarning: The frame.append method is deprecated and will be removed from pandas in a future version. Use pandas.concat instead.\n",
      "  new_horizontal_note_df = new_horizontal_note_df.append(tmp_df, ignore_index=True)\n",
      "/home/jayesh/mgs_ai/crm_syd_1/main_page_processing_service/DataBucketingUtils.py:287: FutureWarning: The frame.append method is deprecated and will be removed from pandas in a future version. Use pandas.concat instead.\n",
      "  new_horizontal_note_df = new_horizontal_note_df.append(tmp_df, ignore_index=True)\n",
      "/home/jayesh/mgs_ai/crm_syd_1/main_page_processing_service/DataBucketingUtils.py:287: FutureWarning: The frame.append method is deprecated and will be removed from pandas in a future version. Use pandas.concat instead.\n",
      "  new_horizontal_note_df = new_horizontal_note_df.append(tmp_df, ignore_index=True)\n",
      "/home/jayesh/mgs_ai/crm_syd_1/main_page_processing_service/DataBucketingUtils.py:287: FutureWarning: The frame.append method is deprecated and will be removed from pandas in a future version. Use pandas.concat instead.\n",
      "  new_horizontal_note_df = new_horizontal_note_df.append(tmp_df, ignore_index=True)\n",
      "/home/jayesh/mgs_ai/crm_syd_1/main_page_processing_service/DataBucketingUtils.py:287: FutureWarning: The frame.append method is deprecated and will be removed from pandas in a future version. Use pandas.concat instead.\n",
      "  new_horizontal_note_df = new_horizontal_note_df.append(tmp_df, ignore_index=True)\n",
      "/home/jayesh/mgs_ai/crm_syd_1/main_page_processing_service/DataBucketingUtils.py:287: FutureWarning: The frame.append method is deprecated and will be removed from pandas in a future version. Use pandas.concat instead.\n",
      "  new_horizontal_note_df = new_horizontal_note_df.append(tmp_df, ignore_index=True)\n",
      "/home/jayesh/mgs_ai/crm_syd_1/main_page_processing_service/DataBucketingUtils.py:287: FutureWarning: The frame.append method is deprecated and will be removed from pandas in a future version. Use pandas.concat instead.\n",
      "  new_horizontal_note_df = new_horizontal_note_df.append(tmp_df, ignore_index=True)\n",
      "/home/jayesh/mgs_ai/crm_syd_1/main_page_processing_service/DataBucketingUtils.py:287: FutureWarning: The frame.append method is deprecated and will be removed from pandas in a future version. Use pandas.concat instead.\n",
      "  new_horizontal_note_df = new_horizontal_note_df.append(tmp_df, ignore_index=True)\n",
      "/home/jayesh/mgs_ai/crm_syd_1/main_page_processing_service/DataBucketingUtils.py:287: FutureWarning: The frame.append method is deprecated and will be removed from pandas in a future version. Use pandas.concat instead.\n",
      "  new_horizontal_note_df = new_horizontal_note_df.append(tmp_df, ignore_index=True)\n",
      "/home/jayesh/mgs_ai/crm_syd_1/main_page_processing_service/DataBucketingUtils.py:287: FutureWarning: The frame.append method is deprecated and will be removed from pandas in a future version. Use pandas.concat instead.\n",
      "  new_horizontal_note_df = new_horizontal_note_df.append(tmp_df, ignore_index=True)\n",
      "/home/jayesh/mgs_ai/crm_syd_1/main_page_processing_service/DataBucketingUtils.py:287: FutureWarning: The frame.append method is deprecated and will be removed from pandas in a future version. Use pandas.concat instead.\n",
      "  new_horizontal_note_df = new_horizontal_note_df.append(tmp_df, ignore_index=True)\n",
      "/home/jayesh/mgs_ai/crm_syd_1/main_page_processing_service/DataBucketingUtils.py:266: FutureWarning: The frame.append method is deprecated and will be removed from pandas in a future version. Use pandas.concat instead.\n",
      "  temp_horizontal_df = temp_horizontal_df.append(horizontal_note_df)\n",
      "/home/jayesh/mgs_ai/crm_syd_1/main_page_processing_service/DataBucketingUtils.py:287: FutureWarning: The frame.append method is deprecated and will be removed from pandas in a future version. Use pandas.concat instead.\n",
      "  new_horizontal_note_df = new_horizontal_note_df.append(tmp_df, ignore_index=True)\n",
      "/home/jayesh/mgs_ai/crm_syd_1/main_page_processing_service/DataBucketingUtils.py:287: FutureWarning: The frame.append method is deprecated and will be removed from pandas in a future version. Use pandas.concat instead.\n",
      "  new_horizontal_note_df = new_horizontal_note_df.append(tmp_df, ignore_index=True)\n",
      "/home/jayesh/mgs_ai/crm_syd_1/main_page_processing_service/DataBucketingUtils.py:287: FutureWarning: The frame.append method is deprecated and will be removed from pandas in a future version. Use pandas.concat instead.\n",
      "  new_horizontal_note_df = new_horizontal_note_df.append(tmp_df, ignore_index=True)\n",
      "/home/jayesh/mgs_ai/crm_syd_1/main_page_processing_service/DataBucketingUtils.py:287: FutureWarning: The frame.append method is deprecated and will be removed from pandas in a future version. Use pandas.concat instead.\n",
      "  new_horizontal_note_df = new_horizontal_note_df.append(tmp_df, ignore_index=True)\n",
      "/home/jayesh/mgs_ai/crm_syd_1/main_page_processing_service/DataBucketingUtils.py:287: FutureWarning: The frame.append method is deprecated and will be removed from pandas in a future version. Use pandas.concat instead.\n",
      "  new_horizontal_note_df = new_horizontal_note_df.append(tmp_df, ignore_index=True)\n",
      "/home/jayesh/mgs_ai/crm_syd_1/main_page_processing_service/DataBucketingUtils.py:266: FutureWarning: The frame.append method is deprecated and will be removed from pandas in a future version. Use pandas.concat instead.\n",
      "  temp_horizontal_df = temp_horizontal_df.append(horizontal_note_df)\n"
     ]
    }
   ],
   "source": [
    "obj_cbs_mapping.trigger_job()"
   ]
  },
  {
   "cell_type": "code",
   "execution_count": 28,
   "id": "bbb2f9ca",
   "metadata": {
    "tags": []
   },
   "outputs": [
    {
     "data": {
      "text/plain": [
       "{'ca_cash_and_cash_equivalents': {'main_page_row_indices': [2],\n",
       "  'main_page_year_total': [15097632.0, 10887384.0],\n",
       "  'main_page_year_list': ['2021', '2022'],\n",
       "  'main_page_raw_note': ['817'],\n",
       "  'main_page_particular_text_list': ['Cash and cash equivalents'],\n",
       "  'main_page_value_list': [[15097632.0], [10887384.0]],\n",
       "  'main_page_cropped_df':                  Particulars Notes        2022        2021 statement_section  \\\n",
       "  2  Cash and cash equivalents   817  10887384.0  15097632.0            assets   \n",
       "  \n",
       "    statement_sub_section  \n",
       "  2               current  ,\n",
       "  'notes_table_df': Empty DataFrame\n",
       "  Columns: [raw_note_no, note_no, subnote_no, line_item, year, value]\n",
       "  Index: [],\n",
       "  'notes_horizontal_table_df': Empty DataFrame\n",
       "  Columns: []\n",
       "  Index: []},\n",
       " 'ca_inventories': {'main_page_row_indices': [4],\n",
       "  'main_page_year_total': [3604348.0, 3954704.0],\n",
       "  'main_page_year_list': ['2021', '2022'],\n",
       "  'main_page_raw_note': [],\n",
       "  'main_page_particular_text_list': ['Inventories'],\n",
       "  'main_page_value_list': [[3604348.0], [3954704.0]],\n",
       "  'main_page_cropped_df':    Particulars Notes       2022       2021 statement_section  \\\n",
       "  4  Inventories    10  3954704.0  3604348.0            assets   \n",
       "  \n",
       "    statement_sub_section  \n",
       "  4               current  ,\n",
       "  'notes_table_df': Empty DataFrame\n",
       "  Columns: [raw_note_no, note_no, subnote_no, line_item, year, value]\n",
       "  Index: [],\n",
       "  'notes_horizontal_table_df': Empty DataFrame\n",
       "  Columns: []\n",
       "  Index: []},\n",
       " 'ca_prepaid_expenses': {'main_page_row_indices': [1, 5, 6],\n",
       "  'main_page_year_total': [21987940.0, 16994415.0],\n",
       "  'main_page_year_list': ['2021', '2022'],\n",
       "  'main_page_raw_note': [],\n",
       "  'main_page_particular_text_list': ['Current assets',\n",
       "   'Current Tax Assets',\n",
       "   'Total current assets'],\n",
       "  'main_page_value_list': [[0.0, 953078.0, 21034862.0],\n",
       "   [0.0, 777746.0, 16216669.0]],\n",
       "  'main_page_cropped_df':             Particulars Notes        2022        2021 statement_section  \\\n",
       "  1        Current assets   NaN         0.0         0.0            assets   \n",
       "  5    Current Tax Assets   NaN    777746.0    953078.0            assets   \n",
       "  6  Total current assets   NaN  16216669.0  21034862.0            assets   \n",
       "  \n",
       "    statement_sub_section  \n",
       "  1               current  \n",
       "  5               current  \n",
       "  6               current  ,\n",
       "  'notes_table_df': Empty DataFrame\n",
       "  Columns: [raw_note_no, note_no, subnote_no, line_item, year, value]\n",
       "  Index: [],\n",
       "  'notes_horizontal_table_df': Empty DataFrame\n",
       "  Columns: []\n",
       "  Index: []},\n",
       " 'ca_other_current_assets': {'main_page_row_indices': [1, 5, 6],\n",
       "  'main_page_year_total': [21987940.0, 16994415.0],\n",
       "  'main_page_year_list': ['2021', '2022'],\n",
       "  'main_page_raw_note': [],\n",
       "  'main_page_particular_text_list': ['Current assets',\n",
       "   'Current Tax Assets',\n",
       "   'Total current assets'],\n",
       "  'main_page_value_list': [[0.0, 953078.0, 21034862.0],\n",
       "   [0.0, 777746.0, 16216669.0]],\n",
       "  'main_page_cropped_df':             Particulars Notes        2022        2021 statement_section  \\\n",
       "  1        Current assets   NaN         0.0         0.0            assets   \n",
       "  5    Current Tax Assets   NaN    777746.0    953078.0            assets   \n",
       "  6  Total current assets   NaN  16216669.0  21034862.0            assets   \n",
       "  \n",
       "    statement_sub_section  \n",
       "  1               current  \n",
       "  5               current  \n",
       "  6               current  ,\n",
       "  'notes_table_df': Empty DataFrame\n",
       "  Columns: [raw_note_no, note_no, subnote_no, line_item, year, value]\n",
       "  Index: [],\n",
       "  'notes_horizontal_table_df': Empty DataFrame\n",
       "  Columns: []\n",
       "  Index: []},\n",
       " 'ca_total_current_assets': {'main_page_row_indices': [1, 5, 6],\n",
       "  'main_page_year_total': [21987940.0, 16994415.0],\n",
       "  'main_page_year_list': ['2021', '2022'],\n",
       "  'main_page_raw_note': [],\n",
       "  'main_page_particular_text_list': ['Current assets',\n",
       "   'Current Tax Assets',\n",
       "   'Total current assets'],\n",
       "  'main_page_value_list': [[0.0, 953078.0, 21034862.0],\n",
       "   [0.0, 777746.0, 16216669.0]],\n",
       "  'main_page_cropped_df':             Particulars Notes        2022        2021 statement_section  \\\n",
       "  1        Current assets   NaN         0.0         0.0            assets   \n",
       "  5    Current Tax Assets   NaN    777746.0    953078.0            assets   \n",
       "  6  Total current assets   NaN  16216669.0  21034862.0            assets   \n",
       "  \n",
       "    statement_sub_section  \n",
       "  1               current  \n",
       "  5               current  \n",
       "  6               current  ,\n",
       "  'notes_table_df': Empty DataFrame\n",
       "  Columns: [raw_note_no, note_no, subnote_no, line_item, year, value]\n",
       "  Index: [],\n",
       "  'notes_horizontal_table_df': Empty DataFrame\n",
       "  Columns: []\n",
       "  Index: []},\n",
       " 'nca_net_ppe': {'main_page_row_indices': [8],\n",
       "  'main_page_year_total': [1642151.0, 1333915.0],\n",
       "  'main_page_year_list': ['2021', '2022'],\n",
       "  'main_page_raw_note': ['11', '11'],\n",
       "  'main_page_particular_text_list': ['Property, plant and equipment'],\n",
       "  'main_page_value_list': [[1642151.0], [1333915.0]],\n",
       "  'main_page_cropped_df':                      Particulars Notes       2022       2021  \\\n",
       "  8  Property, plant and equipment    11  1333915.0  1642151.0   \n",
       "  \n",
       "    statement_section statement_sub_section  \n",
       "  8            assets            noncurrent  ,\n",
       "  'notes_table_df':    raw_note_no note_no subnote_no  \\\n",
       "  0           11      11              \n",
       "  1           11      11              \n",
       "  2           11      11              \n",
       "  3           11      11              \n",
       "  4           11      11              \n",
       "  ..         ...     ...        ...   \n",
       "  91          11      11              \n",
       "  92          11      11              \n",
       "  93          11      11              \n",
       "  94          11      11              \n",
       "  95          11      11              \n",
       "  \n",
       "                                          line_item    year      value  \n",
       "  0         Freehold land $ At 31 March At 31 March  2022.0        0.0  \n",
       "  1                       Freehold land $ 2021 2021  2021.0        0.0  \n",
       "  2                       Freehold land $ 2021 Cost  2021.0   716968.0  \n",
       "  3   Freehold land $ 2021 Accumulated depreciation  2021.0        0.0  \n",
       "  4            Freehold land $ 2021 Net book amount  2021.0   716968.0  \n",
       "  ..                                            ...     ...        ...  \n",
       "  91                              Total $ 2022 Cost  2022.0  2047714.0  \n",
       "  92                         Total $ 2022 Additions  2022.0        0.0  \n",
       "  93                    Total $ Disposals Disposals  2022.0        0.0  \n",
       "  94     Total $ Disposals Accumulated depreciation  2022.0 -2292054.0  \n",
       "  95              Total $ Disposals Net book amount  2022.0        0.0  \n",
       "  \n",
       "  [96 rows x 6 columns],\n",
       "  'notes_horizontal_table_df':                                         line_item      2021       2022\n",
       "  0         Freehold land $ At 31 March At 31 March       NaN        0.0\n",
       "  1                       Freehold land $ 2021 2021       0.0       None\n",
       "  2                       Freehold land $ 2021 Cost  716968.0       None\n",
       "  3   Freehold land $ 2021 Accumulated depreciation       0.0       None\n",
       "  4            Freehold land $ 2021 Net book amount  716968.0       None\n",
       "  ..                                            ...       ...        ...\n",
       "  91                              Total $ 2022 Cost       NaN  2047714.0\n",
       "  92                         Total $ 2022 Additions       NaN        0.0\n",
       "  93                    Total $ Disposals Disposals       NaN        0.0\n",
       "  94     Total $ Disposals Accumulated depreciation       NaN -2292054.0\n",
       "  95              Total $ Disposals Net book amount       NaN        0.0\n",
       "  \n",
       "  [96 rows x 3 columns]},\n",
       " 'nca_gross_ppe': {'main_page_row_indices': [8],\n",
       "  'main_page_year_total': [1642151.0, 1333915.0],\n",
       "  'main_page_year_list': ['2021', '2022'],\n",
       "  'main_page_raw_note': ['11', '11'],\n",
       "  'main_page_particular_text_list': ['Property, plant and equipment'],\n",
       "  'main_page_value_list': [[1642151.0], [1333915.0]],\n",
       "  'main_page_cropped_df':                      Particulars Notes       2022       2021  \\\n",
       "  8  Property, plant and equipment    11  1333915.0  1642151.0   \n",
       "  \n",
       "    statement_section statement_sub_section  \n",
       "  8            assets            noncurrent  ,\n",
       "  'notes_table_df':    raw_note_no note_no subnote_no  \\\n",
       "  0           11      11              \n",
       "  1           11      11              \n",
       "  2           11      11              \n",
       "  3           11      11              \n",
       "  4           11      11              \n",
       "  ..         ...     ...        ...   \n",
       "  91          11      11              \n",
       "  92          11      11              \n",
       "  93          11      11              \n",
       "  94          11      11              \n",
       "  95          11      11              \n",
       "  \n",
       "                                          line_item    year      value  \n",
       "  0         Freehold land $ At 31 March At 31 March  2022.0        0.0  \n",
       "  1                       Freehold land $ 2021 2021  2021.0        0.0  \n",
       "  2                       Freehold land $ 2021 Cost  2021.0   716968.0  \n",
       "  3   Freehold land $ 2021 Accumulated depreciation  2021.0        0.0  \n",
       "  4            Freehold land $ 2021 Net book amount  2021.0   716968.0  \n",
       "  ..                                            ...     ...        ...  \n",
       "  91                              Total $ 2022 Cost  2022.0  2047714.0  \n",
       "  92                         Total $ 2022 Additions  2022.0        0.0  \n",
       "  93                    Total $ Disposals Disposals  2022.0        0.0  \n",
       "  94     Total $ Disposals Accumulated depreciation  2022.0 -2292054.0  \n",
       "  95              Total $ Disposals Net book amount  2022.0        0.0  \n",
       "  \n",
       "  [96 rows x 6 columns],\n",
       "  'notes_horizontal_table_df':                                         line_item      2021       2022\n",
       "  0         Freehold land $ At 31 March At 31 March       NaN        0.0\n",
       "  1                       Freehold land $ 2021 2021       0.0       None\n",
       "  2                       Freehold land $ 2021 Cost  716968.0       None\n",
       "  3   Freehold land $ 2021 Accumulated depreciation       0.0       None\n",
       "  4            Freehold land $ 2021 Net book amount  716968.0       None\n",
       "  ..                                            ...       ...        ...\n",
       "  91                              Total $ 2022 Cost       NaN  2047714.0\n",
       "  92                         Total $ 2022 Additions       NaN        0.0\n",
       "  93                    Total $ Disposals Disposals       NaN        0.0\n",
       "  94     Total $ Disposals Accumulated depreciation       NaN -2292054.0\n",
       "  95              Total $ Disposals Net book amount       NaN        0.0\n",
       "  \n",
       "  [96 rows x 3 columns]},\n",
       " 'nca_other_tangible_assets': {'main_page_row_indices': [],\n",
       "  'main_page_year_total': [0, 0],\n",
       "  'main_page_year_list': ['2021', '2022'],\n",
       "  'main_page_raw_note': [],\n",
       "  'main_page_particular_text_list': [],\n",
       "  'main_page_value_list': [[], []],\n",
       "  'main_page_cropped_df': Empty DataFrame\n",
       "  Columns: [Particulars, Notes, 2022, 2021, statement_section, statement_sub_section]\n",
       "  Index: [],\n",
       "  'notes_table_df': Empty DataFrame\n",
       "  Columns: [raw_note_no, note_no, subnote_no, line_item, year, value]\n",
       "  Index: [],\n",
       "  'notes_horizontal_table_df': Empty DataFrame\n",
       "  Columns: []\n",
       "  Index: []},\n",
       " 'nca_tangible_assets': {'main_page_row_indices': [],\n",
       "  'main_page_year_total': [0, 0],\n",
       "  'main_page_year_list': ['2021', '2022'],\n",
       "  'main_page_raw_note': [],\n",
       "  'main_page_particular_text_list': [],\n",
       "  'main_page_value_list': [[], []],\n",
       "  'main_page_cropped_df': Empty DataFrame\n",
       "  Columns: [Particulars, Notes, 2022, 2021, statement_section, statement_sub_section]\n",
       "  Index: [],\n",
       "  'notes_table_df': Empty DataFrame\n",
       "  Columns: [raw_note_no, note_no, subnote_no, line_item, year, value]\n",
       "  Index: [],\n",
       "  'notes_horizontal_table_df': Empty DataFrame\n",
       "  Columns: []\n",
       "  Index: []},\n",
       " 'nca_goodwill': {'main_page_row_indices': [],\n",
       "  'main_page_year_total': [0, 0],\n",
       "  'main_page_year_list': ['2021', '2022'],\n",
       "  'main_page_raw_note': [],\n",
       "  'main_page_particular_text_list': [],\n",
       "  'main_page_value_list': [[], []],\n",
       "  'main_page_cropped_df': Empty DataFrame\n",
       "  Columns: [Particulars, Notes, 2022, 2021, statement_section, statement_sub_section]\n",
       "  Index: [],\n",
       "  'notes_table_df': Empty DataFrame\n",
       "  Columns: [raw_note_no, note_no, subnote_no, line_item, year, value]\n",
       "  Index: [],\n",
       "  'notes_horizontal_table_df': Empty DataFrame\n",
       "  Columns: []\n",
       "  Index: []},\n",
       " 'nca_other_intangible_assets': {'main_page_row_indices': [],\n",
       "  'main_page_year_total': [0, 0],\n",
       "  'main_page_year_list': ['2021', '2022'],\n",
       "  'main_page_raw_note': [],\n",
       "  'main_page_particular_text_list': [],\n",
       "  'main_page_value_list': [[], []],\n",
       "  'main_page_cropped_df': Empty DataFrame\n",
       "  Columns: [Particulars, Notes, 2022, 2021, statement_section, statement_sub_section]\n",
       "  Index: [],\n",
       "  'notes_table_df': Empty DataFrame\n",
       "  Columns: [raw_note_no, note_no, subnote_no, line_item, year, value]\n",
       "  Index: [],\n",
       "  'notes_horizontal_table_df': Empty DataFrame\n",
       "  Columns: []\n",
       "  Index: []},\n",
       " 'nca_intangible_assets': {'main_page_row_indices': [],\n",
       "  'main_page_year_total': [0, 0],\n",
       "  'main_page_year_list': ['2021', '2022'],\n",
       "  'main_page_raw_note': [],\n",
       "  'main_page_particular_text_list': [],\n",
       "  'main_page_value_list': [[], []],\n",
       "  'main_page_cropped_df': Empty DataFrame\n",
       "  Columns: [Particulars, Notes, 2022, 2021, statement_section, statement_sub_section]\n",
       "  Index: [],\n",
       "  'notes_table_df': Empty DataFrame\n",
       "  Columns: [raw_note_no, note_no, subnote_no, line_item, year, value]\n",
       "  Index: [],\n",
       "  'notes_horizontal_table_df': Empty DataFrame\n",
       "  Columns: []\n",
       "  Index: []},\n",
       " 'nca_investments': {'main_page_row_indices': [],\n",
       "  'main_page_year_total': [0, 0],\n",
       "  'main_page_year_list': ['2021', '2022'],\n",
       "  'main_page_raw_note': [],\n",
       "  'main_page_particular_text_list': [],\n",
       "  'main_page_value_list': [[], []],\n",
       "  'main_page_cropped_df': Empty DataFrame\n",
       "  Columns: [Particulars, Notes, 2022, 2021, statement_section, statement_sub_section]\n",
       "  Index: [],\n",
       "  'notes_table_df': Empty DataFrame\n",
       "  Columns: [raw_note_no, note_no, subnote_no, line_item, year, value]\n",
       "  Index: [],\n",
       "  'notes_horizontal_table_df': Empty DataFrame\n",
       "  Columns: []\n",
       "  Index: []},\n",
       " 'nca_deffered_charges': {'main_page_row_indices': [9],\n",
       "  'main_page_year_total': [1271319.0, 1260856.0],\n",
       "  'main_page_year_list': ['2021', '2022'],\n",
       "  'main_page_raw_note': ['15'],\n",
       "  'main_page_particular_text_list': ['Deferred tax assets'],\n",
       "  'main_page_value_list': [[1271319.0], [1260856.0]],\n",
       "  'main_page_cropped_df':            Particulars Notes       2022       2021 statement_section  \\\n",
       "  9  Deferred tax assets    15  1260856.0  1271319.0            assets   \n",
       "  \n",
       "    statement_sub_section  \n",
       "  9            noncurrent  ,\n",
       "  'notes_table_df': Empty DataFrame\n",
       "  Columns: [raw_note_no, note_no, subnote_no, line_item, year, value]\n",
       "  Index: [],\n",
       "  'notes_horizontal_table_df': Empty DataFrame\n",
       "  Columns: []\n",
       "  Index: []},\n",
       " 'nca_other_assets': {'main_page_row_indices': [],\n",
       "  'main_page_year_total': [0, 0],\n",
       "  'main_page_year_list': ['2021', '2022'],\n",
       "  'main_page_raw_note': [],\n",
       "  'main_page_particular_text_list': [],\n",
       "  'main_page_value_list': [[], []],\n",
       "  'main_page_cropped_df': Empty DataFrame\n",
       "  Columns: [Particulars, Notes, 2022, 2021, statement_section, statement_sub_section]\n",
       "  Index: [],\n",
       "  'notes_table_df': Empty DataFrame\n",
       "  Columns: [raw_note_no, note_no, subnote_no, line_item, year, value]\n",
       "  Index: [],\n",
       "  'notes_horizontal_table_df': Empty DataFrame\n",
       "  Columns: []\n",
       "  Index: []},\n",
       " 'nca_total_non_current_assets': {'main_page_row_indices': [7, 10],\n",
       "  'main_page_year_total': [2913470.0, 2594771.0],\n",
       "  'main_page_year_list': ['2021', '2022'],\n",
       "  'main_page_raw_note': [],\n",
       "  'main_page_particular_text_list': ['Non-current assets',\n",
       "   'Total non-current assets'],\n",
       "  'main_page_value_list': [[0.0, 2913470.0], [0.0, 2594771.0]],\n",
       "  'main_page_cropped_df':                  Particulars Notes       2022       2021 statement_section  \\\n",
       "  7         Non-current assets   NaN        0.0        0.0            assets   \n",
       "  10  Total non-current assets   NaN  2594771.0  2913470.0            assets   \n",
       "  \n",
       "     statement_sub_section  \n",
       "  7             noncurrent  \n",
       "  10            noncurrent  ,\n",
       "  'notes_table_df': Empty DataFrame\n",
       "  Columns: [raw_note_no, note_no, subnote_no, line_item, year, value]\n",
       "  Index: [],\n",
       "  'notes_horizontal_table_df': Empty DataFrame\n",
       "  Columns: []\n",
       "  Index: []},\n",
       " 'cl_short_term_debt': {'main_page_row_indices': [],\n",
       "  'main_page_year_total': [0, 0],\n",
       "  'main_page_year_list': ['2021', '2022'],\n",
       "  'main_page_raw_note': [],\n",
       "  'main_page_particular_text_list': [],\n",
       "  'main_page_value_list': [[], []],\n",
       "  'main_page_cropped_df': Empty DataFrame\n",
       "  Columns: [Particulars, Notes, 2022, 2021, statement_section, statement_sub_section]\n",
       "  Index: [],\n",
       "  'notes_table_df': Empty DataFrame\n",
       "  Columns: [raw_note_no, note_no, subnote_no, line_item, year, value]\n",
       "  Index: [],\n",
       "  'notes_horizontal_table_df': Empty DataFrame\n",
       "  Columns: []\n",
       "  Index: []},\n",
       " 'cl_long_term_debt_due_in_year': {'main_page_row_indices': [13, 16],\n",
       "  'main_page_year_total': [-7105948.0, -4506254.0],\n",
       "  'main_page_year_list': ['2021', '2022'],\n",
       "  'main_page_raw_note': [],\n",
       "  'main_page_particular_text_list': ['Current liabilities',\n",
       "   'Total current liabilities'],\n",
       "  'main_page_value_list': [[0.0, -7105948.0], [0.0, -4506254.0]],\n",
       "  'main_page_cropped_df':                   Particulars Notes       2022       2021   statement_section  \\\n",
       "  13        Current liabilities   NaN        0.0        0.0  equity_liabilities   \n",
       "  16  Total current liabilities   NaN -4506254.0 -7105948.0  equity_liabilities   \n",
       "  \n",
       "     statement_sub_section  \n",
       "  13               current  \n",
       "  16               current  ,\n",
       "  'notes_table_df': Empty DataFrame\n",
       "  Columns: [raw_note_no, note_no, subnote_no, line_item, year, value]\n",
       "  Index: [],\n",
       "  'notes_horizontal_table_df': Empty DataFrame\n",
       "  Columns: []\n",
       "  Index: []},\n",
       " 'cl_note_payable_debt': {'main_page_row_indices': [],\n",
       "  'main_page_year_total': [0, 0],\n",
       "  'main_page_year_list': ['2021', '2022'],\n",
       "  'main_page_raw_note': [],\n",
       "  'main_page_particular_text_list': [],\n",
       "  'main_page_value_list': [[], []],\n",
       "  'main_page_cropped_df': Empty DataFrame\n",
       "  Columns: [Particulars, Notes, 2022, 2021, statement_section, statement_sub_section]\n",
       "  Index: [],\n",
       "  'notes_table_df': Empty DataFrame\n",
       "  Columns: [raw_note_no, note_no, subnote_no, line_item, year, value]\n",
       "  Index: [],\n",
       "  'notes_horizontal_table_df': Empty DataFrame\n",
       "  Columns: []\n",
       "  Index: []},\n",
       " 'cl_accounts_payable': {'main_page_row_indices': [14],\n",
       "  'main_page_year_total': [-6805651.0, -4177821.0],\n",
       "  'main_page_year_list': ['2021', '2022'],\n",
       "  'main_page_raw_note': ['1217'],\n",
       "  'main_page_particular_text_list': ['Trade and other payables'],\n",
       "  'main_page_value_list': [[-6805651.0], [-4177821.0]],\n",
       "  'main_page_cropped_df':                  Particulars Notes       2022       2021   statement_section  \\\n",
       "  14  Trade and other payables  1217 -4177821.0 -6805651.0  equity_liabilities   \n",
       "  \n",
       "     statement_sub_section  \n",
       "  14               current  ,\n",
       "  'notes_table_df':   raw_note_no note_no subnote_no          line_item  year     value\n",
       "  0        1217      12             $  Trade payables  2022  -4056009\n",
       "  1        1217      12             $  Other Payables  2022   -121813\n",
       "  2        1217      12                           $    2022  -4177821\n",
       "  3        1217      12             $  Trade payables  2021  -6684478\n",
       "  4        1217      12             $  Other Payables  2021   -121173\n",
       "  5        1217      12                           $    2021  -6805651,\n",
       "  'notes_horizontal_table_df':            line_item      2021      2022\n",
       "  0  $  Trade payables  -6684478  -4056009\n",
       "  1  $  Other Payables   -121173   -121813\n",
       "  2                $    -6805651  -4177821},\n",
       " 'cl_accrued_expenses': {'main_page_row_indices': [13, 16],\n",
       "  'main_page_year_total': [-7105948.0, -4506254.0],\n",
       "  'main_page_year_list': ['2021', '2022'],\n",
       "  'main_page_raw_note': [],\n",
       "  'main_page_particular_text_list': ['Current liabilities',\n",
       "   'Total current liabilities'],\n",
       "  'main_page_value_list': [[0.0, -7105948.0], [0.0, -4506254.0]],\n",
       "  'main_page_cropped_df':                   Particulars Notes       2022       2021   statement_section  \\\n",
       "  13        Current liabilities   NaN        0.0        0.0  equity_liabilities   \n",
       "  16  Total current liabilities   NaN -4506254.0 -7105948.0  equity_liabilities   \n",
       "  \n",
       "     statement_sub_section  \n",
       "  13               current  \n",
       "  16               current  ,\n",
       "  'notes_table_df': Empty DataFrame\n",
       "  Columns: [raw_note_no, note_no, subnote_no, line_item, year, value]\n",
       "  Index: [],\n",
       "  'notes_horizontal_table_df': Empty DataFrame\n",
       "  Columns: []\n",
       "  Index: []},\n",
       " 'cl_tax_payable': {'main_page_row_indices': [],\n",
       "  'main_page_year_total': [0, 0],\n",
       "  'main_page_year_list': ['2021', '2022'],\n",
       "  'main_page_raw_note': [],\n",
       "  'main_page_particular_text_list': [],\n",
       "  'main_page_value_list': [[], []],\n",
       "  'main_page_cropped_df': Empty DataFrame\n",
       "  Columns: [Particulars, Notes, 2022, 2021, statement_section, statement_sub_section]\n",
       "  Index: [],\n",
       "  'notes_table_df': Empty DataFrame\n",
       "  Columns: [raw_note_no, note_no, subnote_no, line_item, year, value]\n",
       "  Index: [],\n",
       "  'notes_horizontal_table_df': Empty DataFrame\n",
       "  Columns: []\n",
       "  Index: []},\n",
       " 'cl_other_current_liabilities': {'main_page_row_indices': [13, 16],\n",
       "  'main_page_year_total': [-7105948.0, -4506254.0],\n",
       "  'main_page_year_list': ['2021', '2022'],\n",
       "  'main_page_raw_note': [],\n",
       "  'main_page_particular_text_list': ['Current liabilities',\n",
       "   'Total current liabilities'],\n",
       "  'main_page_value_list': [[0.0, -7105948.0], [0.0, -4506254.0]],\n",
       "  'main_page_cropped_df':                   Particulars Notes       2022       2021   statement_section  \\\n",
       "  13        Current liabilities   NaN        0.0        0.0  equity_liabilities   \n",
       "  16  Total current liabilities   NaN -4506254.0 -7105948.0  equity_liabilities   \n",
       "  \n",
       "     statement_sub_section  \n",
       "  13               current  \n",
       "  16               current  ,\n",
       "  'notes_table_df': Empty DataFrame\n",
       "  Columns: [raw_note_no, note_no, subnote_no, line_item, year, value]\n",
       "  Index: [],\n",
       "  'notes_horizontal_table_df': Empty DataFrame\n",
       "  Columns: []\n",
       "  Index: []},\n",
       " 'cl_total_current_liabilities': {'main_page_row_indices': [13, 16],\n",
       "  'main_page_year_total': [-7105948.0, -4506254.0],\n",
       "  'main_page_year_list': ['2021', '2022'],\n",
       "  'main_page_raw_note': [],\n",
       "  'main_page_particular_text_list': ['Current liabilities',\n",
       "   'Total current liabilities'],\n",
       "  'main_page_value_list': [[0.0, -7105948.0], [0.0, -4506254.0]],\n",
       "  'main_page_cropped_df':                   Particulars Notes       2022       2021   statement_section  \\\n",
       "  13        Current liabilities   NaN        0.0        0.0  equity_liabilities   \n",
       "  16  Total current liabilities   NaN -4506254.0 -7105948.0  equity_liabilities   \n",
       "  \n",
       "     statement_sub_section  \n",
       "  13               current  \n",
       "  16               current  ,\n",
       "  'notes_table_df': Empty DataFrame\n",
       "  Columns: [raw_note_no, note_no, subnote_no, line_item, year, value]\n",
       "  Index: [],\n",
       "  'notes_horizontal_table_df': Empty DataFrame\n",
       "  Columns: []\n",
       "  Index: []},\n",
       " 'ncl_long_term_debt': {'main_page_row_indices': [],\n",
       "  'main_page_year_total': [0, 0],\n",
       "  'main_page_year_list': ['2021', '2022'],\n",
       "  'main_page_raw_note': [],\n",
       "  'main_page_particular_text_list': [],\n",
       "  'main_page_value_list': [[], []],\n",
       "  'main_page_cropped_df': Empty DataFrame\n",
       "  Columns: [Particulars, Notes, 2022, 2021, statement_section, statement_sub_section]\n",
       "  Index: [],\n",
       "  'notes_table_df': Empty DataFrame\n",
       "  Columns: [raw_note_no, note_no, subnote_no, line_item, year, value]\n",
       "  Index: [],\n",
       "  'notes_horizontal_table_df': Empty DataFrame\n",
       "  Columns: []\n",
       "  Index: []},\n",
       " 'ncl_long_term_borrowing': {'main_page_row_indices': [],\n",
       "  'main_page_year_total': [0, 0],\n",
       "  'main_page_year_list': ['2021', '2022'],\n",
       "  'main_page_raw_note': [],\n",
       "  'main_page_particular_text_list': [],\n",
       "  'main_page_value_list': [[], []],\n",
       "  'main_page_cropped_df': Empty DataFrame\n",
       "  Columns: [Particulars, Notes, 2022, 2021, statement_section, statement_sub_section]\n",
       "  Index: [],\n",
       "  'notes_table_df': Empty DataFrame\n",
       "  Columns: [raw_note_no, note_no, subnote_no, line_item, year, value]\n",
       "  Index: [],\n",
       "  'notes_horizontal_table_df': Empty DataFrame\n",
       "  Columns: []\n",
       "  Index: []},\n",
       " 'ncl_bond': {'main_page_row_indices': [],\n",
       "  'main_page_year_total': [0, 0],\n",
       "  'main_page_year_list': ['2021', '2022'],\n",
       "  'main_page_raw_note': [],\n",
       "  'main_page_particular_text_list': [],\n",
       "  'main_page_value_list': [[], []],\n",
       "  'main_page_cropped_df': Empty DataFrame\n",
       "  Columns: [Particulars, Notes, 2022, 2021, statement_section, statement_sub_section]\n",
       "  Index: [],\n",
       "  'notes_table_df': Empty DataFrame\n",
       "  Columns: [raw_note_no, note_no, subnote_no, line_item, year, value]\n",
       "  Index: [],\n",
       "  'notes_horizontal_table_df': Empty DataFrame\n",
       "  Columns: []\n",
       "  Index: []},\n",
       " 'ncl_suboardinate_debt': {'main_page_row_indices': [],\n",
       "  'main_page_year_total': [0, 0],\n",
       "  'main_page_year_list': ['2021', '2022'],\n",
       "  'main_page_raw_note': [],\n",
       "  'main_page_particular_text_list': [],\n",
       "  'main_page_value_list': [[], []],\n",
       "  'main_page_cropped_df': Empty DataFrame\n",
       "  Columns: [Particulars, Notes, 2022, 2021, statement_section, statement_sub_section]\n",
       "  Index: [],\n",
       "  'notes_table_df': Empty DataFrame\n",
       "  Columns: [raw_note_no, note_no, subnote_no, line_item, year, value]\n",
       "  Index: [],\n",
       "  'notes_horizontal_table_df': Empty DataFrame\n",
       "  Columns: []\n",
       "  Index: []},\n",
       " 'ncl_deferred_taxes': {'main_page_row_indices': [],\n",
       "  'main_page_year_total': [0, 0],\n",
       "  'main_page_year_list': ['2021', '2022'],\n",
       "  'main_page_raw_note': [],\n",
       "  'main_page_particular_text_list': [],\n",
       "  'main_page_value_list': [[], []],\n",
       "  'main_page_cropped_df': Empty DataFrame\n",
       "  Columns: [Particulars, Notes, 2022, 2021, statement_section, statement_sub_section]\n",
       "  Index: [],\n",
       "  'notes_table_df': Empty DataFrame\n",
       "  Columns: [raw_note_no, note_no, subnote_no, line_item, year, value]\n",
       "  Index: [],\n",
       "  'notes_horizontal_table_df': Empty DataFrame\n",
       "  Columns: []\n",
       "  Index: []},\n",
       " 'ncl_other_long_term_liabilities': {'main_page_row_indices': [],\n",
       "  'main_page_year_total': [0, 0],\n",
       "  'main_page_year_list': ['2021', '2022'],\n",
       "  'main_page_raw_note': [],\n",
       "  'main_page_particular_text_list': [],\n",
       "  'main_page_value_list': [[], []],\n",
       "  'main_page_cropped_df': Empty DataFrame\n",
       "  Columns: [Particulars, Notes, 2022, 2021, statement_section, statement_sub_section]\n",
       "  Index: [],\n",
       "  'notes_table_df': Empty DataFrame\n",
       "  Columns: [raw_note_no, note_no, subnote_no, line_item, year, value]\n",
       "  Index: [],\n",
       "  'notes_horizontal_table_df': Empty DataFrame\n",
       "  Columns: []\n",
       "  Index: []},\n",
       " 'ncl_minority_interest': {'main_page_row_indices': [],\n",
       "  'main_page_year_total': [0, 0],\n",
       "  'main_page_year_list': ['2021', '2022'],\n",
       "  'main_page_raw_note': [],\n",
       "  'main_page_particular_text_list': [],\n",
       "  'main_page_value_list': [[], []],\n",
       "  'main_page_cropped_df': Empty DataFrame\n",
       "  Columns: [Particulars, Notes, 2022, 2021, statement_section, statement_sub_section]\n",
       "  Index: [],\n",
       "  'notes_table_df': Empty DataFrame\n",
       "  Columns: [raw_note_no, note_no, subnote_no, line_item, year, value]\n",
       "  Index: [],\n",
       "  'notes_horizontal_table_df': Empty DataFrame\n",
       "  Columns: []\n",
       "  Index: []},\n",
       " 'ncl_long_term_liabilities': {'main_page_row_indices': [],\n",
       "  'main_page_year_total': [0, 0],\n",
       "  'main_page_year_list': ['2021', '2022'],\n",
       "  'main_page_raw_note': [],\n",
       "  'main_page_particular_text_list': [],\n",
       "  'main_page_value_list': [[], []],\n",
       "  'main_page_cropped_df': Empty DataFrame\n",
       "  Columns: [Particulars, Notes, 2022, 2021, statement_section, statement_sub_section]\n",
       "  Index: [],\n",
       "  'notes_table_df': Empty DataFrame\n",
       "  Columns: [raw_note_no, note_no, subnote_no, line_item, year, value]\n",
       "  Index: [],\n",
       "  'notes_horizontal_table_df': Empty DataFrame\n",
       "  Columns: []\n",
       "  Index: []},\n",
       " 'eqt_common_stock': {'main_page_row_indices': [],\n",
       "  'main_page_year_total': [0, 0],\n",
       "  'main_page_year_list': ['2021', '2022'],\n",
       "  'main_page_raw_note': [],\n",
       "  'main_page_particular_text_list': [],\n",
       "  'main_page_value_list': [[], []],\n",
       "  'main_page_cropped_df': Empty DataFrame\n",
       "  Columns: [Particulars, Notes, 2022, 2021, statement_section, statement_sub_section]\n",
       "  Index: [],\n",
       "  'notes_table_df': Empty DataFrame\n",
       "  Columns: [raw_note_no, note_no, subnote_no, line_item, year, value]\n",
       "  Index: [],\n",
       "  'notes_horizontal_table_df': Empty DataFrame\n",
       "  Columns: []\n",
       "  Index: []},\n",
       " 'eqt_additional_paid_in_capital': {'main_page_row_indices': [],\n",
       "  'main_page_year_total': [0, 0],\n",
       "  'main_page_year_list': ['2021', '2022'],\n",
       "  'main_page_raw_note': [],\n",
       "  'main_page_particular_text_list': [],\n",
       "  'main_page_value_list': [[], []],\n",
       "  'main_page_cropped_df': Empty DataFrame\n",
       "  Columns: [Particulars, Notes, 2022, 2021, statement_section, statement_sub_section]\n",
       "  Index: [],\n",
       "  'notes_table_df': Empty DataFrame\n",
       "  Columns: [raw_note_no, note_no, subnote_no, line_item, year, value]\n",
       "  Index: [],\n",
       "  'notes_horizontal_table_df': Empty DataFrame\n",
       "  Columns: []\n",
       "  Index: []},\n",
       " 'eqt_other_reserves': {'main_page_row_indices': [],\n",
       "  'main_page_year_total': [0, 0],\n",
       "  'main_page_year_list': ['2021', '2022'],\n",
       "  'main_page_raw_note': [],\n",
       "  'main_page_particular_text_list': [],\n",
       "  'main_page_value_list': [[], []],\n",
       "  'main_page_cropped_df': Empty DataFrame\n",
       "  Columns: [Particulars, Notes, 2022, 2021, statement_section, statement_sub_section]\n",
       "  Index: [],\n",
       "  'notes_table_df': Empty DataFrame\n",
       "  Columns: [raw_note_no, note_no, subnote_no, line_item, year, value]\n",
       "  Index: [],\n",
       "  'notes_horizontal_table_df': Empty DataFrame\n",
       "  Columns: []\n",
       "  Index: []},\n",
       " 'eqt_retained_earnings': {'main_page_row_indices': [],\n",
       "  'main_page_year_total': [0, 0],\n",
       "  'main_page_year_list': ['2021', '2022'],\n",
       "  'main_page_raw_note': [],\n",
       "  'main_page_particular_text_list': [],\n",
       "  'main_page_value_list': [[], []],\n",
       "  'main_page_cropped_df': Empty DataFrame\n",
       "  Columns: [Particulars, Notes, 2022, 2021, statement_section, statement_sub_section]\n",
       "  Index: [],\n",
       "  'notes_table_df': Empty DataFrame\n",
       "  Columns: [raw_note_no, note_no, subnote_no, line_item, year, value]\n",
       "  Index: [],\n",
       "  'notes_horizontal_table_df': Empty DataFrame\n",
       "  Columns: []\n",
       "  Index: []},\n",
       " 'eqt_others': {'main_page_row_indices': [],\n",
       "  'main_page_year_total': [0, 0],\n",
       "  'main_page_year_list': ['2021', '2022'],\n",
       "  'main_page_raw_note': [],\n",
       "  'main_page_particular_text_list': [],\n",
       "  'main_page_value_list': [[], []],\n",
       "  'main_page_cropped_df': Empty DataFrame\n",
       "  Columns: [Particulars, Notes, 2022, 2021, statement_section, statement_sub_section]\n",
       "  Index: [],\n",
       "  'notes_table_df': Empty DataFrame\n",
       "  Columns: [raw_note_no, note_no, subnote_no, line_item, year, value]\n",
       "  Index: [],\n",
       "  'notes_horizontal_table_df': Empty DataFrame\n",
       "  Columns: []\n",
       "  Index: []},\n",
       " 'eqt_shareholder_equity': {'main_page_row_indices': [],\n",
       "  'main_page_year_total': [0, 0],\n",
       "  'main_page_year_list': ['2021', '2022'],\n",
       "  'main_page_raw_note': [],\n",
       "  'main_page_particular_text_list': [],\n",
       "  'main_page_value_list': [[], []],\n",
       "  'main_page_cropped_df': Empty DataFrame\n",
       "  Columns: [Particulars, Notes, 2022, 2021, statement_section, statement_sub_section]\n",
       "  Index: [],\n",
       "  'notes_table_df': Empty DataFrame\n",
       "  Columns: [raw_note_no, note_no, subnote_no, line_item, year, value]\n",
       "  Index: [],\n",
       "  'notes_horizontal_table_df': Empty DataFrame\n",
       "  Columns: []\n",
       "  Index: []},\n",
       " 'total_liability_equity': {'main_page_row_indices': [],\n",
       "  'main_page_year_total': [0, 0],\n",
       "  'main_page_year_list': ['2021', '2022'],\n",
       "  'main_page_raw_note': [],\n",
       "  'main_page_particular_text_list': [],\n",
       "  'main_page_value_list': [[], []],\n",
       "  'main_page_cropped_df': Empty DataFrame\n",
       "  Columns: [Particulars, Notes, 2022, 2021, statement_section, statement_sub_section]\n",
       "  Index: [],\n",
       "  'notes_table_df': Empty DataFrame\n",
       "  Columns: [raw_note_no, note_no, subnote_no, line_item, year, value]\n",
       "  Index: [],\n",
       "  'notes_horizontal_table_df': Empty DataFrame\n",
       "  Columns: []\n",
       "  Index: []},\n",
       " 'lbt_total_liability': {'main_page_row_indices': [],\n",
       "  'main_page_year_total': [0, 0],\n",
       "  'main_page_year_list': ['2021', '2022'],\n",
       "  'main_page_raw_note': [],\n",
       "  'main_page_particular_text_list': [],\n",
       "  'main_page_value_list': [[], []],\n",
       "  'main_page_cropped_df': Empty DataFrame\n",
       "  Columns: [Particulars, Notes, 2022, 2021, statement_section, statement_sub_section]\n",
       "  Index: [],\n",
       "  'notes_table_df': Empty DataFrame\n",
       "  Columns: [raw_note_no, note_no, subnote_no, line_item, year, value]\n",
       "  Index: [],\n",
       "  'notes_horizontal_table_df': Empty DataFrame\n",
       "  Columns: []\n",
       "  Index: []},\n",
       " 'ast_total_assets': {'main_page_row_indices': [],\n",
       "  'main_page_year_total': [0, 0],\n",
       "  'main_page_year_list': ['2021', '2022'],\n",
       "  'main_page_raw_note': [],\n",
       "  'main_page_particular_text_list': [],\n",
       "  'main_page_value_list': [[], []],\n",
       "  'main_page_cropped_df': Empty DataFrame\n",
       "  Columns: [Particulars, Notes, 2022, 2021, statement_section, statement_sub_section]\n",
       "  Index: [],\n",
       "  'notes_table_df': Empty DataFrame\n",
       "  Columns: [raw_note_no, note_no, subnote_no, line_item, year, value]\n",
       "  Index: [],\n",
       "  'notes_horizontal_table_df': Empty DataFrame\n",
       "  Columns: []\n",
       "  Index: []},\n",
       " 'nca_accumulated_depreciation': {'main_page_row_indices': [8],\n",
       "  'main_page_year_total': [1642151.0, 1333915.0],\n",
       "  'main_page_year_list': ['2021', '2022'],\n",
       "  'main_page_raw_note': ['11', '11'],\n",
       "  'main_page_particular_text_list': ['Property, plant and equipment'],\n",
       "  'main_page_value_list': [[1642151.0], [1333915.0]],\n",
       "  'main_page_cropped_df':                      Particulars Notes       2022       2021  \\\n",
       "  8  Property, plant and equipment    11  1333915.0  1642151.0   \n",
       "  \n",
       "    statement_section statement_sub_section  \n",
       "  8            assets            noncurrent  ,\n",
       "  'notes_table_df':    raw_note_no note_no subnote_no  \\\n",
       "  0           11      11              \n",
       "  1           11      11              \n",
       "  2           11      11              \n",
       "  3           11      11              \n",
       "  4           11      11              \n",
       "  ..         ...     ...        ...   \n",
       "  91          11      11              \n",
       "  92          11      11              \n",
       "  93          11      11              \n",
       "  94          11      11              \n",
       "  95          11      11              \n",
       "  \n",
       "                                          line_item    year      value  \n",
       "  0         Freehold land $ At 31 March At 31 March  2022.0        0.0  \n",
       "  1                       Freehold land $ 2021 2021  2021.0        0.0  \n",
       "  2                       Freehold land $ 2021 Cost  2021.0   716968.0  \n",
       "  3   Freehold land $ 2021 Accumulated depreciation  2021.0        0.0  \n",
       "  4            Freehold land $ 2021 Net book amount  2021.0   716968.0  \n",
       "  ..                                            ...     ...        ...  \n",
       "  91                              Total $ 2022 Cost  2022.0  2047714.0  \n",
       "  92                         Total $ 2022 Additions  2022.0        0.0  \n",
       "  93                    Total $ Disposals Disposals  2022.0        0.0  \n",
       "  94     Total $ Disposals Accumulated depreciation  2022.0 -2292054.0  \n",
       "  95              Total $ Disposals Net book amount  2022.0        0.0  \n",
       "  \n",
       "  [96 rows x 6 columns],\n",
       "  'notes_horizontal_table_df':                                         line_item      2021       2022\n",
       "  0         Freehold land $ At 31 March At 31 March       NaN        0.0\n",
       "  1                       Freehold land $ 2021 2021       0.0       None\n",
       "  2                       Freehold land $ 2021 Cost  716968.0       None\n",
       "  3   Freehold land $ 2021 Accumulated depreciation       0.0       None\n",
       "  4            Freehold land $ 2021 Net book amount  716968.0       None\n",
       "  ..                                            ...       ...        ...\n",
       "  91                              Total $ 2022 Cost       NaN  2047714.0\n",
       "  92                         Total $ 2022 Additions       NaN        0.0\n",
       "  93                    Total $ Disposals Disposals       NaN        0.0\n",
       "  94     Total $ Disposals Accumulated depreciation       NaN -2292054.0\n",
       "  95              Total $ Disposals Net book amount       NaN        0.0\n",
       "  \n",
       "  [96 rows x 3 columns]},\n",
       " 'ca_account_receivables': {'main_page_row_indices': [3, 12],\n",
       "  'main_page_year_total': [1379804.0, 596835.0],\n",
       "  'main_page_year_list': ['2021', '2022'],\n",
       "  'main_page_raw_note': ['917'],\n",
       "  'main_page_particular_text_list': ['Trade and other receivables',\n",
       "   'LIABILITIES'],\n",
       "  'main_page_value_list': [[1379804.0, 0.0], [596835.0, 0.0]],\n",
       "  'main_page_cropped_df':                     Particulars Notes      2022       2021 statement_section  \\\n",
       "  3   Trade and other receivables   917  596835.0  1379804.0            assets   \n",
       "  12                  LIABILITIES   NaN       0.0        0.0            assets   \n",
       "  \n",
       "     statement_sub_section  \n",
       "  3                current  \n",
       "  12               current  ,\n",
       "  'notes_table_df':    raw_note_no note_no subnote_no             line_item  year      value\n",
       "  0          917       9             $  Trade receivables  2022        0.0\n",
       "  1          917       9                   $  Prepayments  2022        0.0\n",
       "  2          917       9               $  GST receivables  2022        0.0\n",
       "  3          917       9             $  Other Receivables  2022        0.0\n",
       "  4          917       9                              $    2022        0.0\n",
       "  5          917       9             $  Trade receivables  2022    56113.0\n",
       "  6          917       9                   $  Prepayments  2022   144393.0\n",
       "  7          917       9               $  GST receivables  2022   387512.0\n",
       "  8          917       9             $  Other Receivables  2022     8817.0\n",
       "  9          917       9                              $    2022   596835.0\n",
       "  10         917       9             $  Trade receivables  2021   663951.0\n",
       "  11         917       9                   $  Prepayments  2021   121554.0\n",
       "  12         917       9               $  GST receivables  2021   587991.0\n",
       "  13         917       9             $  Other Receivables  2021     6308.0\n",
       "  14         917       9                              $    2021  1379804.0,\n",
       "  'notes_horizontal_table_df':               line_item       2021      2022\n",
       "  0  $  Trade receivables   663951.0   56113.0\n",
       "  1        $  Prepayments   121554.0  144393.0\n",
       "  2    $  GST receivables   587991.0  387512.0\n",
       "  3  $  Other Receivables     6308.0    8817.0\n",
       "  4                   $    1379804.0  596835.0}}"
      ]
     },
     "execution_count": 28,
     "metadata": {},
     "output_type": "execute_result"
    }
   ],
   "source": [
    "obj_cbs_mapping.bs_bucket_dict"
   ]
  },
  {
   "cell_type": "code",
   "execution_count": 29,
   "id": "6cb1b476-9b5a-4545-9699-5146b79ad28f",
   "metadata": {},
   "outputs": [
    {
     "data": {
      "text/html": [
       "<div>\n",
       "<style scoped>\n",
       "    .dataframe tbody tr th:only-of-type {\n",
       "        vertical-align: middle;\n",
       "    }\n",
       "\n",
       "    .dataframe tbody tr th {\n",
       "        vertical-align: top;\n",
       "    }\n",
       "\n",
       "    .dataframe thead th {\n",
       "        text-align: right;\n",
       "    }\n",
       "</style>\n",
       "<table border=\"1\" class=\"dataframe\">\n",
       "  <thead>\n",
       "    <tr style=\"text-align: right;\">\n",
       "      <th></th>\n",
       "      <th>Particulars</th>\n",
       "      <th>Notes</th>\n",
       "      <th>2022</th>\n",
       "      <th>2021</th>\n",
       "      <th>statement_section</th>\n",
       "      <th>statement_sub_section</th>\n",
       "    </tr>\n",
       "  </thead>\n",
       "  <tbody>\n",
       "    <tr>\n",
       "      <th>0</th>\n",
       "      <td>ASSETS</td>\n",
       "      <td>NaN</td>\n",
       "      <td>0.0</td>\n",
       "      <td>0.0</td>\n",
       "      <td>assets</td>\n",
       "      <td>current</td>\n",
       "    </tr>\n",
       "    <tr>\n",
       "      <th>1</th>\n",
       "      <td>Current assets</td>\n",
       "      <td>NaN</td>\n",
       "      <td>0.0</td>\n",
       "      <td>0.0</td>\n",
       "      <td>assets</td>\n",
       "      <td>current</td>\n",
       "    </tr>\n",
       "    <tr>\n",
       "      <th>2</th>\n",
       "      <td>Cash and cash equivalents</td>\n",
       "      <td>817</td>\n",
       "      <td>10887384.0</td>\n",
       "      <td>15097632.0</td>\n",
       "      <td>assets</td>\n",
       "      <td>current</td>\n",
       "    </tr>\n",
       "    <tr>\n",
       "      <th>3</th>\n",
       "      <td>Trade and other receivables</td>\n",
       "      <td>917</td>\n",
       "      <td>596835.0</td>\n",
       "      <td>1379804.0</td>\n",
       "      <td>assets</td>\n",
       "      <td>current</td>\n",
       "    </tr>\n",
       "    <tr>\n",
       "      <th>4</th>\n",
       "      <td>Inventories</td>\n",
       "      <td>10</td>\n",
       "      <td>3954704.0</td>\n",
       "      <td>3604348.0</td>\n",
       "      <td>assets</td>\n",
       "      <td>current</td>\n",
       "    </tr>\n",
       "    <tr>\n",
       "      <th>5</th>\n",
       "      <td>Current Tax Assets</td>\n",
       "      <td>NaN</td>\n",
       "      <td>777746.0</td>\n",
       "      <td>953078.0</td>\n",
       "      <td>assets</td>\n",
       "      <td>current</td>\n",
       "    </tr>\n",
       "    <tr>\n",
       "      <th>6</th>\n",
       "      <td>Total current assets</td>\n",
       "      <td>NaN</td>\n",
       "      <td>16216669.0</td>\n",
       "      <td>21034862.0</td>\n",
       "      <td>assets</td>\n",
       "      <td>current</td>\n",
       "    </tr>\n",
       "    <tr>\n",
       "      <th>7</th>\n",
       "      <td>Non-current assets</td>\n",
       "      <td>NaN</td>\n",
       "      <td>0.0</td>\n",
       "      <td>0.0</td>\n",
       "      <td>assets</td>\n",
       "      <td>noncurrent</td>\n",
       "    </tr>\n",
       "    <tr>\n",
       "      <th>8</th>\n",
       "      <td>Property, plant and equipment</td>\n",
       "      <td>11</td>\n",
       "      <td>1333915.0</td>\n",
       "      <td>1642151.0</td>\n",
       "      <td>assets</td>\n",
       "      <td>noncurrent</td>\n",
       "    </tr>\n",
       "    <tr>\n",
       "      <th>9</th>\n",
       "      <td>Deferred tax assets</td>\n",
       "      <td>15</td>\n",
       "      <td>1260856.0</td>\n",
       "      <td>1271319.0</td>\n",
       "      <td>assets</td>\n",
       "      <td>noncurrent</td>\n",
       "    </tr>\n",
       "    <tr>\n",
       "      <th>10</th>\n",
       "      <td>Total non-current assets</td>\n",
       "      <td>NaN</td>\n",
       "      <td>2594771.0</td>\n",
       "      <td>2913470.0</td>\n",
       "      <td>assets</td>\n",
       "      <td>noncurrent</td>\n",
       "    </tr>\n",
       "    <tr>\n",
       "      <th>11</th>\n",
       "      <td>Total assets</td>\n",
       "      <td>NaN</td>\n",
       "      <td>18811440.0</td>\n",
       "      <td>23948332.0</td>\n",
       "      <td>assets</td>\n",
       "      <td>noncurrent</td>\n",
       "    </tr>\n",
       "    <tr>\n",
       "      <th>12</th>\n",
       "      <td>LIABILITIES</td>\n",
       "      <td>NaN</td>\n",
       "      <td>0.0</td>\n",
       "      <td>0.0</td>\n",
       "      <td>assets</td>\n",
       "      <td>current</td>\n",
       "    </tr>\n",
       "    <tr>\n",
       "      <th>13</th>\n",
       "      <td>Current liabilities</td>\n",
       "      <td>NaN</td>\n",
       "      <td>0.0</td>\n",
       "      <td>0.0</td>\n",
       "      <td>equity_liabilities</td>\n",
       "      <td>current</td>\n",
       "    </tr>\n",
       "    <tr>\n",
       "      <th>14</th>\n",
       "      <td>Trade and other payables</td>\n",
       "      <td>1217</td>\n",
       "      <td>-4177821.0</td>\n",
       "      <td>-6805651.0</td>\n",
       "      <td>equity_liabilities</td>\n",
       "      <td>current</td>\n",
       "    </tr>\n",
       "    <tr>\n",
       "      <th>15</th>\n",
       "      <td>Provisions</td>\n",
       "      <td>13</td>\n",
       "      <td>-328433.0</td>\n",
       "      <td>-300297.0</td>\n",
       "      <td>equity_liabilities</td>\n",
       "      <td>current</td>\n",
       "    </tr>\n",
       "    <tr>\n",
       "      <th>16</th>\n",
       "      <td>Total current liabilities</td>\n",
       "      <td>NaN</td>\n",
       "      <td>-4506254.0</td>\n",
       "      <td>-7105948.0</td>\n",
       "      <td>equity_liabilities</td>\n",
       "      <td>current</td>\n",
       "    </tr>\n",
       "    <tr>\n",
       "      <th>17</th>\n",
       "      <td>Non-current liabilities</td>\n",
       "      <td>NaN</td>\n",
       "      <td>0.0</td>\n",
       "      <td>0.0</td>\n",
       "      <td>equity_liabilities</td>\n",
       "      <td>noncurrent</td>\n",
       "    </tr>\n",
       "    <tr>\n",
       "      <th>18</th>\n",
       "      <td>Provisions</td>\n",
       "      <td>13</td>\n",
       "      <td>-10783.0</td>\n",
       "      <td>-48169.0</td>\n",
       "      <td>equity_liabilities</td>\n",
       "      <td>noncurrent</td>\n",
       "    </tr>\n",
       "    <tr>\n",
       "      <th>19</th>\n",
       "      <td>Total non-current liabilities</td>\n",
       "      <td>NaN</td>\n",
       "      <td>-10783.0</td>\n",
       "      <td>-48169.0</td>\n",
       "      <td>equity_liabilities</td>\n",
       "      <td>noncurrent</td>\n",
       "    </tr>\n",
       "    <tr>\n",
       "      <th>20</th>\n",
       "      <td>Total liabilities</td>\n",
       "      <td>NaN</td>\n",
       "      <td>-4517037.0</td>\n",
       "      <td>-7154117.0</td>\n",
       "      <td>equity_liabilities</td>\n",
       "      <td>noncurrent</td>\n",
       "    </tr>\n",
       "    <tr>\n",
       "      <th>21</th>\n",
       "      <td>Net assets</td>\n",
       "      <td>NaN</td>\n",
       "      <td>14294402.0</td>\n",
       "      <td>16794215.0</td>\n",
       "      <td>equity_liabilities</td>\n",
       "      <td>noncurrent</td>\n",
       "    </tr>\n",
       "    <tr>\n",
       "      <th>22</th>\n",
       "      <td>EQUITY</td>\n",
       "      <td>NaN</td>\n",
       "      <td>0.0</td>\n",
       "      <td>0.0</td>\n",
       "      <td>equity_liabilities</td>\n",
       "      <td>equity</td>\n",
       "    </tr>\n",
       "    <tr>\n",
       "      <th>23</th>\n",
       "      <td>Contributed equity</td>\n",
       "      <td>14</td>\n",
       "      <td>5700000.0</td>\n",
       "      <td>5700000.0</td>\n",
       "      <td>equity_liabilities</td>\n",
       "      <td>equity</td>\n",
       "    </tr>\n",
       "    <tr>\n",
       "      <th>24</th>\n",
       "      <td>Retained earnings</td>\n",
       "      <td>NaN</td>\n",
       "      <td>8594402.0</td>\n",
       "      <td>11094215.0</td>\n",
       "      <td>equity_liabilities</td>\n",
       "      <td>equity</td>\n",
       "    </tr>\n",
       "    <tr>\n",
       "      <th>25</th>\n",
       "      <td>Total equity</td>\n",
       "      <td>NaN</td>\n",
       "      <td>14294402.0</td>\n",
       "      <td>16794215.0</td>\n",
       "      <td>equity_liabilities</td>\n",
       "      <td>equity</td>\n",
       "    </tr>\n",
       "  </tbody>\n",
       "</table>\n",
       "</div>"
      ],
      "text/plain": [
       "                      Particulars Notes        2022        2021  \\\n",
       "0                          ASSETS   NaN         0.0         0.0   \n",
       "1                  Current assets   NaN         0.0         0.0   \n",
       "2       Cash and cash equivalents   817  10887384.0  15097632.0   \n",
       "3     Trade and other receivables   917    596835.0   1379804.0   \n",
       "4                     Inventories    10   3954704.0   3604348.0   \n",
       "5              Current Tax Assets   NaN    777746.0    953078.0   \n",
       "6            Total current assets   NaN  16216669.0  21034862.0   \n",
       "7              Non-current assets   NaN         0.0         0.0   \n",
       "8   Property, plant and equipment    11   1333915.0   1642151.0   \n",
       "9             Deferred tax assets    15   1260856.0   1271319.0   \n",
       "10       Total non-current assets   NaN   2594771.0   2913470.0   \n",
       "11                   Total assets   NaN  18811440.0  23948332.0   \n",
       "12                    LIABILITIES   NaN         0.0         0.0   \n",
       "13            Current liabilities   NaN         0.0         0.0   \n",
       "14       Trade and other payables  1217  -4177821.0  -6805651.0   \n",
       "15                     Provisions    13   -328433.0   -300297.0   \n",
       "16      Total current liabilities   NaN  -4506254.0  -7105948.0   \n",
       "17        Non-current liabilities   NaN         0.0         0.0   \n",
       "18                     Provisions    13    -10783.0    -48169.0   \n",
       "19  Total non-current liabilities   NaN    -10783.0    -48169.0   \n",
       "20              Total liabilities   NaN  -4517037.0  -7154117.0   \n",
       "21                     Net assets   NaN  14294402.0  16794215.0   \n",
       "22                         EQUITY   NaN         0.0         0.0   \n",
       "23             Contributed equity    14   5700000.0   5700000.0   \n",
       "24              Retained earnings   NaN   8594402.0  11094215.0   \n",
       "25                   Total equity   NaN  14294402.0  16794215.0   \n",
       "\n",
       "     statement_section statement_sub_section  \n",
       "0               assets               current  \n",
       "1               assets               current  \n",
       "2               assets               current  \n",
       "3               assets               current  \n",
       "4               assets               current  \n",
       "5               assets               current  \n",
       "6               assets               current  \n",
       "7               assets            noncurrent  \n",
       "8               assets            noncurrent  \n",
       "9               assets            noncurrent  \n",
       "10              assets            noncurrent  \n",
       "11              assets            noncurrent  \n",
       "12              assets               current  \n",
       "13  equity_liabilities               current  \n",
       "14  equity_liabilities               current  \n",
       "15  equity_liabilities               current  \n",
       "16  equity_liabilities               current  \n",
       "17  equity_liabilities            noncurrent  \n",
       "18  equity_liabilities            noncurrent  \n",
       "19  equity_liabilities            noncurrent  \n",
       "20  equity_liabilities            noncurrent  \n",
       "21  equity_liabilities            noncurrent  \n",
       "22  equity_liabilities                equity  \n",
       "23  equity_liabilities                equity  \n",
       "24  equity_liabilities                equity  \n",
       "25  equity_liabilities                equity  "
      ]
     },
     "execution_count": 29,
     "metadata": {},
     "output_type": "execute_result"
    }
   ],
   "source": [
    "cbs_dict[7]"
   ]
  },
  {
   "cell_type": "code",
   "execution_count": null,
   "id": "bf5ae844-2756-47e6-8ecc-91f6117b7768",
   "metadata": {},
   "outputs": [],
   "source": []
  },
  {
   "cell_type": "code",
   "execution_count": null,
   "id": "532bad3a-108e-4b50-911b-f633b2083ef6",
   "metadata": {},
   "outputs": [],
   "source": []
  },
  {
   "cell_type": "code",
   "execution_count": null,
   "id": "d9aaa725-a342-4336-9618-8ae1ef9e621c",
   "metadata": {},
   "outputs": [],
   "source": []
  },
  {
   "cell_type": "code",
   "execution_count": 11,
   "id": "059ce5a7",
   "metadata": {},
   "outputs": [
    {
     "data": {
      "text/plain": [
       "{'ca_cash_and_cash_equivalents': {'main_page_row_indices': [2],\n",
       "  'main_page_year_total': [28259.0, 19589.0],\n",
       "  'main_page_raw_note': ['6'],\n",
       "  'main_page_particular_text_list': ['Cash and cash equivalents'],\n",
       "  'main_page_value_list': [[28259.0], [19589.0]],\n",
       "  'notes_table_df':   raw_note_no note_no subnote_no  \\\n",
       "  0           6       6              \n",
       "  1           6       6              \n",
       "  2           6       6              \n",
       "  3           6       6              \n",
       "  \n",
       "                                             line_item  year    value  \n",
       "  0                     $000  Cash at bank and on hand  2020  19589.0  \n",
       "  1  $000 Cash at banks earns interest at floating ...  2020      0.0  \n",
       "  2                     $000  Cash at bank and on hand  2019  28259.0  \n",
       "  3  $000 Cash at banks earns interest at floating ...  2019      0.0  },\n",
       " 'ca_inventories': {'main_page_row_indices': [4],\n",
       "  'main_page_year_total': [26953.0, 27198.0],\n",
       "  'main_page_raw_note': ['8'],\n",
       "  'main_page_particular_text_list': ['Inventories'],\n",
       "  'main_page_value_list': [[26953.0], [27198.0]],\n",
       "  'notes_table_df':   raw_note_no note_no subnote_no             line_item  year  value\n",
       "  0           8       8              $000  Raw materials  2020  18547\n",
       "  1           8       8             $000  Finished goods  2020   8651\n",
       "  2           8       8                           $000    2020  27198\n",
       "  3           8       8              $000  Raw materials  2019  19816\n",
       "  4           8       8             $000  Finished goods  2019   7137\n",
       "  5           8       8                           $000    2019  26953},\n",
       " 'ca_prepaid_expenses': {'main_page_row_indices': [1, 5, 7, 8],\n",
       "  'main_page_year_total': [134903.0, 67707.0],\n",
       "  'main_page_raw_note': ['9'],\n",
       "  'main_page_particular_text_list': ['Current assets',\n",
       "   'Financial assets',\n",
       "   'Other current assets',\n",
       "   'Total current assets'],\n",
       "  'main_page_value_list': [[0.0, 29753.0, 328.0, 104822.0],\n",
       "   [0.0, 0.0, 489.0, 67218.0]],\n",
       "  'notes_table_df':    raw_note_no note_no subnote_no  \\\n",
       "  0            9       9              \n",
       "  1            9       9              \n",
       "  2            9       9              \n",
       "  3            9       9              \n",
       "  4            9       9              \n",
       "  5            9       9              \n",
       "  6            9       9              \n",
       "  7            9       9              \n",
       "  8            9       9              \n",
       "  9            9       9              \n",
       "  10           9       9              \n",
       "  11           9       9              \n",
       "  \n",
       "                                              line_item  year    value  \n",
       "  0                                $000 Current Current  2020      0.0  \n",
       "  1   $000 Current Foreign exchange derivatives at f...  2020      0.0  \n",
       "  2   $000 Current Electricity derivatives at fair v...  2020      0.0  \n",
       "  3                                       $000 Current   2020      0.0  \n",
       "  4                        $000 Non-current Non-current  2020      0.0  \n",
       "  5   $000 Non-current Electricity derivatives at fa...  2020      0.0  \n",
       "  6                                $000 Current Current  2019      0.0  \n",
       "  7   $000 Current Foreign exchange derivatives at f...  2019     51.0  \n",
       "  8   $000 Current Electricity derivatives at fair v...  2019  29702.0  \n",
       "  9                                       $000 Current   2019  29753.0  \n",
       "  10                       $000 Non-current Non-current  2019      0.0  \n",
       "  11  $000 Non-current Electricity derivatives at fa...  2019  12453.0  },\n",
       " 'ca_other_current_assets': {'main_page_row_indices': [1, 7, 8],\n",
       "  'main_page_year_total': [105150.0, 67707.0],\n",
       "  'main_page_raw_note': [],\n",
       "  'main_page_particular_text_list': ['Current assets',\n",
       "   'Other current assets',\n",
       "   'Total current assets'],\n",
       "  'main_page_value_list': [[0.0, 328.0, 104822.0], [0.0, 489.0, 67218.0]],\n",
       "  'notes_table_df': Empty DataFrame\n",
       "  Columns: [raw_note_no, note_no, subnote_no, line_item, year, value]\n",
       "  Index: []},\n",
       " 'ca_total_current_assets': {'main_page_row_indices': [1, 7, 8],\n",
       "  'main_page_year_total': [105150.0, 67707.0],\n",
       "  'main_page_raw_note': [],\n",
       "  'main_page_particular_text_list': ['Current assets',\n",
       "   'Other current assets',\n",
       "   'Total current assets'],\n",
       "  'main_page_value_list': [[0.0, 328.0, 104822.0], [0.0, 489.0, 67218.0]],\n",
       "  'notes_table_df': Empty DataFrame\n",
       "  Columns: [raw_note_no, note_no, subnote_no, line_item, year, value]\n",
       "  Index: []},\n",
       " 'nca_net_ppe': {'main_page_row_indices': [11],\n",
       "  'main_page_year_total': [3731.0, 17531.0],\n",
       "  'main_page_raw_note': ['12'],\n",
       "  'main_page_particular_text_list': ['Property, plant and equipment'],\n",
       "  'main_page_value_list': [[3731.0], [17531.0]],\n",
       "  'notes_table_df':    raw_note_no note_no subnote_no  \\\n",
       "  0           12      12              \n",
       "  1           12      12              \n",
       "  2           12      12              \n",
       "  3           12      12              \n",
       "  4           12      12              \n",
       "  ..         ...     ...        ...   \n",
       "  70          12      12              \n",
       "  71          12      12              \n",
       "  72          12      12              \n",
       "  73          12      12              \n",
       "  74          12      12              \n",
       "  \n",
       "                                              line_item    year     value  \n",
       "  0          Freehold land and buildings $000 Cost Cost  2020.0       0.0  \n",
       "  1   Freehold land and buildings $000 Cost At 1 Jan...  2020.0   90430.0  \n",
       "  2     Freehold land and buildings $000 Cost Additions  2020.0     376.0  \n",
       "  3     Freehold land and buildings $000 Cost Disposals  2020.0    -149.0  \n",
       "  4      Freehold land and buildings $000 Cost Transfer  2020.0      74.0  \n",
       "  ..                                                ...     ...       ...  \n",
       "  70  Total $000 Accumulated depreciation and impair...  2020.0   -1336.0  \n",
       "  71  Total $000 Accumulated depreciation and impair...  2020.0  430161.0  \n",
       "  72           Total $000 Net book value Net book value  2020.0       0.0  \n",
       "  73      Total $000 Net book value At 31 December 2020  2020.0   17531.0  \n",
       "  74      Total $000 Net book value At 31 December 2019  2019.0    3731.0  \n",
       "  \n",
       "  [75 rows x 6 columns]},\n",
       " 'nca_gross_ppe': {'main_page_row_indices': [11],\n",
       "  'main_page_year_total': [3731.0, 17531.0],\n",
       "  'main_page_raw_note': ['12'],\n",
       "  'main_page_particular_text_list': ['Property, plant and equipment'],\n",
       "  'main_page_value_list': [[3731.0], [17531.0]],\n",
       "  'notes_table_df':    raw_note_no note_no subnote_no  \\\n",
       "  0           12      12              \n",
       "  1           12      12              \n",
       "  2           12      12              \n",
       "  3           12      12              \n",
       "  4           12      12              \n",
       "  ..         ...     ...        ...   \n",
       "  70          12      12              \n",
       "  71          12      12              \n",
       "  72          12      12              \n",
       "  73          12      12              \n",
       "  74          12      12              \n",
       "  \n",
       "                                              line_item    year     value  \n",
       "  0          Freehold land and buildings $000 Cost Cost  2020.0       0.0  \n",
       "  1   Freehold land and buildings $000 Cost At 1 Jan...  2020.0   90430.0  \n",
       "  2     Freehold land and buildings $000 Cost Additions  2020.0     376.0  \n",
       "  3     Freehold land and buildings $000 Cost Disposals  2020.0    -149.0  \n",
       "  4      Freehold land and buildings $000 Cost Transfer  2020.0      74.0  \n",
       "  ..                                                ...     ...       ...  \n",
       "  70  Total $000 Accumulated depreciation and impair...  2020.0   -1336.0  \n",
       "  71  Total $000 Accumulated depreciation and impair...  2020.0  430161.0  \n",
       "  72           Total $000 Net book value Net book value  2020.0       0.0  \n",
       "  73      Total $000 Net book value At 31 December 2020  2020.0   17531.0  \n",
       "  74      Total $000 Net book value At 31 December 2019  2019.0    3731.0  \n",
       "  \n",
       "  [75 rows x 6 columns]},\n",
       " 'nca_other_tangible_assets': {'main_page_row_indices': [12],\n",
       "  'main_page_year_total': [1476.0, 1007.0],\n",
       "  'main_page_raw_note': [],\n",
       "  'main_page_particular_text_list': ['Right-of-use assets'],\n",
       "  'main_page_value_list': [[1476.0], [1007.0]],\n",
       "  'notes_table_df': Empty DataFrame\n",
       "  Columns: [raw_note_no, note_no, subnote_no, line_item, year, value]\n",
       "  Index: []},\n",
       " 'nca_tangible_assets': {'main_page_row_indices': [],\n",
       "  'main_page_year_total': [0, 0],\n",
       "  'main_page_raw_note': [],\n",
       "  'main_page_particular_text_list': [],\n",
       "  'main_page_value_list': [[], []],\n",
       "  'notes_table_df': Empty DataFrame\n",
       "  Columns: [raw_note_no, note_no, subnote_no, line_item, year, value]\n",
       "  Index: []},\n",
       " 'nca_goodwill': {'main_page_row_indices': [],\n",
       "  'main_page_year_total': [0, 0],\n",
       "  'main_page_raw_note': [],\n",
       "  'main_page_particular_text_list': [],\n",
       "  'main_page_value_list': [[], []],\n",
       "  'notes_table_df': Empty DataFrame\n",
       "  Columns: [raw_note_no, note_no, subnote_no, line_item, year, value]\n",
       "  Index: []},\n",
       " 'nca_other_intangible_assets': {'main_page_row_indices': [],\n",
       "  'main_page_year_total': [0, 0],\n",
       "  'main_page_raw_note': [],\n",
       "  'main_page_particular_text_list': [],\n",
       "  'main_page_value_list': [[], []],\n",
       "  'notes_table_df': Empty DataFrame\n",
       "  Columns: [raw_note_no, note_no, subnote_no, line_item, year, value]\n",
       "  Index: []},\n",
       " 'nca_intangible_assets': {'main_page_row_indices': [],\n",
       "  'main_page_year_total': [0, 0],\n",
       "  'main_page_raw_note': [],\n",
       "  'main_page_particular_text_list': [],\n",
       "  'main_page_value_list': [[], []],\n",
       "  'notes_table_df': Empty DataFrame\n",
       "  Columns: [raw_note_no, note_no, subnote_no, line_item, year, value]\n",
       "  Index: []},\n",
       " 'nca_investments': {'main_page_row_indices': [10],\n",
       "  'main_page_year_total': [54535.0, 47672.0],\n",
       "  'main_page_raw_note': ['11', '11', '11'],\n",
       "  'main_page_particular_text_list': ['Investment in joint ventures'],\n",
       "  'main_page_value_list': [[54535.0], [47672.0]],\n",
       "  'notes_table_df':    raw_note_no note_no subnote_no  \\\n",
       "  0           11      11              \n",
       "  1           11      11              \n",
       "  2           11      11              \n",
       "  3           11      11              \n",
       "  4           11      11              \n",
       "  5           11      11              \n",
       "  6           11      11              \n",
       "  7           11      11              \n",
       "  8           11      11              \n",
       "  9           11      11              \n",
       "  10          11      11              \n",
       "  11          11      11              \n",
       "  12          11      11              \n",
       "  13          11      11              \n",
       "  14          11      11              \n",
       "  15          11      11              \n",
       "  16          11      11              \n",
       "  17          11      11              \n",
       "  \n",
       "                                              line_item  year    value  \n",
       "  0                                  $000  At 1 January  2020    54535  \n",
       "  1   $000  Share of gain/(loss) of joint venture, n...  2020     1586  \n",
       "  2   $000  Share of other comprehensive income, net...  2020    -8448  \n",
       "  3   $000  Carrying value of investment at end of year  2020    47672  \n",
       "  4                                  $000  At 1 January  2019    59249  \n",
       "  5   $000  Share of gain/(loss) of joint venture, n...  2019    -7587  \n",
       "  6   $000  Share of other comprehensive income, net...  2019     2873  \n",
       "  7   $000  Carrying value of investment at end of year  2019    54535  \n",
       "  8   $000  Investment in joint venture (Southern Cr...  2020    47672  \n",
       "  9   $000  Investment in joint venture (Southern Cr...  2019    54535  \n",
       "  10  Ownership interest % Southern Cross Southern C...  2020      0.0  \n",
       "  11  Ownership interest % Southern Cross Aluminium ...  2020      0.0  \n",
       "  12  Ownership interest % Southern Cross Southern C...  2019      0.0  \n",
       "  13  Ownership interest % Southern Cross Aluminium ...  2019      0.0  \n",
       "  14  Ownership interest $000 Southern Cross Souther...  2020      0.0  \n",
       "  15  Ownership interest $000 Southern Cross Alumini...  2020  47672.0  \n",
       "  16  Ownership interest $000 Southern Cross Souther...  2019      0.0  \n",
       "  17  Ownership interest $000 Southern Cross Alumini...  2019  54535.0  },\n",
       " 'nca_deffered_charges': {'main_page_row_indices': [14],\n",
       "  'main_page_year_total': [12309.0, 24223.0],\n",
       "  'main_page_raw_note': [],\n",
       "  'main_page_particular_text_list': ['Deferred tax assets'],\n",
       "  'main_page_value_list': [[12309.0], [24223.0]],\n",
       "  'notes_table_df': Empty DataFrame\n",
       "  Columns: [raw_note_no, note_no, subnote_no, line_item, year, value]\n",
       "  Index: []},\n",
       " 'nca_other_assets': {'main_page_row_indices': [],\n",
       "  'main_page_year_total': [0, 0],\n",
       "  'main_page_raw_note': [],\n",
       "  'main_page_particular_text_list': [],\n",
       "  'main_page_value_list': [[], []],\n",
       "  'notes_table_df': Empty DataFrame\n",
       "  Columns: [raw_note_no, note_no, subnote_no, line_item, year, value]\n",
       "  Index: []},\n",
       " 'nca_total_non_current_assets': {'main_page_row_indices': [9, 15, 16],\n",
       "  'main_page_year_total': [85860.0, 90433.0],\n",
       "  'main_page_raw_note': [],\n",
       "  'main_page_particular_text_list': ['Non-current assets',\n",
       "   'Other non-current assets',\n",
       "   'Total non-current assets'],\n",
       "  'main_page_value_list': [[0.0, 678.0, 85182.0], [0.0, 0.0, 90433.0]],\n",
       "  'notes_table_df': Empty DataFrame\n",
       "  Columns: [raw_note_no, note_no, subnote_no, line_item, year, value]\n",
       "  Index: []},\n",
       " 'cl_short_term_debt': {'main_page_row_indices': [21, 24],\n",
       "  'main_page_year_total': [4471.0, 412.0],\n",
       "  'main_page_raw_note': ['16', '16'],\n",
       "  'main_page_particular_text_list': ['Borrowings', 'Lease liabilities'],\n",
       "  'main_page_value_list': [[4000.0, 471.0], [0.0, 412.0]],\n",
       "  'notes_table_df':    raw_note_no note_no subnote_no  \\\n",
       "  0           16      16              \n",
       "  1           16      16              \n",
       "  2           16      16              \n",
       "  3           16      16              \n",
       "  4           16      16              \n",
       "  5           16      16              \n",
       "  6           16      16              \n",
       "  7           16      16              \n",
       "  8           16      16              \n",
       "  9           16      16              \n",
       "  10          16      16              \n",
       "  11          16      16              \n",
       "  12          16      16              \n",
       "  13          16      16              \n",
       "  14          16      16              \n",
       "  15          16      16              \n",
       "  16          16      16              \n",
       "  17          16      16              \n",
       "  \n",
       "                                              line_item  year    value  \n",
       "  0                               $000  Bank borrowings  2020      0.0  \n",
       "  1                               $000  Bank borrowings  2019   4000.0  \n",
       "  2   Multi-option facilities $000  facilities facil...  2020  52100.0  \n",
       "  3             Multi-option facilities $000  Utilised   2020      0.0  \n",
       "  4   Multi-option facilities $000  Utilised bank gu...  2020   3273.0  \n",
       "  5   Multi-option facilities $000  Balance at 31 De...  2020  48827.0  \n",
       "  6   Bank guarantee facilities $000  facilities fac...  2020  13500.0  \n",
       "  7           Bank guarantee facilities $000  Utilised   2020      0.0  \n",
       "  8   Bank guarantee facilities $000  Utilised bank ...  2020  13500.0  \n",
       "  9   Bank guarantee facilities $000  Balance at 31 ...  2020      0.0  \n",
       "  10  Multi-option facilities $000  facilities facil...  2019  52100.0  \n",
       "  11            Multi-option facilities $000  Utilised   2019   4000.0  \n",
       "  12  Multi-option facilities $000  Utilised bank gu...  2019   1023.0  \n",
       "  13  Multi-option facilities $000  Balance at 31 De...  2019  47077.0  \n",
       "  14  Bank guarantee facilities $000  facilities fac...  2019  13500.0  \n",
       "  15          Bank guarantee facilities $000  Utilised   2019      0.0  \n",
       "  16  Bank guarantee facilities $000  Utilised bank ...  2019  13500.0  \n",
       "  17  Bank guarantee facilities $000  Balance at 31 ...  2019      0.0  },\n",
       " 'cl_long_term_debt_due_in_year': {'main_page_row_indices': [19, 23, 25],\n",
       "  'main_page_year_total': [39800.0, 38056.0],\n",
       "  'main_page_raw_note': ['15'],\n",
       "  'main_page_particular_text_list': ['Current liabilities',\n",
       "   'Financial liabilities',\n",
       "   'Total current liabilities'],\n",
       "  'main_page_value_list': [[0.0, 0.0, 39800.0], [0.0, 2935.0, 35121.0]],\n",
       "  'notes_table_df':   raw_note_no note_no subnote_no  \\\n",
       "  0          15      15              \n",
       "  1          15      15              \n",
       "  2          15      15              \n",
       "  3          15      15              \n",
       "  4          15      15              \n",
       "  5          15      15              \n",
       "  \n",
       "                                             line_item  year  value  \n",
       "  0                     $000  Trade and other payables  2020  25569  \n",
       "  1  $000  Electricity derivatives at fair value th...  2020   2935  \n",
       "  2                            $000  Lease liabilities  2020   1053  \n",
       "  3                                             $000    2020  29557  \n",
       "  4                                      $000  Current  2020  25662  \n",
       "  5                                  $000  Non-current  2020   3895  },\n",
       " 'cl_note_payable_debt': {'main_page_row_indices': [],\n",
       "  'main_page_year_total': [0, 0],\n",
       "  'main_page_raw_note': [],\n",
       "  'main_page_particular_text_list': [],\n",
       "  'main_page_value_list': [[], []],\n",
       "  'notes_table_df': Empty DataFrame\n",
       "  Columns: [raw_note_no, note_no, subnote_no, line_item, year, value]\n",
       "  Index: []},\n",
       " 'cl_accounts_payable': {'main_page_row_indices': [20],\n",
       "  'main_page_year_total': [26101.0, 22315.0],\n",
       "  'main_page_raw_note': [],\n",
       "  'main_page_particular_text_list': ['Trade and other payables'],\n",
       "  'main_page_value_list': [[26101.0], [22315.0]],\n",
       "  'notes_table_df': Empty DataFrame\n",
       "  Columns: [raw_note_no, note_no, subnote_no, line_item, year, value]\n",
       "  Index: []},\n",
       " 'cl_accrued_expenses': {'main_page_row_indices': [19, 23, 25],\n",
       "  'main_page_year_total': [39800.0, 38056.0],\n",
       "  'main_page_raw_note': ['15'],\n",
       "  'main_page_particular_text_list': ['Current liabilities',\n",
       "   'Financial liabilities',\n",
       "   'Total current liabilities'],\n",
       "  'main_page_value_list': [[0.0, 0.0, 39800.0], [0.0, 2935.0, 35121.0]],\n",
       "  'notes_table_df':   raw_note_no note_no subnote_no  \\\n",
       "  0          15      15              \n",
       "  1          15      15              \n",
       "  2          15      15              \n",
       "  3          15      15              \n",
       "  4          15      15              \n",
       "  5          15      15              \n",
       "  \n",
       "                                             line_item  year  value  \n",
       "  0                     $000  Trade and other payables  2020  25569  \n",
       "  1  $000  Electricity derivatives at fair value th...  2020   2935  \n",
       "  2                            $000  Lease liabilities  2020   1053  \n",
       "  3                                             $000    2020  29557  \n",
       "  4                                      $000  Current  2020  25662  \n",
       "  5                                  $000  Non-current  2020   3895  },\n",
       " 'cl_tax_payable': {'main_page_row_indices': [],\n",
       "  'main_page_year_total': [0, 0],\n",
       "  'main_page_raw_note': [],\n",
       "  'main_page_particular_text_list': [],\n",
       "  'main_page_value_list': [[], []],\n",
       "  'notes_table_df': Empty DataFrame\n",
       "  Columns: [raw_note_no, note_no, subnote_no, line_item, year, value]\n",
       "  Index: []},\n",
       " 'cl_other_current_liabilities': {'main_page_row_indices': [19, 25],\n",
       "  'main_page_year_total': [39800.0, 35121.0],\n",
       "  'main_page_raw_note': [],\n",
       "  'main_page_particular_text_list': ['Current liabilities',\n",
       "   'Total current liabilities'],\n",
       "  'main_page_value_list': [[0.0, 39800.0], [0.0, 35121.0]],\n",
       "  'notes_table_df': Empty DataFrame\n",
       "  Columns: [raw_note_no, note_no, subnote_no, line_item, year, value]\n",
       "  Index: []},\n",
       " 'cl_total_current_liabilities': {'main_page_row_indices': [19, 25],\n",
       "  'main_page_year_total': [39800.0, 35121.0],\n",
       "  'main_page_raw_note': [],\n",
       "  'main_page_particular_text_list': ['Current liabilities',\n",
       "   'Total current liabilities'],\n",
       "  'main_page_value_list': [[0.0, 39800.0], [0.0, 35121.0]],\n",
       "  'notes_table_df': Empty DataFrame\n",
       "  Columns: [raw_note_no, note_no, subnote_no, line_item, year, value]\n",
       "  Index: []},\n",
       " 'ncl_long_term_debt': {'main_page_row_indices': [],\n",
       "  'main_page_year_total': [0, 0],\n",
       "  'main_page_raw_note': [],\n",
       "  'main_page_particular_text_list': [],\n",
       "  'main_page_value_list': [[], []],\n",
       "  'notes_table_df': Empty DataFrame\n",
       "  Columns: [raw_note_no, note_no, subnote_no, line_item, year, value]\n",
       "  Index: []},\n",
       " 'ncl_long_term_borrowing': {'main_page_row_indices': [],\n",
       "  'main_page_year_total': [0, 0],\n",
       "  'main_page_raw_note': [],\n",
       "  'main_page_particular_text_list': [],\n",
       "  'main_page_value_list': [[], []],\n",
       "  'notes_table_df': Empty DataFrame\n",
       "  Columns: [raw_note_no, note_no, subnote_no, line_item, year, value]\n",
       "  Index: []},\n",
       " 'ncl_bond': {'main_page_row_indices': [],\n",
       "  'main_page_year_total': [0, 0],\n",
       "  'main_page_raw_note': [],\n",
       "  'main_page_particular_text_list': [],\n",
       "  'main_page_value_list': [[], []],\n",
       "  'notes_table_df': Empty DataFrame\n",
       "  Columns: [raw_note_no, note_no, subnote_no, line_item, year, value]\n",
       "  Index: []},\n",
       " 'ncl_suboardinate_debt': {'main_page_row_indices': [29],\n",
       "  'main_page_year_total': [1042.0, 641.0],\n",
       "  'main_page_raw_note': [],\n",
       "  'main_page_particular_text_list': ['Lease liabilities'],\n",
       "  'main_page_value_list': [[1042.0], [641.0]],\n",
       "  'notes_table_df': Empty DataFrame\n",
       "  Columns: [raw_note_no, note_no, subnote_no, line_item, year, value]\n",
       "  Index: []},\n",
       " 'ncl_deferred_taxes': {'main_page_row_indices': [30],\n",
       "  'main_page_year_total': [23326.0, 18466.0],\n",
       "  'main_page_raw_note': [],\n",
       "  'main_page_particular_text_list': ['Deferred tax liabilities'],\n",
       "  'main_page_value_list': [[23326.0], [18466.0]],\n",
       "  'notes_table_df': Empty DataFrame\n",
       "  Columns: [raw_note_no, note_no, subnote_no, line_item, year, value]\n",
       "  Index: []},\n",
       " 'ncl_other_long_term_liabilities': {'main_page_row_indices': [],\n",
       "  'main_page_year_total': [0, 0],\n",
       "  'main_page_raw_note': [],\n",
       "  'main_page_particular_text_list': [],\n",
       "  'main_page_value_list': [[], []],\n",
       "  'notes_table_df': Empty DataFrame\n",
       "  Columns: [raw_note_no, note_no, subnote_no, line_item, year, value]\n",
       "  Index: []},\n",
       " 'ncl_minority_interest': {'main_page_row_indices': [],\n",
       "  'main_page_year_total': [0, 0],\n",
       "  'main_page_raw_note': [],\n",
       "  'main_page_particular_text_list': [],\n",
       "  'main_page_value_list': [[], []],\n",
       "  'notes_table_df': Empty DataFrame\n",
       "  Columns: [raw_note_no, note_no, subnote_no, line_item, year, value]\n",
       "  Index: []},\n",
       " 'ncl_long_term_liabilities': {'main_page_row_indices': [],\n",
       "  'main_page_year_total': [0, 0],\n",
       "  'main_page_raw_note': [],\n",
       "  'main_page_particular_text_list': [],\n",
       "  'main_page_value_list': [[], []],\n",
       "  'notes_table_df': Empty DataFrame\n",
       "  Columns: [raw_note_no, note_no, subnote_no, line_item, year, value]\n",
       "  Index: []},\n",
       " 'eqt_common_stock': {'main_page_row_indices': [],\n",
       "  'main_page_year_total': [0, 0],\n",
       "  'main_page_raw_note': [],\n",
       "  'main_page_particular_text_list': [],\n",
       "  'main_page_value_list': [[], []],\n",
       "  'notes_table_df': Empty DataFrame\n",
       "  Columns: [raw_note_no, note_no, subnote_no, line_item, year, value]\n",
       "  Index: []},\n",
       " 'eqt_additional_paid_in_capital': {'main_page_row_indices': [],\n",
       "  'main_page_year_total': [0, 0],\n",
       "  'main_page_raw_note': [],\n",
       "  'main_page_particular_text_list': [],\n",
       "  'main_page_value_list': [[], []],\n",
       "  'notes_table_df': Empty DataFrame\n",
       "  Columns: [raw_note_no, note_no, subnote_no, line_item, year, value]\n",
       "  Index: []},\n",
       " 'eqt_other_reserves': {'main_page_row_indices': [],\n",
       "  'main_page_year_total': [0, 0],\n",
       "  'main_page_raw_note': [],\n",
       "  'main_page_particular_text_list': [],\n",
       "  'main_page_value_list': [[], []],\n",
       "  'notes_table_df': Empty DataFrame\n",
       "  Columns: [raw_note_no, note_no, subnote_no, line_item, year, value]\n",
       "  Index: []},\n",
       " 'eqt_retained_earnings': {'main_page_row_indices': [],\n",
       "  'main_page_year_total': [0, 0],\n",
       "  'main_page_raw_note': [],\n",
       "  'main_page_particular_text_list': [],\n",
       "  'main_page_value_list': [[], []],\n",
       "  'notes_table_df': Empty DataFrame\n",
       "  Columns: [raw_note_no, note_no, subnote_no, line_item, year, value]\n",
       "  Index: []},\n",
       " 'eqt_others': {'main_page_row_indices': [],\n",
       "  'main_page_year_total': [0, 0],\n",
       "  'main_page_raw_note': [],\n",
       "  'main_page_particular_text_list': [],\n",
       "  'main_page_value_list': [[], []],\n",
       "  'notes_table_df': Empty DataFrame\n",
       "  Columns: [raw_note_no, note_no, subnote_no, line_item, year, value]\n",
       "  Index: []},\n",
       " 'eqt_shareholder_equity': {'main_page_row_indices': [],\n",
       "  'main_page_year_total': [0, 0],\n",
       "  'main_page_raw_note': [],\n",
       "  'main_page_particular_text_list': [],\n",
       "  'main_page_value_list': [[], []],\n",
       "  'notes_table_df': Empty DataFrame\n",
       "  Columns: [raw_note_no, note_no, subnote_no, line_item, year, value]\n",
       "  Index: []},\n",
       " 'total_liability_equity': {'main_page_row_indices': [],\n",
       "  'main_page_year_total': [0, 0],\n",
       "  'main_page_raw_note': [],\n",
       "  'main_page_particular_text_list': [],\n",
       "  'main_page_value_list': [[], []],\n",
       "  'notes_table_df': Empty DataFrame\n",
       "  Columns: [raw_note_no, note_no, subnote_no, line_item, year, value]\n",
       "  Index: []},\n",
       " 'lbt_total_liability': {'main_page_row_indices': [],\n",
       "  'main_page_year_total': [0, 0],\n",
       "  'main_page_raw_note': [],\n",
       "  'main_page_particular_text_list': [],\n",
       "  'main_page_value_list': [[], []],\n",
       "  'notes_table_df': Empty DataFrame\n",
       "  Columns: [raw_note_no, note_no, subnote_no, line_item, year, value]\n",
       "  Index: []},\n",
       " 'ast_total_assets': {'main_page_row_indices': [],\n",
       "  'main_page_year_total': [0, 0],\n",
       "  'main_page_raw_note': [],\n",
       "  'main_page_particular_text_list': [],\n",
       "  'main_page_value_list': [[], []],\n",
       "  'notes_table_df': Empty DataFrame\n",
       "  Columns: [raw_note_no, note_no, subnote_no, line_item, year, value]\n",
       "  Index: []},\n",
       " 'nca_accumulated_depreciation': {'main_page_row_indices': [11],\n",
       "  'main_page_year_total': [3731.0, 17531.0],\n",
       "  'main_page_raw_note': ['12'],\n",
       "  'main_page_particular_text_list': ['Property, plant and equipment'],\n",
       "  'main_page_value_list': [[3731.0], [17531.0]],\n",
       "  'notes_table_df':    raw_note_no note_no subnote_no  \\\n",
       "  0           12      12              \n",
       "  1           12      12              \n",
       "  2           12      12              \n",
       "  3           12      12              \n",
       "  4           12      12              \n",
       "  ..         ...     ...        ...   \n",
       "  70          12      12              \n",
       "  71          12      12              \n",
       "  72          12      12              \n",
       "  73          12      12              \n",
       "  74          12      12              \n",
       "  \n",
       "                                              line_item    year     value  \n",
       "  0          Freehold land and buildings $000 Cost Cost  2020.0       0.0  \n",
       "  1   Freehold land and buildings $000 Cost At 1 Jan...  2020.0   90430.0  \n",
       "  2     Freehold land and buildings $000 Cost Additions  2020.0     376.0  \n",
       "  3     Freehold land and buildings $000 Cost Disposals  2020.0    -149.0  \n",
       "  4      Freehold land and buildings $000 Cost Transfer  2020.0      74.0  \n",
       "  ..                                                ...     ...       ...  \n",
       "  70  Total $000 Accumulated depreciation and impair...  2020.0   -1336.0  \n",
       "  71  Total $000 Accumulated depreciation and impair...  2020.0  430161.0  \n",
       "  72           Total $000 Net book value Net book value  2020.0       0.0  \n",
       "  73      Total $000 Net book value At 31 December 2020  2020.0   17531.0  \n",
       "  74      Total $000 Net book value At 31 December 2019  2019.0    3731.0  \n",
       "  \n",
       "  [75 rows x 6 columns]},\n",
       " 'ca_account_receivables': {'main_page_row_indices': [3, 6, 18],\n",
       "  'main_page_year_total': [19529.0, 19942.0],\n",
       "  'main_page_raw_note': ['7'],\n",
       "  'main_page_particular_text_list': ['Trade and other receivables',\n",
       "   'Income tax receivable from related parties',\n",
       "   'Liabilities'],\n",
       "  'main_page_value_list': [[11999.0, 7530.0, 0.0], [13624.0, 6318.0, 0.0]],\n",
       "  'notes_table_df':   raw_note_no note_no subnote_no                                  line_item  \\\n",
       "  0           7       7                                  $000  GST receivable   \n",
       "  1           7       7             $000  Related party receivables (Note 20)   \n",
       "  2           7       7                                                $000     \n",
       "  3           7       7                                  $000  GST receivable   \n",
       "  4           7       7             $000  Related party receivables (Note 20)   \n",
       "  5           7       7                                                $000     \n",
       "  \n",
       "     year  value  \n",
       "  0  2020   1697  \n",
       "  1  2020  11927  \n",
       "  2  2020  13624  \n",
       "  3  2019   1390  \n",
       "  4  2019  10609  \n",
       "  5  2019  11999  }}"
      ]
     },
     "execution_count": 11,
     "metadata": {},
     "output_type": "execute_result"
    }
   ],
   "source": [
    "obj_cbs_mapping.bs_bucket_dict"
   ]
  },
  {
   "cell_type": "code",
   "execution_count": null,
   "id": "4c2be07f-a587-4a13-99c5-0ea11240fad7",
   "metadata": {},
   "outputs": [],
   "source": []
  },
  {
   "cell_type": "code",
   "execution_count": null,
   "id": "d5f5467d-b55d-43e7-aa5b-5cd4ad52255c",
   "metadata": {},
   "outputs": [],
   "source": []
  },
  {
   "cell_type": "code",
   "execution_count": null,
   "id": "34eb7e69-f00b-42e1-b1f5-8fbef97e5e28",
   "metadata": {},
   "outputs": [],
   "source": []
  },
  {
   "cell_type": "code",
   "execution_count": 91,
   "id": "8541fa29",
   "metadata": {},
   "outputs": [
    {
     "data": {
      "text/html": [
       "<div>\n",
       "<style scoped>\n",
       "    .dataframe tbody tr th:only-of-type {\n",
       "        vertical-align: middle;\n",
       "    }\n",
       "\n",
       "    .dataframe tbody tr th {\n",
       "        vertical-align: top;\n",
       "    }\n",
       "\n",
       "    .dataframe thead th {\n",
       "        text-align: right;\n",
       "    }\n",
       "</style>\n",
       "<table border=\"1\" class=\"dataframe\">\n",
       "  <thead>\n",
       "    <tr style=\"text-align: right;\">\n",
       "      <th></th>\n",
       "      <th>raw_note_no</th>\n",
       "      <th>note_no</th>\n",
       "      <th>subnote_no</th>\n",
       "      <th>line_item</th>\n",
       "      <th>year</th>\n",
       "      <th>value</th>\n",
       "    </tr>\n",
       "  </thead>\n",
       "  <tbody>\n",
       "    <tr>\n",
       "      <th>0</th>\n",
       "      <td>11</td>\n",
       "      <td>11</td>\n",
       "      <td></td>\n",
       "      <td>$000  At 1 January</td>\n",
       "      <td>2020</td>\n",
       "      <td>54535</td>\n",
       "    </tr>\n",
       "    <tr>\n",
       "      <th>1</th>\n",
       "      <td>11</td>\n",
       "      <td>11</td>\n",
       "      <td></td>\n",
       "      <td>$000  Share of gain/(loss) of joint venture, n...</td>\n",
       "      <td>2020</td>\n",
       "      <td>1586</td>\n",
       "    </tr>\n",
       "    <tr>\n",
       "      <th>2</th>\n",
       "      <td>11</td>\n",
       "      <td>11</td>\n",
       "      <td></td>\n",
       "      <td>$000  Share of other comprehensive income, net...</td>\n",
       "      <td>2020</td>\n",
       "      <td>-8448</td>\n",
       "    </tr>\n",
       "    <tr>\n",
       "      <th>3</th>\n",
       "      <td>11</td>\n",
       "      <td>11</td>\n",
       "      <td></td>\n",
       "      <td>$000  Carrying value of investment at end of year</td>\n",
       "      <td>2020</td>\n",
       "      <td>47672</td>\n",
       "    </tr>\n",
       "    <tr>\n",
       "      <th>4</th>\n",
       "      <td>11</td>\n",
       "      <td>11</td>\n",
       "      <td></td>\n",
       "      <td>$000  At 1 January</td>\n",
       "      <td>2019</td>\n",
       "      <td>59249</td>\n",
       "    </tr>\n",
       "    <tr>\n",
       "      <th>5</th>\n",
       "      <td>11</td>\n",
       "      <td>11</td>\n",
       "      <td></td>\n",
       "      <td>$000  Share of gain/(loss) of joint venture, n...</td>\n",
       "      <td>2019</td>\n",
       "      <td>-7587</td>\n",
       "    </tr>\n",
       "    <tr>\n",
       "      <th>6</th>\n",
       "      <td>11</td>\n",
       "      <td>11</td>\n",
       "      <td></td>\n",
       "      <td>$000  Share of other comprehensive income, net...</td>\n",
       "      <td>2019</td>\n",
       "      <td>2873</td>\n",
       "    </tr>\n",
       "    <tr>\n",
       "      <th>7</th>\n",
       "      <td>11</td>\n",
       "      <td>11</td>\n",
       "      <td></td>\n",
       "      <td>$000  Carrying value of investment at end of year</td>\n",
       "      <td>2019</td>\n",
       "      <td>54535</td>\n",
       "    </tr>\n",
       "    <tr>\n",
       "      <th>8</th>\n",
       "      <td>11</td>\n",
       "      <td>11</td>\n",
       "      <td></td>\n",
       "      <td>$000  Investment in joint venture (Southern Cr...</td>\n",
       "      <td>2020</td>\n",
       "      <td>47672</td>\n",
       "    </tr>\n",
       "    <tr>\n",
       "      <th>9</th>\n",
       "      <td>11</td>\n",
       "      <td>11</td>\n",
       "      <td></td>\n",
       "      <td>$000  Investment in joint venture (Southern Cr...</td>\n",
       "      <td>2019</td>\n",
       "      <td>54535</td>\n",
       "    </tr>\n",
       "    <tr>\n",
       "      <th>10</th>\n",
       "      <td>11</td>\n",
       "      <td>11</td>\n",
       "      <td></td>\n",
       "      <td>Ownership interest % Southern Cross Southern C...</td>\n",
       "      <td>2020</td>\n",
       "      <td>0.0</td>\n",
       "    </tr>\n",
       "    <tr>\n",
       "      <th>11</th>\n",
       "      <td>11</td>\n",
       "      <td>11</td>\n",
       "      <td></td>\n",
       "      <td>Ownership interest % Southern Cross Aluminium ...</td>\n",
       "      <td>2020</td>\n",
       "      <td>0.0</td>\n",
       "    </tr>\n",
       "    <tr>\n",
       "      <th>12</th>\n",
       "      <td>11</td>\n",
       "      <td>11</td>\n",
       "      <td></td>\n",
       "      <td>Ownership interest % Southern Cross Southern C...</td>\n",
       "      <td>2019</td>\n",
       "      <td>0.0</td>\n",
       "    </tr>\n",
       "    <tr>\n",
       "      <th>13</th>\n",
       "      <td>11</td>\n",
       "      <td>11</td>\n",
       "      <td></td>\n",
       "      <td>Ownership interest % Southern Cross Aluminium ...</td>\n",
       "      <td>2019</td>\n",
       "      <td>0.0</td>\n",
       "    </tr>\n",
       "    <tr>\n",
       "      <th>14</th>\n",
       "      <td>11</td>\n",
       "      <td>11</td>\n",
       "      <td></td>\n",
       "      <td>Ownership interest $000 Southern Cross Souther...</td>\n",
       "      <td>2020</td>\n",
       "      <td>0.0</td>\n",
       "    </tr>\n",
       "    <tr>\n",
       "      <th>15</th>\n",
       "      <td>11</td>\n",
       "      <td>11</td>\n",
       "      <td></td>\n",
       "      <td>Ownership interest $000 Southern Cross Alumini...</td>\n",
       "      <td>2020</td>\n",
       "      <td>47672.0</td>\n",
       "    </tr>\n",
       "    <tr>\n",
       "      <th>16</th>\n",
       "      <td>11</td>\n",
       "      <td>11</td>\n",
       "      <td></td>\n",
       "      <td>Ownership interest $000 Southern Cross Souther...</td>\n",
       "      <td>2019</td>\n",
       "      <td>0.0</td>\n",
       "    </tr>\n",
       "    <tr>\n",
       "      <th>17</th>\n",
       "      <td>11</td>\n",
       "      <td>11</td>\n",
       "      <td></td>\n",
       "      <td>Ownership interest $000 Southern Cross Alumini...</td>\n",
       "      <td>2019</td>\n",
       "      <td>54535.0</td>\n",
       "    </tr>\n",
       "  </tbody>\n",
       "</table>\n",
       "</div>"
      ],
      "text/plain": [
       "   raw_note_no note_no subnote_no  \\\n",
       "0           11      11              \n",
       "1           11      11              \n",
       "2           11      11              \n",
       "3           11      11              \n",
       "4           11      11              \n",
       "5           11      11              \n",
       "6           11      11              \n",
       "7           11      11              \n",
       "8           11      11              \n",
       "9           11      11              \n",
       "10          11      11              \n",
       "11          11      11              \n",
       "12          11      11              \n",
       "13          11      11              \n",
       "14          11      11              \n",
       "15          11      11              \n",
       "16          11      11              \n",
       "17          11      11              \n",
       "\n",
       "                                            line_item  year    value  \n",
       "0                                  $000  At 1 January  2020    54535  \n",
       "1   $000  Share of gain/(loss) of joint venture, n...  2020     1586  \n",
       "2   $000  Share of other comprehensive income, net...  2020    -8448  \n",
       "3   $000  Carrying value of investment at end of year  2020    47672  \n",
       "4                                  $000  At 1 January  2019    59249  \n",
       "5   $000  Share of gain/(loss) of joint venture, n...  2019    -7587  \n",
       "6   $000  Share of other comprehensive income, net...  2019     2873  \n",
       "7   $000  Carrying value of investment at end of year  2019    54535  \n",
       "8   $000  Investment in joint venture (Southern Cr...  2020    47672  \n",
       "9   $000  Investment in joint venture (Southern Cr...  2019    54535  \n",
       "10  Ownership interest % Southern Cross Southern C...  2020      0.0  \n",
       "11  Ownership interest % Southern Cross Aluminium ...  2020      0.0  \n",
       "12  Ownership interest % Southern Cross Southern C...  2019      0.0  \n",
       "13  Ownership interest % Southern Cross Aluminium ...  2019      0.0  \n",
       "14  Ownership interest $000 Southern Cross Souther...  2020      0.0  \n",
       "15  Ownership interest $000 Southern Cross Alumini...  2020  47672.0  \n",
       "16  Ownership interest $000 Southern Cross Souther...  2019      0.0  \n",
       "17  Ownership interest $000 Southern Cross Alumini...  2019  54535.0  "
      ]
     },
     "metadata": {},
     "output_type": "display_data"
    }
   ],
   "source": [
    "display(obj_cbs_mapping.bs_bucket_dict['nca_investments']['notes_table_df'])"
   ]
  },
  {
   "cell_type": "code",
   "execution_count": null,
   "id": "3e9025cc-5c9d-4793-a026-1e93251ad69d",
   "metadata": {},
   "outputs": [],
   "source": []
  },
  {
   "cell_type": "code",
   "execution_count": null,
   "id": "40723d60",
   "metadata": {},
   "outputs": [],
   "source": []
  },
  {
   "cell_type": "code",
   "execution_count": 12,
   "id": "0603964b-bebf-44df-9535-a2287e15f4cf",
   "metadata": {},
   "outputs": [
    {
     "name": "stdout",
     "output_type": "stream",
     "text": [
      "ada\n",
      "adad\n",
      "iii\n",
      "ppp\n"
     ]
    }
   ],
   "source": [
    "a = ['ada','iii']\n",
    "b = ['adad','ppp']\n",
    "for x,y in zip(a,b):\n",
    "    print(x)\n",
    "    print(y)"
   ]
  },
  {
   "cell_type": "code",
   "execution_count": null,
   "id": "7d03dca5-6d0f-44c4-b4c3-7606012a193e",
   "metadata": {},
   "outputs": [],
   "source": []
  },
  {
   "cell_type": "code",
   "execution_count": null,
   "id": "20d73883-91af-4878-bdc4-37407bcb061b",
   "metadata": {},
   "outputs": [],
   "source": []
  },
  {
   "cell_type": "code",
   "execution_count": 13,
   "id": "a1a3b4f8",
   "metadata": {},
   "outputs": [],
   "source": [
    "##dev code"
   ]
  },
  {
   "cell_type": "code",
   "execution_count": 14,
   "id": "fb84da54",
   "metadata": {},
   "outputs": [],
   "source": [
    "from TechMagicFuzzy import TechMagicFuzzy"
   ]
  },
  {
   "cell_type": "code",
   "execution_count": 15,
   "id": "57fd7f74",
   "metadata": {},
   "outputs": [],
   "source": [
    "obj_techfuzzy = TechMagicFuzzy()"
   ]
  },
  {
   "cell_type": "code",
   "execution_count": 16,
   "id": "38fc6acb",
   "metadata": {},
   "outputs": [],
   "source": [
    "text1 = \"Trade and Other receivabkles\"\n",
    "keywords1 = [\"current\"]\n",
    "text2 = \" Trade and Other receivabkles add ada\""
   ]
  },
  {
   "cell_type": "code",
   "execution_count": 17,
   "id": "2dd2e68b",
   "metadata": {},
   "outputs": [
    {
     "data": {
      "text/plain": [
       "[('current', 43)]"
      ]
     },
     "execution_count": 17,
     "metadata": {},
     "output_type": "execute_result"
    }
   ],
   "source": [
    "obj_techfuzzy.partial_ratio_pro(text1, keywords1)"
   ]
  },
  {
   "cell_type": "code",
   "execution_count": 18,
   "id": "d662c696",
   "metadata": {},
   "outputs": [
    {
     "data": {
      "text/plain": [
       "[('current', 24)]"
      ]
     },
     "execution_count": 18,
     "metadata": {},
     "output_type": "execute_result"
    }
   ],
   "source": [
    "obj_techfuzzy.token_sort_pro(text1, keywords1)"
   ]
  },
  {
   "cell_type": "code",
   "execution_count": null,
   "id": "cf962f46",
   "metadata": {},
   "outputs": [],
   "source": []
  },
  {
   "cell_type": "code",
   "execution_count": 19,
   "id": "3bd333e1",
   "metadata": {},
   "outputs": [],
   "source": [
    "from fuzzywuzzy import fuzz"
   ]
  },
  {
   "cell_type": "code",
   "execution_count": 20,
   "id": "96efb987",
   "metadata": {},
   "outputs": [
    {
     "data": {
      "text/plain": [
       "86"
      ]
     },
     "execution_count": 20,
     "metadata": {},
     "output_type": "execute_result"
    }
   ],
   "source": [
    "fuzz.ratio(text1,text2)"
   ]
  },
  {
   "cell_type": "code",
   "execution_count": null,
   "id": "05c85e2f",
   "metadata": {},
   "outputs": [],
   "source": []
  },
  {
   "cell_type": "code",
   "execution_count": 21,
   "id": "a3300299",
   "metadata": {},
   "outputs": [
    {
     "data": {
      "text/plain": [
       "[2, 4, 6]"
      ]
     },
     "execution_count": 21,
     "metadata": {},
     "output_type": "execute_result"
    }
   ],
   "source": [
    "from itertools import chain\n",
    "\n",
    "list(chain.from_iterable([[2,4,6]]))"
   ]
  },
  {
   "cell_type": "code",
   "execution_count": 22,
   "id": "d3cf6ce7-dcc1-41bc-af57-8781e0215967",
   "metadata": {},
   "outputs": [
    {
     "ename": "TypeError",
     "evalue": "'int' object is not iterable",
     "output_type": "error",
     "traceback": [
      "\u001b[0;31m---------------------------------------------------------------------------\u001b[0m",
      "\u001b[0;31mTypeError\u001b[0m                                 Traceback (most recent call last)",
      "Cell \u001b[0;32mIn [22], line 1\u001b[0m\n\u001b[0;32m----> 1\u001b[0m \u001b[38;5;28;43mlist\u001b[39;49m\u001b[43m(\u001b[49m\u001b[43mchain\u001b[49m\u001b[38;5;241;43m.\u001b[39;49m\u001b[43mfrom_iterable\u001b[49m\u001b[43m(\u001b[49m\u001b[43m[\u001b[49m\u001b[38;5;241;43m2\u001b[39;49m\u001b[43m,\u001b[49m\u001b[38;5;241;43m4\u001b[39;49m\u001b[43m,\u001b[49m\u001b[38;5;241;43m6\u001b[39;49m\u001b[43m]\u001b[49m\u001b[43m)\u001b[49m\u001b[43m)\u001b[49m\n",
      "\u001b[0;31mTypeError\u001b[0m: 'int' object is not iterable"
     ]
    }
   ],
   "source": [
    "list(chain.from_iterable([2,4,6]))"
   ]
  },
  {
   "cell_type": "code",
   "execution_count": null,
   "id": "13c80fe9-b37f-4c4d-8f80-21c3a3b1d364",
   "metadata": {},
   "outputs": [],
   "source": [
    "list(chain(*[[2,4,6]]))"
   ]
  },
  {
   "cell_type": "code",
   "execution_count": null,
   "id": "00d4956f-e8fe-408f-ab66-7a24686ea4eb",
   "metadata": {},
   "outputs": [],
   "source": [
    "list(chain(*[2,4,6]))"
   ]
  },
  {
   "cell_type": "code",
   "execution_count": null,
   "id": "52f15ec2-cfdb-44d5-bc63-46ab905da2d0",
   "metadata": {},
   "outputs": [],
   "source": [
    "from operator import add\n",
    "import functools"
   ]
  },
  {
   "cell_type": "code",
   "execution_count": null,
   "id": "17864097-3d04-4f44-a202-595502a03843",
   "metadata": {},
   "outputs": [],
   "source": [
    "functools.reduce(add, [[2,4,6]])"
   ]
  },
  {
   "cell_type": "code",
   "execution_count": null,
   "id": "0aa7ecde-da13-4e33-967c-35b04eff6b37",
   "metadata": {},
   "outputs": [],
   "source": [
    "import numpy as np"
   ]
  },
  {
   "cell_type": "code",
   "execution_count": null,
   "id": "a4f5773c-6f28-4ec9-8208-8c77b1a08548",
   "metadata": {},
   "outputs": [],
   "source": [
    "import uuid\n",
    "from uuid import UUID"
   ]
  },
  {
   "cell_type": "code",
   "execution_count": null,
   "id": "f9a941fc-ae9d-43c6-a922-dc80ef9a06b3",
   "metadata": {},
   "outputs": [],
   "source": [
    "b = [list([UUID('6354e3c7-4619-3a07-b336-df681451d867'), UUID('6354e3c7-4619-3a07-b336-df681451d867')])]"
   ]
  },
  {
   "cell_type": "code",
   "execution_count": null,
   "id": "083f4b03-f10f-47d6-98ca-f15878ec2a39",
   "metadata": {},
   "outputs": [],
   "source": [
    "len(b)"
   ]
  },
  {
   "cell_type": "code",
   "execution_count": null,
   "id": "763a62af-ca84-4fe4-953f-046d9f6cd8fb",
   "metadata": {},
   "outputs": [],
   "source": [
    "b"
   ]
  },
  {
   "cell_type": "code",
   "execution_count": null,
   "id": "4abbb88a-8797-448b-b936-74c8c1cdf134",
   "metadata": {},
   "outputs": [],
   "source": []
  },
  {
   "cell_type": "code",
   "execution_count": 102,
   "id": "5d216235-e7a9-42bf-91f0-b14e7cc10b33",
   "metadata": {},
   "outputs": [],
   "source": [
    "test_notetable = obj_cbs_mapping.bs_bucket_dict['nca_net_ppe']['notes_table_df']"
   ]
  },
  {
   "cell_type": "code",
   "execution_count": 103,
   "id": "4d19e972-e00e-43d6-88f2-5ef3ca7e72ae",
   "metadata": {},
   "outputs": [
    {
     "data": {
      "text/html": [
       "<div>\n",
       "<style scoped>\n",
       "    .dataframe tbody tr th:only-of-type {\n",
       "        vertical-align: middle;\n",
       "    }\n",
       "\n",
       "    .dataframe tbody tr th {\n",
       "        vertical-align: top;\n",
       "    }\n",
       "\n",
       "    .dataframe thead th {\n",
       "        text-align: right;\n",
       "    }\n",
       "</style>\n",
       "<table border=\"1\" class=\"dataframe\">\n",
       "  <thead>\n",
       "    <tr style=\"text-align: right;\">\n",
       "      <th></th>\n",
       "      <th>raw_note_no</th>\n",
       "      <th>note_no</th>\n",
       "      <th>subnote_no</th>\n",
       "      <th>line_item</th>\n",
       "      <th>year</th>\n",
       "      <th>value</th>\n",
       "    </tr>\n",
       "  </thead>\n",
       "  <tbody>\n",
       "    <tr>\n",
       "      <th>0</th>\n",
       "      <td>12</td>\n",
       "      <td>12</td>\n",
       "      <td></td>\n",
       "      <td>Freehold land and buildings $000 Cost Cost</td>\n",
       "      <td>2020.0</td>\n",
       "      <td>0.0</td>\n",
       "    </tr>\n",
       "    <tr>\n",
       "      <th>1</th>\n",
       "      <td>12</td>\n",
       "      <td>12</td>\n",
       "      <td></td>\n",
       "      <td>Freehold land and buildings $000 Cost At 1 Jan...</td>\n",
       "      <td>2020.0</td>\n",
       "      <td>90430.0</td>\n",
       "    </tr>\n",
       "    <tr>\n",
       "      <th>2</th>\n",
       "      <td>12</td>\n",
       "      <td>12</td>\n",
       "      <td></td>\n",
       "      <td>Freehold land and buildings $000 Cost Additions</td>\n",
       "      <td>2020.0</td>\n",
       "      <td>376.0</td>\n",
       "    </tr>\n",
       "    <tr>\n",
       "      <th>3</th>\n",
       "      <td>12</td>\n",
       "      <td>12</td>\n",
       "      <td></td>\n",
       "      <td>Freehold land and buildings $000 Cost Disposals</td>\n",
       "      <td>2020.0</td>\n",
       "      <td>-149.0</td>\n",
       "    </tr>\n",
       "    <tr>\n",
       "      <th>4</th>\n",
       "      <td>12</td>\n",
       "      <td>12</td>\n",
       "      <td></td>\n",
       "      <td>Freehold land and buildings $000 Cost Transfer</td>\n",
       "      <td>2020.0</td>\n",
       "      <td>74.0</td>\n",
       "    </tr>\n",
       "    <tr>\n",
       "      <th>...</th>\n",
       "      <td>...</td>\n",
       "      <td>...</td>\n",
       "      <td>...</td>\n",
       "      <td>...</td>\n",
       "      <td>...</td>\n",
       "      <td>...</td>\n",
       "    </tr>\n",
       "    <tr>\n",
       "      <th>70</th>\n",
       "      <td>12</td>\n",
       "      <td>12</td>\n",
       "      <td></td>\n",
       "      <td>Total $000 Accumulated depreciation and impair...</td>\n",
       "      <td>2020.0</td>\n",
       "      <td>-1336.0</td>\n",
       "    </tr>\n",
       "    <tr>\n",
       "      <th>71</th>\n",
       "      <td>12</td>\n",
       "      <td>12</td>\n",
       "      <td></td>\n",
       "      <td>Total $000 Accumulated depreciation and impair...</td>\n",
       "      <td>2020.0</td>\n",
       "      <td>430161.0</td>\n",
       "    </tr>\n",
       "    <tr>\n",
       "      <th>72</th>\n",
       "      <td>12</td>\n",
       "      <td>12</td>\n",
       "      <td></td>\n",
       "      <td>Total $000 Net book value Net book value</td>\n",
       "      <td>2020.0</td>\n",
       "      <td>0.0</td>\n",
       "    </tr>\n",
       "    <tr>\n",
       "      <th>73</th>\n",
       "      <td>12</td>\n",
       "      <td>12</td>\n",
       "      <td></td>\n",
       "      <td>Total $000 Net book value At 31 December 2020</td>\n",
       "      <td>2020.0</td>\n",
       "      <td>17531.0</td>\n",
       "    </tr>\n",
       "    <tr>\n",
       "      <th>74</th>\n",
       "      <td>12</td>\n",
       "      <td>12</td>\n",
       "      <td></td>\n",
       "      <td>Total $000 Net book value At 31 December 2019</td>\n",
       "      <td>2019.0</td>\n",
       "      <td>3731.0</td>\n",
       "    </tr>\n",
       "  </tbody>\n",
       "</table>\n",
       "<p>75 rows × 6 columns</p>\n",
       "</div>"
      ],
      "text/plain": [
       "   raw_note_no note_no subnote_no  \\\n",
       "0           12      12              \n",
       "1           12      12              \n",
       "2           12      12              \n",
       "3           12      12              \n",
       "4           12      12              \n",
       "..         ...     ...        ...   \n",
       "70          12      12              \n",
       "71          12      12              \n",
       "72          12      12              \n",
       "73          12      12              \n",
       "74          12      12              \n",
       "\n",
       "                                            line_item    year     value  \n",
       "0          Freehold land and buildings $000 Cost Cost  2020.0       0.0  \n",
       "1   Freehold land and buildings $000 Cost At 1 Jan...  2020.0   90430.0  \n",
       "2     Freehold land and buildings $000 Cost Additions  2020.0     376.0  \n",
       "3     Freehold land and buildings $000 Cost Disposals  2020.0    -149.0  \n",
       "4      Freehold land and buildings $000 Cost Transfer  2020.0      74.0  \n",
       "..                                                ...     ...       ...  \n",
       "70  Total $000 Accumulated depreciation and impair...  2020.0   -1336.0  \n",
       "71  Total $000 Accumulated depreciation and impair...  2020.0  430161.0  \n",
       "72           Total $000 Net book value Net book value  2020.0       0.0  \n",
       "73      Total $000 Net book value At 31 December 2020  2020.0   17531.0  \n",
       "74      Total $000 Net book value At 31 December 2019  2019.0    3731.0  \n",
       "\n",
       "[75 rows x 6 columns]"
      ]
     },
     "execution_count": 103,
     "metadata": {},
     "output_type": "execute_result"
    }
   ],
   "source": [
    "test_notetable"
   ]
  },
  {
   "cell_type": "code",
   "execution_count": 104,
   "id": "856d6373-052c-4112-a2ae-0ac59df1264f",
   "metadata": {},
   "outputs": [
    {
     "data": {
      "text/plain": [
       "[2019.0, 2020.0]"
      ]
     },
     "execution_count": 104,
     "metadata": {},
     "output_type": "execute_result"
    }
   ],
   "source": [
    "sorted(list(test_notetable.year.unique()))"
   ]
  },
  {
   "cell_type": "code",
   "execution_count": 112,
   "id": "06352c10-afc8-45b9-ac59-1a04a4a927d8",
   "metadata": {},
   "outputs": [],
   "source": [
    "years = sorted(list(test_notetable.year.unique()))\n",
    "years = map(int, years)"
   ]
  },
  {
   "cell_type": "code",
   "execution_count": 113,
   "id": "2c9560e1-46d1-4fb7-bcde-3d45f7b90d74",
   "metadata": {},
   "outputs": [],
   "source": [
    "col_list = [\"line_item\"]\n",
    "col_list.extend(years)"
   ]
  },
  {
   "cell_type": "code",
   "execution_count": 114,
   "id": "8125c7f5-a51e-42be-8b00-9c25780bd8fb",
   "metadata": {},
   "outputs": [
    {
     "data": {
      "text/plain": [
       "['line_item', 2019, 2020]"
      ]
     },
     "execution_count": 114,
     "metadata": {},
     "output_type": "execute_result"
    }
   ],
   "source": [
    "col_list"
   ]
  },
  {
   "cell_type": "code",
   "execution_count": null,
   "id": "eb09baea-a6c9-4032-b05d-29f76f75998a",
   "metadata": {},
   "outputs": [],
   "source": []
  },
  {
   "cell_type": "code",
   "execution_count": 115,
   "id": "68980c43-8cdc-44d1-b7e6-fe625df9916a",
   "metadata": {
    "collapsed": true,
    "jupyter": {
     "outputs_hidden": true
    },
    "tags": []
   },
   "outputs": [
    {
     "data": {
      "text/html": [
       "<div>\n",
       "<style scoped>\n",
       "    .dataframe tbody tr th:only-of-type {\n",
       "        vertical-align: middle;\n",
       "    }\n",
       "\n",
       "    .dataframe tbody tr th {\n",
       "        vertical-align: top;\n",
       "    }\n",
       "\n",
       "    .dataframe thead th {\n",
       "        text-align: right;\n",
       "    }\n",
       "</style>\n",
       "<table border=\"1\" class=\"dataframe\">\n",
       "  <thead>\n",
       "    <tr style=\"text-align: right;\">\n",
       "      <th></th>\n",
       "      <th>line_item</th>\n",
       "      <th>2019.0</th>\n",
       "      <th>2020.0</th>\n",
       "    </tr>\n",
       "  </thead>\n",
       "  <tbody>\n",
       "    <tr>\n",
       "      <th>0</th>\n",
       "      <td>Freehold land and buildings $000 Cost Cost</td>\n",
       "      <td>NaN</td>\n",
       "      <td>0.0</td>\n",
       "    </tr>\n",
       "    <tr>\n",
       "      <th>1</th>\n",
       "      <td>Freehold land and buildings $000 Cost At 1 Jan...</td>\n",
       "      <td>NaN</td>\n",
       "      <td>90430.0</td>\n",
       "    </tr>\n",
       "    <tr>\n",
       "      <th>2</th>\n",
       "      <td>Freehold land and buildings $000 Cost Additions</td>\n",
       "      <td>NaN</td>\n",
       "      <td>376.0</td>\n",
       "    </tr>\n",
       "    <tr>\n",
       "      <th>3</th>\n",
       "      <td>Freehold land and buildings $000 Cost Disposals</td>\n",
       "      <td>NaN</td>\n",
       "      <td>-149.0</td>\n",
       "    </tr>\n",
       "    <tr>\n",
       "      <th>4</th>\n",
       "      <td>Freehold land and buildings $000 Cost Transfer</td>\n",
       "      <td>NaN</td>\n",
       "      <td>74.0</td>\n",
       "    </tr>\n",
       "    <tr>\n",
       "      <th>...</th>\n",
       "      <td>...</td>\n",
       "      <td>...</td>\n",
       "      <td>...</td>\n",
       "    </tr>\n",
       "    <tr>\n",
       "      <th>70</th>\n",
       "      <td>Total $000 Accumulated depreciation and impair...</td>\n",
       "      <td>NaN</td>\n",
       "      <td>-1336.0</td>\n",
       "    </tr>\n",
       "    <tr>\n",
       "      <th>71</th>\n",
       "      <td>Total $000 Accumulated depreciation and impair...</td>\n",
       "      <td>NaN</td>\n",
       "      <td>430161.0</td>\n",
       "    </tr>\n",
       "    <tr>\n",
       "      <th>72</th>\n",
       "      <td>Total $000 Net book value Net book value</td>\n",
       "      <td>NaN</td>\n",
       "      <td>0.0</td>\n",
       "    </tr>\n",
       "    <tr>\n",
       "      <th>73</th>\n",
       "      <td>Total $000 Net book value At 31 December 2020</td>\n",
       "      <td>NaN</td>\n",
       "      <td>17531.0</td>\n",
       "    </tr>\n",
       "    <tr>\n",
       "      <th>74</th>\n",
       "      <td>Total $000 Net book value At 31 December 2019</td>\n",
       "      <td>3731.0</td>\n",
       "      <td>None</td>\n",
       "    </tr>\n",
       "  </tbody>\n",
       "</table>\n",
       "<p>75 rows × 3 columns</p>\n",
       "</div>"
      ],
      "text/plain": [
       "                                            line_item  2019.0    2020.0\n",
       "0          Freehold land and buildings $000 Cost Cost     NaN       0.0\n",
       "1   Freehold land and buildings $000 Cost At 1 Jan...     NaN   90430.0\n",
       "2     Freehold land and buildings $000 Cost Additions     NaN     376.0\n",
       "3     Freehold land and buildings $000 Cost Disposals     NaN    -149.0\n",
       "4      Freehold land and buildings $000 Cost Transfer     NaN      74.0\n",
       "..                                                ...     ...       ...\n",
       "70  Total $000 Accumulated depreciation and impair...     NaN   -1336.0\n",
       "71  Total $000 Accumulated depreciation and impair...     NaN  430161.0\n",
       "72           Total $000 Net book value Net book value     NaN       0.0\n",
       "73      Total $000 Net book value At 31 December 2020     NaN   17531.0\n",
       "74      Total $000 Net book value At 31 December 2019  3731.0      None\n",
       "\n",
       "[75 rows x 3 columns]"
      ]
     },
     "execution_count": 115,
     "metadata": {},
     "output_type": "execute_result"
    }
   ],
   "source": [
    "new_horizontal_note_df"
   ]
  },
  {
   "cell_type": "code",
   "execution_count": null,
   "id": "2b1fbee1-e7df-4a55-a178-7cc6b6161863",
   "metadata": {},
   "outputs": [],
   "source": []
  },
  {
   "cell_type": "code",
   "execution_count": 116,
   "id": "cc1bca54-6572-41f5-abc4-3090d7088835",
   "metadata": {
    "collapsed": true,
    "jupyter": {
     "outputs_hidden": true
    },
    "tags": []
   },
   "outputs": [
    {
     "data": {
      "text/plain": [
       "{'line_item': 'Freehold land and buildings $000 Cost Cost',\n",
       " 2019: None,\n",
       " 2020: 0.0}"
      ]
     },
     "metadata": {},
     "output_type": "display_data"
    },
    {
     "name": "stderr",
     "output_type": "stream",
     "text": [
      "/tmp/ipykernel_603/394880500.py:12: FutureWarning: The frame.append method is deprecated and will be removed from pandas in a future version. Use pandas.concat instead.\n",
      "  new_horizontal_note_df = new_horizontal_note_df.append(tmp_df, ignore_index=True)\n"
     ]
    },
    {
     "data": {
      "text/plain": [
       "{'line_item': 'Freehold land and buildings $000 Cost At 1 January 2020',\n",
       " 2019: None,\n",
       " 2020: 90430.0}"
      ]
     },
     "metadata": {},
     "output_type": "display_data"
    },
    {
     "name": "stderr",
     "output_type": "stream",
     "text": [
      "/tmp/ipykernel_603/394880500.py:12: FutureWarning: The frame.append method is deprecated and will be removed from pandas in a future version. Use pandas.concat instead.\n",
      "  new_horizontal_note_df = new_horizontal_note_df.append(tmp_df, ignore_index=True)\n"
     ]
    },
    {
     "data": {
      "text/plain": [
       "{'line_item': 'Freehold land and buildings $000 Cost Additions',\n",
       " 2019: None,\n",
       " 2020: 376.0}"
      ]
     },
     "metadata": {},
     "output_type": "display_data"
    },
    {
     "name": "stderr",
     "output_type": "stream",
     "text": [
      "/tmp/ipykernel_603/394880500.py:12: FutureWarning: The frame.append method is deprecated and will be removed from pandas in a future version. Use pandas.concat instead.\n",
      "  new_horizontal_note_df = new_horizontal_note_df.append(tmp_df, ignore_index=True)\n"
     ]
    },
    {
     "data": {
      "text/plain": [
       "{'line_item': 'Freehold land and buildings $000 Cost Disposals',\n",
       " 2019: None,\n",
       " 2020: -149.0}"
      ]
     },
     "metadata": {},
     "output_type": "display_data"
    },
    {
     "name": "stderr",
     "output_type": "stream",
     "text": [
      "/tmp/ipykernel_603/394880500.py:12: FutureWarning: The frame.append method is deprecated and will be removed from pandas in a future version. Use pandas.concat instead.\n",
      "  new_horizontal_note_df = new_horizontal_note_df.append(tmp_df, ignore_index=True)\n"
     ]
    },
    {
     "data": {
      "text/plain": [
       "{'line_item': 'Freehold land and buildings $000 Cost Transfer',\n",
       " 2019: None,\n",
       " 2020: 74.0}"
      ]
     },
     "metadata": {},
     "output_type": "display_data"
    },
    {
     "name": "stderr",
     "output_type": "stream",
     "text": [
      "/tmp/ipykernel_603/394880500.py:12: FutureWarning: The frame.append method is deprecated and will be removed from pandas in a future version. Use pandas.concat instead.\n",
      "  new_horizontal_note_df = new_horizontal_note_df.append(tmp_df, ignore_index=True)\n"
     ]
    },
    {
     "data": {
      "text/plain": [
       "{'line_item': 'Freehold land and buildings $000 Cost At 31 December 2020',\n",
       " 2019: None,\n",
       " 2020: 90731.0}"
      ]
     },
     "metadata": {},
     "output_type": "display_data"
    },
    {
     "name": "stderr",
     "output_type": "stream",
     "text": [
      "/tmp/ipykernel_603/394880500.py:12: FutureWarning: The frame.append method is deprecated and will be removed from pandas in a future version. Use pandas.concat instead.\n",
      "  new_horizontal_note_df = new_horizontal_note_df.append(tmp_df, ignore_index=True)\n"
     ]
    },
    {
     "data": {
      "text/plain": [
       "{'line_item': 'Freehold land and buildings $000 Accumulated depreciation and impairment Accumulated depreciation and impairment',\n",
       " 2019: None,\n",
       " 2020: 0.0}"
      ]
     },
     "metadata": {},
     "output_type": "display_data"
    },
    {
     "name": "stderr",
     "output_type": "stream",
     "text": [
      "/tmp/ipykernel_603/394880500.py:12: FutureWarning: The frame.append method is deprecated and will be removed from pandas in a future version. Use pandas.concat instead.\n",
      "  new_horizontal_note_df = new_horizontal_note_df.append(tmp_df, ignore_index=True)\n"
     ]
    },
    {
     "data": {
      "text/plain": [
       "{'line_item': 'Freehold land and buildings $000 Accumulated depreciation and impairment At1 January 2020',\n",
       " 2019: None,\n",
       " 2020: 90235.0}"
      ]
     },
     "metadata": {},
     "output_type": "display_data"
    },
    {
     "name": "stderr",
     "output_type": "stream",
     "text": [
      "/tmp/ipykernel_603/394880500.py:12: FutureWarning: The frame.append method is deprecated and will be removed from pandas in a future version. Use pandas.concat instead.\n",
      "  new_horizontal_note_df = new_horizontal_note_df.append(tmp_df, ignore_index=True)\n"
     ]
    },
    {
     "data": {
      "text/plain": [
       "{'line_item': 'Freehold land and buildings $000 Accumulated depreciation and impairment Depreciation charge for the year',\n",
       " 2019: None,\n",
       " 2020: 57.0}"
      ]
     },
     "metadata": {},
     "output_type": "display_data"
    },
    {
     "name": "stderr",
     "output_type": "stream",
     "text": [
      "/tmp/ipykernel_603/394880500.py:12: FutureWarning: The frame.append method is deprecated and will be removed from pandas in a future version. Use pandas.concat instead.\n",
      "  new_horizontal_note_df = new_horizontal_note_df.append(tmp_df, ignore_index=True)\n"
     ]
    },
    {
     "data": {
      "text/plain": [
       "{'line_item': 'Freehold land and buildings $000 Accumulated depreciation and impairment Impairment*',\n",
       " 2019: None,\n",
       " 2020: 351.0}"
      ]
     },
     "metadata": {},
     "output_type": "display_data"
    },
    {
     "name": "stderr",
     "output_type": "stream",
     "text": [
      "/tmp/ipykernel_603/394880500.py:12: FutureWarning: The frame.append method is deprecated and will be removed from pandas in a future version. Use pandas.concat instead.\n",
      "  new_horizontal_note_df = new_horizontal_note_df.append(tmp_df, ignore_index=True)\n"
     ]
    },
    {
     "data": {
      "text/plain": [
       "{'line_item': 'Freehold land and buildings $000 Accumulated depreciation and impairment Disposals',\n",
       " 2019: None,\n",
       " 2020: -154.0}"
      ]
     },
     "metadata": {},
     "output_type": "display_data"
    },
    {
     "name": "stderr",
     "output_type": "stream",
     "text": [
      "/tmp/ipykernel_603/394880500.py:12: FutureWarning: The frame.append method is deprecated and will be removed from pandas in a future version. Use pandas.concat instead.\n",
      "  new_horizontal_note_df = new_horizontal_note_df.append(tmp_df, ignore_index=True)\n"
     ]
    },
    {
     "data": {
      "text/plain": [
       "{'line_item': 'Freehold land and buildings $000 Accumulated depreciation and impairment At 31 December 2020',\n",
       " 2019: None,\n",
       " 2020: 90489.0}"
      ]
     },
     "metadata": {},
     "output_type": "display_data"
    },
    {
     "name": "stderr",
     "output_type": "stream",
     "text": [
      "/tmp/ipykernel_603/394880500.py:12: FutureWarning: The frame.append method is deprecated and will be removed from pandas in a future version. Use pandas.concat instead.\n",
      "  new_horizontal_note_df = new_horizontal_note_df.append(tmp_df, ignore_index=True)\n"
     ]
    },
    {
     "data": {
      "text/plain": [
       "{'line_item': 'Freehold land and buildings $000 Net book value Net book value',\n",
       " 2019: None,\n",
       " 2020: 0.0}"
      ]
     },
     "metadata": {},
     "output_type": "display_data"
    },
    {
     "name": "stderr",
     "output_type": "stream",
     "text": [
      "/tmp/ipykernel_603/394880500.py:12: FutureWarning: The frame.append method is deprecated and will be removed from pandas in a future version. Use pandas.concat instead.\n",
      "  new_horizontal_note_df = new_horizontal_note_df.append(tmp_df, ignore_index=True)\n"
     ]
    },
    {
     "data": {
      "text/plain": [
       "{'line_item': 'Freehold land and buildings $000 Net book value At 31 December 2020',\n",
       " 2019: None,\n",
       " 2020: 242.0}"
      ]
     },
     "metadata": {},
     "output_type": "display_data"
    },
    {
     "name": "stderr",
     "output_type": "stream",
     "text": [
      "/tmp/ipykernel_603/394880500.py:12: FutureWarning: The frame.append method is deprecated and will be removed from pandas in a future version. Use pandas.concat instead.\n",
      "  new_horizontal_note_df = new_horizontal_note_df.append(tmp_df, ignore_index=True)\n"
     ]
    },
    {
     "data": {
      "text/plain": [
       "{'line_item': 'Freehold land and buildings $000 Net book value At 31 December 2019',\n",
       " 2019: 195.0,\n",
       " 2020: None}"
      ]
     },
     "metadata": {},
     "output_type": "display_data"
    },
    {
     "name": "stderr",
     "output_type": "stream",
     "text": [
      "/tmp/ipykernel_603/394880500.py:12: FutureWarning: The frame.append method is deprecated and will be removed from pandas in a future version. Use pandas.concat instead.\n",
      "  new_horizontal_note_df = new_horizontal_note_df.append(tmp_df, ignore_index=True)\n"
     ]
    },
    {
     "data": {
      "text/plain": [
       "{'line_item': 'Plant and equipment $000 Cost Cost', 2019: None, 2020: 0.0}"
      ]
     },
     "metadata": {},
     "output_type": "display_data"
    },
    {
     "name": "stderr",
     "output_type": "stream",
     "text": [
      "/tmp/ipykernel_603/394880500.py:12: FutureWarning: The frame.append method is deprecated and will be removed from pandas in a future version. Use pandas.concat instead.\n",
      "  new_horizontal_note_df = new_horizontal_note_df.append(tmp_df, ignore_index=True)\n"
     ]
    },
    {
     "data": {
      "text/plain": [
       "{'line_item': 'Plant and equipment $000 Cost At 1 January 2020',\n",
       " 2019: None,\n",
       " 2020: 314181.0}"
      ]
     },
     "metadata": {},
     "output_type": "display_data"
    },
    {
     "name": "stderr",
     "output_type": "stream",
     "text": [
      "/tmp/ipykernel_603/394880500.py:12: FutureWarning: The frame.append method is deprecated and will be removed from pandas in a future version. Use pandas.concat instead.\n",
      "  new_horizontal_note_df = new_horizontal_note_df.append(tmp_df, ignore_index=True)\n"
     ]
    },
    {
     "data": {
      "text/plain": [
       "{'line_item': 'Plant and equipment $000 Cost Additions',\n",
       " 2019: None,\n",
       " 2020: 5232.0}"
      ]
     },
     "metadata": {},
     "output_type": "display_data"
    },
    {
     "name": "stderr",
     "output_type": "stream",
     "text": [
      "/tmp/ipykernel_603/394880500.py:12: FutureWarning: The frame.append method is deprecated and will be removed from pandas in a future version. Use pandas.concat instead.\n",
      "  new_horizontal_note_df = new_horizontal_note_df.append(tmp_df, ignore_index=True)\n"
     ]
    },
    {
     "data": {
      "text/plain": [
       "{'line_item': 'Plant and equipment $000 Cost Disposals',\n",
       " 2019: None,\n",
       " 2020: -1122.0}"
      ]
     },
     "metadata": {},
     "output_type": "display_data"
    },
    {
     "name": "stderr",
     "output_type": "stream",
     "text": [
      "/tmp/ipykernel_603/394880500.py:12: FutureWarning: The frame.append method is deprecated and will be removed from pandas in a future version. Use pandas.concat instead.\n",
      "  new_horizontal_note_df = new_horizontal_note_df.append(tmp_df, ignore_index=True)\n"
     ]
    },
    {
     "data": {
      "text/plain": [
       "{'line_item': 'Plant and equipment $000 Cost Transfer',\n",
       " 2019: None,\n",
       " 2020: -74.0}"
      ]
     },
     "metadata": {},
     "output_type": "display_data"
    },
    {
     "name": "stderr",
     "output_type": "stream",
     "text": [
      "/tmp/ipykernel_603/394880500.py:12: FutureWarning: The frame.append method is deprecated and will be removed from pandas in a future version. Use pandas.concat instead.\n",
      "  new_horizontal_note_df = new_horizontal_note_df.append(tmp_df, ignore_index=True)\n"
     ]
    },
    {
     "data": {
      "text/plain": [
       "{'line_item': 'Plant and equipment $000 Cost At 31 December 2020',\n",
       " 2019: None,\n",
       " 2020: 318217.0}"
      ]
     },
     "metadata": {},
     "output_type": "display_data"
    },
    {
     "name": "stderr",
     "output_type": "stream",
     "text": [
      "/tmp/ipykernel_603/394880500.py:12: FutureWarning: The frame.append method is deprecated and will be removed from pandas in a future version. Use pandas.concat instead.\n",
      "  new_horizontal_note_df = new_horizontal_note_df.append(tmp_df, ignore_index=True)\n"
     ]
    },
    {
     "data": {
      "text/plain": [
       "{'line_item': 'Plant and equipment $000 Accumulated depreciation and impairment Accumulated depreciation and impairment',\n",
       " 2019: None,\n",
       " 2020: 0.0}"
      ]
     },
     "metadata": {},
     "output_type": "display_data"
    },
    {
     "name": "stderr",
     "output_type": "stream",
     "text": [
      "/tmp/ipykernel_603/394880500.py:12: FutureWarning: The frame.append method is deprecated and will be removed from pandas in a future version. Use pandas.concat instead.\n",
      "  new_horizontal_note_df = new_horizontal_note_df.append(tmp_df, ignore_index=True)\n"
     ]
    },
    {
     "data": {
      "text/plain": [
       "{'line_item': 'Plant and equipment $000 Accumulated depreciation and impairment At1 January 2020',\n",
       " 2019: None,\n",
       " 2020: 312388.0}"
      ]
     },
     "metadata": {},
     "output_type": "display_data"
    },
    {
     "name": "stderr",
     "output_type": "stream",
     "text": [
      "/tmp/ipykernel_603/394880500.py:12: FutureWarning: The frame.append method is deprecated and will be removed from pandas in a future version. Use pandas.concat instead.\n",
      "  new_horizontal_note_df = new_horizontal_note_df.append(tmp_df, ignore_index=True)\n"
     ]
    },
    {
     "data": {
      "text/plain": [
       "{'line_item': 'Plant and equipment $000 Accumulated depreciation and impairment Depreciation charge for the year',\n",
       " 2019: None,\n",
       " 2020: 827.0}"
      ]
     },
     "metadata": {},
     "output_type": "display_data"
    },
    {
     "name": "stderr",
     "output_type": "stream",
     "text": [
      "/tmp/ipykernel_603/394880500.py:12: FutureWarning: The frame.append method is deprecated and will be removed from pandas in a future version. Use pandas.concat instead.\n",
      "  new_horizontal_note_df = new_horizontal_note_df.append(tmp_df, ignore_index=True)\n"
     ]
    },
    {
     "data": {
      "text/plain": [
       "{'line_item': 'Plant and equipment $000 Accumulated depreciation and impairment Impairment*',\n",
       " 2019: None,\n",
       " 2020: 4618.0}"
      ]
     },
     "metadata": {},
     "output_type": "display_data"
    },
    {
     "name": "stderr",
     "output_type": "stream",
     "text": [
      "/tmp/ipykernel_603/394880500.py:12: FutureWarning: The frame.append method is deprecated and will be removed from pandas in a future version. Use pandas.concat instead.\n",
      "  new_horizontal_note_df = new_horizontal_note_df.append(tmp_df, ignore_index=True)\n"
     ]
    },
    {
     "data": {
      "text/plain": [
       "{'line_item': 'Plant and equipment $000 Accumulated depreciation and impairment Disposals',\n",
       " 2019: None,\n",
       " 2020: -1182.0}"
      ]
     },
     "metadata": {},
     "output_type": "display_data"
    },
    {
     "name": "stderr",
     "output_type": "stream",
     "text": [
      "/tmp/ipykernel_603/394880500.py:12: FutureWarning: The frame.append method is deprecated and will be removed from pandas in a future version. Use pandas.concat instead.\n",
      "  new_horizontal_note_df = new_horizontal_note_df.append(tmp_df, ignore_index=True)\n"
     ]
    },
    {
     "data": {
      "text/plain": [
       "{'line_item': 'Plant and equipment $000 Accumulated depreciation and impairment At 31 December 2020',\n",
       " 2019: None,\n",
       " 2020: 316651.0}"
      ]
     },
     "metadata": {},
     "output_type": "display_data"
    },
    {
     "name": "stderr",
     "output_type": "stream",
     "text": [
      "/tmp/ipykernel_603/394880500.py:12: FutureWarning: The frame.append method is deprecated and will be removed from pandas in a future version. Use pandas.concat instead.\n",
      "  new_horizontal_note_df = new_horizontal_note_df.append(tmp_df, ignore_index=True)\n"
     ]
    },
    {
     "data": {
      "text/plain": [
       "{'line_item': 'Plant and equipment $000 Net book value Net book value',\n",
       " 2019: None,\n",
       " 2020: 0.0}"
      ]
     },
     "metadata": {},
     "output_type": "display_data"
    },
    {
     "name": "stderr",
     "output_type": "stream",
     "text": [
      "/tmp/ipykernel_603/394880500.py:12: FutureWarning: The frame.append method is deprecated and will be removed from pandas in a future version. Use pandas.concat instead.\n",
      "  new_horizontal_note_df = new_horizontal_note_df.append(tmp_df, ignore_index=True)\n"
     ]
    },
    {
     "data": {
      "text/plain": [
       "{'line_item': 'Plant and equipment $000 Net book value At 31 December 2020',\n",
       " 2019: None,\n",
       " 2020: 1566.0}"
      ]
     },
     "metadata": {},
     "output_type": "display_data"
    },
    {
     "name": "stderr",
     "output_type": "stream",
     "text": [
      "/tmp/ipykernel_603/394880500.py:12: FutureWarning: The frame.append method is deprecated and will be removed from pandas in a future version. Use pandas.concat instead.\n",
      "  new_horizontal_note_df = new_horizontal_note_df.append(tmp_df, ignore_index=True)\n"
     ]
    },
    {
     "data": {
      "text/plain": [
       "{'line_item': 'Plant and equipment $000 Net book value At 31 December 2019',\n",
       " 2019: 1793.0,\n",
       " 2020: None}"
      ]
     },
     "metadata": {},
     "output_type": "display_data"
    },
    {
     "name": "stderr",
     "output_type": "stream",
     "text": [
      "/tmp/ipykernel_603/394880500.py:12: FutureWarning: The frame.append method is deprecated and will be removed from pandas in a future version. Use pandas.concat instead.\n",
      "  new_horizontal_note_df = new_horizontal_note_df.append(tmp_df, ignore_index=True)\n"
     ]
    },
    {
     "data": {
      "text/plain": [
       "{'line_item': 'Asset Retirement Obligation** $000 Cost Cost',\n",
       " 2019: None,\n",
       " 2020: 0.0}"
      ]
     },
     "metadata": {},
     "output_type": "display_data"
    },
    {
     "name": "stderr",
     "output_type": "stream",
     "text": [
      "/tmp/ipykernel_603/394880500.py:12: FutureWarning: The frame.append method is deprecated and will be removed from pandas in a future version. Use pandas.concat instead.\n",
      "  new_horizontal_note_df = new_horizontal_note_df.append(tmp_df, ignore_index=True)\n"
     ]
    },
    {
     "data": {
      "text/plain": [
       "{'line_item': 'Asset Retirement Obligation** $000 Cost At 1 January 2020',\n",
       " 2019: None,\n",
       " 2020: 1628.0}"
      ]
     },
     "metadata": {},
     "output_type": "display_data"
    },
    {
     "name": "stderr",
     "output_type": "stream",
     "text": [
      "/tmp/ipykernel_603/394880500.py:12: FutureWarning: The frame.append method is deprecated and will be removed from pandas in a future version. Use pandas.concat instead.\n",
      "  new_horizontal_note_df = new_horizontal_note_df.append(tmp_df, ignore_index=True)\n"
     ]
    },
    {
     "data": {
      "text/plain": [
       "{'line_item': 'Asset Retirement Obligation** $000 Cost Additions',\n",
       " 2019: None,\n",
       " 2020: 34643.0}"
      ]
     },
     "metadata": {},
     "output_type": "display_data"
    },
    {
     "name": "stderr",
     "output_type": "stream",
     "text": [
      "/tmp/ipykernel_603/394880500.py:12: FutureWarning: The frame.append method is deprecated and will be removed from pandas in a future version. Use pandas.concat instead.\n",
      "  new_horizontal_note_df = new_horizontal_note_df.append(tmp_df, ignore_index=True)\n"
     ]
    },
    {
     "data": {
      "text/plain": [
       "{'line_item': 'Asset Retirement Obligation** $000 Cost Disposals',\n",
       " 2019: None,\n",
       " 2020: 0.0}"
      ]
     },
     "metadata": {},
     "output_type": "display_data"
    },
    {
     "name": "stderr",
     "output_type": "stream",
     "text": [
      "/tmp/ipykernel_603/394880500.py:12: FutureWarning: The frame.append method is deprecated and will be removed from pandas in a future version. Use pandas.concat instead.\n",
      "  new_horizontal_note_df = new_horizontal_note_df.append(tmp_df, ignore_index=True)\n"
     ]
    },
    {
     "data": {
      "text/plain": [
       "{'line_item': 'Asset Retirement Obligation** $000 Cost Transfer',\n",
       " 2019: None,\n",
       " 2020: 0.0}"
      ]
     },
     "metadata": {},
     "output_type": "display_data"
    },
    {
     "name": "stderr",
     "output_type": "stream",
     "text": [
      "/tmp/ipykernel_603/394880500.py:12: FutureWarning: The frame.append method is deprecated and will be removed from pandas in a future version. Use pandas.concat instead.\n",
      "  new_horizontal_note_df = new_horizontal_note_df.append(tmp_df, ignore_index=True)\n"
     ]
    },
    {
     "data": {
      "text/plain": [
       "{'line_item': 'Asset Retirement Obligation** $000 Cost At 31 December 2020',\n",
       " 2019: None,\n",
       " 2020: 36271.0}"
      ]
     },
     "metadata": {},
     "output_type": "display_data"
    },
    {
     "name": "stderr",
     "output_type": "stream",
     "text": [
      "/tmp/ipykernel_603/394880500.py:12: FutureWarning: The frame.append method is deprecated and will be removed from pandas in a future version. Use pandas.concat instead.\n",
      "  new_horizontal_note_df = new_horizontal_note_df.append(tmp_df, ignore_index=True)\n"
     ]
    },
    {
     "data": {
      "text/plain": [
       "{'line_item': 'Asset Retirement Obligation** $000 Accumulated depreciation and impairment Accumulated depreciation and impairment',\n",
       " 2019: None,\n",
       " 2020: 0.0}"
      ]
     },
     "metadata": {},
     "output_type": "display_data"
    },
    {
     "name": "stderr",
     "output_type": "stream",
     "text": [
      "/tmp/ipykernel_603/394880500.py:12: FutureWarning: The frame.append method is deprecated and will be removed from pandas in a future version. Use pandas.concat instead.\n",
      "  new_horizontal_note_df = new_horizontal_note_df.append(tmp_df, ignore_index=True)\n"
     ]
    },
    {
     "data": {
      "text/plain": [
       "{'line_item': 'Asset Retirement Obligation** $000 Accumulated depreciation and impairment At1 January 2020',\n",
       " 2019: None,\n",
       " 2020: 1628.0}"
      ]
     },
     "metadata": {},
     "output_type": "display_data"
    },
    {
     "name": "stderr",
     "output_type": "stream",
     "text": [
      "/tmp/ipykernel_603/394880500.py:12: FutureWarning: The frame.append method is deprecated and will be removed from pandas in a future version. Use pandas.concat instead.\n",
      "  new_horizontal_note_df = new_horizontal_note_df.append(tmp_df, ignore_index=True)\n"
     ]
    },
    {
     "data": {
      "text/plain": [
       "{'line_item': 'Asset Retirement Obligation** $000 Accumulated depreciation and impairment Depreciation charge for the year',\n",
       " 2019: None,\n",
       " 2020: 0.0}"
      ]
     },
     "metadata": {},
     "output_type": "display_data"
    },
    {
     "name": "stderr",
     "output_type": "stream",
     "text": [
      "/tmp/ipykernel_603/394880500.py:12: FutureWarning: The frame.append method is deprecated and will be removed from pandas in a future version. Use pandas.concat instead.\n",
      "  new_horizontal_note_df = new_horizontal_note_df.append(tmp_df, ignore_index=True)\n"
     ]
    },
    {
     "data": {
      "text/plain": [
       "{'line_item': 'Asset Retirement Obligation** $000 Accumulated depreciation and impairment Impairment*',\n",
       " 2019: None,\n",
       " 2020: 20598.0}"
      ]
     },
     "metadata": {},
     "output_type": "display_data"
    },
    {
     "name": "stderr",
     "output_type": "stream",
     "text": [
      "/tmp/ipykernel_603/394880500.py:12: FutureWarning: The frame.append method is deprecated and will be removed from pandas in a future version. Use pandas.concat instead.\n",
      "  new_horizontal_note_df = new_horizontal_note_df.append(tmp_df, ignore_index=True)\n"
     ]
    },
    {
     "data": {
      "text/plain": [
       "{'line_item': 'Asset Retirement Obligation** $000 Accumulated depreciation and impairment Disposals',\n",
       " 2019: None,\n",
       " 2020: 0.0}"
      ]
     },
     "metadata": {},
     "output_type": "display_data"
    },
    {
     "name": "stderr",
     "output_type": "stream",
     "text": [
      "/tmp/ipykernel_603/394880500.py:12: FutureWarning: The frame.append method is deprecated and will be removed from pandas in a future version. Use pandas.concat instead.\n",
      "  new_horizontal_note_df = new_horizontal_note_df.append(tmp_df, ignore_index=True)\n"
     ]
    },
    {
     "data": {
      "text/plain": [
       "{'line_item': 'Asset Retirement Obligation** $000 Accumulated depreciation and impairment At 31 December 2020',\n",
       " 2019: None,\n",
       " 2020: 22226.0}"
      ]
     },
     "metadata": {},
     "output_type": "display_data"
    },
    {
     "name": "stderr",
     "output_type": "stream",
     "text": [
      "/tmp/ipykernel_603/394880500.py:12: FutureWarning: The frame.append method is deprecated and will be removed from pandas in a future version. Use pandas.concat instead.\n",
      "  new_horizontal_note_df = new_horizontal_note_df.append(tmp_df, ignore_index=True)\n"
     ]
    },
    {
     "data": {
      "text/plain": [
       "{'line_item': 'Asset Retirement Obligation** $000 Net book value Net book value',\n",
       " 2019: None,\n",
       " 2020: 0.0}"
      ]
     },
     "metadata": {},
     "output_type": "display_data"
    },
    {
     "name": "stderr",
     "output_type": "stream",
     "text": [
      "/tmp/ipykernel_603/394880500.py:12: FutureWarning: The frame.append method is deprecated and will be removed from pandas in a future version. Use pandas.concat instead.\n",
      "  new_horizontal_note_df = new_horizontal_note_df.append(tmp_df, ignore_index=True)\n"
     ]
    },
    {
     "data": {
      "text/plain": [
       "{'line_item': 'Asset Retirement Obligation** $000 Net book value At 31 December 2020',\n",
       " 2019: None,\n",
       " 2020: 14045.0}"
      ]
     },
     "metadata": {},
     "output_type": "display_data"
    },
    {
     "name": "stderr",
     "output_type": "stream",
     "text": [
      "/tmp/ipykernel_603/394880500.py:12: FutureWarning: The frame.append method is deprecated and will be removed from pandas in a future version. Use pandas.concat instead.\n",
      "  new_horizontal_note_df = new_horizontal_note_df.append(tmp_df, ignore_index=True)\n"
     ]
    },
    {
     "data": {
      "text/plain": [
       "{'line_item': 'Asset Retirement Obligation** $000 Net book value At 31 December 2019',\n",
       " 2019: 1743.0,\n",
       " 2020: None}"
      ]
     },
     "metadata": {},
     "output_type": "display_data"
    },
    {
     "name": "stderr",
     "output_type": "stream",
     "text": [
      "/tmp/ipykernel_603/394880500.py:12: FutureWarning: The frame.append method is deprecated and will be removed from pandas in a future version. Use pandas.concat instead.\n",
      "  new_horizontal_note_df = new_horizontal_note_df.append(tmp_df, ignore_index=True)\n"
     ]
    },
    {
     "data": {
      "text/plain": [
       "{'line_item': 'Construction inj progress $000 Cost Cost',\n",
       " 2019: None,\n",
       " 2020: 0.0}"
      ]
     },
     "metadata": {},
     "output_type": "display_data"
    },
    {
     "name": "stderr",
     "output_type": "stream",
     "text": [
      "/tmp/ipykernel_603/394880500.py:12: FutureWarning: The frame.append method is deprecated and will be removed from pandas in a future version. Use pandas.concat instead.\n",
      "  new_horizontal_note_df = new_horizontal_note_df.append(tmp_df, ignore_index=True)\n"
     ]
    },
    {
     "data": {
      "text/plain": [
       "{'line_item': 'Construction inj progress $000 Cost At 1 January 2020',\n",
       " 2019: None,\n",
       " 2020: 2538.0}"
      ]
     },
     "metadata": {},
     "output_type": "display_data"
    },
    {
     "name": "stderr",
     "output_type": "stream",
     "text": [
      "/tmp/ipykernel_603/394880500.py:12: FutureWarning: The frame.append method is deprecated and will be removed from pandas in a future version. Use pandas.concat instead.\n",
      "  new_horizontal_note_df = new_horizontal_note_df.append(tmp_df, ignore_index=True)\n"
     ]
    },
    {
     "data": {
      "text/plain": [
       "{'line_item': 'Construction inj progress $000 Cost Additions',\n",
       " 2019: None,\n",
       " 2020: 0.0}"
      ]
     },
     "metadata": {},
     "output_type": "display_data"
    },
    {
     "name": "stderr",
     "output_type": "stream",
     "text": [
      "/tmp/ipykernel_603/394880500.py:12: FutureWarning: The frame.append method is deprecated and will be removed from pandas in a future version. Use pandas.concat instead.\n",
      "  new_horizontal_note_df = new_horizontal_note_df.append(tmp_df, ignore_index=True)\n"
     ]
    },
    {
     "data": {
      "text/plain": [
       "{'line_item': 'Construction inj progress $000 Cost Disposals',\n",
       " 2019: None,\n",
       " 2020: -65.0}"
      ]
     },
     "metadata": {},
     "output_type": "display_data"
    },
    {
     "name": "stderr",
     "output_type": "stream",
     "text": [
      "/tmp/ipykernel_603/394880500.py:12: FutureWarning: The frame.append method is deprecated and will be removed from pandas in a future version. Use pandas.concat instead.\n",
      "  new_horizontal_note_df = new_horizontal_note_df.append(tmp_df, ignore_index=True)\n"
     ]
    },
    {
     "data": {
      "text/plain": [
       "{'line_item': 'Construction inj progress $000 Cost Transfer',\n",
       " 2019: None,\n",
       " 2020: 0.0}"
      ]
     },
     "metadata": {},
     "output_type": "display_data"
    },
    {
     "name": "stderr",
     "output_type": "stream",
     "text": [
      "/tmp/ipykernel_603/394880500.py:12: FutureWarning: The frame.append method is deprecated and will be removed from pandas in a future version. Use pandas.concat instead.\n",
      "  new_horizontal_note_df = new_horizontal_note_df.append(tmp_df, ignore_index=True)\n"
     ]
    },
    {
     "data": {
      "text/plain": [
       "{'line_item': 'Construction inj progress $000 Cost At 31 December 2020',\n",
       " 2019: None,\n",
       " 2020: 2473.0}"
      ]
     },
     "metadata": {},
     "output_type": "display_data"
    },
    {
     "name": "stderr",
     "output_type": "stream",
     "text": [
      "/tmp/ipykernel_603/394880500.py:12: FutureWarning: The frame.append method is deprecated and will be removed from pandas in a future version. Use pandas.concat instead.\n",
      "  new_horizontal_note_df = new_horizontal_note_df.append(tmp_df, ignore_index=True)\n"
     ]
    },
    {
     "data": {
      "text/plain": [
       "{'line_item': 'Construction inj progress $000 Accumulated depreciation and impairment Accumulated depreciation and impairment',\n",
       " 2019: None,\n",
       " 2020: 0.0}"
      ]
     },
     "metadata": {},
     "output_type": "display_data"
    },
    {
     "name": "stderr",
     "output_type": "stream",
     "text": [
      "/tmp/ipykernel_603/394880500.py:12: FutureWarning: The frame.append method is deprecated and will be removed from pandas in a future version. Use pandas.concat instead.\n",
      "  new_horizontal_note_df = new_horizontal_note_df.append(tmp_df, ignore_index=True)\n"
     ]
    },
    {
     "data": {
      "text/plain": [
       "{'line_item': 'Construction inj progress $000 Accumulated depreciation and impairment At1 January 2020',\n",
       " 2019: None,\n",
       " 2020: 795.0}"
      ]
     },
     "metadata": {},
     "output_type": "display_data"
    },
    {
     "name": "stderr",
     "output_type": "stream",
     "text": [
      "/tmp/ipykernel_603/394880500.py:12: FutureWarning: The frame.append method is deprecated and will be removed from pandas in a future version. Use pandas.concat instead.\n",
      "  new_horizontal_note_df = new_horizontal_note_df.append(tmp_df, ignore_index=True)\n"
     ]
    },
    {
     "data": {
      "text/plain": [
       "{'line_item': 'Construction inj progress $000 Accumulated depreciation and impairment Depreciation charge for the year',\n",
       " 2019: None,\n",
       " 2020: 0.0}"
      ]
     },
     "metadata": {},
     "output_type": "display_data"
    },
    {
     "name": "stderr",
     "output_type": "stream",
     "text": [
      "/tmp/ipykernel_603/394880500.py:12: FutureWarning: The frame.append method is deprecated and will be removed from pandas in a future version. Use pandas.concat instead.\n",
      "  new_horizontal_note_df = new_horizontal_note_df.append(tmp_df, ignore_index=True)\n"
     ]
    },
    {
     "data": {
      "text/plain": [
       "{'line_item': 'Construction inj progress $000 Accumulated depreciation and impairment Impairment*',\n",
       " 2019: None,\n",
       " 2020: 0.0}"
      ]
     },
     "metadata": {},
     "output_type": "display_data"
    },
    {
     "name": "stderr",
     "output_type": "stream",
     "text": [
      "/tmp/ipykernel_603/394880500.py:12: FutureWarning: The frame.append method is deprecated and will be removed from pandas in a future version. Use pandas.concat instead.\n",
      "  new_horizontal_note_df = new_horizontal_note_df.append(tmp_df, ignore_index=True)\n"
     ]
    },
    {
     "data": {
      "text/plain": [
       "{'line_item': 'Construction inj progress $000 Accumulated depreciation and impairment Disposals',\n",
       " 2019: None,\n",
       " 2020: 0.0}"
      ]
     },
     "metadata": {},
     "output_type": "display_data"
    },
    {
     "name": "stderr",
     "output_type": "stream",
     "text": [
      "/tmp/ipykernel_603/394880500.py:12: FutureWarning: The frame.append method is deprecated and will be removed from pandas in a future version. Use pandas.concat instead.\n",
      "  new_horizontal_note_df = new_horizontal_note_df.append(tmp_df, ignore_index=True)\n"
     ]
    },
    {
     "data": {
      "text/plain": [
       "{'line_item': 'Construction inj progress $000 Accumulated depreciation and impairment At 31 December 2020',\n",
       " 2019: None,\n",
       " 2020: 795.0}"
      ]
     },
     "metadata": {},
     "output_type": "display_data"
    },
    {
     "name": "stderr",
     "output_type": "stream",
     "text": [
      "/tmp/ipykernel_603/394880500.py:12: FutureWarning: The frame.append method is deprecated and will be removed from pandas in a future version. Use pandas.concat instead.\n",
      "  new_horizontal_note_df = new_horizontal_note_df.append(tmp_df, ignore_index=True)\n"
     ]
    },
    {
     "data": {
      "text/plain": [
       "{'line_item': 'Construction inj progress $000 Net book value Net book value',\n",
       " 2019: None,\n",
       " 2020: 0.0}"
      ]
     },
     "metadata": {},
     "output_type": "display_data"
    },
    {
     "name": "stderr",
     "output_type": "stream",
     "text": [
      "/tmp/ipykernel_603/394880500.py:12: FutureWarning: The frame.append method is deprecated and will be removed from pandas in a future version. Use pandas.concat instead.\n",
      "  new_horizontal_note_df = new_horizontal_note_df.append(tmp_df, ignore_index=True)\n"
     ]
    },
    {
     "data": {
      "text/plain": [
       "{'line_item': 'Construction inj progress $000 Net book value At 31 December 2020',\n",
       " 2019: None,\n",
       " 2020: 1678.0}"
      ]
     },
     "metadata": {},
     "output_type": "display_data"
    },
    {
     "name": "stderr",
     "output_type": "stream",
     "text": [
      "/tmp/ipykernel_603/394880500.py:12: FutureWarning: The frame.append method is deprecated and will be removed from pandas in a future version. Use pandas.concat instead.\n",
      "  new_horizontal_note_df = new_horizontal_note_df.append(tmp_df, ignore_index=True)\n"
     ]
    },
    {
     "data": {
      "text/plain": [
       "{'line_item': 'Construction inj progress $000 Net book value At 31 December 2019',\n",
       " 2019: 0.0,\n",
       " 2020: None}"
      ]
     },
     "metadata": {},
     "output_type": "display_data"
    },
    {
     "name": "stderr",
     "output_type": "stream",
     "text": [
      "/tmp/ipykernel_603/394880500.py:12: FutureWarning: The frame.append method is deprecated and will be removed from pandas in a future version. Use pandas.concat instead.\n",
      "  new_horizontal_note_df = new_horizontal_note_df.append(tmp_df, ignore_index=True)\n"
     ]
    },
    {
     "data": {
      "text/plain": [
       "{'line_item': 'Total $000 Cost Cost', 2019: None, 2020: 0.0}"
      ]
     },
     "metadata": {},
     "output_type": "display_data"
    },
    {
     "name": "stderr",
     "output_type": "stream",
     "text": [
      "/tmp/ipykernel_603/394880500.py:12: FutureWarning: The frame.append method is deprecated and will be removed from pandas in a future version. Use pandas.concat instead.\n",
      "  new_horizontal_note_df = new_horizontal_note_df.append(tmp_df, ignore_index=True)\n"
     ]
    },
    {
     "data": {
      "text/plain": [
       "{'line_item': 'Total $000 Cost At 1 January 2020', 2019: None, 2020: 408777.0}"
      ]
     },
     "metadata": {},
     "output_type": "display_data"
    },
    {
     "name": "stderr",
     "output_type": "stream",
     "text": [
      "/tmp/ipykernel_603/394880500.py:12: FutureWarning: The frame.append method is deprecated and will be removed from pandas in a future version. Use pandas.concat instead.\n",
      "  new_horizontal_note_df = new_horizontal_note_df.append(tmp_df, ignore_index=True)\n"
     ]
    },
    {
     "data": {
      "text/plain": [
       "{'line_item': 'Total $000 Cost Additions', 2019: None, 2020: 40251.0}"
      ]
     },
     "metadata": {},
     "output_type": "display_data"
    },
    {
     "name": "stderr",
     "output_type": "stream",
     "text": [
      "/tmp/ipykernel_603/394880500.py:12: FutureWarning: The frame.append method is deprecated and will be removed from pandas in a future version. Use pandas.concat instead.\n",
      "  new_horizontal_note_df = new_horizontal_note_df.append(tmp_df, ignore_index=True)\n"
     ]
    },
    {
     "data": {
      "text/plain": [
       "{'line_item': 'Total $000 Cost Disposals', 2019: None, 2020: -1336.0}"
      ]
     },
     "metadata": {},
     "output_type": "display_data"
    },
    {
     "name": "stderr",
     "output_type": "stream",
     "text": [
      "/tmp/ipykernel_603/394880500.py:12: FutureWarning: The frame.append method is deprecated and will be removed from pandas in a future version. Use pandas.concat instead.\n",
      "  new_horizontal_note_df = new_horizontal_note_df.append(tmp_df, ignore_index=True)\n"
     ]
    },
    {
     "data": {
      "text/plain": [
       "{'line_item': 'Total $000 Cost Transfer', 2019: None, 2020: 0.0}"
      ]
     },
     "metadata": {},
     "output_type": "display_data"
    },
    {
     "name": "stderr",
     "output_type": "stream",
     "text": [
      "/tmp/ipykernel_603/394880500.py:12: FutureWarning: The frame.append method is deprecated and will be removed from pandas in a future version. Use pandas.concat instead.\n",
      "  new_horizontal_note_df = new_horizontal_note_df.append(tmp_df, ignore_index=True)\n"
     ]
    },
    {
     "data": {
      "text/plain": [
       "{'line_item': 'Total $000 Cost At 31 December 2020',\n",
       " 2019: None,\n",
       " 2020: 447692.0}"
      ]
     },
     "metadata": {},
     "output_type": "display_data"
    },
    {
     "name": "stderr",
     "output_type": "stream",
     "text": [
      "/tmp/ipykernel_603/394880500.py:12: FutureWarning: The frame.append method is deprecated and will be removed from pandas in a future version. Use pandas.concat instead.\n",
      "  new_horizontal_note_df = new_horizontal_note_df.append(tmp_df, ignore_index=True)\n"
     ]
    },
    {
     "data": {
      "text/plain": [
       "{'line_item': 'Total $000 Accumulated depreciation and impairment Accumulated depreciation and impairment',\n",
       " 2019: None,\n",
       " 2020: 0.0}"
      ]
     },
     "metadata": {},
     "output_type": "display_data"
    },
    {
     "name": "stderr",
     "output_type": "stream",
     "text": [
      "/tmp/ipykernel_603/394880500.py:12: FutureWarning: The frame.append method is deprecated and will be removed from pandas in a future version. Use pandas.concat instead.\n",
      "  new_horizontal_note_df = new_horizontal_note_df.append(tmp_df, ignore_index=True)\n"
     ]
    },
    {
     "data": {
      "text/plain": [
       "{'line_item': 'Total $000 Accumulated depreciation and impairment At1 January 2020',\n",
       " 2019: None,\n",
       " 2020: 405046.0}"
      ]
     },
     "metadata": {},
     "output_type": "display_data"
    },
    {
     "name": "stderr",
     "output_type": "stream",
     "text": [
      "/tmp/ipykernel_603/394880500.py:12: FutureWarning: The frame.append method is deprecated and will be removed from pandas in a future version. Use pandas.concat instead.\n",
      "  new_horizontal_note_df = new_horizontal_note_df.append(tmp_df, ignore_index=True)\n"
     ]
    },
    {
     "data": {
      "text/plain": [
       "{'line_item': 'Total $000 Accumulated depreciation and impairment Depreciation charge for the year',\n",
       " 2019: None,\n",
       " 2020: 884.0}"
      ]
     },
     "metadata": {},
     "output_type": "display_data"
    },
    {
     "name": "stderr",
     "output_type": "stream",
     "text": [
      "/tmp/ipykernel_603/394880500.py:12: FutureWarning: The frame.append method is deprecated and will be removed from pandas in a future version. Use pandas.concat instead.\n",
      "  new_horizontal_note_df = new_horizontal_note_df.append(tmp_df, ignore_index=True)\n"
     ]
    },
    {
     "data": {
      "text/plain": [
       "{'line_item': 'Total $000 Accumulated depreciation and impairment Impairment*',\n",
       " 2019: None,\n",
       " 2020: 25567.0}"
      ]
     },
     "metadata": {},
     "output_type": "display_data"
    },
    {
     "name": "stderr",
     "output_type": "stream",
     "text": [
      "/tmp/ipykernel_603/394880500.py:12: FutureWarning: The frame.append method is deprecated and will be removed from pandas in a future version. Use pandas.concat instead.\n",
      "  new_horizontal_note_df = new_horizontal_note_df.append(tmp_df, ignore_index=True)\n"
     ]
    },
    {
     "data": {
      "text/plain": [
       "{'line_item': 'Total $000 Accumulated depreciation and impairment Disposals',\n",
       " 2019: None,\n",
       " 2020: -1336.0}"
      ]
     },
     "metadata": {},
     "output_type": "display_data"
    },
    {
     "name": "stderr",
     "output_type": "stream",
     "text": [
      "/tmp/ipykernel_603/394880500.py:12: FutureWarning: The frame.append method is deprecated and will be removed from pandas in a future version. Use pandas.concat instead.\n",
      "  new_horizontal_note_df = new_horizontal_note_df.append(tmp_df, ignore_index=True)\n"
     ]
    },
    {
     "data": {
      "text/plain": [
       "{'line_item': 'Total $000 Accumulated depreciation and impairment At 31 December 2020',\n",
       " 2019: None,\n",
       " 2020: 430161.0}"
      ]
     },
     "metadata": {},
     "output_type": "display_data"
    },
    {
     "name": "stderr",
     "output_type": "stream",
     "text": [
      "/tmp/ipykernel_603/394880500.py:12: FutureWarning: The frame.append method is deprecated and will be removed from pandas in a future version. Use pandas.concat instead.\n",
      "  new_horizontal_note_df = new_horizontal_note_df.append(tmp_df, ignore_index=True)\n"
     ]
    },
    {
     "data": {
      "text/plain": [
       "{'line_item': 'Total $000 Net book value Net book value',\n",
       " 2019: None,\n",
       " 2020: 0.0}"
      ]
     },
     "metadata": {},
     "output_type": "display_data"
    },
    {
     "name": "stderr",
     "output_type": "stream",
     "text": [
      "/tmp/ipykernel_603/394880500.py:12: FutureWarning: The frame.append method is deprecated and will be removed from pandas in a future version. Use pandas.concat instead.\n",
      "  new_horizontal_note_df = new_horizontal_note_df.append(tmp_df, ignore_index=True)\n"
     ]
    },
    {
     "data": {
      "text/plain": [
       "{'line_item': 'Total $000 Net book value At 31 December 2020',\n",
       " 2019: None,\n",
       " 2020: 17531.0}"
      ]
     },
     "metadata": {},
     "output_type": "display_data"
    },
    {
     "name": "stderr",
     "output_type": "stream",
     "text": [
      "/tmp/ipykernel_603/394880500.py:12: FutureWarning: The frame.append method is deprecated and will be removed from pandas in a future version. Use pandas.concat instead.\n",
      "  new_horizontal_note_df = new_horizontal_note_df.append(tmp_df, ignore_index=True)\n"
     ]
    },
    {
     "data": {
      "text/plain": [
       "{'line_item': 'Total $000 Net book value At 31 December 2019',\n",
       " 2019: 3731.0,\n",
       " 2020: None}"
      ]
     },
     "metadata": {},
     "output_type": "display_data"
    },
    {
     "name": "stderr",
     "output_type": "stream",
     "text": [
      "/tmp/ipykernel_603/394880500.py:12: FutureWarning: The frame.append method is deprecated and will be removed from pandas in a future version. Use pandas.concat instead.\n",
      "  new_horizontal_note_df = new_horizontal_note_df.append(tmp_df, ignore_index=True)\n"
     ]
    }
   ],
   "source": [
    "new_horizontal_note_df = pd.DataFrame(columns=col_list)\n",
    "for idx,row in test_notetable.iterrows():\n",
    "    # print(row)\n",
    "    if row[\"line_item\"] in set(new_horizontal_note_df['line_item']):\n",
    "        new_horizontal_note_df.loc[new_horizontal_note_df.line_item == row[\"line_item\"],row[\"year\"]] = row[\"value\"]\n",
    "    else:\n",
    "        tmp_df = dict.fromkeys(col_list)\n",
    "        tmp_df[\"line_item\"] =  row[\"line_item\"]\n",
    "        tmp_df[row[\"year\"]] = row[\"value\"]\n",
    "        display(tmp_df)\n",
    "        # print(tmp_df)\n",
    "        new_horizontal_note_df = new_horizontal_note_df.append(tmp_df, ignore_index=True)"
   ]
  },
  {
   "cell_type": "code",
   "execution_count": 119,
   "id": "0c210877-0a07-484a-8cee-cb530332414e",
   "metadata": {},
   "outputs": [],
   "source": [
    "pd.set_option('display.max_rows', 500)"
   ]
  },
  {
   "cell_type": "code",
   "execution_count": 11,
   "id": "4816fa28-65ef-4880-a29b-adcb3e87b8b0",
   "metadata": {},
   "outputs": [],
   "source": [
    "# new_horizontal_note_df"
   ]
  },
  {
   "cell_type": "code",
   "execution_count": 12,
   "id": "48c1308f-8b99-4df8-9f0c-07d6f4999ab3",
   "metadata": {},
   "outputs": [],
   "source": [
    "# test_notetable"
   ]
  },
  {
   "cell_type": "code",
   "execution_count": null,
   "id": "735d6810-eb8f-46e8-8cc4-2df4e7a7f9a3",
   "metadata": {},
   "outputs": [],
   "source": []
  },
  {
   "cell_type": "code",
   "execution_count": 13,
   "id": "8ff9a2a1-2372-4629-ab16-fece58b4df56",
   "metadata": {},
   "outputs": [],
   "source": [
    "### raw dump to excels"
   ]
  },
  {
   "cell_type": "code",
   "execution_count": 39,
   "id": "31191364-d0c9-4596-8ed5-3c0e177728e7",
   "metadata": {},
   "outputs": [],
   "source": [
    "from openpyxl.utils import get_column_letter"
   ]
  },
  {
   "cell_type": "code",
   "execution_count": 40,
   "id": "d8b7693e-8e17-4891-a61e-170942140d2c",
   "metadata": {},
   "outputs": [
    {
     "data": {
      "text/plain": [
       "'A'"
      ]
     },
     "execution_count": 40,
     "metadata": {},
     "output_type": "execute_result"
    }
   ],
   "source": [
    "get_column_letter(1)"
   ]
  },
  {
   "cell_type": "code",
   "execution_count": 41,
   "id": "4c474d90-1580-4222-a559-e7c01499ca2d",
   "metadata": {},
   "outputs": [],
   "source": [
    "from openpyxl import Workbook\n",
    "from openpyxl.worksheet.table import Table, TableStyleInfo\n",
    "wb = Workbook()"
   ]
  },
  {
   "cell_type": "code",
   "execution_count": 42,
   "id": "9a7a4e41-c032-4fe7-8a57-913ddf360df3",
   "metadata": {},
   "outputs": [
    {
     "data": {
      "text/plain": [
       "<Worksheet \"ccf\">"
      ]
     },
     "execution_count": 42,
     "metadata": {},
     "output_type": "execute_result"
    }
   ],
   "source": [
    "wb.create_sheet('cbs')\n",
    "wb.create_sheet('cpl')\n",
    "wb.create_sheet('ccf')"
   ]
  },
  {
   "cell_type": "code",
   "execution_count": 43,
   "id": "8c13f815-5999-436d-8f74-11d177f011eb",
   "metadata": {},
   "outputs": [],
   "source": [
    "wb.active = wb['cbs']"
   ]
  },
  {
   "cell_type": "code",
   "execution_count": 44,
   "id": "0ab42e71-f419-4776-b259-872adb943f1e",
   "metadata": {},
   "outputs": [],
   "source": [
    "ws  = wb.active"
   ]
  },
  {
   "cell_type": "code",
   "execution_count": 45,
   "id": "e21d01ce-a2ab-4a3f-8bac-c52c4cb63826",
   "metadata": {},
   "outputs": [
    {
     "name": "stdout",
     "output_type": "stream",
     "text": [
      "ca_cash_and_cash_equivalents\n",
      "ca_inventories\n",
      "ca_prepaid_expenses\n",
      "ca_other_current_assets\n",
      "ca_total_current_assets\n",
      "nca_net_ppe\n",
      "nca_gross_ppe\n",
      "nca_other_tangible_assets\n",
      "nca_tangible_assets\n",
      "nca_goodwill\n",
      "nca_other_intangible_assets\n",
      "nca_intangible_assets\n",
      "nca_investments\n",
      "nca_deffered_charges\n",
      "nca_other_assets\n",
      "nca_total_non_current_assets\n",
      "cl_short_term_debt\n",
      "cl_long_term_debt_due_in_year\n",
      "cl_note_payable_debt\n",
      "cl_accounts_payable\n",
      "cl_accrued_expenses\n",
      "cl_tax_payable\n",
      "cl_other_current_liabilities\n",
      "cl_total_current_liabilities\n",
      "ncl_long_term_debt\n",
      "ncl_long_term_borrowing\n",
      "ncl_bond\n",
      "ncl_suboardinate_debt\n",
      "ncl_deferred_taxes\n",
      "ncl_other_long_term_liabilities\n",
      "ncl_minority_interest\n",
      "ncl_long_term_liabilities\n",
      "eqt_common_stock\n",
      "eqt_additional_paid_in_capital\n",
      "eqt_other_reserves\n",
      "eqt_retained_earnings\n",
      "eqt_others\n",
      "eqt_shareholder_equity\n",
      "total_liability_equity\n",
      "lbt_total_liability\n",
      "ast_total_assets\n",
      "nca_accumulated_depreciation\n",
      "ca_account_receivables\n"
     ]
    }
   ],
   "source": [
    "for meta_key, val in obj_cbs_mapping.bs_bucket_dict.items():\n",
    "    print(meta_key)\n",
    "    ws.append([meta_key])\n",
    "    ws.append([\"Main Page Selected line items\"])\n",
    "    if len(val['main_page_cropped_df']) > 0:\n",
    "        ws.append(list(val['main_page_cropped_df'].columns))\n",
    "        for idx,row in val['main_page_cropped_df'].iterrows():\n",
    "            ws.append(row.tolist())\n",
    "    ws.append([\"Notes Data\"])\n",
    "    if len(val['notes_horizontal_table_df'])>0:\n",
    "        ws.append(list(val['notes_horizontal_table_df'].columns))\n",
    "        for idx,row in val['notes_horizontal_table_df'].iterrows():\n",
    "            ws.append(row.tolist())\n",
    "    ws.append([])"
   ]
  },
  {
   "cell_type": "code",
   "execution_count": null,
   "id": "b536125b-1c0b-4b75-9058-2c410665d0ca",
   "metadata": {},
   "outputs": [],
   "source": []
  },
  {
   "cell_type": "code",
   "execution_count": 46,
   "id": "122f27b7-6e6c-47d3-97e5-97b88c4effdb",
   "metadata": {},
   "outputs": [],
   "source": [
    "wb.save('rawdump.xlsx')"
   ]
  },
  {
   "cell_type": "code",
   "execution_count": null,
   "id": "071f43fe-f267-46df-9189-a0c2c9d87ed5",
   "metadata": {},
   "outputs": [],
   "source": []
  },
  {
   "cell_type": "code",
   "execution_count": null,
   "id": "8464537f-96ac-4775-9698-dc45efe21950",
   "metadata": {},
   "outputs": [],
   "source": []
  },
  {
   "cell_type": "code",
   "execution_count": null,
   "id": "fb81923e-1d77-4a75-b048-e38c15545e3f",
   "metadata": {},
   "outputs": [],
   "source": []
  },
  {
   "cell_type": "code",
   "execution_count": null,
   "id": "b67e02dd-4c3d-40b8-8d8f-6a5b7e477e92",
   "metadata": {},
   "outputs": [],
   "source": []
  },
  {
   "cell_type": "code",
   "execution_count": null,
   "id": "10a71b99-0e56-4458-8be0-fed8cbe531c8",
   "metadata": {},
   "outputs": [],
   "source": []
  },
  {
   "cell_type": "code",
   "execution_count": null,
   "id": "7ff795ee-f5cc-478c-9057-7ad70523c0df",
   "metadata": {},
   "outputs": [],
   "source": []
  },
  {
   "cell_type": "code",
   "execution_count": null,
   "id": "528e2920-13f0-43e2-a3d8-5e78f627dc39",
   "metadata": {},
   "outputs": [],
   "source": []
  }
 ],
 "metadata": {
  "kernelspec": {
   "display_name": "Python 3 (ipykernel)",
   "language": "python",
   "name": "python3"
  },
  "language_info": {
   "codemirror_mode": {
    "name": "ipython",
    "version": 3
   },
   "file_extension": ".py",
   "mimetype": "text/x-python",
   "name": "python",
   "nbconvert_exporter": "python",
   "pygments_lexer": "ipython3",
   "version": "3.9.0"
  }
 },
 "nbformat": 4,
 "nbformat_minor": 5
}
