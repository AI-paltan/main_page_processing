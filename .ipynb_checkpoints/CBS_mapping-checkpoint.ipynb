{
 "cells": [
  {
   "cell_type": "code",
   "execution_count": 1,
   "id": "7150f011",
   "metadata": {},
   "outputs": [],
   "source": [
    "import pandas as pd\n",
    "import numpy as np\n",
    "import IPython\n",
    "from IPython.display import display"
   ]
  },
  {
   "cell_type": "code",
   "execution_count": 2,
   "id": "7079f568",
   "metadata": {},
   "outputs": [
    {
     "name": "stderr",
     "output_type": "stream",
     "text": [
      "/home/jayesh/anaconda3/envs/crm_syd/lib/python3.9/site-packages/fuzzywuzzy/fuzz.py:11: UserWarning: Using slow pure-python SequenceMatcher. Install python-Levenshtein to remove this warning\n",
      "  warnings.warn('Using slow pure-python SequenceMatcher. Install python-Levenshtein to remove this warning')\n"
     ]
    }
   ],
   "source": [
    "from process_core import mainPageProcess"
   ]
  },
  {
   "cell_type": "code",
   "execution_count": 3,
   "id": "317fe668",
   "metadata": {},
   "outputs": [],
   "source": [
    "from CBS_mapping import CBSMapping"
   ]
  },
  {
   "cell_type": "code",
   "execution_count": 4,
   "id": "ed07dd36",
   "metadata": {},
   "outputs": [],
   "source": [
    "fileid = \"89310a5f-45fc-4d11-bcc1-661a581e3891\""
   ]
  },
  {
   "cell_type": "code",
   "execution_count": 5,
   "id": "64633591-3113-4e58-b41b-8cf98f30cd33",
   "metadata": {},
   "outputs": [],
   "source": [
    "mp = mainPageProcess()"
   ]
  },
  {
   "cell_type": "code",
   "execution_count": 6,
   "id": "a64474f1-9844-4667-9d21-c3bdd65e230b",
   "metadata": {
    "tags": []
   },
   "outputs": [
    {
     "name": "stderr",
     "output_type": "stream",
     "text": [
      "/home/jayesh/mgs_ai/crm_syd_1/main_page_processing_service/utils.py:57: FutureWarning: iteritems is deprecated and will be removed in a future version. Use .items instead.\n",
      "  for col_idx, item in row.iteritems():\n",
      "/home/jayesh/mgs_ai/crm_syd_1/main_page_processing_service/utils.py:57: FutureWarning: iteritems is deprecated and will be removed in a future version. Use .items instead.\n",
      "  for col_idx, item in row.iteritems():\n",
      "/home/jayesh/mgs_ai/crm_syd_1/main_page_processing_service/utils.py:57: FutureWarning: iteritems is deprecated and will be removed in a future version. Use .items instead.\n",
      "  for col_idx, item in row.iteritems():\n",
      "/home/jayesh/mgs_ai/crm_syd_1/main_page_processing_service/note_standardise_utils.py:201: FutureWarning: iteritems is deprecated and will be removed in a future version. Use .items instead.\n",
      "  for col_idx, item in row.iteritems():\n",
      "/home/jayesh/mgs_ai/crm_syd_1/main_page_processing_service/note_standardise_utils.py:340: FutureWarning: In a future version, `df.iloc[:, i] = newvals` will attempt to set the values inplace instead of always setting a new array. To retain the old behavior, use either `df[df.columns[i]] = newvals` or, if columns are non-unique, `df.isetitem(i, newvals)`\n",
      "  df.iloc[:,col] = df.iloc[:,col].apply(clean_number).apply(pd.to_numeric , errors='coerce')\n",
      "/home/jayesh/mgs_ai/crm_syd_1/main_page_processing_service/note_standardise_utils.py:201: FutureWarning: iteritems is deprecated and will be removed in a future version. Use .items instead.\n",
      "  for col_idx, item in row.iteritems():\n",
      "/home/jayesh/mgs_ai/crm_syd_1/main_page_processing_service/note_standardise_utils.py:340: FutureWarning: In a future version, `df.iloc[:, i] = newvals` will attempt to set the values inplace instead of always setting a new array. To retain the old behavior, use either `df[df.columns[i]] = newvals` or, if columns are non-unique, `df.isetitem(i, newvals)`\n",
      "  df.iloc[:,col] = df.iloc[:,col].apply(clean_number).apply(pd.to_numeric , errors='coerce')\n",
      "/home/jayesh/mgs_ai/crm_syd_1/main_page_processing_service/note_standardise_utils.py:201: FutureWarning: iteritems is deprecated and will be removed in a future version. Use .items instead.\n",
      "  for col_idx, item in row.iteritems():\n",
      "/home/jayesh/mgs_ai/crm_syd_1/main_page_processing_service/note_standardise_utils.py:340: FutureWarning: In a future version, `df.iloc[:, i] = newvals` will attempt to set the values inplace instead of always setting a new array. To retain the old behavior, use either `df[df.columns[i]] = newvals` or, if columns are non-unique, `df.isetitem(i, newvals)`\n",
      "  df.iloc[:,col] = df.iloc[:,col].apply(clean_number).apply(pd.to_numeric , errors='coerce')\n",
      "/home/jayesh/mgs_ai/crm_syd_1/main_page_processing_service/note_standardise_utils.py:201: FutureWarning: iteritems is deprecated and will be removed in a future version. Use .items instead.\n",
      "  for col_idx, item in row.iteritems():\n",
      "/home/jayesh/mgs_ai/crm_syd_1/main_page_processing_service/note_standardise_utils.py:340: FutureWarning: In a future version, `df.iloc[:, i] = newvals` will attempt to set the values inplace instead of always setting a new array. To retain the old behavior, use either `df[df.columns[i]] = newvals` or, if columns are non-unique, `df.isetitem(i, newvals)`\n",
      "  df.iloc[:,col] = df.iloc[:,col].apply(clean_number).apply(pd.to_numeric , errors='coerce')\n",
      "/home/jayesh/mgs_ai/crm_syd_1/main_page_processing_service/note_standardise_utils.py:201: FutureWarning: iteritems is deprecated and will be removed in a future version. Use .items instead.\n",
      "  for col_idx, item in row.iteritems():\n",
      "/home/jayesh/mgs_ai/crm_syd_1/main_page_processing_service/note_standardise_utils.py:340: FutureWarning: In a future version, `df.iloc[:, i] = newvals` will attempt to set the values inplace instead of always setting a new array. To retain the old behavior, use either `df[df.columns[i]] = newvals` or, if columns are non-unique, `df.isetitem(i, newvals)`\n",
      "  df.iloc[:,col] = df.iloc[:,col].apply(clean_number).apply(pd.to_numeric , errors='coerce')\n",
      "/home/jayesh/mgs_ai/crm_syd_1/main_page_processing_service/note_standardise_utils.py:201: FutureWarning: iteritems is deprecated and will be removed in a future version. Use .items instead.\n",
      "  for col_idx, item in row.iteritems():\n",
      "/home/jayesh/mgs_ai/crm_syd_1/main_page_processing_service/note_standardise_utils.py:340: FutureWarning: In a future version, `df.iloc[:, i] = newvals` will attempt to set the values inplace instead of always setting a new array. To retain the old behavior, use either `df[df.columns[i]] = newvals` or, if columns are non-unique, `df.isetitem(i, newvals)`\n",
      "  df.iloc[:,col] = df.iloc[:,col].apply(clean_number).apply(pd.to_numeric , errors='coerce')\n",
      "/home/jayesh/mgs_ai/crm_syd_1/main_page_processing_service/note_standardise_utils.py:201: FutureWarning: iteritems is deprecated and will be removed in a future version. Use .items instead.\n",
      "  for col_idx, item in row.iteritems():\n",
      "/home/jayesh/mgs_ai/crm_syd_1/main_page_processing_service/note_standardise_utils.py:340: FutureWarning: In a future version, `df.iloc[:, i] = newvals` will attempt to set the values inplace instead of always setting a new array. To retain the old behavior, use either `df[df.columns[i]] = newvals` or, if columns are non-unique, `df.isetitem(i, newvals)`\n",
      "  df.iloc[:,col] = df.iloc[:,col].apply(clean_number).apply(pd.to_numeric , errors='coerce')\n",
      "/home/jayesh/mgs_ai/crm_syd_1/main_page_processing_service/note_standardise_utils.py:201: FutureWarning: iteritems is deprecated and will be removed in a future version. Use .items instead.\n",
      "  for col_idx, item in row.iteritems():\n",
      "/home/jayesh/mgs_ai/crm_syd_1/main_page_processing_service/note_standardise_utils.py:340: FutureWarning: In a future version, `df.iloc[:, i] = newvals` will attempt to set the values inplace instead of always setting a new array. To retain the old behavior, use either `df[df.columns[i]] = newvals` or, if columns are non-unique, `df.isetitem(i, newvals)`\n",
      "  df.iloc[:,col] = df.iloc[:,col].apply(clean_number).apply(pd.to_numeric , errors='coerce')\n",
      "/home/jayesh/mgs_ai/crm_syd_1/main_page_processing_service/note_standardise_utils.py:201: FutureWarning: iteritems is deprecated and will be removed in a future version. Use .items instead.\n",
      "  for col_idx, item in row.iteritems():\n",
      "/home/jayesh/mgs_ai/crm_syd_1/main_page_processing_service/note_standardise_utils.py:340: FutureWarning: In a future version, `df.iloc[:, i] = newvals` will attempt to set the values inplace instead of always setting a new array. To retain the old behavior, use either `df[df.columns[i]] = newvals` or, if columns are non-unique, `df.isetitem(i, newvals)`\n",
      "  df.iloc[:,col] = df.iloc[:,col].apply(clean_number).apply(pd.to_numeric , errors='coerce')\n",
      "/home/jayesh/mgs_ai/crm_syd_1/main_page_processing_service/note_standardise_utils.py:580: FutureWarning: iteritems is deprecated and will be removed in a future version. Use .items instead.\n",
      "  for col_header , line_row in fin_df.filter(like=\"line_item\", axis=1).iteritems():\n",
      "/home/jayesh/mgs_ai/crm_syd_1/main_page_processing_service/note_standardise_utils.py:201: FutureWarning: iteritems is deprecated and will be removed in a future version. Use .items instead.\n",
      "  for col_idx, item in row.iteritems():\n",
      "/home/jayesh/mgs_ai/crm_syd_1/main_page_processing_service/note_standardise_utils.py:340: FutureWarning: In a future version, `df.iloc[:, i] = newvals` will attempt to set the values inplace instead of always setting a new array. To retain the old behavior, use either `df[df.columns[i]] = newvals` or, if columns are non-unique, `df.isetitem(i, newvals)`\n",
      "  df.iloc[:,col] = df.iloc[:,col].apply(clean_number).apply(pd.to_numeric , errors='coerce')\n",
      "/home/jayesh/mgs_ai/crm_syd_1/main_page_processing_service/note_standardise_utils.py:201: FutureWarning: iteritems is deprecated and will be removed in a future version. Use .items instead.\n",
      "  for col_idx, item in row.iteritems():\n",
      "/home/jayesh/mgs_ai/crm_syd_1/main_page_processing_service/note_standardise_utils.py:340: FutureWarning: In a future version, `df.iloc[:, i] = newvals` will attempt to set the values inplace instead of always setting a new array. To retain the old behavior, use either `df[df.columns[i]] = newvals` or, if columns are non-unique, `df.isetitem(i, newvals)`\n",
      "  df.iloc[:,col] = df.iloc[:,col].apply(clean_number).apply(pd.to_numeric , errors='coerce')\n",
      "/home/jayesh/mgs_ai/crm_syd_1/main_page_processing_service/note_standardise_utils.py:201: FutureWarning: iteritems is deprecated and will be removed in a future version. Use .items instead.\n",
      "  for col_idx, item in row.iteritems():\n",
      "/home/jayesh/mgs_ai/crm_syd_1/main_page_processing_service/note_standardise_utils.py:340: FutureWarning: In a future version, `df.iloc[:, i] = newvals` will attempt to set the values inplace instead of always setting a new array. To retain the old behavior, use either `df[df.columns[i]] = newvals` or, if columns are non-unique, `df.isetitem(i, newvals)`\n",
      "  df.iloc[:,col] = df.iloc[:,col].apply(clean_number).apply(pd.to_numeric , errors='coerce')\n"
     ]
    },
    {
     "name": "stdout",
     "output_type": "stream",
     "text": [
      "cannot unpack non-iterable NoneType object\n"
     ]
    },
    {
     "name": "stderr",
     "output_type": "stream",
     "text": [
      "/home/jayesh/mgs_ai/crm_syd_1/main_page_processing_service/note_standardise_utils.py:201: FutureWarning: iteritems is deprecated and will be removed in a future version. Use .items instead.\n",
      "  for col_idx, item in row.iteritems():\n",
      "/home/jayesh/mgs_ai/crm_syd_1/main_page_processing_service/note_standardise_utils.py:340: FutureWarning: In a future version, `df.iloc[:, i] = newvals` will attempt to set the values inplace instead of always setting a new array. To retain the old behavior, use either `df[df.columns[i]] = newvals` or, if columns are non-unique, `df.isetitem(i, newvals)`\n",
      "  df.iloc[:,col] = df.iloc[:,col].apply(clean_number).apply(pd.to_numeric , errors='coerce')\n",
      "/home/jayesh/mgs_ai/crm_syd_1/main_page_processing_service/note_standardise_utils.py:201: FutureWarning: iteritems is deprecated and will be removed in a future version. Use .items instead.\n",
      "  for col_idx, item in row.iteritems():\n",
      "/home/jayesh/mgs_ai/crm_syd_1/main_page_processing_service/note_standardise_utils.py:340: FutureWarning: In a future version, `df.iloc[:, i] = newvals` will attempt to set the values inplace instead of always setting a new array. To retain the old behavior, use either `df[df.columns[i]] = newvals` or, if columns are non-unique, `df.isetitem(i, newvals)`\n",
      "  df.iloc[:,col] = df.iloc[:,col].apply(clean_number).apply(pd.to_numeric , errors='coerce')\n",
      "/home/jayesh/mgs_ai/crm_syd_1/main_page_processing_service/note_standardise_utils.py:201: FutureWarning: iteritems is deprecated and will be removed in a future version. Use .items instead.\n",
      "  for col_idx, item in row.iteritems():\n",
      "/home/jayesh/mgs_ai/crm_syd_1/main_page_processing_service/note_standardise_utils.py:340: FutureWarning: In a future version, `df.iloc[:, i] = newvals` will attempt to set the values inplace instead of always setting a new array. To retain the old behavior, use either `df[df.columns[i]] = newvals` or, if columns are non-unique, `df.isetitem(i, newvals)`\n",
      "  df.iloc[:,col] = df.iloc[:,col].apply(clean_number).apply(pd.to_numeric , errors='coerce')\n",
      "/home/jayesh/mgs_ai/crm_syd_1/main_page_processing_service/note_standardise_utils.py:201: FutureWarning: iteritems is deprecated and will be removed in a future version. Use .items instead.\n",
      "  for col_idx, item in row.iteritems():\n",
      "/home/jayesh/mgs_ai/crm_syd_1/main_page_processing_service/note_standardise_utils.py:340: FutureWarning: In a future version, `df.iloc[:, i] = newvals` will attempt to set the values inplace instead of always setting a new array. To retain the old behavior, use either `df[df.columns[i]] = newvals` or, if columns are non-unique, `df.isetitem(i, newvals)`\n",
      "  df.iloc[:,col] = df.iloc[:,col].apply(clean_number).apply(pd.to_numeric , errors='coerce')\n",
      "/home/jayesh/mgs_ai/crm_syd_1/main_page_processing_service/note_standardise_utils.py:201: FutureWarning: iteritems is deprecated and will be removed in a future version. Use .items instead.\n",
      "  for col_idx, item in row.iteritems():\n",
      "/home/jayesh/mgs_ai/crm_syd_1/main_page_processing_service/note_standardise_utils.py:340: FutureWarning: In a future version, `df.iloc[:, i] = newvals` will attempt to set the values inplace instead of always setting a new array. To retain the old behavior, use either `df[df.columns[i]] = newvals` or, if columns are non-unique, `df.isetitem(i, newvals)`\n",
      "  df.iloc[:,col] = df.iloc[:,col].apply(clean_number).apply(pd.to_numeric , errors='coerce')\n",
      "/home/jayesh/mgs_ai/crm_syd_1/main_page_processing_service/note_standardise_utils.py:201: FutureWarning: iteritems is deprecated and will be removed in a future version. Use .items instead.\n",
      "  for col_idx, item in row.iteritems():\n",
      "/home/jayesh/mgs_ai/crm_syd_1/main_page_processing_service/note_standardise_utils.py:340: FutureWarning: In a future version, `df.iloc[:, i] = newvals` will attempt to set the values inplace instead of always setting a new array. To retain the old behavior, use either `df[df.columns[i]] = newvals` or, if columns are non-unique, `df.isetitem(i, newvals)`\n",
      "  df.iloc[:,col] = df.iloc[:,col].apply(clean_number).apply(pd.to_numeric , errors='coerce')\n",
      "/home/jayesh/mgs_ai/crm_syd_1/main_page_processing_service/note_standardise_utils.py:201: FutureWarning: iteritems is deprecated and will be removed in a future version. Use .items instead.\n",
      "  for col_idx, item in row.iteritems():\n",
      "/home/jayesh/mgs_ai/crm_syd_1/main_page_processing_service/note_standardise_utils.py:340: FutureWarning: In a future version, `df.iloc[:, i] = newvals` will attempt to set the values inplace instead of always setting a new array. To retain the old behavior, use either `df[df.columns[i]] = newvals` or, if columns are non-unique, `df.isetitem(i, newvals)`\n",
      "  df.iloc[:,col] = df.iloc[:,col].apply(clean_number).apply(pd.to_numeric , errors='coerce')\n",
      "/home/jayesh/mgs_ai/crm_syd_1/main_page_processing_service/note_standardise_utils.py:201: FutureWarning: iteritems is deprecated and will be removed in a future version. Use .items instead.\n",
      "  for col_idx, item in row.iteritems():\n",
      "/home/jayesh/mgs_ai/crm_syd_1/main_page_processing_service/note_standardise_utils.py:340: FutureWarning: In a future version, `df.iloc[:, i] = newvals` will attempt to set the values inplace instead of always setting a new array. To retain the old behavior, use either `df[df.columns[i]] = newvals` or, if columns are non-unique, `df.isetitem(i, newvals)`\n",
      "  df.iloc[:,col] = df.iloc[:,col].apply(clean_number).apply(pd.to_numeric , errors='coerce')\n",
      "/home/jayesh/mgs_ai/crm_syd_1/main_page_processing_service/note_standardise_utils.py:201: FutureWarning: iteritems is deprecated and will be removed in a future version. Use .items instead.\n",
      "  for col_idx, item in row.iteritems():\n",
      "/home/jayesh/mgs_ai/crm_syd_1/main_page_processing_service/note_standardise_utils.py:340: FutureWarning: In a future version, `df.iloc[:, i] = newvals` will attempt to set the values inplace instead of always setting a new array. To retain the old behavior, use either `df[df.columns[i]] = newvals` or, if columns are non-unique, `df.isetitem(i, newvals)`\n",
      "  df.iloc[:,col] = df.iloc[:,col].apply(clean_number).apply(pd.to_numeric , errors='coerce')\n",
      "/home/jayesh/mgs_ai/crm_syd_1/main_page_processing_service/note_standardise_utils.py:201: FutureWarning: iteritems is deprecated and will be removed in a future version. Use .items instead.\n",
      "  for col_idx, item in row.iteritems():\n",
      "/home/jayesh/mgs_ai/crm_syd_1/main_page_processing_service/note_standardise_utils.py:340: FutureWarning: In a future version, `df.iloc[:, i] = newvals` will attempt to set the values inplace instead of always setting a new array. To retain the old behavior, use either `df[df.columns[i]] = newvals` or, if columns are non-unique, `df.isetitem(i, newvals)`\n",
      "  df.iloc[:,col] = df.iloc[:,col].apply(clean_number).apply(pd.to_numeric , errors='coerce')\n"
     ]
    }
   ],
   "source": [
    "cbs_dict,cpl_dict,ccf_dict,meta_dict,final_notes_dict,ref_notes_list, notes_region_meta_data,cropped_table_dict = mp.process_main_pages(fileid=fileid)"
   ]
  },
  {
   "cell_type": "code",
   "execution_count": null,
   "id": "e4a66e33-d7a5-4f3b-ae51-721263f22b5e",
   "metadata": {},
   "outputs": [],
   "source": []
  },
  {
   "cell_type": "code",
   "execution_count": 7,
   "id": "fdd44a03-84ec-4cf6-b7db-fc0b78c44059",
   "metadata": {
    "tags": []
   },
   "outputs": [
    {
     "data": {
      "text/plain": [
       "dict_keys([7])"
      ]
     },
     "execution_count": 7,
     "metadata": {},
     "output_type": "execute_result"
    }
   ],
   "source": [
    "cbs_dict.keys()"
   ]
  },
  {
   "cell_type": "code",
   "execution_count": 8,
   "id": "33204219-1d76-4da0-bd3d-37f91beacb1b",
   "metadata": {},
   "outputs": [],
   "source": [
    "cbs_page = list(cbs_dict.keys())[0]"
   ]
  },
  {
   "cell_type": "code",
   "execution_count": 9,
   "id": "8f6f89e8",
   "metadata": {},
   "outputs": [],
   "source": [
    "cbs_dict[cbs_page].columns = cbs_dict[cbs_page].columns.map(str)"
   ]
  },
  {
   "cell_type": "code",
   "execution_count": 10,
   "id": "92a5a42c",
   "metadata": {},
   "outputs": [],
   "source": [
    "obj_cbs_mapping = CBSMapping(cbs_df=cbs_dict[cbs_page],notes_ref_dict=mp.notes_ref_dict,notes_region_meta_data=mp.notes_region_meta_data,standardised_cropped_dict=mp.standardised_cropped_dict,standard_note_meta_dict=mp.standard_note_meta_dict,transformed_standardised_cropped_dict=mp.transformed_standardised_cropped_dict,month=mp.month)"
   ]
  },
  {
   "cell_type": "code",
   "execution_count": 11,
   "id": "87f071aa",
   "metadata": {
    "tags": []
   },
   "outputs": [
    {
     "name": "stderr",
     "output_type": "stream",
     "text": [
      "/home/jayesh/mgs_ai/crm_syd_1/main_page_processing_service/DataBucketingUtils.py:293: FutureWarning: The frame.append method is deprecated and will be removed from pandas in a future version. Use pandas.concat instead.\n",
      "  new_horizontal_note_df = new_horizontal_note_df.append(tmp_df, ignore_index=True)\n",
      "/home/jayesh/mgs_ai/crm_syd_1/main_page_processing_service/DataBucketingUtils.py:272: FutureWarning: The frame.append method is deprecated and will be removed from pandas in a future version. Use pandas.concat instead.\n",
      "  temp_horizontal_df = temp_horizontal_df.append(horizontal_note_df)\n",
      "/home/jayesh/mgs_ai/crm_syd_1/main_page_processing_service/DataBucketingUtils.py:310: FutureWarning: The default value of regex will change from True to False in a future version.\n",
      "  std_horzntl_note_df[\"line_item\"] = std_horzntl_note_df[\"line_item\"].str.replace(re.escape(pattrn),'',flags=re.IGNORECASE)\n",
      "/home/jayesh/mgs_ai/crm_syd_1/main_page_processing_service/DataBucketingUtils.py:293: FutureWarning: The frame.append method is deprecated and will be removed from pandas in a future version. Use pandas.concat instead.\n",
      "  new_horizontal_note_df = new_horizontal_note_df.append(tmp_df, ignore_index=True)\n",
      "/home/jayesh/mgs_ai/crm_syd_1/main_page_processing_service/DataBucketingUtils.py:293: FutureWarning: The frame.append method is deprecated and will be removed from pandas in a future version. Use pandas.concat instead.\n",
      "  new_horizontal_note_df = new_horizontal_note_df.append(tmp_df, ignore_index=True)\n",
      "/home/jayesh/mgs_ai/crm_syd_1/main_page_processing_service/DataBucketingUtils.py:293: FutureWarning: The frame.append method is deprecated and will be removed from pandas in a future version. Use pandas.concat instead.\n",
      "  new_horizontal_note_df = new_horizontal_note_df.append(tmp_df, ignore_index=True)\n",
      "/home/jayesh/mgs_ai/crm_syd_1/main_page_processing_service/DataBucketingUtils.py:272: FutureWarning: The frame.append method is deprecated and will be removed from pandas in a future version. Use pandas.concat instead.\n",
      "  temp_horizontal_df = temp_horizontal_df.append(horizontal_note_df)\n",
      "/home/jayesh/mgs_ai/crm_syd_1/main_page_processing_service/DataBucketingUtils.py:310: FutureWarning: The default value of regex will change from True to False in a future version.\n",
      "  std_horzntl_note_df[\"line_item\"] = std_horzntl_note_df[\"line_item\"].str.replace(re.escape(pattrn),'',flags=re.IGNORECASE)\n",
      "/home/jayesh/mgs_ai/crm_syd_1/main_page_processing_service/DataBucketingUtils.py:293: FutureWarning: The frame.append method is deprecated and will be removed from pandas in a future version. Use pandas.concat instead.\n",
      "  new_horizontal_note_df = new_horizontal_note_df.append(tmp_df, ignore_index=True)\n",
      "/home/jayesh/mgs_ai/crm_syd_1/main_page_processing_service/DataBucketingUtils.py:293: FutureWarning: The frame.append method is deprecated and will be removed from pandas in a future version. Use pandas.concat instead.\n",
      "  new_horizontal_note_df = new_horizontal_note_df.append(tmp_df, ignore_index=True)\n",
      "/home/jayesh/mgs_ai/crm_syd_1/main_page_processing_service/DataBucketingUtils.py:293: FutureWarning: The frame.append method is deprecated and will be removed from pandas in a future version. Use pandas.concat instead.\n",
      "  new_horizontal_note_df = new_horizontal_note_df.append(tmp_df, ignore_index=True)\n",
      "/home/jayesh/mgs_ai/crm_syd_1/main_page_processing_service/DataBucketingUtils.py:293: FutureWarning: The frame.append method is deprecated and will be removed from pandas in a future version. Use pandas.concat instead.\n",
      "  new_horizontal_note_df = new_horizontal_note_df.append(tmp_df, ignore_index=True)\n",
      "/home/jayesh/mgs_ai/crm_syd_1/main_page_processing_service/DataBucketingUtils.py:272: FutureWarning: The frame.append method is deprecated and will be removed from pandas in a future version. Use pandas.concat instead.\n",
      "  temp_horizontal_df = temp_horizontal_df.append(horizontal_note_df)\n",
      "/home/jayesh/mgs_ai/crm_syd_1/main_page_processing_service/DataBucketingUtils.py:310: FutureWarning: The default value of regex will change from True to False in a future version.\n",
      "  std_horzntl_note_df[\"line_item\"] = std_horzntl_note_df[\"line_item\"].str.replace(re.escape(pattrn),'',flags=re.IGNORECASE)\n"
     ]
    },
    {
     "name": "stdout",
     "output_type": "stream",
     "text": [
      "txt_rows : cost at 1 january 2020\n",
      "res_fuzz_match : [('depreciatio', 25), ('accumulated depreciation', 25)]\n",
      "txt_rows : freehold land and buildings $000\n",
      "res_fuzz_match : [('depreciatio', 27), ('accumulated depreciation', 27)]\n",
      "txt_rows : cost additions\n",
      "res_fuzz_match : [('accumulated depreciation', 30), ('depreciatio', 25)]\n",
      "txt_rows : freehold land and buildings $000\n",
      "res_fuzz_match : [('depreciatio', 27), ('accumulated depreciation', 27)]\n",
      "txt_rows : cost disposals\n",
      "res_fuzz_match : [('accumulated depreciation', 36), ('depreciatio', 35)]\n",
      "txt_rows : freehold land and buildings $000\n",
      "res_fuzz_match : [('depreciatio', 27), ('accumulated depreciation', 27)]\n",
      "txt_rows : cost transfer\n",
      "res_fuzz_match : [('accumulated depreciation', 31), ('depreciatio', 29)]\n",
      "txt_rows : freehold land and buildings $000\n",
      "res_fuzz_match : [('depreciatio', 27), ('accumulated depreciation', 27)]\n",
      "txt_rows : cost at 31 december 2020\n",
      "res_fuzz_match : [('accumulated depreciation', 40), ('depreciatio', 35)]\n",
      "txt_rows : freehold land and buildings $000\n",
      "res_fuzz_match : [('depreciatio', 27), ('accumulated depreciation', 27)]\n",
      "txt_rows : accumulated depreciation and impairment at1 january 2020\n",
      "res_fuzz_match : [('accumulated depreciation', 100), ('depreciatio', 73)]\n",
      "txt_rows : freehold land and buildings $000\n",
      "res_fuzz_match : [('depreciatio', 27), ('accumulated depreciation', 27)]\n",
      "txt_rows : accumulated depreciation and impairment depreciation charge for the year\n",
      "res_fuzz_match : [('accumulated depreciation', 100), ('depreciatio', 73)]\n",
      "txt_rows : freehold land and buildings $000\n",
      "res_fuzz_match : [('depreciatio', 27), ('accumulated depreciation', 27)]\n",
      "txt_rows : accumulated depreciation and impairment impairment*\n",
      "res_fuzz_match : [('accumulated depreciation', 100), ('depreciatio', 73)]\n",
      "txt_rows : freehold land and buildings $000\n",
      "res_fuzz_match : [('depreciatio', 27), ('accumulated depreciation', 27)]\n",
      "txt_rows : accumulated depreciation and impairment disposals\n",
      "res_fuzz_match : [('accumulated depreciation', 100), ('depreciatio', 73)]\n",
      "txt_rows : freehold land and buildings $000\n",
      "res_fuzz_match : [('depreciatio', 27), ('accumulated depreciation', 27)]\n",
      "txt_rows : accumulated depreciation and impairment at 31 december 2020\n",
      "res_fuzz_match : [('accumulated depreciation', 100), ('depreciatio', 73)]\n",
      "txt_rows : freehold land and buildings $000\n",
      "res_fuzz_match : [('depreciatio', 27), ('accumulated depreciation', 27)]\n",
      "txt_rows : net book value at 31 december 2020\n",
      "res_fuzz_match : [('accumulated depreciation', 48), ('depreciatio', 35)]\n",
      "txt_rows : freehold land and buildings $000\n",
      "res_fuzz_match : [('depreciatio', 27), ('accumulated depreciation', 27)]\n",
      "txt_rows : net book value at 31 december 2019\n",
      "res_fuzz_match : [('accumulated depreciation', 48), ('depreciatio', 35)]\n",
      "txt_rows : freehold land and buildings $000\n",
      "res_fuzz_match : [('depreciatio', 27), ('accumulated depreciation', 27)]\n",
      "txt_rows : cost at 1 january 2020\n",
      "res_fuzz_match : [('depreciatio', 25), ('accumulated depreciation', 25)]\n",
      "txt_rows : plant and equipment $000\n",
      "res_fuzz_match : [('depreciatio', 33), ('accumulated depreciation', 23)]\n",
      "txt_rows : cost additions\n",
      "res_fuzz_match : [('accumulated depreciation', 30), ('depreciatio', 25)]\n",
      "txt_rows : plant and equipment $000\n",
      "res_fuzz_match : [('depreciatio', 33), ('accumulated depreciation', 23)]\n",
      "txt_rows : cost disposals\n",
      "res_fuzz_match : [('accumulated depreciation', 36), ('depreciatio', 35)]\n",
      "txt_rows : plant and equipment $000\n",
      "res_fuzz_match : [('depreciatio', 33), ('accumulated depreciation', 23)]\n",
      "txt_rows : cost transfer\n",
      "res_fuzz_match : [('accumulated depreciation', 31), ('depreciatio', 29)]\n",
      "txt_rows : plant and equipment $000\n",
      "res_fuzz_match : [('depreciatio', 33), ('accumulated depreciation', 23)]\n",
      "txt_rows : cost at 31 december 2020\n",
      "res_fuzz_match : [('accumulated depreciation', 40), ('depreciatio', 35)]\n",
      "txt_rows : plant and equipment $000\n",
      "res_fuzz_match : [('depreciatio', 33), ('accumulated depreciation', 23)]\n",
      "txt_rows : accumulated depreciation and impairment at1 january 2020\n",
      "res_fuzz_match : [('accumulated depreciation', 100), ('depreciatio', 73)]\n",
      "txt_rows : plant and equipment $000\n",
      "res_fuzz_match : [('depreciatio', 33), ('accumulated depreciation', 23)]\n",
      "txt_rows : accumulated depreciation and impairment depreciation charge for the year\n",
      "res_fuzz_match : [('accumulated depreciation', 100), ('depreciatio', 73)]\n",
      "txt_rows : plant and equipment $000\n",
      "res_fuzz_match : [('depreciatio', 33), ('accumulated depreciation', 23)]\n",
      "txt_rows : accumulated depreciation and impairment impairment*\n",
      "res_fuzz_match : [('accumulated depreciation', 100), ('depreciatio', 73)]\n",
      "txt_rows : plant and equipment $000\n",
      "res_fuzz_match : [('depreciatio', 33), ('accumulated depreciation', 23)]\n",
      "txt_rows : accumulated depreciation and impairment disposals\n",
      "res_fuzz_match : [('accumulated depreciation', 100), ('depreciatio', 73)]\n",
      "txt_rows : plant and equipment $000\n",
      "res_fuzz_match : [('depreciatio', 33), ('accumulated depreciation', 23)]\n",
      "txt_rows : accumulated depreciation and impairment at 31 december 2020\n",
      "res_fuzz_match : [('accumulated depreciation', 100), ('depreciatio', 73)]\n",
      "txt_rows : plant and equipment $000\n",
      "res_fuzz_match : [('depreciatio', 33), ('accumulated depreciation', 23)]\n",
      "txt_rows : net book value at 31 december 2020\n",
      "res_fuzz_match : [('accumulated depreciation', 48), ('depreciatio', 35)]\n",
      "txt_rows : plant and equipment $000\n",
      "res_fuzz_match : [('depreciatio', 33), ('accumulated depreciation', 23)]\n",
      "txt_rows : net book value at 31 december 2019\n",
      "res_fuzz_match : [('accumulated depreciation', 48), ('depreciatio', 35)]\n",
      "txt_rows : plant and equipment $000\n",
      "res_fuzz_match : [('depreciatio', 33), ('accumulated depreciation', 23)]\n",
      "txt_rows : cost at 1 january 2020\n",
      "res_fuzz_match : [('depreciatio', 25), ('accumulated depreciation', 25)]\n",
      "txt_rows : asset retirement obligation** $000\n",
      "res_fuzz_match : [('depreciatio', 55), ('accumulated depreciation', 33)]\n",
      "txt_rows : cost additions\n",
      "res_fuzz_match : [('accumulated depreciation', 30), ('depreciatio', 25)]\n",
      "txt_rows : asset retirement obligation** $000\n",
      "res_fuzz_match : [('depreciatio', 55), ('accumulated depreciation', 33)]\n",
      "txt_rows : cost disposals\n",
      "res_fuzz_match : [('accumulated depreciation', 36), ('depreciatio', 35)]\n",
      "txt_rows : asset retirement obligation** $000\n",
      "res_fuzz_match : [('depreciatio', 55), ('accumulated depreciation', 33)]\n",
      "txt_rows : cost transfer\n",
      "res_fuzz_match : [('accumulated depreciation', 31), ('depreciatio', 29)]\n",
      "txt_rows : asset retirement obligation** $000\n",
      "res_fuzz_match : [('depreciatio', 55), ('accumulated depreciation', 33)]\n",
      "txt_rows : cost at 31 december 2020\n",
      "res_fuzz_match : [('accumulated depreciation', 40), ('depreciatio', 35)]\n",
      "txt_rows : asset retirement obligation** $000\n",
      "res_fuzz_match : [('depreciatio', 55), ('accumulated depreciation', 33)]\n",
      "txt_rows : accumulated depreciation and impairment at1 january 2020\n",
      "res_fuzz_match : [('accumulated depreciation', 100), ('depreciatio', 73)]\n",
      "txt_rows : asset retirement obligation** $000\n",
      "res_fuzz_match : [('depreciatio', 55), ('accumulated depreciation', 33)]\n",
      "txt_rows : accumulated depreciation and impairment depreciation charge for the year\n",
      "res_fuzz_match : [('accumulated depreciation', 100), ('depreciatio', 73)]\n",
      "txt_rows : asset retirement obligation** $000\n",
      "res_fuzz_match : [('depreciatio', 55), ('accumulated depreciation', 33)]\n",
      "txt_rows : accumulated depreciation and impairment impairment*\n",
      "res_fuzz_match : [('accumulated depreciation', 100), ('depreciatio', 73)]\n",
      "txt_rows : asset retirement obligation** $000\n",
      "res_fuzz_match : [('depreciatio', 55), ('accumulated depreciation', 33)]\n",
      "txt_rows : accumulated depreciation and impairment disposals\n",
      "res_fuzz_match : [('accumulated depreciation', 100), ('depreciatio', 73)]\n",
      "txt_rows : asset retirement obligation** $000\n",
      "res_fuzz_match : [('depreciatio', 55), ('accumulated depreciation', 33)]\n",
      "txt_rows : accumulated depreciation and impairment at 31 december 2020\n",
      "res_fuzz_match : [('accumulated depreciation', 100), ('depreciatio', 73)]\n",
      "txt_rows : asset retirement obligation** $000\n",
      "res_fuzz_match : [('depreciatio', 55), ('accumulated depreciation', 33)]\n",
      "txt_rows : net book value at 31 december 2020\n",
      "res_fuzz_match : [('accumulated depreciation', 48), ('depreciatio', 35)]\n",
      "txt_rows : asset retirement obligation** $000\n",
      "res_fuzz_match : [('depreciatio', 55), ('accumulated depreciation', 33)]\n",
      "txt_rows : net book value at 31 december 2019\n",
      "res_fuzz_match : [('accumulated depreciation', 48), ('depreciatio', 35)]\n",
      "txt_rows : asset retirement obligation** $000\n",
      "res_fuzz_match : [('depreciatio', 55), ('accumulated depreciation', 33)]\n",
      "txt_rows : cost at 1 january 2020\n",
      "res_fuzz_match : [('depreciatio', 25), ('accumulated depreciation', 25)]\n",
      "txt_rows : construction inj progress $000\n",
      "res_fuzz_match : [('accumulated depreciation', 33), ('depreciatio', 29)]\n",
      "txt_rows : cost additions\n",
      "res_fuzz_match : [('accumulated depreciation', 30), ('depreciatio', 25)]\n",
      "txt_rows : construction inj progress $000\n",
      "res_fuzz_match : [('accumulated depreciation', 33), ('depreciatio', 29)]\n",
      "txt_rows : cost disposals\n",
      "res_fuzz_match : [('accumulated depreciation', 36), ('depreciatio', 35)]\n",
      "txt_rows : construction inj progress $000\n",
      "res_fuzz_match : [('accumulated depreciation', 33), ('depreciatio', 29)]\n",
      "txt_rows : cost transfer\n",
      "res_fuzz_match : [('accumulated depreciation', 31), ('depreciatio', 29)]\n",
      "txt_rows : construction inj progress $000\n",
      "res_fuzz_match : [('accumulated depreciation', 33), ('depreciatio', 29)]\n",
      "txt_rows : cost at 31 december 2020\n",
      "res_fuzz_match : [('accumulated depreciation', 40), ('depreciatio', 35)]\n",
      "txt_rows : construction inj progress $000\n",
      "res_fuzz_match : [('accumulated depreciation', 33), ('depreciatio', 29)]\n",
      "txt_rows : accumulated depreciation and impairment at1 january 2020\n",
      "res_fuzz_match : [('accumulated depreciation', 100), ('depreciatio', 73)]\n",
      "txt_rows : construction inj progress $000\n",
      "res_fuzz_match : [('accumulated depreciation', 33), ('depreciatio', 29)]\n",
      "txt_rows : accumulated depreciation and impairment depreciation charge for the year\n",
      "res_fuzz_match : [('accumulated depreciation', 100), ('depreciatio', 73)]\n",
      "txt_rows : construction inj progress $000\n",
      "res_fuzz_match : [('accumulated depreciation', 33), ('depreciatio', 29)]\n",
      "txt_rows : accumulated depreciation and impairment impairment*\n",
      "res_fuzz_match : [('accumulated depreciation', 100), ('depreciatio', 73)]\n",
      "txt_rows : construction inj progress $000\n",
      "res_fuzz_match : [('accumulated depreciation', 33), ('depreciatio', 29)]\n",
      "txt_rows : accumulated depreciation and impairment disposals\n",
      "res_fuzz_match : [('accumulated depreciation', 100), ('depreciatio', 73)]\n",
      "txt_rows : construction inj progress $000\n",
      "res_fuzz_match : [('accumulated depreciation', 33), ('depreciatio', 29)]\n",
      "txt_rows : accumulated depreciation and impairment at 31 december 2020\n",
      "res_fuzz_match : [('accumulated depreciation', 100), ('depreciatio', 73)]\n",
      "txt_rows : construction inj progress $000\n",
      "res_fuzz_match : [('accumulated depreciation', 33), ('depreciatio', 29)]\n",
      "txt_rows : net book value at 31 december 2020\n",
      "res_fuzz_match : [('accumulated depreciation', 48), ('depreciatio', 35)]\n",
      "txt_rows : construction inj progress $000\n",
      "res_fuzz_match : [('accumulated depreciation', 33), ('depreciatio', 29)]\n",
      "txt_rows : net book value at 31 december 2019\n",
      "res_fuzz_match : [('accumulated depreciation', 48), ('depreciatio', 35)]\n",
      "txt_rows : construction inj progress $000\n",
      "res_fuzz_match : [('accumulated depreciation', 33), ('depreciatio', 29)]\n",
      "txt_rows : cost at 1 january 2020\n",
      "res_fuzz_match : [('depreciatio', 25), ('accumulated depreciation', 25)]\n",
      "txt_rows : total $000\n",
      "res_fuzz_match : [('depreciatio', 50), ('accumulated depreciation', 20)]\n",
      "txt_rows : cost additions\n",
      "res_fuzz_match : [('accumulated depreciation', 30), ('depreciatio', 25)]\n",
      "txt_rows : total $000\n",
      "res_fuzz_match : [('depreciatio', 50), ('accumulated depreciation', 20)]\n",
      "txt_rows : cost disposals\n",
      "res_fuzz_match : [('accumulated depreciation', 36), ('depreciatio', 35)]\n",
      "txt_rows : total $000\n",
      "res_fuzz_match : [('depreciatio', 50), ('accumulated depreciation', 20)]\n",
      "txt_rows : cost transfer\n",
      "res_fuzz_match : [('accumulated depreciation', 31), ('depreciatio', 29)]\n",
      "txt_rows : total $000\n",
      "res_fuzz_match : [('depreciatio', 50), ('accumulated depreciation', 20)]\n",
      "txt_rows : cost at 31 december 2020\n",
      "res_fuzz_match : [('accumulated depreciation', 40), ('depreciatio', 35)]\n",
      "txt_rows : total $000\n",
      "res_fuzz_match : [('depreciatio', 50), ('accumulated depreciation', 20)]\n",
      "txt_rows : accumulated depreciation and impairment at1 january 2020\n",
      "res_fuzz_match : [('accumulated depreciation', 100), ('depreciatio', 73)]\n",
      "txt_rows : total $000\n",
      "res_fuzz_match : [('depreciatio', 50), ('accumulated depreciation', 20)]\n",
      "txt_rows : accumulated depreciation and impairment depreciation charge for the year\n",
      "res_fuzz_match : [('accumulated depreciation', 100), ('depreciatio', 73)]\n",
      "txt_rows : total $000\n",
      "res_fuzz_match : [('depreciatio', 50), ('accumulated depreciation', 20)]\n",
      "txt_rows : accumulated depreciation and impairment impairment*\n",
      "res_fuzz_match : [('accumulated depreciation', 100), ('depreciatio', 73)]\n",
      "txt_rows : total $000\n",
      "res_fuzz_match : [('depreciatio', 50), ('accumulated depreciation', 20)]\n",
      "txt_rows : accumulated depreciation and impairment disposals\n",
      "res_fuzz_match : [('accumulated depreciation', 100), ('depreciatio', 73)]\n",
      "txt_rows : total $000\n",
      "res_fuzz_match : [('depreciatio', 50), ('accumulated depreciation', 20)]\n",
      "txt_rows : accumulated depreciation and impairment at 31 december 2020\n",
      "res_fuzz_match : [('accumulated depreciation', 100), ('depreciatio', 73)]\n",
      "txt_rows : total $000\n",
      "res_fuzz_match : [('depreciatio', 50), ('accumulated depreciation', 20)]\n",
      "txt_rows : net book value at 31 december 2020\n",
      "res_fuzz_match : [('accumulated depreciation', 48), ('depreciatio', 35)]\n",
      "txt_rows : total $000\n",
      "res_fuzz_match : [('depreciatio', 50), ('accumulated depreciation', 20)]\n",
      "txt_rows : net book value at 31 december 2019\n",
      "res_fuzz_match : [('accumulated depreciation', 48), ('depreciatio', 35)]\n",
      "txt_rows : total $000\n",
      "res_fuzz_match : [('depreciatio', 50), ('accumulated depreciation', 20)]\n",
      "txt_rows : cost at 1 january 2020\n",
      "res_fuzz_match : [('cost', 100), ('gross', 40)]\n",
      "txt_rows : freehold land and buildings $000\n",
      "res_fuzz_match : [('cost', 25), ('gross', 20)]\n",
      "txt_rows : cost additions\n",
      "res_fuzz_match : [('cost', 100), ('gross', 40)]\n",
      "txt_rows : freehold land and buildings $000\n",
      "res_fuzz_match : [('cost', 25), ('gross', 20)]\n",
      "txt_rows : cost disposals\n",
      "res_fuzz_match : [('cost', 100), ('gross', 40)]\n",
      "txt_rows : freehold land and buildings $000\n",
      "res_fuzz_match : [('cost', 25), ('gross', 20)]\n",
      "txt_rows : cost transfer\n",
      "res_fuzz_match : [('cost', 100), ('gross', 40)]\n",
      "txt_rows : freehold land and buildings $000\n",
      "res_fuzz_match : [('cost', 25), ('gross', 20)]\n",
      "txt_rows : cost at 31 december 2020\n",
      "res_fuzz_match : [('cost', 100), ('gross', 40)]\n",
      "txt_rows : freehold land and buildings $000\n",
      "res_fuzz_match : [('cost', 25), ('gross', 20)]\n",
      "txt_rows : accumulated depreciation and impairment at1 january 2020\n",
      "res_fuzz_match : [('cost', 25), ('gross', 20)]\n",
      "txt_rows : freehold land and buildings $000\n",
      "res_fuzz_match : [('cost', 25), ('gross', 20)]\n",
      "txt_rows : accumulated depreciation and impairment depreciation charge for the year\n",
      "res_fuzz_match : [('cost', 50), ('gross', 40)]\n",
      "txt_rows : freehold land and buildings $000\n",
      "res_fuzz_match : [('cost', 25), ('gross', 20)]\n",
      "txt_rows : accumulated depreciation and impairment impairment*\n",
      "res_fuzz_match : [('cost', 25), ('gross', 20)]\n",
      "txt_rows : freehold land and buildings $000\n",
      "res_fuzz_match : [('cost', 25), ('gross', 20)]\n",
      "txt_rows : accumulated depreciation and impairment disposals\n",
      "res_fuzz_match : [('cost', 57), ('gross', 44)]\n",
      "txt_rows : freehold land and buildings $000\n",
      "res_fuzz_match : [('cost', 25), ('gross', 20)]\n",
      "txt_rows : accumulated depreciation and impairment at 31 december 2020\n",
      "res_fuzz_match : [('cost', 25), ('gross', 20)]\n",
      "txt_rows : freehold land and buildings $000\n",
      "res_fuzz_match : [('cost', 25), ('gross', 20)]\n",
      "txt_rows : net book value at 31 december 2020\n",
      "res_fuzz_match : [('cost', 25), ('gross', 20)]\n",
      "txt_rows : freehold land and buildings $000\n",
      "res_fuzz_match : [('cost', 25), ('gross', 20)]\n",
      "txt_rows : net book value at 31 december 2019\n",
      "res_fuzz_match : [('cost', 25), ('gross', 20)]\n",
      "txt_rows : freehold land and buildings $000\n",
      "res_fuzz_match : [('cost', 25), ('gross', 20)]\n",
      "txt_rows : cost at 1 january 2020\n",
      "res_fuzz_match : [('cost', 100), ('gross', 40)]\n",
      "txt_rows : plant and equipment $000\n",
      "res_fuzz_match : [('cost', 25), ('gross', 0)]\n",
      "txt_rows : cost additions\n",
      "res_fuzz_match : [('cost', 100), ('gross', 40)]\n",
      "txt_rows : plant and equipment $000\n",
      "res_fuzz_match : [('cost', 25), ('gross', 0)]\n",
      "txt_rows : cost disposals\n",
      "res_fuzz_match : [('cost', 100), ('gross', 40)]\n",
      "txt_rows : plant and equipment $000\n",
      "res_fuzz_match : [('cost', 25), ('gross', 0)]\n",
      "txt_rows : cost transfer\n",
      "res_fuzz_match : [('cost', 100), ('gross', 40)]\n",
      "txt_rows : plant and equipment $000\n",
      "res_fuzz_match : [('cost', 25), ('gross', 0)]\n",
      "txt_rows : cost at 31 december 2020\n",
      "res_fuzz_match : [('cost', 100), ('gross', 40)]\n",
      "txt_rows : plant and equipment $000\n",
      "res_fuzz_match : [('cost', 25), ('gross', 0)]\n",
      "txt_rows : accumulated depreciation and impairment at1 january 2020\n",
      "res_fuzz_match : [('cost', 25), ('gross', 20)]\n",
      "txt_rows : plant and equipment $000\n",
      "res_fuzz_match : [('cost', 25), ('gross', 0)]\n",
      "txt_rows : accumulated depreciation and impairment depreciation charge for the year\n",
      "res_fuzz_match : [('cost', 50), ('gross', 40)]\n",
      "txt_rows : plant and equipment $000\n",
      "res_fuzz_match : [('cost', 25), ('gross', 0)]\n",
      "txt_rows : accumulated depreciation and impairment impairment*\n",
      "res_fuzz_match : [('cost', 25), ('gross', 20)]\n",
      "txt_rows : plant and equipment $000\n",
      "res_fuzz_match : [('cost', 25), ('gross', 0)]\n",
      "txt_rows : accumulated depreciation and impairment disposals\n",
      "res_fuzz_match : [('cost', 57), ('gross', 44)]\n",
      "txt_rows : plant and equipment $000\n",
      "res_fuzz_match : [('cost', 25), ('gross', 0)]\n",
      "txt_rows : accumulated depreciation and impairment at 31 december 2020\n",
      "res_fuzz_match : [('cost', 25), ('gross', 20)]\n",
      "txt_rows : plant and equipment $000\n",
      "res_fuzz_match : [('cost', 25), ('gross', 0)]\n",
      "txt_rows : net book value at 31 december 2020\n",
      "res_fuzz_match : [('cost', 25), ('gross', 20)]\n",
      "txt_rows : plant and equipment $000\n",
      "res_fuzz_match : [('cost', 25), ('gross', 0)]\n",
      "txt_rows : net book value at 31 december 2019\n",
      "res_fuzz_match : [('cost', 25), ('gross', 20)]\n",
      "txt_rows : plant and equipment $000\n",
      "res_fuzz_match : [('cost', 25), ('gross', 0)]\n",
      "txt_rows : cost at 1 january 2020\n",
      "res_fuzz_match : [('cost', 100), ('gross', 40)]\n",
      "txt_rows : asset retirement obligation** $000\n",
      "res_fuzz_match : [('gross', 40), ('cost', 25)]\n",
      "txt_rows : cost additions\n",
      "res_fuzz_match : [('cost', 100), ('gross', 40)]\n",
      "txt_rows : asset retirement obligation** $000\n",
      "res_fuzz_match : [('gross', 40), ('cost', 25)]\n",
      "txt_rows : cost disposals\n",
      "res_fuzz_match : [('cost', 100), ('gross', 40)]\n",
      "txt_rows : asset retirement obligation** $000\n",
      "res_fuzz_match : [('gross', 40), ('cost', 25)]\n",
      "txt_rows : cost transfer\n",
      "res_fuzz_match : [('cost', 100), ('gross', 40)]\n",
      "txt_rows : asset retirement obligation** $000\n",
      "res_fuzz_match : [('gross', 40), ('cost', 25)]\n",
      "txt_rows : cost at 31 december 2020\n",
      "res_fuzz_match : [('cost', 100), ('gross', 40)]\n",
      "txt_rows : asset retirement obligation** $000\n",
      "res_fuzz_match : [('gross', 40), ('cost', 25)]\n",
      "txt_rows : accumulated depreciation and impairment at1 january 2020\n",
      "res_fuzz_match : [('cost', 25), ('gross', 20)]\n",
      "txt_rows : asset retirement obligation** $000\n",
      "res_fuzz_match : [('gross', 40), ('cost', 25)]\n",
      "txt_rows : accumulated depreciation and impairment depreciation charge for the year\n",
      "res_fuzz_match : [('cost', 50), ('gross', 40)]\n",
      "txt_rows : asset retirement obligation** $000\n",
      "res_fuzz_match : [('gross', 40), ('cost', 25)]\n",
      "txt_rows : accumulated depreciation and impairment impairment*\n",
      "res_fuzz_match : [('cost', 25), ('gross', 20)]\n",
      "txt_rows : asset retirement obligation** $000\n",
      "res_fuzz_match : [('gross', 40), ('cost', 25)]\n",
      "txt_rows : accumulated depreciation and impairment disposals\n",
      "res_fuzz_match : [('cost', 57), ('gross', 44)]\n",
      "txt_rows : asset retirement obligation** $000\n",
      "res_fuzz_match : [('gross', 40), ('cost', 25)]\n",
      "txt_rows : accumulated depreciation and impairment at 31 december 2020\n",
      "res_fuzz_match : [('cost', 25), ('gross', 20)]\n",
      "txt_rows : asset retirement obligation** $000\n",
      "res_fuzz_match : [('gross', 40), ('cost', 25)]\n",
      "txt_rows : net book value at 31 december 2020\n",
      "res_fuzz_match : [('cost', 25), ('gross', 20)]\n",
      "txt_rows : asset retirement obligation** $000\n",
      "res_fuzz_match : [('gross', 40), ('cost', 25)]\n",
      "txt_rows : net book value at 31 december 2019\n",
      "res_fuzz_match : [('cost', 25), ('gross', 20)]\n",
      "txt_rows : asset retirement obligation** $000\n",
      "res_fuzz_match : [('gross', 40), ('cost', 25)]\n",
      "txt_rows : cost at 1 january 2020\n",
      "res_fuzz_match : [('cost', 100), ('gross', 40)]\n",
      "txt_rows : construction inj progress $000\n",
      "res_fuzz_match : [('gross', 80), ('cost', 75)]\n",
      "txt_rows : cost additions\n",
      "res_fuzz_match : [('cost', 100), ('gross', 40)]\n",
      "txt_rows : construction inj progress $000\n",
      "res_fuzz_match : [('gross', 80), ('cost', 75)]\n",
      "txt_rows : cost disposals\n",
      "res_fuzz_match : [('cost', 100), ('gross', 40)]\n",
      "txt_rows : construction inj progress $000\n",
      "res_fuzz_match : [('gross', 80), ('cost', 75)]\n",
      "txt_rows : cost transfer\n",
      "res_fuzz_match : [('cost', 100), ('gross', 40)]\n",
      "txt_rows : construction inj progress $000\n",
      "res_fuzz_match : [('gross', 80), ('cost', 75)]\n",
      "txt_rows : cost at 31 december 2020\n",
      "res_fuzz_match : [('cost', 100), ('gross', 40)]\n",
      "txt_rows : construction inj progress $000\n",
      "res_fuzz_match : [('gross', 80), ('cost', 75)]\n",
      "txt_rows : accumulated depreciation and impairment at1 january 2020\n",
      "res_fuzz_match : [('cost', 25), ('gross', 20)]\n",
      "txt_rows : construction inj progress $000\n",
      "res_fuzz_match : [('gross', 80), ('cost', 75)]\n",
      "txt_rows : accumulated depreciation and impairment depreciation charge for the year\n",
      "res_fuzz_match : [('cost', 50), ('gross', 40)]\n",
      "txt_rows : construction inj progress $000\n",
      "res_fuzz_match : [('gross', 80), ('cost', 75)]\n",
      "txt_rows : accumulated depreciation and impairment impairment*\n",
      "res_fuzz_match : [('cost', 25), ('gross', 20)]\n",
      "txt_rows : construction inj progress $000\n",
      "res_fuzz_match : [('gross', 80), ('cost', 75)]\n",
      "txt_rows : accumulated depreciation and impairment disposals\n",
      "res_fuzz_match : [('cost', 57), ('gross', 44)]\n",
      "txt_rows : construction inj progress $000\n",
      "res_fuzz_match : [('gross', 80), ('cost', 75)]\n",
      "txt_rows : accumulated depreciation and impairment at 31 december 2020\n",
      "res_fuzz_match : [('cost', 25), ('gross', 20)]\n",
      "txt_rows : construction inj progress $000\n",
      "res_fuzz_match : [('gross', 80), ('cost', 75)]\n",
      "txt_rows : net book value at 31 december 2020\n",
      "res_fuzz_match : [('cost', 25), ('gross', 20)]\n",
      "txt_rows : construction inj progress $000\n",
      "res_fuzz_match : [('gross', 80), ('cost', 75)]\n",
      "txt_rows : net book value at 31 december 2019\n",
      "res_fuzz_match : [('cost', 25), ('gross', 20)]\n",
      "txt_rows : construction inj progress $000\n",
      "res_fuzz_match : [('gross', 80), ('cost', 75)]\n",
      "txt_rows : cost at 1 january 2020\n",
      "res_fuzz_match : [('cost', 100), ('gross', 40)]\n",
      "txt_rows : total $000\n",
      "res_fuzz_match : [('cost', 50), ('gross', 20)]\n",
      "txt_rows : cost additions\n",
      "res_fuzz_match : [('cost', 100), ('gross', 40)]\n",
      "txt_rows : total $000\n",
      "res_fuzz_match : [('cost', 50), ('gross', 20)]\n",
      "txt_rows : cost disposals\n",
      "res_fuzz_match : [('cost', 100), ('gross', 40)]\n",
      "txt_rows : total $000\n",
      "res_fuzz_match : [('cost', 50), ('gross', 20)]\n",
      "txt_rows : cost transfer\n",
      "res_fuzz_match : [('cost', 100), ('gross', 40)]\n",
      "txt_rows : total $000\n",
      "res_fuzz_match : [('cost', 50), ('gross', 20)]\n",
      "txt_rows : cost at 31 december 2020\n",
      "res_fuzz_match : [('cost', 100), ('gross', 40)]\n",
      "txt_rows : total $000\n",
      "res_fuzz_match : [('cost', 50), ('gross', 20)]\n",
      "txt_rows : accumulated depreciation and impairment at1 january 2020\n",
      "res_fuzz_match : [('cost', 25), ('gross', 20)]\n",
      "txt_rows : total $000\n",
      "res_fuzz_match : [('cost', 50), ('gross', 20)]\n",
      "txt_rows : accumulated depreciation and impairment depreciation charge for the year\n",
      "res_fuzz_match : [('cost', 50), ('gross', 40)]\n",
      "txt_rows : total $000\n",
      "res_fuzz_match : [('cost', 50), ('gross', 20)]\n",
      "txt_rows : accumulated depreciation and impairment impairment*\n",
      "res_fuzz_match : [('cost', 25), ('gross', 20)]\n",
      "txt_rows : total $000\n",
      "res_fuzz_match : [('cost', 50), ('gross', 20)]\n",
      "txt_rows : accumulated depreciation and impairment disposals\n",
      "res_fuzz_match : [('cost', 57), ('gross', 44)]\n",
      "txt_rows : total $000\n",
      "res_fuzz_match : [('cost', 50), ('gross', 20)]\n",
      "txt_rows : accumulated depreciation and impairment at 31 december 2020\n",
      "res_fuzz_match : [('cost', 25), ('gross', 20)]\n",
      "txt_rows : total $000\n",
      "res_fuzz_match : [('cost', 50), ('gross', 20)]\n",
      "txt_rows : net book value at 31 december 2020\n",
      "res_fuzz_match : [('cost', 25), ('gross', 20)]\n",
      "txt_rows : total $000\n",
      "res_fuzz_match : [('cost', 50), ('gross', 20)]\n",
      "txt_rows : net book value at 31 december 2019\n",
      "res_fuzz_match : [('cost', 25), ('gross', 20)]\n",
      "txt_rows : total $000\n",
      "res_fuzz_match : [('cost', 50), ('gross', 20)]\n"
     ]
    },
    {
     "name": "stderr",
     "output_type": "stream",
     "text": [
      "/home/jayesh/mgs_ai/crm_syd_1/main_page_processing_service/DataBucketingUtils.py:293: FutureWarning: The frame.append method is deprecated and will be removed from pandas in a future version. Use pandas.concat instead.\n",
      "  new_horizontal_note_df = new_horizontal_note_df.append(tmp_df, ignore_index=True)\n",
      "/home/jayesh/mgs_ai/crm_syd_1/main_page_processing_service/DataBucketingUtils.py:293: FutureWarning: The frame.append method is deprecated and will be removed from pandas in a future version. Use pandas.concat instead.\n",
      "  new_horizontal_note_df = new_horizontal_note_df.append(tmp_df, ignore_index=True)\n",
      "/home/jayesh/mgs_ai/crm_syd_1/main_page_processing_service/DataBucketingUtils.py:293: FutureWarning: The frame.append method is deprecated and will be removed from pandas in a future version. Use pandas.concat instead.\n",
      "  new_horizontal_note_df = new_horizontal_note_df.append(tmp_df, ignore_index=True)\n",
      "/home/jayesh/mgs_ai/crm_syd_1/main_page_processing_service/DataBucketingUtils.py:293: FutureWarning: The frame.append method is deprecated and will be removed from pandas in a future version. Use pandas.concat instead.\n",
      "  new_horizontal_note_df = new_horizontal_note_df.append(tmp_df, ignore_index=True)\n",
      "/home/jayesh/mgs_ai/crm_syd_1/main_page_processing_service/DataBucketingUtils.py:293: FutureWarning: The frame.append method is deprecated and will be removed from pandas in a future version. Use pandas.concat instead.\n",
      "  new_horizontal_note_df = new_horizontal_note_df.append(tmp_df, ignore_index=True)\n",
      "/home/jayesh/mgs_ai/crm_syd_1/main_page_processing_service/DataBucketingUtils.py:293: FutureWarning: The frame.append method is deprecated and will be removed from pandas in a future version. Use pandas.concat instead.\n",
      "  new_horizontal_note_df = new_horizontal_note_df.append(tmp_df, ignore_index=True)\n",
      "/home/jayesh/mgs_ai/crm_syd_1/main_page_processing_service/DataBucketingUtils.py:293: FutureWarning: The frame.append method is deprecated and will be removed from pandas in a future version. Use pandas.concat instead.\n",
      "  new_horizontal_note_df = new_horizontal_note_df.append(tmp_df, ignore_index=True)\n",
      "/home/jayesh/mgs_ai/crm_syd_1/main_page_processing_service/DataBucketingUtils.py:293: FutureWarning: The frame.append method is deprecated and will be removed from pandas in a future version. Use pandas.concat instead.\n",
      "  new_horizontal_note_df = new_horizontal_note_df.append(tmp_df, ignore_index=True)\n",
      "/home/jayesh/mgs_ai/crm_syd_1/main_page_processing_service/DataBucketingUtils.py:293: FutureWarning: The frame.append method is deprecated and will be removed from pandas in a future version. Use pandas.concat instead.\n",
      "  new_horizontal_note_df = new_horizontal_note_df.append(tmp_df, ignore_index=True)\n",
      "/home/jayesh/mgs_ai/crm_syd_1/main_page_processing_service/DataBucketingUtils.py:293: FutureWarning: The frame.append method is deprecated and will be removed from pandas in a future version. Use pandas.concat instead.\n",
      "  new_horizontal_note_df = new_horizontal_note_df.append(tmp_df, ignore_index=True)\n",
      "/home/jayesh/mgs_ai/crm_syd_1/main_page_processing_service/DataBucketingUtils.py:293: FutureWarning: The frame.append method is deprecated and will be removed from pandas in a future version. Use pandas.concat instead.\n",
      "  new_horizontal_note_df = new_horizontal_note_df.append(tmp_df, ignore_index=True)\n",
      "/home/jayesh/mgs_ai/crm_syd_1/main_page_processing_service/DataBucketingUtils.py:293: FutureWarning: The frame.append method is deprecated and will be removed from pandas in a future version. Use pandas.concat instead.\n",
      "  new_horizontal_note_df = new_horizontal_note_df.append(tmp_df, ignore_index=True)\n",
      "/home/jayesh/mgs_ai/crm_syd_1/main_page_processing_service/DataBucketingUtils.py:293: FutureWarning: The frame.append method is deprecated and will be removed from pandas in a future version. Use pandas.concat instead.\n",
      "  new_horizontal_note_df = new_horizontal_note_df.append(tmp_df, ignore_index=True)\n",
      "/home/jayesh/mgs_ai/crm_syd_1/main_page_processing_service/DataBucketingUtils.py:293: FutureWarning: The frame.append method is deprecated and will be removed from pandas in a future version. Use pandas.concat instead.\n",
      "  new_horizontal_note_df = new_horizontal_note_df.append(tmp_df, ignore_index=True)\n",
      "/home/jayesh/mgs_ai/crm_syd_1/main_page_processing_service/DataBucketingUtils.py:293: FutureWarning: The frame.append method is deprecated and will be removed from pandas in a future version. Use pandas.concat instead.\n",
      "  new_horizontal_note_df = new_horizontal_note_df.append(tmp_df, ignore_index=True)\n",
      "/home/jayesh/mgs_ai/crm_syd_1/main_page_processing_service/DataBucketingUtils.py:293: FutureWarning: The frame.append method is deprecated and will be removed from pandas in a future version. Use pandas.concat instead.\n",
      "  new_horizontal_note_df = new_horizontal_note_df.append(tmp_df, ignore_index=True)\n",
      "/home/jayesh/mgs_ai/crm_syd_1/main_page_processing_service/DataBucketingUtils.py:293: FutureWarning: The frame.append method is deprecated and will be removed from pandas in a future version. Use pandas.concat instead.\n",
      "  new_horizontal_note_df = new_horizontal_note_df.append(tmp_df, ignore_index=True)\n",
      "/home/jayesh/mgs_ai/crm_syd_1/main_page_processing_service/DataBucketingUtils.py:293: FutureWarning: The frame.append method is deprecated and will be removed from pandas in a future version. Use pandas.concat instead.\n",
      "  new_horizontal_note_df = new_horizontal_note_df.append(tmp_df, ignore_index=True)\n",
      "/home/jayesh/mgs_ai/crm_syd_1/main_page_processing_service/DataBucketingUtils.py:293: FutureWarning: The frame.append method is deprecated and will be removed from pandas in a future version. Use pandas.concat instead.\n",
      "  new_horizontal_note_df = new_horizontal_note_df.append(tmp_df, ignore_index=True)\n",
      "/home/jayesh/mgs_ai/crm_syd_1/main_page_processing_service/DataBucketingUtils.py:293: FutureWarning: The frame.append method is deprecated and will be removed from pandas in a future version. Use pandas.concat instead.\n",
      "  new_horizontal_note_df = new_horizontal_note_df.append(tmp_df, ignore_index=True)\n",
      "/home/jayesh/mgs_ai/crm_syd_1/main_page_processing_service/DataBucketingUtils.py:272: FutureWarning: The frame.append method is deprecated and will be removed from pandas in a future version. Use pandas.concat instead.\n",
      "  temp_horizontal_df = temp_horizontal_df.append(horizontal_note_df)\n",
      "/home/jayesh/mgs_ai/crm_syd_1/main_page_processing_service/DataBucketingUtils.py:310: FutureWarning: The default value of regex will change from True to False in a future version.\n",
      "  std_horzntl_note_df[\"line_item\"] = std_horzntl_note_df[\"line_item\"].str.replace(re.escape(pattrn),'',flags=re.IGNORECASE)\n",
      "/home/jayesh/mgs_ai/crm_syd_1/main_page_processing_service/DataBucketingUtils.py:293: FutureWarning: The frame.append method is deprecated and will be removed from pandas in a future version. Use pandas.concat instead.\n",
      "  new_horizontal_note_df = new_horizontal_note_df.append(tmp_df, ignore_index=True)\n",
      "/home/jayesh/mgs_ai/crm_syd_1/main_page_processing_service/DataBucketingUtils.py:293: FutureWarning: The frame.append method is deprecated and will be removed from pandas in a future version. Use pandas.concat instead.\n",
      "  new_horizontal_note_df = new_horizontal_note_df.append(tmp_df, ignore_index=True)\n",
      "/home/jayesh/mgs_ai/crm_syd_1/main_page_processing_service/DataBucketingUtils.py:293: FutureWarning: The frame.append method is deprecated and will be removed from pandas in a future version. Use pandas.concat instead.\n",
      "  new_horizontal_note_df = new_horizontal_note_df.append(tmp_df, ignore_index=True)\n",
      "/home/jayesh/mgs_ai/crm_syd_1/main_page_processing_service/DataBucketingUtils.py:293: FutureWarning: The frame.append method is deprecated and will be removed from pandas in a future version. Use pandas.concat instead.\n",
      "  new_horizontal_note_df = new_horizontal_note_df.append(tmp_df, ignore_index=True)\n",
      "/home/jayesh/mgs_ai/crm_syd_1/main_page_processing_service/DataBucketingUtils.py:293: FutureWarning: The frame.append method is deprecated and will be removed from pandas in a future version. Use pandas.concat instead.\n",
      "  new_horizontal_note_df = new_horizontal_note_df.append(tmp_df, ignore_index=True)\n",
      "/home/jayesh/mgs_ai/crm_syd_1/main_page_processing_service/DataBucketingUtils.py:293: FutureWarning: The frame.append method is deprecated and will be removed from pandas in a future version. Use pandas.concat instead.\n",
      "  new_horizontal_note_df = new_horizontal_note_df.append(tmp_df, ignore_index=True)\n",
      "/home/jayesh/mgs_ai/crm_syd_1/main_page_processing_service/DataBucketingUtils.py:293: FutureWarning: The frame.append method is deprecated and will be removed from pandas in a future version. Use pandas.concat instead.\n",
      "  new_horizontal_note_df = new_horizontal_note_df.append(tmp_df, ignore_index=True)\n",
      "/home/jayesh/mgs_ai/crm_syd_1/main_page_processing_service/DataBucketingUtils.py:293: FutureWarning: The frame.append method is deprecated and will be removed from pandas in a future version. Use pandas.concat instead.\n",
      "  new_horizontal_note_df = new_horizontal_note_df.append(tmp_df, ignore_index=True)\n",
      "/home/jayesh/mgs_ai/crm_syd_1/main_page_processing_service/DataBucketingUtils.py:293: FutureWarning: The frame.append method is deprecated and will be removed from pandas in a future version. Use pandas.concat instead.\n",
      "  new_horizontal_note_df = new_horizontal_note_df.append(tmp_df, ignore_index=True)\n",
      "/home/jayesh/mgs_ai/crm_syd_1/main_page_processing_service/DataBucketingUtils.py:293: FutureWarning: The frame.append method is deprecated and will be removed from pandas in a future version. Use pandas.concat instead.\n",
      "  new_horizontal_note_df = new_horizontal_note_df.append(tmp_df, ignore_index=True)\n",
      "/home/jayesh/mgs_ai/crm_syd_1/main_page_processing_service/DataBucketingUtils.py:293: FutureWarning: The frame.append method is deprecated and will be removed from pandas in a future version. Use pandas.concat instead.\n",
      "  new_horizontal_note_df = new_horizontal_note_df.append(tmp_df, ignore_index=True)\n",
      "/home/jayesh/mgs_ai/crm_syd_1/main_page_processing_service/DataBucketingUtils.py:293: FutureWarning: The frame.append method is deprecated and will be removed from pandas in a future version. Use pandas.concat instead.\n",
      "  new_horizontal_note_df = new_horizontal_note_df.append(tmp_df, ignore_index=True)\n",
      "/home/jayesh/mgs_ai/crm_syd_1/main_page_processing_service/DataBucketingUtils.py:293: FutureWarning: The frame.append method is deprecated and will be removed from pandas in a future version. Use pandas.concat instead.\n",
      "  new_horizontal_note_df = new_horizontal_note_df.append(tmp_df, ignore_index=True)\n",
      "/home/jayesh/mgs_ai/crm_syd_1/main_page_processing_service/DataBucketingUtils.py:293: FutureWarning: The frame.append method is deprecated and will be removed from pandas in a future version. Use pandas.concat instead.\n",
      "  new_horizontal_note_df = new_horizontal_note_df.append(tmp_df, ignore_index=True)\n",
      "/home/jayesh/mgs_ai/crm_syd_1/main_page_processing_service/DataBucketingUtils.py:293: FutureWarning: The frame.append method is deprecated and will be removed from pandas in a future version. Use pandas.concat instead.\n",
      "  new_horizontal_note_df = new_horizontal_note_df.append(tmp_df, ignore_index=True)\n",
      "/home/jayesh/mgs_ai/crm_syd_1/main_page_processing_service/DataBucketingUtils.py:293: FutureWarning: The frame.append method is deprecated and will be removed from pandas in a future version. Use pandas.concat instead.\n",
      "  new_horizontal_note_df = new_horizontal_note_df.append(tmp_df, ignore_index=True)\n",
      "/home/jayesh/mgs_ai/crm_syd_1/main_page_processing_service/DataBucketingUtils.py:293: FutureWarning: The frame.append method is deprecated and will be removed from pandas in a future version. Use pandas.concat instead.\n",
      "  new_horizontal_note_df = new_horizontal_note_df.append(tmp_df, ignore_index=True)\n",
      "/home/jayesh/mgs_ai/crm_syd_1/main_page_processing_service/DataBucketingUtils.py:293: FutureWarning: The frame.append method is deprecated and will be removed from pandas in a future version. Use pandas.concat instead.\n",
      "  new_horizontal_note_df = new_horizontal_note_df.append(tmp_df, ignore_index=True)\n",
      "/home/jayesh/mgs_ai/crm_syd_1/main_page_processing_service/DataBucketingUtils.py:293: FutureWarning: The frame.append method is deprecated and will be removed from pandas in a future version. Use pandas.concat instead.\n",
      "  new_horizontal_note_df = new_horizontal_note_df.append(tmp_df, ignore_index=True)\n",
      "/home/jayesh/mgs_ai/crm_syd_1/main_page_processing_service/DataBucketingUtils.py:293: FutureWarning: The frame.append method is deprecated and will be removed from pandas in a future version. Use pandas.concat instead.\n",
      "  new_horizontal_note_df = new_horizontal_note_df.append(tmp_df, ignore_index=True)\n",
      "/home/jayesh/mgs_ai/crm_syd_1/main_page_processing_service/DataBucketingUtils.py:293: FutureWarning: The frame.append method is deprecated and will be removed from pandas in a future version. Use pandas.concat instead.\n",
      "  new_horizontal_note_df = new_horizontal_note_df.append(tmp_df, ignore_index=True)\n",
      "/home/jayesh/mgs_ai/crm_syd_1/main_page_processing_service/DataBucketingUtils.py:293: FutureWarning: The frame.append method is deprecated and will be removed from pandas in a future version. Use pandas.concat instead.\n",
      "  new_horizontal_note_df = new_horizontal_note_df.append(tmp_df, ignore_index=True)\n",
      "/home/jayesh/mgs_ai/crm_syd_1/main_page_processing_service/DataBucketingUtils.py:293: FutureWarning: The frame.append method is deprecated and will be removed from pandas in a future version. Use pandas.concat instead.\n",
      "  new_horizontal_note_df = new_horizontal_note_df.append(tmp_df, ignore_index=True)\n",
      "/home/jayesh/mgs_ai/crm_syd_1/main_page_processing_service/DataBucketingUtils.py:293: FutureWarning: The frame.append method is deprecated and will be removed from pandas in a future version. Use pandas.concat instead.\n",
      "  new_horizontal_note_df = new_horizontal_note_df.append(tmp_df, ignore_index=True)\n",
      "/home/jayesh/mgs_ai/crm_syd_1/main_page_processing_service/DataBucketingUtils.py:293: FutureWarning: The frame.append method is deprecated and will be removed from pandas in a future version. Use pandas.concat instead.\n",
      "  new_horizontal_note_df = new_horizontal_note_df.append(tmp_df, ignore_index=True)\n",
      "/home/jayesh/mgs_ai/crm_syd_1/main_page_processing_service/DataBucketingUtils.py:293: FutureWarning: The frame.append method is deprecated and will be removed from pandas in a future version. Use pandas.concat instead.\n",
      "  new_horizontal_note_df = new_horizontal_note_df.append(tmp_df, ignore_index=True)\n",
      "/home/jayesh/mgs_ai/crm_syd_1/main_page_processing_service/DataBucketingUtils.py:293: FutureWarning: The frame.append method is deprecated and will be removed from pandas in a future version. Use pandas.concat instead.\n",
      "  new_horizontal_note_df = new_horizontal_note_df.append(tmp_df, ignore_index=True)\n",
      "/home/jayesh/mgs_ai/crm_syd_1/main_page_processing_service/DataBucketingUtils.py:293: FutureWarning: The frame.append method is deprecated and will be removed from pandas in a future version. Use pandas.concat instead.\n",
      "  new_horizontal_note_df = new_horizontal_note_df.append(tmp_df, ignore_index=True)\n",
      "/home/jayesh/mgs_ai/crm_syd_1/main_page_processing_service/DataBucketingUtils.py:293: FutureWarning: The frame.append method is deprecated and will be removed from pandas in a future version. Use pandas.concat instead.\n",
      "  new_horizontal_note_df = new_horizontal_note_df.append(tmp_df, ignore_index=True)\n",
      "/home/jayesh/mgs_ai/crm_syd_1/main_page_processing_service/DataBucketingUtils.py:293: FutureWarning: The frame.append method is deprecated and will be removed from pandas in a future version. Use pandas.concat instead.\n",
      "  new_horizontal_note_df = new_horizontal_note_df.append(tmp_df, ignore_index=True)\n",
      "/home/jayesh/mgs_ai/crm_syd_1/main_page_processing_service/DataBucketingUtils.py:293: FutureWarning: The frame.append method is deprecated and will be removed from pandas in a future version. Use pandas.concat instead.\n",
      "  new_horizontal_note_df = new_horizontal_note_df.append(tmp_df, ignore_index=True)\n",
      "/home/jayesh/mgs_ai/crm_syd_1/main_page_processing_service/DataBucketingUtils.py:293: FutureWarning: The frame.append method is deprecated and will be removed from pandas in a future version. Use pandas.concat instead.\n",
      "  new_horizontal_note_df = new_horizontal_note_df.append(tmp_df, ignore_index=True)\n",
      "/home/jayesh/mgs_ai/crm_syd_1/main_page_processing_service/DataBucketingUtils.py:293: FutureWarning: The frame.append method is deprecated and will be removed from pandas in a future version. Use pandas.concat instead.\n",
      "  new_horizontal_note_df = new_horizontal_note_df.append(tmp_df, ignore_index=True)\n",
      "/home/jayesh/mgs_ai/crm_syd_1/main_page_processing_service/DataBucketingUtils.py:293: FutureWarning: The frame.append method is deprecated and will be removed from pandas in a future version. Use pandas.concat instead.\n",
      "  new_horizontal_note_df = new_horizontal_note_df.append(tmp_df, ignore_index=True)\n",
      "/home/jayesh/mgs_ai/crm_syd_1/main_page_processing_service/DataBucketingUtils.py:293: FutureWarning: The frame.append method is deprecated and will be removed from pandas in a future version. Use pandas.concat instead.\n",
      "  new_horizontal_note_df = new_horizontal_note_df.append(tmp_df, ignore_index=True)\n",
      "/home/jayesh/mgs_ai/crm_syd_1/main_page_processing_service/DataBucketingUtils.py:293: FutureWarning: The frame.append method is deprecated and will be removed from pandas in a future version. Use pandas.concat instead.\n",
      "  new_horizontal_note_df = new_horizontal_note_df.append(tmp_df, ignore_index=True)\n",
      "/home/jayesh/mgs_ai/crm_syd_1/main_page_processing_service/DataBucketingUtils.py:293: FutureWarning: The frame.append method is deprecated and will be removed from pandas in a future version. Use pandas.concat instead.\n",
      "  new_horizontal_note_df = new_horizontal_note_df.append(tmp_df, ignore_index=True)\n",
      "/home/jayesh/mgs_ai/crm_syd_1/main_page_processing_service/DataBucketingUtils.py:293: FutureWarning: The frame.append method is deprecated and will be removed from pandas in a future version. Use pandas.concat instead.\n",
      "  new_horizontal_note_df = new_horizontal_note_df.append(tmp_df, ignore_index=True)\n",
      "/home/jayesh/mgs_ai/crm_syd_1/main_page_processing_service/DataBucketingUtils.py:293: FutureWarning: The frame.append method is deprecated and will be removed from pandas in a future version. Use pandas.concat instead.\n",
      "  new_horizontal_note_df = new_horizontal_note_df.append(tmp_df, ignore_index=True)\n",
      "/home/jayesh/mgs_ai/crm_syd_1/main_page_processing_service/DataBucketingUtils.py:293: FutureWarning: The frame.append method is deprecated and will be removed from pandas in a future version. Use pandas.concat instead.\n",
      "  new_horizontal_note_df = new_horizontal_note_df.append(tmp_df, ignore_index=True)\n",
      "/home/jayesh/mgs_ai/crm_syd_1/main_page_processing_service/DataBucketingUtils.py:293: FutureWarning: The frame.append method is deprecated and will be removed from pandas in a future version. Use pandas.concat instead.\n",
      "  new_horizontal_note_df = new_horizontal_note_df.append(tmp_df, ignore_index=True)\n",
      "/home/jayesh/mgs_ai/crm_syd_1/main_page_processing_service/DataBucketingUtils.py:293: FutureWarning: The frame.append method is deprecated and will be removed from pandas in a future version. Use pandas.concat instead.\n",
      "  new_horizontal_note_df = new_horizontal_note_df.append(tmp_df, ignore_index=True)\n",
      "/home/jayesh/mgs_ai/crm_syd_1/main_page_processing_service/DataBucketingUtils.py:293: FutureWarning: The frame.append method is deprecated and will be removed from pandas in a future version. Use pandas.concat instead.\n",
      "  new_horizontal_note_df = new_horizontal_note_df.append(tmp_df, ignore_index=True)\n",
      "/home/jayesh/mgs_ai/crm_syd_1/main_page_processing_service/DataBucketingUtils.py:293: FutureWarning: The frame.append method is deprecated and will be removed from pandas in a future version. Use pandas.concat instead.\n",
      "  new_horizontal_note_df = new_horizontal_note_df.append(tmp_df, ignore_index=True)\n",
      "/home/jayesh/mgs_ai/crm_syd_1/main_page_processing_service/DataBucketingUtils.py:293: FutureWarning: The frame.append method is deprecated and will be removed from pandas in a future version. Use pandas.concat instead.\n",
      "  new_horizontal_note_df = new_horizontal_note_df.append(tmp_df, ignore_index=True)\n",
      "/home/jayesh/mgs_ai/crm_syd_1/main_page_processing_service/DataBucketingUtils.py:293: FutureWarning: The frame.append method is deprecated and will be removed from pandas in a future version. Use pandas.concat instead.\n",
      "  new_horizontal_note_df = new_horizontal_note_df.append(tmp_df, ignore_index=True)\n",
      "/home/jayesh/mgs_ai/crm_syd_1/main_page_processing_service/DataBucketingUtils.py:293: FutureWarning: The frame.append method is deprecated and will be removed from pandas in a future version. Use pandas.concat instead.\n",
      "  new_horizontal_note_df = new_horizontal_note_df.append(tmp_df, ignore_index=True)\n",
      "/home/jayesh/mgs_ai/crm_syd_1/main_page_processing_service/DataBucketingUtils.py:293: FutureWarning: The frame.append method is deprecated and will be removed from pandas in a future version. Use pandas.concat instead.\n",
      "  new_horizontal_note_df = new_horizontal_note_df.append(tmp_df, ignore_index=True)\n",
      "/home/jayesh/mgs_ai/crm_syd_1/main_page_processing_service/DataBucketingUtils.py:293: FutureWarning: The frame.append method is deprecated and will be removed from pandas in a future version. Use pandas.concat instead.\n",
      "  new_horizontal_note_df = new_horizontal_note_df.append(tmp_df, ignore_index=True)\n",
      "/home/jayesh/mgs_ai/crm_syd_1/main_page_processing_service/DataBucketingUtils.py:293: FutureWarning: The frame.append method is deprecated and will be removed from pandas in a future version. Use pandas.concat instead.\n",
      "  new_horizontal_note_df = new_horizontal_note_df.append(tmp_df, ignore_index=True)\n",
      "/home/jayesh/mgs_ai/crm_syd_1/main_page_processing_service/DataBucketingUtils.py:293: FutureWarning: The frame.append method is deprecated and will be removed from pandas in a future version. Use pandas.concat instead.\n",
      "  new_horizontal_note_df = new_horizontal_note_df.append(tmp_df, ignore_index=True)\n",
      "/home/jayesh/mgs_ai/crm_syd_1/main_page_processing_service/DataBucketingUtils.py:293: FutureWarning: The frame.append method is deprecated and will be removed from pandas in a future version. Use pandas.concat instead.\n",
      "  new_horizontal_note_df = new_horizontal_note_df.append(tmp_df, ignore_index=True)\n",
      "/home/jayesh/mgs_ai/crm_syd_1/main_page_processing_service/DataBucketingUtils.py:293: FutureWarning: The frame.append method is deprecated and will be removed from pandas in a future version. Use pandas.concat instead.\n",
      "  new_horizontal_note_df = new_horizontal_note_df.append(tmp_df, ignore_index=True)\n",
      "/home/jayesh/mgs_ai/crm_syd_1/main_page_processing_service/DataBucketingUtils.py:293: FutureWarning: The frame.append method is deprecated and will be removed from pandas in a future version. Use pandas.concat instead.\n",
      "  new_horizontal_note_df = new_horizontal_note_df.append(tmp_df, ignore_index=True)\n",
      "/home/jayesh/mgs_ai/crm_syd_1/main_page_processing_service/DataBucketingUtils.py:293: FutureWarning: The frame.append method is deprecated and will be removed from pandas in a future version. Use pandas.concat instead.\n",
      "  new_horizontal_note_df = new_horizontal_note_df.append(tmp_df, ignore_index=True)\n",
      "/home/jayesh/mgs_ai/crm_syd_1/main_page_processing_service/DataBucketingUtils.py:293: FutureWarning: The frame.append method is deprecated and will be removed from pandas in a future version. Use pandas.concat instead.\n",
      "  new_horizontal_note_df = new_horizontal_note_df.append(tmp_df, ignore_index=True)\n",
      "/home/jayesh/mgs_ai/crm_syd_1/main_page_processing_service/DataBucketingUtils.py:293: FutureWarning: The frame.append method is deprecated and will be removed from pandas in a future version. Use pandas.concat instead.\n",
      "  new_horizontal_note_df = new_horizontal_note_df.append(tmp_df, ignore_index=True)\n",
      "/home/jayesh/mgs_ai/crm_syd_1/main_page_processing_service/DataBucketingUtils.py:293: FutureWarning: The frame.append method is deprecated and will be removed from pandas in a future version. Use pandas.concat instead.\n",
      "  new_horizontal_note_df = new_horizontal_note_df.append(tmp_df, ignore_index=True)\n",
      "/home/jayesh/mgs_ai/crm_syd_1/main_page_processing_service/DataBucketingUtils.py:293: FutureWarning: The frame.append method is deprecated and will be removed from pandas in a future version. Use pandas.concat instead.\n",
      "  new_horizontal_note_df = new_horizontal_note_df.append(tmp_df, ignore_index=True)\n",
      "/home/jayesh/mgs_ai/crm_syd_1/main_page_processing_service/DataBucketingUtils.py:293: FutureWarning: The frame.append method is deprecated and will be removed from pandas in a future version. Use pandas.concat instead.\n",
      "  new_horizontal_note_df = new_horizontal_note_df.append(tmp_df, ignore_index=True)\n",
      "/home/jayesh/mgs_ai/crm_syd_1/main_page_processing_service/DataBucketingUtils.py:272: FutureWarning: The frame.append method is deprecated and will be removed from pandas in a future version. Use pandas.concat instead.\n",
      "  temp_horizontal_df = temp_horizontal_df.append(horizontal_note_df)\n",
      "/home/jayesh/mgs_ai/crm_syd_1/main_page_processing_service/DataBucketingUtils.py:310: FutureWarning: The default value of regex will change from True to False in a future version.\n",
      "  std_horzntl_note_df[\"line_item\"] = std_horzntl_note_df[\"line_item\"].str.replace(re.escape(pattrn),'',flags=re.IGNORECASE)\n",
      "/home/jayesh/mgs_ai/crm_syd_1/main_page_processing_service/DataBucketingUtils.py:293: FutureWarning: The frame.append method is deprecated and will be removed from pandas in a future version. Use pandas.concat instead.\n",
      "  new_horizontal_note_df = new_horizontal_note_df.append(tmp_df, ignore_index=True)\n",
      "/home/jayesh/mgs_ai/crm_syd_1/main_page_processing_service/DataBucketingUtils.py:293: FutureWarning: The frame.append method is deprecated and will be removed from pandas in a future version. Use pandas.concat instead.\n",
      "  new_horizontal_note_df = new_horizontal_note_df.append(tmp_df, ignore_index=True)\n",
      "/home/jayesh/mgs_ai/crm_syd_1/main_page_processing_service/DataBucketingUtils.py:293: FutureWarning: The frame.append method is deprecated and will be removed from pandas in a future version. Use pandas.concat instead.\n",
      "  new_horizontal_note_df = new_horizontal_note_df.append(tmp_df, ignore_index=True)\n",
      "/home/jayesh/mgs_ai/crm_syd_1/main_page_processing_service/DataBucketingUtils.py:293: FutureWarning: The frame.append method is deprecated and will be removed from pandas in a future version. Use pandas.concat instead.\n",
      "  new_horizontal_note_df = new_horizontal_note_df.append(tmp_df, ignore_index=True)\n",
      "/home/jayesh/mgs_ai/crm_syd_1/main_page_processing_service/DataBucketingUtils.py:272: FutureWarning: The frame.append method is deprecated and will be removed from pandas in a future version. Use pandas.concat instead.\n",
      "  temp_horizontal_df = temp_horizontal_df.append(horizontal_note_df)\n",
      "/home/jayesh/mgs_ai/crm_syd_1/main_page_processing_service/DataBucketingUtils.py:293: FutureWarning: The frame.append method is deprecated and will be removed from pandas in a future version. Use pandas.concat instead.\n",
      "  new_horizontal_note_df = new_horizontal_note_df.append(tmp_df, ignore_index=True)\n",
      "/home/jayesh/mgs_ai/crm_syd_1/main_page_processing_service/DataBucketingUtils.py:272: FutureWarning: The frame.append method is deprecated and will be removed from pandas in a future version. Use pandas.concat instead.\n",
      "  temp_horizontal_df = temp_horizontal_df.append(horizontal_note_df)\n",
      "/home/jayesh/mgs_ai/crm_syd_1/main_page_processing_service/DataBucketingUtils.py:293: FutureWarning: The frame.append method is deprecated and will be removed from pandas in a future version. Use pandas.concat instead.\n",
      "  new_horizontal_note_df = new_horizontal_note_df.append(tmp_df, ignore_index=True)\n",
      "/home/jayesh/mgs_ai/crm_syd_1/main_page_processing_service/DataBucketingUtils.py:293: FutureWarning: The frame.append method is deprecated and will be removed from pandas in a future version. Use pandas.concat instead.\n",
      "  new_horizontal_note_df = new_horizontal_note_df.append(tmp_df, ignore_index=True)\n",
      "/home/jayesh/mgs_ai/crm_syd_1/main_page_processing_service/DataBucketingUtils.py:272: FutureWarning: The frame.append method is deprecated and will be removed from pandas in a future version. Use pandas.concat instead.\n",
      "  temp_horizontal_df = temp_horizontal_df.append(horizontal_note_df)\n",
      "/home/jayesh/mgs_ai/crm_syd_1/main_page_processing_service/DataBucketingUtils.py:310: FutureWarning: The default value of regex will change from True to False in a future version.\n",
      "  std_horzntl_note_df[\"line_item\"] = std_horzntl_note_df[\"line_item\"].str.replace(re.escape(pattrn),'',flags=re.IGNORECASE)\n",
      "/home/jayesh/mgs_ai/crm_syd_1/main_page_processing_service/DataBucketingUtils.py:293: FutureWarning: The frame.append method is deprecated and will be removed from pandas in a future version. Use pandas.concat instead.\n",
      "  new_horizontal_note_df = new_horizontal_note_df.append(tmp_df, ignore_index=True)\n",
      "/home/jayesh/mgs_ai/crm_syd_1/main_page_processing_service/DataBucketingUtils.py:293: FutureWarning: The frame.append method is deprecated and will be removed from pandas in a future version. Use pandas.concat instead.\n",
      "  new_horizontal_note_df = new_horizontal_note_df.append(tmp_df, ignore_index=True)\n",
      "/home/jayesh/mgs_ai/crm_syd_1/main_page_processing_service/DataBucketingUtils.py:293: FutureWarning: The frame.append method is deprecated and will be removed from pandas in a future version. Use pandas.concat instead.\n",
      "  new_horizontal_note_df = new_horizontal_note_df.append(tmp_df, ignore_index=True)\n",
      "/home/jayesh/mgs_ai/crm_syd_1/main_page_processing_service/DataBucketingUtils.py:293: FutureWarning: The frame.append method is deprecated and will be removed from pandas in a future version. Use pandas.concat instead.\n",
      "  new_horizontal_note_df = new_horizontal_note_df.append(tmp_df, ignore_index=True)\n",
      "/home/jayesh/mgs_ai/crm_syd_1/main_page_processing_service/DataBucketingUtils.py:272: FutureWarning: The frame.append method is deprecated and will be removed from pandas in a future version. Use pandas.concat instead.\n",
      "  temp_horizontal_df = temp_horizontal_df.append(horizontal_note_df)\n",
      "/home/jayesh/mgs_ai/crm_syd_1/main_page_processing_service/DataBucketingUtils.py:293: FutureWarning: The frame.append method is deprecated and will be removed from pandas in a future version. Use pandas.concat instead.\n",
      "  new_horizontal_note_df = new_horizontal_note_df.append(tmp_df, ignore_index=True)\n",
      "/home/jayesh/mgs_ai/crm_syd_1/main_page_processing_service/DataBucketingUtils.py:293: FutureWarning: The frame.append method is deprecated and will be removed from pandas in a future version. Use pandas.concat instead.\n",
      "  new_horizontal_note_df = new_horizontal_note_df.append(tmp_df, ignore_index=True)\n",
      "/home/jayesh/mgs_ai/crm_syd_1/main_page_processing_service/DataBucketingUtils.py:293: FutureWarning: The frame.append method is deprecated and will be removed from pandas in a future version. Use pandas.concat instead.\n",
      "  new_horizontal_note_df = new_horizontal_note_df.append(tmp_df, ignore_index=True)\n",
      "/home/jayesh/mgs_ai/crm_syd_1/main_page_processing_service/DataBucketingUtils.py:293: FutureWarning: The frame.append method is deprecated and will be removed from pandas in a future version. Use pandas.concat instead.\n",
      "  new_horizontal_note_df = new_horizontal_note_df.append(tmp_df, ignore_index=True)\n",
      "/home/jayesh/mgs_ai/crm_syd_1/main_page_processing_service/DataBucketingUtils.py:293: FutureWarning: The frame.append method is deprecated and will be removed from pandas in a future version. Use pandas.concat instead.\n",
      "  new_horizontal_note_df = new_horizontal_note_df.append(tmp_df, ignore_index=True)\n",
      "/home/jayesh/mgs_ai/crm_syd_1/main_page_processing_service/DataBucketingUtils.py:293: FutureWarning: The frame.append method is deprecated and will be removed from pandas in a future version. Use pandas.concat instead.\n",
      "  new_horizontal_note_df = new_horizontal_note_df.append(tmp_df, ignore_index=True)\n",
      "/home/jayesh/mgs_ai/crm_syd_1/main_page_processing_service/DataBucketingUtils.py:272: FutureWarning: The frame.append method is deprecated and will be removed from pandas in a future version. Use pandas.concat instead.\n",
      "  temp_horizontal_df = temp_horizontal_df.append(horizontal_note_df)\n",
      "/home/jayesh/mgs_ai/crm_syd_1/main_page_processing_service/DataBucketingUtils.py:293: FutureWarning: The frame.append method is deprecated and will be removed from pandas in a future version. Use pandas.concat instead.\n",
      "  new_horizontal_note_df = new_horizontal_note_df.append(tmp_df, ignore_index=True)\n",
      "/home/jayesh/mgs_ai/crm_syd_1/main_page_processing_service/DataBucketingUtils.py:293: FutureWarning: The frame.append method is deprecated and will be removed from pandas in a future version. Use pandas.concat instead.\n",
      "  new_horizontal_note_df = new_horizontal_note_df.append(tmp_df, ignore_index=True)\n",
      "/home/jayesh/mgs_ai/crm_syd_1/main_page_processing_service/DataBucketingUtils.py:293: FutureWarning: The frame.append method is deprecated and will be removed from pandas in a future version. Use pandas.concat instead.\n",
      "  new_horizontal_note_df = new_horizontal_note_df.append(tmp_df, ignore_index=True)\n",
      "/home/jayesh/mgs_ai/crm_syd_1/main_page_processing_service/DataBucketingUtils.py:293: FutureWarning: The frame.append method is deprecated and will be removed from pandas in a future version. Use pandas.concat instead.\n",
      "  new_horizontal_note_df = new_horizontal_note_df.append(tmp_df, ignore_index=True)\n",
      "/home/jayesh/mgs_ai/crm_syd_1/main_page_processing_service/DataBucketingUtils.py:293: FutureWarning: The frame.append method is deprecated and will be removed from pandas in a future version. Use pandas.concat instead.\n",
      "  new_horizontal_note_df = new_horizontal_note_df.append(tmp_df, ignore_index=True)\n",
      "/home/jayesh/mgs_ai/crm_syd_1/main_page_processing_service/DataBucketingUtils.py:293: FutureWarning: The frame.append method is deprecated and will be removed from pandas in a future version. Use pandas.concat instead.\n",
      "  new_horizontal_note_df = new_horizontal_note_df.append(tmp_df, ignore_index=True)\n",
      "/home/jayesh/mgs_ai/crm_syd_1/main_page_processing_service/DataBucketingUtils.py:293: FutureWarning: The frame.append method is deprecated and will be removed from pandas in a future version. Use pandas.concat instead.\n",
      "  new_horizontal_note_df = new_horizontal_note_df.append(tmp_df, ignore_index=True)\n",
      "/home/jayesh/mgs_ai/crm_syd_1/main_page_processing_service/DataBucketingUtils.py:293: FutureWarning: The frame.append method is deprecated and will be removed from pandas in a future version. Use pandas.concat instead.\n",
      "  new_horizontal_note_df = new_horizontal_note_df.append(tmp_df, ignore_index=True)\n",
      "/home/jayesh/mgs_ai/crm_syd_1/main_page_processing_service/DataBucketingUtils.py:293: FutureWarning: The frame.append method is deprecated and will be removed from pandas in a future version. Use pandas.concat instead.\n",
      "  new_horizontal_note_df = new_horizontal_note_df.append(tmp_df, ignore_index=True)\n",
      "/home/jayesh/mgs_ai/crm_syd_1/main_page_processing_service/DataBucketingUtils.py:293: FutureWarning: The frame.append method is deprecated and will be removed from pandas in a future version. Use pandas.concat instead.\n",
      "  new_horizontal_note_df = new_horizontal_note_df.append(tmp_df, ignore_index=True)\n",
      "/home/jayesh/mgs_ai/crm_syd_1/main_page_processing_service/DataBucketingUtils.py:293: FutureWarning: The frame.append method is deprecated and will be removed from pandas in a future version. Use pandas.concat instead.\n",
      "  new_horizontal_note_df = new_horizontal_note_df.append(tmp_df, ignore_index=True)\n",
      "/home/jayesh/mgs_ai/crm_syd_1/main_page_processing_service/DataBucketingUtils.py:293: FutureWarning: The frame.append method is deprecated and will be removed from pandas in a future version. Use pandas.concat instead.\n",
      "  new_horizontal_note_df = new_horizontal_note_df.append(tmp_df, ignore_index=True)\n",
      "/home/jayesh/mgs_ai/crm_syd_1/main_page_processing_service/DataBucketingUtils.py:293: FutureWarning: The frame.append method is deprecated and will be removed from pandas in a future version. Use pandas.concat instead.\n",
      "  new_horizontal_note_df = new_horizontal_note_df.append(tmp_df, ignore_index=True)\n",
      "/home/jayesh/mgs_ai/crm_syd_1/main_page_processing_service/DataBucketingUtils.py:293: FutureWarning: The frame.append method is deprecated and will be removed from pandas in a future version. Use pandas.concat instead.\n",
      "  new_horizontal_note_df = new_horizontal_note_df.append(tmp_df, ignore_index=True)\n",
      "/home/jayesh/mgs_ai/crm_syd_1/main_page_processing_service/DataBucketingUtils.py:293: FutureWarning: The frame.append method is deprecated and will be removed from pandas in a future version. Use pandas.concat instead.\n",
      "  new_horizontal_note_df = new_horizontal_note_df.append(tmp_df, ignore_index=True)\n",
      "/home/jayesh/mgs_ai/crm_syd_1/main_page_processing_service/DataBucketingUtils.py:272: FutureWarning: The frame.append method is deprecated and will be removed from pandas in a future version. Use pandas.concat instead.\n",
      "  temp_horizontal_df = temp_horizontal_df.append(horizontal_note_df)\n",
      "/home/jayesh/mgs_ai/crm_syd_1/main_page_processing_service/DataBucketingUtils.py:310: FutureWarning: The default value of regex will change from True to False in a future version.\n",
      "  std_horzntl_note_df[\"line_item\"] = std_horzntl_note_df[\"line_item\"].str.replace(re.escape(pattrn),'',flags=re.IGNORECASE)\n",
      "/home/jayesh/mgs_ai/crm_syd_1/main_page_processing_service/DataBucketingUtils.py:293: FutureWarning: The frame.append method is deprecated and will be removed from pandas in a future version. Use pandas.concat instead.\n",
      "  new_horizontal_note_df = new_horizontal_note_df.append(tmp_df, ignore_index=True)\n",
      "/home/jayesh/mgs_ai/crm_syd_1/main_page_processing_service/DataBucketingUtils.py:272: FutureWarning: The frame.append method is deprecated and will be removed from pandas in a future version. Use pandas.concat instead.\n",
      "  temp_horizontal_df = temp_horizontal_df.append(horizontal_note_df)\n",
      "/home/jayesh/mgs_ai/crm_syd_1/main_page_processing_service/DataBucketingUtils.py:293: FutureWarning: The frame.append method is deprecated and will be removed from pandas in a future version. Use pandas.concat instead.\n",
      "  new_horizontal_note_df = new_horizontal_note_df.append(tmp_df, ignore_index=True)\n",
      "/home/jayesh/mgs_ai/crm_syd_1/main_page_processing_service/DataBucketingUtils.py:293: FutureWarning: The frame.append method is deprecated and will be removed from pandas in a future version. Use pandas.concat instead.\n",
      "  new_horizontal_note_df = new_horizontal_note_df.append(tmp_df, ignore_index=True)\n",
      "/home/jayesh/mgs_ai/crm_syd_1/main_page_processing_service/DataBucketingUtils.py:293: FutureWarning: The frame.append method is deprecated and will be removed from pandas in a future version. Use pandas.concat instead.\n",
      "  new_horizontal_note_df = new_horizontal_note_df.append(tmp_df, ignore_index=True)\n",
      "/home/jayesh/mgs_ai/crm_syd_1/main_page_processing_service/DataBucketingUtils.py:293: FutureWarning: The frame.append method is deprecated and will be removed from pandas in a future version. Use pandas.concat instead.\n",
      "  new_horizontal_note_df = new_horizontal_note_df.append(tmp_df, ignore_index=True)\n",
      "/home/jayesh/mgs_ai/crm_syd_1/main_page_processing_service/DataBucketingUtils.py:293: FutureWarning: The frame.append method is deprecated and will be removed from pandas in a future version. Use pandas.concat instead.\n",
      "  new_horizontal_note_df = new_horizontal_note_df.append(tmp_df, ignore_index=True)\n",
      "/home/jayesh/mgs_ai/crm_syd_1/main_page_processing_service/DataBucketingUtils.py:293: FutureWarning: The frame.append method is deprecated and will be removed from pandas in a future version. Use pandas.concat instead.\n",
      "  new_horizontal_note_df = new_horizontal_note_df.append(tmp_df, ignore_index=True)\n",
      "/home/jayesh/mgs_ai/crm_syd_1/main_page_processing_service/DataBucketingUtils.py:293: FutureWarning: The frame.append method is deprecated and will be removed from pandas in a future version. Use pandas.concat instead.\n",
      "  new_horizontal_note_df = new_horizontal_note_df.append(tmp_df, ignore_index=True)\n",
      "/home/jayesh/mgs_ai/crm_syd_1/main_page_processing_service/DataBucketingUtils.py:293: FutureWarning: The frame.append method is deprecated and will be removed from pandas in a future version. Use pandas.concat instead.\n",
      "  new_horizontal_note_df = new_horizontal_note_df.append(tmp_df, ignore_index=True)\n",
      "/home/jayesh/mgs_ai/crm_syd_1/main_page_processing_service/DataBucketingUtils.py:272: FutureWarning: The frame.append method is deprecated and will be removed from pandas in a future version. Use pandas.concat instead.\n",
      "  temp_horizontal_df = temp_horizontal_df.append(horizontal_note_df)\n",
      "/home/jayesh/mgs_ai/crm_syd_1/main_page_processing_service/DataBucketingUtils.py:310: FutureWarning: The default value of regex will change from True to False in a future version.\n",
      "  std_horzntl_note_df[\"line_item\"] = std_horzntl_note_df[\"line_item\"].str.replace(re.escape(pattrn),'',flags=re.IGNORECASE)\n",
      "/home/jayesh/mgs_ai/crm_syd_1/main_page_processing_service/DataBucketingUtils.py:293: FutureWarning: The frame.append method is deprecated and will be removed from pandas in a future version. Use pandas.concat instead.\n",
      "  new_horizontal_note_df = new_horizontal_note_df.append(tmp_df, ignore_index=True)\n",
      "/home/jayesh/mgs_ai/crm_syd_1/main_page_processing_service/DataBucketingUtils.py:293: FutureWarning: The frame.append method is deprecated and will be removed from pandas in a future version. Use pandas.concat instead.\n",
      "  new_horizontal_note_df = new_horizontal_note_df.append(tmp_df, ignore_index=True)\n",
      "/home/jayesh/mgs_ai/crm_syd_1/main_page_processing_service/DataBucketingUtils.py:293: FutureWarning: The frame.append method is deprecated and will be removed from pandas in a future version. Use pandas.concat instead.\n",
      "  new_horizontal_note_df = new_horizontal_note_df.append(tmp_df, ignore_index=True)\n",
      "/home/jayesh/mgs_ai/crm_syd_1/main_page_processing_service/DataBucketingUtils.py:293: FutureWarning: The frame.append method is deprecated and will be removed from pandas in a future version. Use pandas.concat instead.\n",
      "  new_horizontal_note_df = new_horizontal_note_df.append(tmp_df, ignore_index=True)\n",
      "/home/jayesh/mgs_ai/crm_syd_1/main_page_processing_service/DataBucketingUtils.py:293: FutureWarning: The frame.append method is deprecated and will be removed from pandas in a future version. Use pandas.concat instead.\n",
      "  new_horizontal_note_df = new_horizontal_note_df.append(tmp_df, ignore_index=True)\n",
      "/home/jayesh/mgs_ai/crm_syd_1/main_page_processing_service/DataBucketingUtils.py:293: FutureWarning: The frame.append method is deprecated and will be removed from pandas in a future version. Use pandas.concat instead.\n",
      "  new_horizontal_note_df = new_horizontal_note_df.append(tmp_df, ignore_index=True)\n",
      "/home/jayesh/mgs_ai/crm_syd_1/main_page_processing_service/DataBucketingUtils.py:272: FutureWarning: The frame.append method is deprecated and will be removed from pandas in a future version. Use pandas.concat instead.\n",
      "  temp_horizontal_df = temp_horizontal_df.append(horizontal_note_df)\n",
      "/home/jayesh/mgs_ai/crm_syd_1/main_page_processing_service/DataBucketingUtils.py:310: FutureWarning: The default value of regex will change from True to False in a future version.\n",
      "  std_horzntl_note_df[\"line_item\"] = std_horzntl_note_df[\"line_item\"].str.replace(re.escape(pattrn),'',flags=re.IGNORECASE)\n",
      "/home/jayesh/mgs_ai/crm_syd_1/main_page_processing_service/DataBucketingUtils.py:293: FutureWarning: The frame.append method is deprecated and will be removed from pandas in a future version. Use pandas.concat instead.\n",
      "  new_horizontal_note_df = new_horizontal_note_df.append(tmp_df, ignore_index=True)\n",
      "/home/jayesh/mgs_ai/crm_syd_1/main_page_processing_service/DataBucketingUtils.py:293: FutureWarning: The frame.append method is deprecated and will be removed from pandas in a future version. Use pandas.concat instead.\n",
      "  new_horizontal_note_df = new_horizontal_note_df.append(tmp_df, ignore_index=True)\n",
      "/home/jayesh/mgs_ai/crm_syd_1/main_page_processing_service/DataBucketingUtils.py:293: FutureWarning: The frame.append method is deprecated and will be removed from pandas in a future version. Use pandas.concat instead.\n",
      "  new_horizontal_note_df = new_horizontal_note_df.append(tmp_df, ignore_index=True)\n",
      "/home/jayesh/mgs_ai/crm_syd_1/main_page_processing_service/DataBucketingUtils.py:293: FutureWarning: The frame.append method is deprecated and will be removed from pandas in a future version. Use pandas.concat instead.\n",
      "  new_horizontal_note_df = new_horizontal_note_df.append(tmp_df, ignore_index=True)\n",
      "/home/jayesh/mgs_ai/crm_syd_1/main_page_processing_service/DataBucketingUtils.py:293: FutureWarning: The frame.append method is deprecated and will be removed from pandas in a future version. Use pandas.concat instead.\n",
      "  new_horizontal_note_df = new_horizontal_note_df.append(tmp_df, ignore_index=True)\n",
      "/home/jayesh/mgs_ai/crm_syd_1/main_page_processing_service/DataBucketingUtils.py:293: FutureWarning: The frame.append method is deprecated and will be removed from pandas in a future version. Use pandas.concat instead.\n",
      "  new_horizontal_note_df = new_horizontal_note_df.append(tmp_df, ignore_index=True)\n",
      "/home/jayesh/mgs_ai/crm_syd_1/main_page_processing_service/DataBucketingUtils.py:272: FutureWarning: The frame.append method is deprecated and will be removed from pandas in a future version. Use pandas.concat instead.\n",
      "  temp_horizontal_df = temp_horizontal_df.append(horizontal_note_df)\n",
      "/home/jayesh/mgs_ai/crm_syd_1/main_page_processing_service/DataBucketingUtils.py:310: FutureWarning: The default value of regex will change from True to False in a future version.\n",
      "  std_horzntl_note_df[\"line_item\"] = std_horzntl_note_df[\"line_item\"].str.replace(re.escape(pattrn),'',flags=re.IGNORECASE)\n",
      "/home/jayesh/mgs_ai/crm_syd_1/main_page_processing_service/DataBucketingUtils.py:293: FutureWarning: The frame.append method is deprecated and will be removed from pandas in a future version. Use pandas.concat instead.\n",
      "  new_horizontal_note_df = new_horizontal_note_df.append(tmp_df, ignore_index=True)\n",
      "/home/jayesh/mgs_ai/crm_syd_1/main_page_processing_service/DataBucketingUtils.py:293: FutureWarning: The frame.append method is deprecated and will be removed from pandas in a future version. Use pandas.concat instead.\n",
      "  new_horizontal_note_df = new_horizontal_note_df.append(tmp_df, ignore_index=True)\n",
      "/home/jayesh/mgs_ai/crm_syd_1/main_page_processing_service/DataBucketingUtils.py:293: FutureWarning: The frame.append method is deprecated and will be removed from pandas in a future version. Use pandas.concat instead.\n",
      "  new_horizontal_note_df = new_horizontal_note_df.append(tmp_df, ignore_index=True)\n",
      "/home/jayesh/mgs_ai/crm_syd_1/main_page_processing_service/DataBucketingUtils.py:293: FutureWarning: The frame.append method is deprecated and will be removed from pandas in a future version. Use pandas.concat instead.\n",
      "  new_horizontal_note_df = new_horizontal_note_df.append(tmp_df, ignore_index=True)\n",
      "/home/jayesh/mgs_ai/crm_syd_1/main_page_processing_service/DataBucketingUtils.py:272: FutureWarning: The frame.append method is deprecated and will be removed from pandas in a future version. Use pandas.concat instead.\n",
      "  temp_horizontal_df = temp_horizontal_df.append(horizontal_note_df)\n",
      "/home/jayesh/mgs_ai/crm_syd_1/main_page_processing_service/DataBucketingUtils.py:293: FutureWarning: The frame.append method is deprecated and will be removed from pandas in a future version. Use pandas.concat instead.\n",
      "  new_horizontal_note_df = new_horizontal_note_df.append(tmp_df, ignore_index=True)\n",
      "/home/jayesh/mgs_ai/crm_syd_1/main_page_processing_service/DataBucketingUtils.py:293: FutureWarning: The frame.append method is deprecated and will be removed from pandas in a future version. Use pandas.concat instead.\n",
      "  new_horizontal_note_df = new_horizontal_note_df.append(tmp_df, ignore_index=True)\n",
      "/home/jayesh/mgs_ai/crm_syd_1/main_page_processing_service/DataBucketingUtils.py:293: FutureWarning: The frame.append method is deprecated and will be removed from pandas in a future version. Use pandas.concat instead.\n",
      "  new_horizontal_note_df = new_horizontal_note_df.append(tmp_df, ignore_index=True)\n",
      "/home/jayesh/mgs_ai/crm_syd_1/main_page_processing_service/DataBucketingUtils.py:293: FutureWarning: The frame.append method is deprecated and will be removed from pandas in a future version. Use pandas.concat instead.\n",
      "  new_horizontal_note_df = new_horizontal_note_df.append(tmp_df, ignore_index=True)\n",
      "/home/jayesh/mgs_ai/crm_syd_1/main_page_processing_service/DataBucketingUtils.py:293: FutureWarning: The frame.append method is deprecated and will be removed from pandas in a future version. Use pandas.concat instead.\n",
      "  new_horizontal_note_df = new_horizontal_note_df.append(tmp_df, ignore_index=True)\n",
      "/home/jayesh/mgs_ai/crm_syd_1/main_page_processing_service/DataBucketingUtils.py:293: FutureWarning: The frame.append method is deprecated and will be removed from pandas in a future version. Use pandas.concat instead.\n",
      "  new_horizontal_note_df = new_horizontal_note_df.append(tmp_df, ignore_index=True)\n",
      "/home/jayesh/mgs_ai/crm_syd_1/main_page_processing_service/DataBucketingUtils.py:272: FutureWarning: The frame.append method is deprecated and will be removed from pandas in a future version. Use pandas.concat instead.\n",
      "  temp_horizontal_df = temp_horizontal_df.append(horizontal_note_df)\n",
      "/home/jayesh/mgs_ai/crm_syd_1/main_page_processing_service/DataBucketingUtils.py:293: FutureWarning: The frame.append method is deprecated and will be removed from pandas in a future version. Use pandas.concat instead.\n",
      "  new_horizontal_note_df = new_horizontal_note_df.append(tmp_df, ignore_index=True)\n",
      "/home/jayesh/mgs_ai/crm_syd_1/main_page_processing_service/DataBucketingUtils.py:293: FutureWarning: The frame.append method is deprecated and will be removed from pandas in a future version. Use pandas.concat instead.\n",
      "  new_horizontal_note_df = new_horizontal_note_df.append(tmp_df, ignore_index=True)\n",
      "/home/jayesh/mgs_ai/crm_syd_1/main_page_processing_service/DataBucketingUtils.py:293: FutureWarning: The frame.append method is deprecated and will be removed from pandas in a future version. Use pandas.concat instead.\n",
      "  new_horizontal_note_df = new_horizontal_note_df.append(tmp_df, ignore_index=True)\n",
      "/home/jayesh/mgs_ai/crm_syd_1/main_page_processing_service/DataBucketingUtils.py:293: FutureWarning: The frame.append method is deprecated and will be removed from pandas in a future version. Use pandas.concat instead.\n",
      "  new_horizontal_note_df = new_horizontal_note_df.append(tmp_df, ignore_index=True)\n",
      "/home/jayesh/mgs_ai/crm_syd_1/main_page_processing_service/DataBucketingUtils.py:293: FutureWarning: The frame.append method is deprecated and will be removed from pandas in a future version. Use pandas.concat instead.\n",
      "  new_horizontal_note_df = new_horizontal_note_df.append(tmp_df, ignore_index=True)\n",
      "/home/jayesh/mgs_ai/crm_syd_1/main_page_processing_service/DataBucketingUtils.py:293: FutureWarning: The frame.append method is deprecated and will be removed from pandas in a future version. Use pandas.concat instead.\n",
      "  new_horizontal_note_df = new_horizontal_note_df.append(tmp_df, ignore_index=True)\n",
      "/home/jayesh/mgs_ai/crm_syd_1/main_page_processing_service/DataBucketingUtils.py:293: FutureWarning: The frame.append method is deprecated and will be removed from pandas in a future version. Use pandas.concat instead.\n",
      "  new_horizontal_note_df = new_horizontal_note_df.append(tmp_df, ignore_index=True)\n",
      "/home/jayesh/mgs_ai/crm_syd_1/main_page_processing_service/DataBucketingUtils.py:293: FutureWarning: The frame.append method is deprecated and will be removed from pandas in a future version. Use pandas.concat instead.\n",
      "  new_horizontal_note_df = new_horizontal_note_df.append(tmp_df, ignore_index=True)\n",
      "/home/jayesh/mgs_ai/crm_syd_1/main_page_processing_service/DataBucketingUtils.py:293: FutureWarning: The frame.append method is deprecated and will be removed from pandas in a future version. Use pandas.concat instead.\n",
      "  new_horizontal_note_df = new_horizontal_note_df.append(tmp_df, ignore_index=True)\n",
      "/home/jayesh/mgs_ai/crm_syd_1/main_page_processing_service/DataBucketingUtils.py:293: FutureWarning: The frame.append method is deprecated and will be removed from pandas in a future version. Use pandas.concat instead.\n",
      "  new_horizontal_note_df = new_horizontal_note_df.append(tmp_df, ignore_index=True)\n",
      "/home/jayesh/mgs_ai/crm_syd_1/main_page_processing_service/DataBucketingUtils.py:293: FutureWarning: The frame.append method is deprecated and will be removed from pandas in a future version. Use pandas.concat instead.\n",
      "  new_horizontal_note_df = new_horizontal_note_df.append(tmp_df, ignore_index=True)\n",
      "/home/jayesh/mgs_ai/crm_syd_1/main_page_processing_service/DataBucketingUtils.py:293: FutureWarning: The frame.append method is deprecated and will be removed from pandas in a future version. Use pandas.concat instead.\n",
      "  new_horizontal_note_df = new_horizontal_note_df.append(tmp_df, ignore_index=True)\n",
      "/home/jayesh/mgs_ai/crm_syd_1/main_page_processing_service/DataBucketingUtils.py:293: FutureWarning: The frame.append method is deprecated and will be removed from pandas in a future version. Use pandas.concat instead.\n",
      "  new_horizontal_note_df = new_horizontal_note_df.append(tmp_df, ignore_index=True)\n",
      "/home/jayesh/mgs_ai/crm_syd_1/main_page_processing_service/DataBucketingUtils.py:293: FutureWarning: The frame.append method is deprecated and will be removed from pandas in a future version. Use pandas.concat instead.\n",
      "  new_horizontal_note_df = new_horizontal_note_df.append(tmp_df, ignore_index=True)\n",
      "/home/jayesh/mgs_ai/crm_syd_1/main_page_processing_service/DataBucketingUtils.py:293: FutureWarning: The frame.append method is deprecated and will be removed from pandas in a future version. Use pandas.concat instead.\n",
      "  new_horizontal_note_df = new_horizontal_note_df.append(tmp_df, ignore_index=True)\n",
      "/home/jayesh/mgs_ai/crm_syd_1/main_page_processing_service/DataBucketingUtils.py:272: FutureWarning: The frame.append method is deprecated and will be removed from pandas in a future version. Use pandas.concat instead.\n",
      "  temp_horizontal_df = temp_horizontal_df.append(horizontal_note_df)\n",
      "/home/jayesh/mgs_ai/crm_syd_1/main_page_processing_service/DataBucketingUtils.py:310: FutureWarning: The default value of regex will change from True to False in a future version.\n",
      "  std_horzntl_note_df[\"line_item\"] = std_horzntl_note_df[\"line_item\"].str.replace(re.escape(pattrn),'',flags=re.IGNORECASE)\n"
     ]
    },
    {
     "name": "stdout",
     "output_type": "stream",
     "text": [
      "txt_rows : cost at 1 january 2020\n",
      "res_fuzz_match : [('cost', 100), ('gross', 40)]\n",
      "txt_rows : freehold land and buildings $000\n",
      "res_fuzz_match : [('cost', 25), ('gross', 20)]\n",
      "txt_rows : cost additions\n",
      "res_fuzz_match : [('cost', 100), ('gross', 40)]\n",
      "txt_rows : freehold land and buildings $000\n",
      "res_fuzz_match : [('cost', 25), ('gross', 20)]\n",
      "txt_rows : cost disposals\n",
      "res_fuzz_match : [('cost', 100), ('gross', 40)]\n",
      "txt_rows : freehold land and buildings $000\n",
      "res_fuzz_match : [('cost', 25), ('gross', 20)]\n",
      "txt_rows : cost transfer\n",
      "res_fuzz_match : [('cost', 100), ('gross', 40)]\n",
      "txt_rows : freehold land and buildings $000\n",
      "res_fuzz_match : [('cost', 25), ('gross', 20)]\n",
      "txt_rows : cost at 31 december 2020\n",
      "res_fuzz_match : [('cost', 100), ('gross', 40)]\n",
      "txt_rows : freehold land and buildings $000\n",
      "res_fuzz_match : [('cost', 25), ('gross', 20)]\n",
      "txt_rows : accumulated depreciation and impairment at1 january 2020\n",
      "res_fuzz_match : [('cost', 25), ('gross', 20)]\n",
      "txt_rows : freehold land and buildings $000\n",
      "res_fuzz_match : [('cost', 25), ('gross', 20)]\n",
      "txt_rows : accumulated depreciation and impairment depreciation charge for the year\n",
      "res_fuzz_match : [('cost', 50), ('gross', 40)]\n",
      "txt_rows : freehold land and buildings $000\n",
      "res_fuzz_match : [('cost', 25), ('gross', 20)]\n",
      "txt_rows : accumulated depreciation and impairment impairment*\n",
      "res_fuzz_match : [('cost', 25), ('gross', 20)]\n",
      "txt_rows : freehold land and buildings $000\n",
      "res_fuzz_match : [('cost', 25), ('gross', 20)]\n",
      "txt_rows : accumulated depreciation and impairment disposals\n",
      "res_fuzz_match : [('cost', 57), ('gross', 44)]\n",
      "txt_rows : freehold land and buildings $000\n",
      "res_fuzz_match : [('cost', 25), ('gross', 20)]\n",
      "txt_rows : accumulated depreciation and impairment at 31 december 2020\n",
      "res_fuzz_match : [('cost', 25), ('gross', 20)]\n",
      "txt_rows : freehold land and buildings $000\n",
      "res_fuzz_match : [('cost', 25), ('gross', 20)]\n",
      "txt_rows : net book value at 31 december 2020\n",
      "res_fuzz_match : [('cost', 25), ('gross', 20)]\n",
      "txt_rows : freehold land and buildings $000\n",
      "res_fuzz_match : [('cost', 25), ('gross', 20)]\n",
      "txt_rows : net book value at 31 december 2019\n",
      "res_fuzz_match : [('cost', 25), ('gross', 20)]\n",
      "txt_rows : freehold land and buildings $000\n",
      "res_fuzz_match : [('cost', 25), ('gross', 20)]\n",
      "txt_rows : cost at 1 january 2020\n",
      "res_fuzz_match : [('cost', 100), ('gross', 40)]\n",
      "txt_rows : plant and equipment $000\n",
      "res_fuzz_match : [('cost', 25), ('gross', 0)]\n",
      "txt_rows : cost additions\n",
      "res_fuzz_match : [('cost', 100), ('gross', 40)]\n",
      "txt_rows : plant and equipment $000\n",
      "res_fuzz_match : [('cost', 25), ('gross', 0)]\n",
      "txt_rows : cost disposals\n",
      "res_fuzz_match : [('cost', 100), ('gross', 40)]\n",
      "txt_rows : plant and equipment $000\n",
      "res_fuzz_match : [('cost', 25), ('gross', 0)]\n",
      "txt_rows : cost transfer\n",
      "res_fuzz_match : [('cost', 100), ('gross', 40)]\n",
      "txt_rows : plant and equipment $000\n",
      "res_fuzz_match : [('cost', 25), ('gross', 0)]\n",
      "txt_rows : cost at 31 december 2020\n",
      "res_fuzz_match : [('cost', 100), ('gross', 40)]\n",
      "txt_rows : plant and equipment $000\n",
      "res_fuzz_match : [('cost', 25), ('gross', 0)]\n",
      "txt_rows : accumulated depreciation and impairment at1 january 2020\n",
      "res_fuzz_match : [('cost', 25), ('gross', 20)]\n",
      "txt_rows : plant and equipment $000\n",
      "res_fuzz_match : [('cost', 25), ('gross', 0)]\n",
      "txt_rows : accumulated depreciation and impairment depreciation charge for the year\n",
      "res_fuzz_match : [('cost', 50), ('gross', 40)]\n",
      "txt_rows : plant and equipment $000\n",
      "res_fuzz_match : [('cost', 25), ('gross', 0)]\n",
      "txt_rows : accumulated depreciation and impairment impairment*\n",
      "res_fuzz_match : [('cost', 25), ('gross', 20)]\n",
      "txt_rows : plant and equipment $000\n",
      "res_fuzz_match : [('cost', 25), ('gross', 0)]\n",
      "txt_rows : accumulated depreciation and impairment disposals\n",
      "res_fuzz_match : [('cost', 57), ('gross', 44)]\n",
      "txt_rows : plant and equipment $000\n",
      "res_fuzz_match : [('cost', 25), ('gross', 0)]\n",
      "txt_rows : accumulated depreciation and impairment at 31 december 2020\n",
      "res_fuzz_match : [('cost', 25), ('gross', 20)]\n",
      "txt_rows : plant and equipment $000\n",
      "res_fuzz_match : [('cost', 25), ('gross', 0)]\n",
      "txt_rows : net book value at 31 december 2020\n",
      "res_fuzz_match : [('cost', 25), ('gross', 20)]\n",
      "txt_rows : plant and equipment $000\n",
      "res_fuzz_match : [('cost', 25), ('gross', 0)]\n",
      "txt_rows : net book value at 31 december 2019\n",
      "res_fuzz_match : [('cost', 25), ('gross', 20)]\n",
      "txt_rows : plant and equipment $000\n",
      "res_fuzz_match : [('cost', 25), ('gross', 0)]\n",
      "txt_rows : cost at 1 january 2020\n",
      "res_fuzz_match : [('cost', 100), ('gross', 40)]\n",
      "txt_rows : asset retirement obligation** $000\n",
      "res_fuzz_match : [('gross', 40), ('cost', 25)]\n",
      "txt_rows : cost additions\n",
      "res_fuzz_match : [('cost', 100), ('gross', 40)]\n",
      "txt_rows : asset retirement obligation** $000\n",
      "res_fuzz_match : [('gross', 40), ('cost', 25)]\n",
      "txt_rows : cost disposals\n",
      "res_fuzz_match : [('cost', 100), ('gross', 40)]\n",
      "txt_rows : asset retirement obligation** $000\n",
      "res_fuzz_match : [('gross', 40), ('cost', 25)]\n",
      "txt_rows : cost transfer\n",
      "res_fuzz_match : [('cost', 100), ('gross', 40)]\n",
      "txt_rows : asset retirement obligation** $000\n",
      "res_fuzz_match : [('gross', 40), ('cost', 25)]\n",
      "txt_rows : cost at 31 december 2020\n",
      "res_fuzz_match : [('cost', 100), ('gross', 40)]\n",
      "txt_rows : asset retirement obligation** $000\n",
      "res_fuzz_match : [('gross', 40), ('cost', 25)]\n",
      "txt_rows : accumulated depreciation and impairment at1 january 2020\n",
      "res_fuzz_match : [('cost', 25), ('gross', 20)]\n",
      "txt_rows : asset retirement obligation** $000\n",
      "res_fuzz_match : [('gross', 40), ('cost', 25)]\n",
      "txt_rows : accumulated depreciation and impairment depreciation charge for the year\n",
      "res_fuzz_match : [('cost', 50), ('gross', 40)]\n",
      "txt_rows : asset retirement obligation** $000\n",
      "res_fuzz_match : [('gross', 40), ('cost', 25)]\n",
      "txt_rows : accumulated depreciation and impairment impairment*\n",
      "res_fuzz_match : [('cost', 25), ('gross', 20)]\n",
      "txt_rows : asset retirement obligation** $000\n",
      "res_fuzz_match : [('gross', 40), ('cost', 25)]\n",
      "txt_rows : accumulated depreciation and impairment disposals\n",
      "res_fuzz_match : [('cost', 57), ('gross', 44)]\n",
      "txt_rows : asset retirement obligation** $000\n",
      "res_fuzz_match : [('gross', 40), ('cost', 25)]\n",
      "txt_rows : accumulated depreciation and impairment at 31 december 2020\n",
      "res_fuzz_match : [('cost', 25), ('gross', 20)]\n",
      "txt_rows : asset retirement obligation** $000\n",
      "res_fuzz_match : [('gross', 40), ('cost', 25)]\n",
      "txt_rows : net book value at 31 december 2020\n",
      "res_fuzz_match : [('cost', 25), ('gross', 20)]\n",
      "txt_rows : asset retirement obligation** $000\n",
      "res_fuzz_match : [('gross', 40), ('cost', 25)]\n",
      "txt_rows : net book value at 31 december 2019\n",
      "res_fuzz_match : [('cost', 25), ('gross', 20)]\n",
      "txt_rows : asset retirement obligation** $000\n",
      "res_fuzz_match : [('gross', 40), ('cost', 25)]\n",
      "txt_rows : cost at 1 january 2020\n",
      "res_fuzz_match : [('cost', 100), ('gross', 40)]\n",
      "txt_rows : construction inj progress $000\n",
      "res_fuzz_match : [('gross', 80), ('cost', 75)]\n",
      "txt_rows : cost additions\n",
      "res_fuzz_match : [('cost', 100), ('gross', 40)]\n",
      "txt_rows : construction inj progress $000\n",
      "res_fuzz_match : [('gross', 80), ('cost', 75)]\n",
      "txt_rows : cost disposals\n",
      "res_fuzz_match : [('cost', 100), ('gross', 40)]\n",
      "txt_rows : construction inj progress $000\n",
      "res_fuzz_match : [('gross', 80), ('cost', 75)]\n",
      "txt_rows : cost transfer\n",
      "res_fuzz_match : [('cost', 100), ('gross', 40)]\n",
      "txt_rows : construction inj progress $000\n",
      "res_fuzz_match : [('gross', 80), ('cost', 75)]\n",
      "txt_rows : cost at 31 december 2020\n",
      "res_fuzz_match : [('cost', 100), ('gross', 40)]\n",
      "txt_rows : construction inj progress $000\n",
      "res_fuzz_match : [('gross', 80), ('cost', 75)]\n",
      "txt_rows : accumulated depreciation and impairment at1 january 2020\n",
      "res_fuzz_match : [('cost', 25), ('gross', 20)]\n",
      "txt_rows : construction inj progress $000\n",
      "res_fuzz_match : [('gross', 80), ('cost', 75)]\n",
      "txt_rows : accumulated depreciation and impairment depreciation charge for the year\n",
      "res_fuzz_match : [('cost', 50), ('gross', 40)]\n",
      "txt_rows : construction inj progress $000\n",
      "res_fuzz_match : [('gross', 80), ('cost', 75)]\n",
      "txt_rows : accumulated depreciation and impairment impairment*\n",
      "res_fuzz_match : [('cost', 25), ('gross', 20)]\n",
      "txt_rows : construction inj progress $000\n",
      "res_fuzz_match : [('gross', 80), ('cost', 75)]\n",
      "txt_rows : accumulated depreciation and impairment disposals\n",
      "res_fuzz_match : [('cost', 57), ('gross', 44)]\n",
      "txt_rows : construction inj progress $000\n",
      "res_fuzz_match : [('gross', 80), ('cost', 75)]\n",
      "txt_rows : accumulated depreciation and impairment at 31 december 2020\n",
      "res_fuzz_match : [('cost', 25), ('gross', 20)]\n",
      "txt_rows : construction inj progress $000\n",
      "res_fuzz_match : [('gross', 80), ('cost', 75)]\n",
      "txt_rows : net book value at 31 december 2020\n",
      "res_fuzz_match : [('cost', 25), ('gross', 20)]\n",
      "txt_rows : construction inj progress $000\n",
      "res_fuzz_match : [('gross', 80), ('cost', 75)]\n",
      "txt_rows : net book value at 31 december 2019\n",
      "res_fuzz_match : [('cost', 25), ('gross', 20)]\n",
      "txt_rows : construction inj progress $000\n",
      "res_fuzz_match : [('gross', 80), ('cost', 75)]\n",
      "txt_rows : cost at 1 january 2020\n",
      "res_fuzz_match : [('cost', 100), ('gross', 40)]\n",
      "txt_rows : total $000\n",
      "res_fuzz_match : [('cost', 50), ('gross', 20)]\n",
      "txt_rows : cost additions\n",
      "res_fuzz_match : [('cost', 100), ('gross', 40)]\n",
      "txt_rows : total $000\n",
      "res_fuzz_match : [('cost', 50), ('gross', 20)]\n",
      "txt_rows : cost disposals\n",
      "res_fuzz_match : [('cost', 100), ('gross', 40)]\n",
      "txt_rows : total $000\n",
      "res_fuzz_match : [('cost', 50), ('gross', 20)]\n",
      "txt_rows : cost transfer\n",
      "res_fuzz_match : [('cost', 100), ('gross', 40)]\n",
      "txt_rows : total $000\n",
      "res_fuzz_match : [('cost', 50), ('gross', 20)]\n",
      "txt_rows : cost at 31 december 2020\n",
      "res_fuzz_match : [('cost', 100), ('gross', 40)]\n",
      "txt_rows : total $000\n",
      "res_fuzz_match : [('cost', 50), ('gross', 20)]\n",
      "txt_rows : accumulated depreciation and impairment at1 january 2020\n",
      "res_fuzz_match : [('cost', 25), ('gross', 20)]\n",
      "txt_rows : total $000\n",
      "res_fuzz_match : [('cost', 50), ('gross', 20)]\n",
      "txt_rows : accumulated depreciation and impairment depreciation charge for the year\n",
      "res_fuzz_match : [('cost', 50), ('gross', 40)]\n",
      "txt_rows : total $000\n",
      "res_fuzz_match : [('cost', 50), ('gross', 20)]\n",
      "txt_rows : accumulated depreciation and impairment impairment*\n",
      "res_fuzz_match : [('cost', 25), ('gross', 20)]\n",
      "txt_rows : total $000\n",
      "res_fuzz_match : [('cost', 50), ('gross', 20)]\n",
      "txt_rows : accumulated depreciation and impairment disposals\n",
      "res_fuzz_match : [('cost', 57), ('gross', 44)]\n",
      "txt_rows : total $000\n",
      "res_fuzz_match : [('cost', 50), ('gross', 20)]\n",
      "txt_rows : accumulated depreciation and impairment at 31 december 2020\n",
      "res_fuzz_match : [('cost', 25), ('gross', 20)]\n",
      "txt_rows : total $000\n",
      "res_fuzz_match : [('cost', 50), ('gross', 20)]\n",
      "txt_rows : net book value at 31 december 2020\n",
      "res_fuzz_match : [('cost', 25), ('gross', 20)]\n",
      "txt_rows : total $000\n",
      "res_fuzz_match : [('cost', 50), ('gross', 20)]\n",
      "txt_rows : net book value at 31 december 2019\n",
      "res_fuzz_match : [('cost', 25), ('gross', 20)]\n",
      "txt_rows : total $000\n",
      "res_fuzz_match : [('cost', 50), ('gross', 20)]\n",
      "txt_rows : cost at 1 january 2020\n",
      "res_fuzz_match : [('depreciatio', 25), ('accumulated depreciation', 25)]\n",
      "txt_rows : freehold land and buildings $000\n",
      "res_fuzz_match : [('depreciatio', 27), ('accumulated depreciation', 27)]\n",
      "txt_rows : cost additions\n",
      "res_fuzz_match : [('accumulated depreciation', 30), ('depreciatio', 25)]\n",
      "txt_rows : freehold land and buildings $000\n",
      "res_fuzz_match : [('depreciatio', 27), ('accumulated depreciation', 27)]\n",
      "txt_rows : cost disposals\n",
      "res_fuzz_match : [('accumulated depreciation', 36), ('depreciatio', 35)]\n",
      "txt_rows : freehold land and buildings $000\n",
      "res_fuzz_match : [('depreciatio', 27), ('accumulated depreciation', 27)]\n",
      "txt_rows : cost transfer\n",
      "res_fuzz_match : [('accumulated depreciation', 31), ('depreciatio', 29)]\n",
      "txt_rows : freehold land and buildings $000\n",
      "res_fuzz_match : [('depreciatio', 27), ('accumulated depreciation', 27)]\n",
      "txt_rows : cost at 31 december 2020\n",
      "res_fuzz_match : [('accumulated depreciation', 40), ('depreciatio', 35)]\n",
      "txt_rows : freehold land and buildings $000\n",
      "res_fuzz_match : [('depreciatio', 27), ('accumulated depreciation', 27)]\n",
      "txt_rows : accumulated depreciation and impairment at1 january 2020\n",
      "res_fuzz_match : [('accumulated depreciation', 100), ('depreciatio', 73)]\n",
      "txt_rows : freehold land and buildings $000\n",
      "res_fuzz_match : [('depreciatio', 27), ('accumulated depreciation', 27)]\n",
      "txt_rows : accumulated depreciation and impairment depreciation charge for the year\n",
      "res_fuzz_match : [('accumulated depreciation', 100), ('depreciatio', 73)]\n",
      "txt_rows : freehold land and buildings $000\n",
      "res_fuzz_match : [('depreciatio', 27), ('accumulated depreciation', 27)]\n",
      "txt_rows : accumulated depreciation and impairment impairment*\n",
      "res_fuzz_match : [('accumulated depreciation', 100), ('depreciatio', 73)]\n",
      "txt_rows : freehold land and buildings $000\n",
      "res_fuzz_match : [('depreciatio', 27), ('accumulated depreciation', 27)]\n",
      "txt_rows : accumulated depreciation and impairment disposals\n",
      "res_fuzz_match : [('accumulated depreciation', 100), ('depreciatio', 73)]\n",
      "txt_rows : freehold land and buildings $000\n",
      "res_fuzz_match : [('depreciatio', 27), ('accumulated depreciation', 27)]\n",
      "txt_rows : accumulated depreciation and impairment at 31 december 2020\n",
      "res_fuzz_match : [('accumulated depreciation', 100), ('depreciatio', 73)]\n",
      "txt_rows : freehold land and buildings $000\n",
      "res_fuzz_match : [('depreciatio', 27), ('accumulated depreciation', 27)]\n",
      "txt_rows : net book value at 31 december 2020\n",
      "res_fuzz_match : [('accumulated depreciation', 48), ('depreciatio', 35)]\n",
      "txt_rows : freehold land and buildings $000\n",
      "res_fuzz_match : [('depreciatio', 27), ('accumulated depreciation', 27)]\n",
      "txt_rows : net book value at 31 december 2019\n",
      "res_fuzz_match : [('accumulated depreciation', 48), ('depreciatio', 35)]\n",
      "txt_rows : freehold land and buildings $000\n",
      "res_fuzz_match : [('depreciatio', 27), ('accumulated depreciation', 27)]\n",
      "txt_rows : cost at 1 january 2020\n",
      "res_fuzz_match : [('depreciatio', 25), ('accumulated depreciation', 25)]\n",
      "txt_rows : plant and equipment $000\n",
      "res_fuzz_match : [('depreciatio', 33), ('accumulated depreciation', 23)]\n",
      "txt_rows : cost additions\n",
      "res_fuzz_match : [('accumulated depreciation', 30), ('depreciatio', 25)]\n",
      "txt_rows : plant and equipment $000\n",
      "res_fuzz_match : [('depreciatio', 33), ('accumulated depreciation', 23)]\n",
      "txt_rows : cost disposals\n",
      "res_fuzz_match : [('accumulated depreciation', 36), ('depreciatio', 35)]\n",
      "txt_rows : plant and equipment $000\n",
      "res_fuzz_match : [('depreciatio', 33), ('accumulated depreciation', 23)]\n",
      "txt_rows : cost transfer\n",
      "res_fuzz_match : [('accumulated depreciation', 31), ('depreciatio', 29)]\n",
      "txt_rows : plant and equipment $000\n",
      "res_fuzz_match : [('depreciatio', 33), ('accumulated depreciation', 23)]\n",
      "txt_rows : cost at 31 december 2020\n",
      "res_fuzz_match : [('accumulated depreciation', 40), ('depreciatio', 35)]\n",
      "txt_rows : plant and equipment $000\n",
      "res_fuzz_match : [('depreciatio', 33), ('accumulated depreciation', 23)]\n",
      "txt_rows : accumulated depreciation and impairment at1 january 2020\n",
      "res_fuzz_match : [('accumulated depreciation', 100), ('depreciatio', 73)]\n",
      "txt_rows : plant and equipment $000\n",
      "res_fuzz_match : [('depreciatio', 33), ('accumulated depreciation', 23)]\n",
      "txt_rows : accumulated depreciation and impairment depreciation charge for the year\n",
      "res_fuzz_match : [('accumulated depreciation', 100), ('depreciatio', 73)]\n",
      "txt_rows : plant and equipment $000\n",
      "res_fuzz_match : [('depreciatio', 33), ('accumulated depreciation', 23)]\n",
      "txt_rows : accumulated depreciation and impairment impairment*\n",
      "res_fuzz_match : [('accumulated depreciation', 100), ('depreciatio', 73)]\n",
      "txt_rows : plant and equipment $000\n",
      "res_fuzz_match : [('depreciatio', 33), ('accumulated depreciation', 23)]\n",
      "txt_rows : accumulated depreciation and impairment disposals\n",
      "res_fuzz_match : [('accumulated depreciation', 100), ('depreciatio', 73)]\n",
      "txt_rows : plant and equipment $000\n",
      "res_fuzz_match : [('depreciatio', 33), ('accumulated depreciation', 23)]\n",
      "txt_rows : accumulated depreciation and impairment at 31 december 2020\n",
      "res_fuzz_match : [('accumulated depreciation', 100), ('depreciatio', 73)]\n",
      "txt_rows : plant and equipment $000\n",
      "res_fuzz_match : [('depreciatio', 33), ('accumulated depreciation', 23)]\n",
      "txt_rows : net book value at 31 december 2020\n",
      "res_fuzz_match : [('accumulated depreciation', 48), ('depreciatio', 35)]\n",
      "txt_rows : plant and equipment $000\n",
      "res_fuzz_match : [('depreciatio', 33), ('accumulated depreciation', 23)]\n",
      "txt_rows : net book value at 31 december 2019\n",
      "res_fuzz_match : [('accumulated depreciation', 48), ('depreciatio', 35)]\n",
      "txt_rows : plant and equipment $000\n",
      "res_fuzz_match : [('depreciatio', 33), ('accumulated depreciation', 23)]\n",
      "txt_rows : cost at 1 january 2020\n",
      "res_fuzz_match : [('depreciatio', 25), ('accumulated depreciation', 25)]\n",
      "txt_rows : asset retirement obligation** $000\n",
      "res_fuzz_match : [('depreciatio', 55), ('accumulated depreciation', 33)]\n",
      "txt_rows : cost additions\n",
      "res_fuzz_match : [('accumulated depreciation', 30), ('depreciatio', 25)]\n",
      "txt_rows : asset retirement obligation** $000\n",
      "res_fuzz_match : [('depreciatio', 55), ('accumulated depreciation', 33)]\n",
      "txt_rows : cost disposals\n",
      "res_fuzz_match : [('accumulated depreciation', 36), ('depreciatio', 35)]\n",
      "txt_rows : asset retirement obligation** $000\n",
      "res_fuzz_match : [('depreciatio', 55), ('accumulated depreciation', 33)]\n",
      "txt_rows : cost transfer\n",
      "res_fuzz_match : [('accumulated depreciation', 31), ('depreciatio', 29)]\n",
      "txt_rows : asset retirement obligation** $000\n",
      "res_fuzz_match : [('depreciatio', 55), ('accumulated depreciation', 33)]\n",
      "txt_rows : cost at 31 december 2020\n",
      "res_fuzz_match : [('accumulated depreciation', 40), ('depreciatio', 35)]\n",
      "txt_rows : asset retirement obligation** $000\n",
      "res_fuzz_match : [('depreciatio', 55), ('accumulated depreciation', 33)]\n",
      "txt_rows : accumulated depreciation and impairment at1 january 2020\n",
      "res_fuzz_match : [('accumulated depreciation', 100), ('depreciatio', 73)]\n",
      "txt_rows : asset retirement obligation** $000\n",
      "res_fuzz_match : [('depreciatio', 55), ('accumulated depreciation', 33)]\n",
      "txt_rows : accumulated depreciation and impairment depreciation charge for the year\n",
      "res_fuzz_match : [('accumulated depreciation', 100), ('depreciatio', 73)]\n",
      "txt_rows : asset retirement obligation** $000\n",
      "res_fuzz_match : [('depreciatio', 55), ('accumulated depreciation', 33)]\n",
      "txt_rows : accumulated depreciation and impairment impairment*\n",
      "res_fuzz_match : [('accumulated depreciation', 100), ('depreciatio', 73)]\n",
      "txt_rows : asset retirement obligation** $000\n",
      "res_fuzz_match : [('depreciatio', 55), ('accumulated depreciation', 33)]\n",
      "txt_rows : accumulated depreciation and impairment disposals\n",
      "res_fuzz_match : [('accumulated depreciation', 100), ('depreciatio', 73)]\n",
      "txt_rows : asset retirement obligation** $000\n",
      "res_fuzz_match : [('depreciatio', 55), ('accumulated depreciation', 33)]\n",
      "txt_rows : accumulated depreciation and impairment at 31 december 2020\n",
      "res_fuzz_match : [('accumulated depreciation', 100), ('depreciatio', 73)]\n",
      "txt_rows : asset retirement obligation** $000\n",
      "res_fuzz_match : [('depreciatio', 55), ('accumulated depreciation', 33)]\n",
      "txt_rows : net book value at 31 december 2020\n",
      "res_fuzz_match : [('accumulated depreciation', 48), ('depreciatio', 35)]\n",
      "txt_rows : asset retirement obligation** $000\n",
      "res_fuzz_match : [('depreciatio', 55), ('accumulated depreciation', 33)]\n",
      "txt_rows : net book value at 31 december 2019\n",
      "res_fuzz_match : [('accumulated depreciation', 48), ('depreciatio', 35)]\n",
      "txt_rows : asset retirement obligation** $000\n",
      "res_fuzz_match : [('depreciatio', 55), ('accumulated depreciation', 33)]\n",
      "txt_rows : cost at 1 january 2020\n",
      "res_fuzz_match : [('depreciatio', 25), ('accumulated depreciation', 25)]\n",
      "txt_rows : construction inj progress $000\n",
      "res_fuzz_match : [('accumulated depreciation', 33), ('depreciatio', 29)]\n",
      "txt_rows : cost additions\n",
      "res_fuzz_match : [('accumulated depreciation', 30), ('depreciatio', 25)]\n",
      "txt_rows : construction inj progress $000\n",
      "res_fuzz_match : [('accumulated depreciation', 33), ('depreciatio', 29)]\n",
      "txt_rows : cost disposals\n",
      "res_fuzz_match : [('accumulated depreciation', 36), ('depreciatio', 35)]\n",
      "txt_rows : construction inj progress $000\n",
      "res_fuzz_match : [('accumulated depreciation', 33), ('depreciatio', 29)]\n",
      "txt_rows : cost transfer\n",
      "res_fuzz_match : [('accumulated depreciation', 31), ('depreciatio', 29)]\n",
      "txt_rows : construction inj progress $000\n",
      "res_fuzz_match : [('accumulated depreciation', 33), ('depreciatio', 29)]\n",
      "txt_rows : cost at 31 december 2020\n",
      "res_fuzz_match : [('accumulated depreciation', 40), ('depreciatio', 35)]\n",
      "txt_rows : construction inj progress $000\n",
      "res_fuzz_match : [('accumulated depreciation', 33), ('depreciatio', 29)]\n",
      "txt_rows : accumulated depreciation and impairment at1 january 2020\n",
      "res_fuzz_match : [('accumulated depreciation', 100), ('depreciatio', 73)]\n",
      "txt_rows : construction inj progress $000\n",
      "res_fuzz_match : [('accumulated depreciation', 33), ('depreciatio', 29)]\n",
      "txt_rows : accumulated depreciation and impairment depreciation charge for the year\n",
      "res_fuzz_match : [('accumulated depreciation', 100), ('depreciatio', 73)]\n",
      "txt_rows : construction inj progress $000\n",
      "res_fuzz_match : [('accumulated depreciation', 33), ('depreciatio', 29)]\n",
      "txt_rows : accumulated depreciation and impairment impairment*\n",
      "res_fuzz_match : [('accumulated depreciation', 100), ('depreciatio', 73)]\n",
      "txt_rows : construction inj progress $000\n",
      "res_fuzz_match : [('accumulated depreciation', 33), ('depreciatio', 29)]\n",
      "txt_rows : accumulated depreciation and impairment disposals\n",
      "res_fuzz_match : [('accumulated depreciation', 100), ('depreciatio', 73)]\n",
      "txt_rows : construction inj progress $000\n",
      "res_fuzz_match : [('accumulated depreciation', 33), ('depreciatio', 29)]\n",
      "txt_rows : accumulated depreciation and impairment at 31 december 2020\n",
      "res_fuzz_match : [('accumulated depreciation', 100), ('depreciatio', 73)]\n",
      "txt_rows : construction inj progress $000\n",
      "res_fuzz_match : [('accumulated depreciation', 33), ('depreciatio', 29)]\n",
      "txt_rows : net book value at 31 december 2020\n",
      "res_fuzz_match : [('accumulated depreciation', 48), ('depreciatio', 35)]\n",
      "txt_rows : construction inj progress $000\n",
      "res_fuzz_match : [('accumulated depreciation', 33), ('depreciatio', 29)]\n",
      "txt_rows : net book value at 31 december 2019\n",
      "res_fuzz_match : [('accumulated depreciation', 48), ('depreciatio', 35)]\n",
      "txt_rows : construction inj progress $000\n",
      "res_fuzz_match : [('accumulated depreciation', 33), ('depreciatio', 29)]\n",
      "txt_rows : cost at 1 january 2020\n",
      "res_fuzz_match : [('depreciatio', 25), ('accumulated depreciation', 25)]\n",
      "txt_rows : total $000\n",
      "res_fuzz_match : [('depreciatio', 50), ('accumulated depreciation', 20)]\n",
      "txt_rows : cost additions\n",
      "res_fuzz_match : [('accumulated depreciation', 30), ('depreciatio', 25)]\n",
      "txt_rows : total $000\n",
      "res_fuzz_match : [('depreciatio', 50), ('accumulated depreciation', 20)]\n",
      "txt_rows : cost disposals\n",
      "res_fuzz_match : [('accumulated depreciation', 36), ('depreciatio', 35)]\n",
      "txt_rows : total $000\n",
      "res_fuzz_match : [('depreciatio', 50), ('accumulated depreciation', 20)]\n",
      "txt_rows : cost transfer\n",
      "res_fuzz_match : [('accumulated depreciation', 31), ('depreciatio', 29)]\n",
      "txt_rows : total $000\n",
      "res_fuzz_match : [('depreciatio', 50), ('accumulated depreciation', 20)]\n",
      "txt_rows : cost at 31 december 2020\n",
      "res_fuzz_match : [('accumulated depreciation', 40), ('depreciatio', 35)]\n",
      "txt_rows : total $000\n",
      "res_fuzz_match : [('depreciatio', 50), ('accumulated depreciation', 20)]\n",
      "txt_rows : accumulated depreciation and impairment at1 january 2020\n",
      "res_fuzz_match : [('accumulated depreciation', 100), ('depreciatio', 73)]\n",
      "txt_rows : total $000\n",
      "res_fuzz_match : [('depreciatio', 50), ('accumulated depreciation', 20)]\n",
      "txt_rows : accumulated depreciation and impairment depreciation charge for the year\n",
      "res_fuzz_match : [('accumulated depreciation', 100), ('depreciatio', 73)]\n",
      "txt_rows : total $000\n",
      "res_fuzz_match : [('depreciatio', 50), ('accumulated depreciation', 20)]\n",
      "txt_rows : accumulated depreciation and impairment impairment*\n",
      "res_fuzz_match : [('accumulated depreciation', 100), ('depreciatio', 73)]\n",
      "txt_rows : total $000\n",
      "res_fuzz_match : [('depreciatio', 50), ('accumulated depreciation', 20)]\n",
      "txt_rows : accumulated depreciation and impairment disposals\n",
      "res_fuzz_match : [('accumulated depreciation', 100), ('depreciatio', 73)]\n",
      "txt_rows : total $000\n",
      "res_fuzz_match : [('depreciatio', 50), ('accumulated depreciation', 20)]\n",
      "txt_rows : accumulated depreciation and impairment at 31 december 2020\n",
      "res_fuzz_match : [('accumulated depreciation', 100), ('depreciatio', 73)]\n",
      "txt_rows : total $000\n",
      "res_fuzz_match : [('depreciatio', 50), ('accumulated depreciation', 20)]\n",
      "txt_rows : net book value at 31 december 2020\n",
      "res_fuzz_match : [('accumulated depreciation', 48), ('depreciatio', 35)]\n",
      "txt_rows : total $000\n",
      "res_fuzz_match : [('depreciatio', 50), ('accumulated depreciation', 20)]\n",
      "txt_rows : net book value at 31 december 2019\n",
      "res_fuzz_match : [('accumulated depreciation', 48), ('depreciatio', 35)]\n",
      "txt_rows : total $000\n",
      "res_fuzz_match : [('depreciatio', 50), ('accumulated depreciation', 20)]\n"
     ]
    },
    {
     "name": "stderr",
     "output_type": "stream",
     "text": [
      "/home/jayesh/mgs_ai/crm_syd_1/main_page_processing_service/DataBucketingUtils.py:293: FutureWarning: The frame.append method is deprecated and will be removed from pandas in a future version. Use pandas.concat instead.\n",
      "  new_horizontal_note_df = new_horizontal_note_df.append(tmp_df, ignore_index=True)\n",
      "/home/jayesh/mgs_ai/crm_syd_1/main_page_processing_service/DataBucketingUtils.py:293: FutureWarning: The frame.append method is deprecated and will be removed from pandas in a future version. Use pandas.concat instead.\n",
      "  new_horizontal_note_df = new_horizontal_note_df.append(tmp_df, ignore_index=True)\n",
      "/home/jayesh/mgs_ai/crm_syd_1/main_page_processing_service/DataBucketingUtils.py:293: FutureWarning: The frame.append method is deprecated and will be removed from pandas in a future version. Use pandas.concat instead.\n",
      "  new_horizontal_note_df = new_horizontal_note_df.append(tmp_df, ignore_index=True)\n",
      "/home/jayesh/mgs_ai/crm_syd_1/main_page_processing_service/DataBucketingUtils.py:293: FutureWarning: The frame.append method is deprecated and will be removed from pandas in a future version. Use pandas.concat instead.\n",
      "  new_horizontal_note_df = new_horizontal_note_df.append(tmp_df, ignore_index=True)\n",
      "/home/jayesh/mgs_ai/crm_syd_1/main_page_processing_service/DataBucketingUtils.py:293: FutureWarning: The frame.append method is deprecated and will be removed from pandas in a future version. Use pandas.concat instead.\n",
      "  new_horizontal_note_df = new_horizontal_note_df.append(tmp_df, ignore_index=True)\n",
      "/home/jayesh/mgs_ai/crm_syd_1/main_page_processing_service/DataBucketingUtils.py:293: FutureWarning: The frame.append method is deprecated and will be removed from pandas in a future version. Use pandas.concat instead.\n",
      "  new_horizontal_note_df = new_horizontal_note_df.append(tmp_df, ignore_index=True)\n",
      "/home/jayesh/mgs_ai/crm_syd_1/main_page_processing_service/DataBucketingUtils.py:293: FutureWarning: The frame.append method is deprecated and will be removed from pandas in a future version. Use pandas.concat instead.\n",
      "  new_horizontal_note_df = new_horizontal_note_df.append(tmp_df, ignore_index=True)\n",
      "/home/jayesh/mgs_ai/crm_syd_1/main_page_processing_service/DataBucketingUtils.py:293: FutureWarning: The frame.append method is deprecated and will be removed from pandas in a future version. Use pandas.concat instead.\n",
      "  new_horizontal_note_df = new_horizontal_note_df.append(tmp_df, ignore_index=True)\n",
      "/home/jayesh/mgs_ai/crm_syd_1/main_page_processing_service/DataBucketingUtils.py:293: FutureWarning: The frame.append method is deprecated and will be removed from pandas in a future version. Use pandas.concat instead.\n",
      "  new_horizontal_note_df = new_horizontal_note_df.append(tmp_df, ignore_index=True)\n",
      "/home/jayesh/mgs_ai/crm_syd_1/main_page_processing_service/DataBucketingUtils.py:293: FutureWarning: The frame.append method is deprecated and will be removed from pandas in a future version. Use pandas.concat instead.\n",
      "  new_horizontal_note_df = new_horizontal_note_df.append(tmp_df, ignore_index=True)\n",
      "/home/jayesh/mgs_ai/crm_syd_1/main_page_processing_service/DataBucketingUtils.py:293: FutureWarning: The frame.append method is deprecated and will be removed from pandas in a future version. Use pandas.concat instead.\n",
      "  new_horizontal_note_df = new_horizontal_note_df.append(tmp_df, ignore_index=True)\n",
      "/home/jayesh/mgs_ai/crm_syd_1/main_page_processing_service/DataBucketingUtils.py:293: FutureWarning: The frame.append method is deprecated and will be removed from pandas in a future version. Use pandas.concat instead.\n",
      "  new_horizontal_note_df = new_horizontal_note_df.append(tmp_df, ignore_index=True)\n",
      "/home/jayesh/mgs_ai/crm_syd_1/main_page_processing_service/DataBucketingUtils.py:293: FutureWarning: The frame.append method is deprecated and will be removed from pandas in a future version. Use pandas.concat instead.\n",
      "  new_horizontal_note_df = new_horizontal_note_df.append(tmp_df, ignore_index=True)\n",
      "/home/jayesh/mgs_ai/crm_syd_1/main_page_processing_service/DataBucketingUtils.py:293: FutureWarning: The frame.append method is deprecated and will be removed from pandas in a future version. Use pandas.concat instead.\n",
      "  new_horizontal_note_df = new_horizontal_note_df.append(tmp_df, ignore_index=True)\n",
      "/home/jayesh/mgs_ai/crm_syd_1/main_page_processing_service/DataBucketingUtils.py:293: FutureWarning: The frame.append method is deprecated and will be removed from pandas in a future version. Use pandas.concat instead.\n",
      "  new_horizontal_note_df = new_horizontal_note_df.append(tmp_df, ignore_index=True)\n",
      "/home/jayesh/mgs_ai/crm_syd_1/main_page_processing_service/DataBucketingUtils.py:293: FutureWarning: The frame.append method is deprecated and will be removed from pandas in a future version. Use pandas.concat instead.\n",
      "  new_horizontal_note_df = new_horizontal_note_df.append(tmp_df, ignore_index=True)\n",
      "/home/jayesh/mgs_ai/crm_syd_1/main_page_processing_service/DataBucketingUtils.py:293: FutureWarning: The frame.append method is deprecated and will be removed from pandas in a future version. Use pandas.concat instead.\n",
      "  new_horizontal_note_df = new_horizontal_note_df.append(tmp_df, ignore_index=True)\n",
      "/home/jayesh/mgs_ai/crm_syd_1/main_page_processing_service/DataBucketingUtils.py:293: FutureWarning: The frame.append method is deprecated and will be removed from pandas in a future version. Use pandas.concat instead.\n",
      "  new_horizontal_note_df = new_horizontal_note_df.append(tmp_df, ignore_index=True)\n",
      "/home/jayesh/mgs_ai/crm_syd_1/main_page_processing_service/DataBucketingUtils.py:293: FutureWarning: The frame.append method is deprecated and will be removed from pandas in a future version. Use pandas.concat instead.\n",
      "  new_horizontal_note_df = new_horizontal_note_df.append(tmp_df, ignore_index=True)\n",
      "/home/jayesh/mgs_ai/crm_syd_1/main_page_processing_service/DataBucketingUtils.py:293: FutureWarning: The frame.append method is deprecated and will be removed from pandas in a future version. Use pandas.concat instead.\n",
      "  new_horizontal_note_df = new_horizontal_note_df.append(tmp_df, ignore_index=True)\n",
      "/home/jayesh/mgs_ai/crm_syd_1/main_page_processing_service/DataBucketingUtils.py:293: FutureWarning: The frame.append method is deprecated and will be removed from pandas in a future version. Use pandas.concat instead.\n",
      "  new_horizontal_note_df = new_horizontal_note_df.append(tmp_df, ignore_index=True)\n",
      "/home/jayesh/mgs_ai/crm_syd_1/main_page_processing_service/DataBucketingUtils.py:293: FutureWarning: The frame.append method is deprecated and will be removed from pandas in a future version. Use pandas.concat instead.\n",
      "  new_horizontal_note_df = new_horizontal_note_df.append(tmp_df, ignore_index=True)\n",
      "/home/jayesh/mgs_ai/crm_syd_1/main_page_processing_service/DataBucketingUtils.py:293: FutureWarning: The frame.append method is deprecated and will be removed from pandas in a future version. Use pandas.concat instead.\n",
      "  new_horizontal_note_df = new_horizontal_note_df.append(tmp_df, ignore_index=True)\n",
      "/home/jayesh/mgs_ai/crm_syd_1/main_page_processing_service/DataBucketingUtils.py:293: FutureWarning: The frame.append method is deprecated and will be removed from pandas in a future version. Use pandas.concat instead.\n",
      "  new_horizontal_note_df = new_horizontal_note_df.append(tmp_df, ignore_index=True)\n",
      "/home/jayesh/mgs_ai/crm_syd_1/main_page_processing_service/DataBucketingUtils.py:293: FutureWarning: The frame.append method is deprecated and will be removed from pandas in a future version. Use pandas.concat instead.\n",
      "  new_horizontal_note_df = new_horizontal_note_df.append(tmp_df, ignore_index=True)\n",
      "/home/jayesh/mgs_ai/crm_syd_1/main_page_processing_service/DataBucketingUtils.py:293: FutureWarning: The frame.append method is deprecated and will be removed from pandas in a future version. Use pandas.concat instead.\n",
      "  new_horizontal_note_df = new_horizontal_note_df.append(tmp_df, ignore_index=True)\n",
      "/home/jayesh/mgs_ai/crm_syd_1/main_page_processing_service/DataBucketingUtils.py:293: FutureWarning: The frame.append method is deprecated and will be removed from pandas in a future version. Use pandas.concat instead.\n",
      "  new_horizontal_note_df = new_horizontal_note_df.append(tmp_df, ignore_index=True)\n",
      "/home/jayesh/mgs_ai/crm_syd_1/main_page_processing_service/DataBucketingUtils.py:272: FutureWarning: The frame.append method is deprecated and will be removed from pandas in a future version. Use pandas.concat instead.\n",
      "  temp_horizontal_df = temp_horizontal_df.append(horizontal_note_df)\n",
      "/home/jayesh/mgs_ai/crm_syd_1/main_page_processing_service/DataBucketingUtils.py:310: FutureWarning: The default value of regex will change from True to False in a future version.\n",
      "  std_horzntl_note_df[\"line_item\"] = std_horzntl_note_df[\"line_item\"].str.replace(re.escape(pattrn),'',flags=re.IGNORECASE)\n",
      "/home/jayesh/mgs_ai/crm_syd_1/main_page_processing_service/DataBucketingUtils.py:293: FutureWarning: The frame.append method is deprecated and will be removed from pandas in a future version. Use pandas.concat instead.\n",
      "  new_horizontal_note_df = new_horizontal_note_df.append(tmp_df, ignore_index=True)\n",
      "/home/jayesh/mgs_ai/crm_syd_1/main_page_processing_service/DataBucketingUtils.py:293: FutureWarning: The frame.append method is deprecated and will be removed from pandas in a future version. Use pandas.concat instead.\n",
      "  new_horizontal_note_df = new_horizontal_note_df.append(tmp_df, ignore_index=True)\n",
      "/home/jayesh/mgs_ai/crm_syd_1/main_page_processing_service/DataBucketingUtils.py:293: FutureWarning: The frame.append method is deprecated and will be removed from pandas in a future version. Use pandas.concat instead.\n",
      "  new_horizontal_note_df = new_horizontal_note_df.append(tmp_df, ignore_index=True)\n",
      "/home/jayesh/mgs_ai/crm_syd_1/main_page_processing_service/DataBucketingUtils.py:272: FutureWarning: The frame.append method is deprecated and will be removed from pandas in a future version. Use pandas.concat instead.\n",
      "  temp_horizontal_df = temp_horizontal_df.append(horizontal_note_df)\n",
      "/home/jayesh/mgs_ai/crm_syd_1/main_page_processing_service/DataBucketingUtils.py:310: FutureWarning: The default value of regex will change from True to False in a future version.\n",
      "  std_horzntl_note_df[\"line_item\"] = std_horzntl_note_df[\"line_item\"].str.replace(re.escape(pattrn),'',flags=re.IGNORECASE)\n"
     ]
    }
   ],
   "source": [
    "obj_cbs_mapping.trigger_job()"
   ]
  },
  {
   "cell_type": "code",
   "execution_count": null,
   "id": "4a3abc04-3d6d-4f44-bee9-09c342e18171",
   "metadata": {},
   "outputs": [],
   "source": []
  },
  {
   "cell_type": "code",
   "execution_count": null,
   "id": "0583df57-0f1e-43ae-a8d9-db9d4a79fd9a",
   "metadata": {},
   "outputs": [],
   "source": []
  },
  {
   "cell_type": "code",
   "execution_count": null,
   "id": "db27572d-4cf1-494f-b54c-4884a2bbb256",
   "metadata": {},
   "outputs": [],
   "source": []
  },
  {
   "cell_type": "code",
   "execution_count": null,
   "id": "d0938d4e-6acc-4ef1-a871-94b8d347f3a1",
   "metadata": {},
   "outputs": [],
   "source": []
  },
  {
   "cell_type": "code",
   "execution_count": null,
   "id": "eacbb94b-a9f6-4b81-8afa-07aa0a91614d",
   "metadata": {},
   "outputs": [],
   "source": []
  },
  {
   "cell_type": "code",
   "execution_count": null,
   "id": "3aa28219-9a11-4923-9b69-e1cbe621e68b",
   "metadata": {},
   "outputs": [],
   "source": []
  },
  {
   "cell_type": "code",
   "execution_count": 12,
   "id": "bbb2f9ca",
   "metadata": {
    "tags": []
   },
   "outputs": [
    {
     "data": {
      "text/plain": [
       "{'ca_cash_and_cash_equivalents': {'main_page_row_indices': [2],\n",
       "  'main_page_year_total': [28259.0, 19589.0],\n",
       "  'main_page_year_list': ['2019', '2020'],\n",
       "  'main_page_raw_note': ['6'],\n",
       "  'main_page_particular_text_list': ['Cash and cash equivalents'],\n",
       "  'main_page_value_list': [[28259.0], [19589.0]],\n",
       "  'main_page_cropped_df':                  Particulars Notes     2020     2019 statement_section  \\\n",
       "  2  Cash and cash equivalents     6  19589.0  28259.0            assets   \n",
       "  \n",
       "    statement_sub_section  \n",
       "  2               current  ,\n",
       "  'notes_table_df':   raw_note_no note_no subnote_no                       line_item  year  value\n",
       "  0           6       6             $000  Cash at bank and on hand  2020  19589\n",
       "  1           6       6             $000  Cash at bank and on hand  2019  28259,\n",
       "  'notes_horizontal_table_df':                     line_item   2019   2020\n",
       "  0    Cash at bank and on hand  28259  19589},\n",
       " 'ca_inventories': {'main_page_row_indices': [4],\n",
       "  'main_page_year_total': [26953.0, 27198.0],\n",
       "  'main_page_year_list': ['2019', '2020'],\n",
       "  'main_page_raw_note': ['8'],\n",
       "  'main_page_particular_text_list': ['Inventories'],\n",
       "  'main_page_value_list': [[26953.0], [27198.0]],\n",
       "  'main_page_cropped_df':    Particulars Notes     2020     2019 statement_section statement_sub_section\n",
       "  4  Inventories     8  27198.0  26953.0            assets               current,\n",
       "  'notes_table_df':   raw_note_no note_no subnote_no             line_item  year  value\n",
       "  0           8       8              $000  Raw materials  2020  18547\n",
       "  1           8       8             $000  Finished goods  2020   8651\n",
       "  2           8       8                      $000  Total  2020  27198\n",
       "  3           8       8              $000  Raw materials  2019  19816\n",
       "  4           8       8             $000  Finished goods  2019   7137\n",
       "  5           8       8                      $000  Total  2019  26953,\n",
       "  'notes_horizontal_table_df':           line_item   2019   2020\n",
       "  0     Raw materials  19816  18547\n",
       "  1    Finished goods   7137   8651},\n",
       " 'ca_prepaid_expenses': {'main_page_row_indices': [1, 5, 7],\n",
       "  'main_page_year_total': [30081.0, 489.0],\n",
       "  'main_page_year_list': ['2019', '2020'],\n",
       "  'main_page_raw_note': ['9'],\n",
       "  'main_page_particular_text_list': ['Current assets',\n",
       "   'Financial assets',\n",
       "   'Other current assets'],\n",
       "  'main_page_value_list': [[0.0, 29753.0, 328.0], [0.0, 0.0, 489.0]],\n",
       "  'main_page_cropped_df':             Particulars Notes   2020     2019 statement_section  \\\n",
       "  1        Current assets   NaN    0.0      0.0            assets   \n",
       "  5      Financial assets     9    0.0  29753.0            assets   \n",
       "  7  Other current assets    10  489.0    328.0            assets   \n",
       "  \n",
       "    statement_sub_section  \n",
       "  1               current  \n",
       "  5               current  \n",
       "  7               current  ,\n",
       "  'notes_table_df':   raw_note_no note_no subnote_no  \\\n",
       "  0           9       9              \n",
       "  1           9       9              \n",
       "  2           9       9              \n",
       "  3           9       9              \n",
       "  4           9       9              \n",
       "  5           9       9              \n",
       "  6           9       9              \n",
       "  7           9       9              \n",
       "  \n",
       "                                             line_item  year    value  \n",
       "  0  $000 Current Foreign exchange derivatives at f...  2020      0.0  \n",
       "  1  $000 Current Electricity derivatives at fair v...  2020      0.0  \n",
       "  2                                 $000 Current Total  2020      0.0  \n",
       "  3  $000 Non-current Electricity derivatives at fa...  2020      0.0  \n",
       "  4  $000 Current Foreign exchange derivatives at f...  2019     51.0  \n",
       "  5  $000 Current Electricity derivatives at fair v...  2019  29702.0  \n",
       "  6                                 $000 Current Total  2019  29753.0  \n",
       "  7  $000 Non-current Electricity derivatives at fa...  2019  12453.0  ,\n",
       "  'notes_horizontal_table_df':                                            line_item     2019  2020\n",
       "  0   Current Foreign exchange derivatives at fair ...     51.0   0.0\n",
       "  1      Current Electricity derivatives at fair value  29702.0   0.0\n",
       "  2   Non-current Electricity derivatives at fair v...  12453.0   0.0},\n",
       " 'ca_other_current_assets': {'main_page_row_indices': [1, 7],\n",
       "  'main_page_year_total': [328.0, 489.0],\n",
       "  'main_page_year_list': ['2019', '2020'],\n",
       "  'main_page_raw_note': [],\n",
       "  'main_page_particular_text_list': ['Current assets', 'Other current assets'],\n",
       "  'main_page_value_list': [[0.0, 328.0], [0.0, 489.0]],\n",
       "  'main_page_cropped_df':             Particulars Notes   2020   2019 statement_section  \\\n",
       "  1        Current assets   NaN    0.0    0.0            assets   \n",
       "  7  Other current assets    10  489.0  328.0            assets   \n",
       "  \n",
       "    statement_sub_section  \n",
       "  1               current  \n",
       "  7               current  ,\n",
       "  'notes_table_df': Empty DataFrame\n",
       "  Columns: [raw_note_no, note_no, subnote_no, line_item, year, value]\n",
       "  Index: [],\n",
       "  'notes_horizontal_table_df': Empty DataFrame\n",
       "  Columns: []\n",
       "  Index: []},\n",
       " 'ca_total_current_assets': {'main_page_row_indices': [1, 7],\n",
       "  'main_page_year_total': [328.0, 489.0],\n",
       "  'main_page_year_list': ['2019', '2020'],\n",
       "  'main_page_raw_note': [],\n",
       "  'main_page_particular_text_list': ['Current assets', 'Other current assets'],\n",
       "  'main_page_value_list': [[0.0, 328.0], [0.0, 489.0]],\n",
       "  'main_page_cropped_df':             Particulars Notes   2020   2019 statement_section  \\\n",
       "  1        Current assets   NaN    0.0    0.0            assets   \n",
       "  7  Other current assets    10  489.0  328.0            assets   \n",
       "  \n",
       "    statement_sub_section  \n",
       "  1               current  \n",
       "  7               current  ,\n",
       "  'notes_table_df': Empty DataFrame\n",
       "  Columns: [raw_note_no, note_no, subnote_no, line_item, year, value]\n",
       "  Index: [],\n",
       "  'notes_horizontal_table_df': Empty DataFrame\n",
       "  Columns: []\n",
       "  Index: []},\n",
       " 'nca_accumulated_depreciation': {'main_page_row_indices': [11],\n",
       "  'main_page_year_total': [3731.0, 17531.0],\n",
       "  'main_page_year_list': ['2019', '2020'],\n",
       "  'main_page_raw_note': ['12'],\n",
       "  'main_page_particular_text_list': ['Property, plant and equipment'],\n",
       "  'main_page_value_list': [[3731.0], [17531.0]],\n",
       "  'main_page_cropped_df':                       Particulars Notes     2020    2019 statement_section  \\\n",
       "  11  Property, plant and equipment    12  17531.0  3731.0            assets   \n",
       "  \n",
       "     statement_sub_section  \n",
       "  11            noncurrent  ,\n",
       "  'notes_table_df':    raw_note_no note_no subnote_no  \\\n",
       "  0           12      12              \n",
       "  1           12      12              \n",
       "  2           12      12              \n",
       "  3           12      12              \n",
       "  4           12      12              \n",
       "  5           12      12              \n",
       "  6           12      12              \n",
       "  7           12      12              \n",
       "  8           12      12              \n",
       "  9           12      12              \n",
       "  10          12      12              \n",
       "  11          12      12              \n",
       "  12          12      12              \n",
       "  13          12      12              \n",
       "  14          12      12              \n",
       "  15          12      12              \n",
       "  16          12      12              \n",
       "  17          12      12              \n",
       "  18          12      12              \n",
       "  19          12      12              \n",
       "  \n",
       "                                              line_item    year     value  \n",
       "  0   Freehold land and buildings $000 Accumulated d...  2020.0   90235.0  \n",
       "  1   Freehold land and buildings $000 Accumulated d...  2020.0      57.0  \n",
       "  2   Freehold land and buildings $000 Accumulated d...  2020.0     351.0  \n",
       "  3   Freehold land and buildings $000 Accumulated d...  2020.0    -154.0  \n",
       "  4   Freehold land and buildings $000 Accumulated d...  2020.0   90489.0  \n",
       "  5   Plant and equipment $000 Accumulated depreciat...  2020.0  312388.0  \n",
       "  6   Plant and equipment $000 Accumulated depreciat...  2020.0     827.0  \n",
       "  7   Plant and equipment $000 Accumulated depreciat...  2020.0    4618.0  \n",
       "  8   Plant and equipment $000 Accumulated depreciat...  2020.0   -1182.0  \n",
       "  9   Plant and equipment $000 Accumulated depreciat...  2020.0  316651.0  \n",
       "  10  Asset Retirement Obligation** $000 Accumulated...  2020.0    1628.0  \n",
       "  11  Asset Retirement Obligation** $000 Accumulated...  2020.0       0.0  \n",
       "  12  Asset Retirement Obligation** $000 Accumulated...  2020.0   20598.0  \n",
       "  13  Asset Retirement Obligation** $000 Accumulated...  2020.0       0.0  \n",
       "  14  Asset Retirement Obligation** $000 Accumulated...  2020.0   22226.0  \n",
       "  15  Total $000 Accumulated depreciation and impair...  2020.0  405046.0  \n",
       "  16  Total $000 Accumulated depreciation and impair...  2020.0     884.0  \n",
       "  17  Total $000 Accumulated depreciation and impair...  2020.0   25567.0  \n",
       "  18  Total $000 Accumulated depreciation and impair...  2020.0   -1336.0  \n",
       "  19  Total $000 Accumulated depreciation and impair...  2020.0  430161.0  ,\n",
       "  'notes_horizontal_table_df':                                             line_item      2020\n",
       "  0   Freehold land and buildings  Accumulated depre...   90235.0\n",
       "  1   Freehold land and buildings  Accumulated depre...      57.0\n",
       "  2   Freehold land and buildings  Accumulated depre...     351.0\n",
       "  3   Freehold land and buildings  Accumulated depre...    -154.0\n",
       "  4   Freehold land and buildings  Accumulated depre...   90489.0\n",
       "  5   Plant and equipment  Accumulated depreciation ...  312388.0\n",
       "  6   Plant and equipment  Accumulated depreciation ...     827.0\n",
       "  7   Plant and equipment  Accumulated depreciation ...    4618.0\n",
       "  8   Plant and equipment  Accumulated depreciation ...   -1182.0\n",
       "  9   Plant and equipment  Accumulated depreciation ...  316651.0\n",
       "  10  Asset Retirement Obligation**  Accumulated dep...    1628.0\n",
       "  11  Asset Retirement Obligation**  Accumulated dep...   20598.0\n",
       "  12  Asset Retirement Obligation**  Accumulated dep...   22226.0},\n",
       " 'nca_net_ppe': {'main_page_row_indices': [11],\n",
       "  'main_page_year_total': [3731.0, 17531.0],\n",
       "  'main_page_year_list': ['2019', '2020'],\n",
       "  'main_page_raw_note': ['12'],\n",
       "  'main_page_particular_text_list': ['Property, plant and equipment'],\n",
       "  'main_page_value_list': [[3731.0], [17531.0]],\n",
       "  'main_page_cropped_df':                       Particulars Notes     2020    2019 statement_section  \\\n",
       "  11  Property, plant and equipment    12  17531.0  3731.0            assets   \n",
       "  \n",
       "     statement_sub_section  \n",
       "  11            noncurrent  ,\n",
       "  'notes_table_df':    raw_note_no note_no subnote_no  \\\n",
       "  0           12      12              \n",
       "  1           12      12              \n",
       "  2           12      12              \n",
       "  3           12      12              \n",
       "  4           12      12              \n",
       "  5           12      12              \n",
       "  6           12      12              \n",
       "  7           12      12              \n",
       "  8           12      12              \n",
       "  9           12      12              \n",
       "  10          12      12              \n",
       "  11          12      12              \n",
       "  12          12      12              \n",
       "  13          12      12              \n",
       "  14          12      12              \n",
       "  15          12      12              \n",
       "  16          12      12              \n",
       "  17          12      12              \n",
       "  18          12      12              \n",
       "  19          12      12              \n",
       "  20          12      12              \n",
       "  21          12      12              \n",
       "  22          12      12              \n",
       "  23          12      12              \n",
       "  24          12      12              \n",
       "  25          12      12              \n",
       "  26          12      12              \n",
       "  27          12      12              \n",
       "  28          12      12              \n",
       "  29          12      12              \n",
       "  30          12      12              \n",
       "  31          12      12              \n",
       "  32          12      12              \n",
       "  33          12      12              \n",
       "  34          12      12              \n",
       "  35          12      12              \n",
       "  36          12      12              \n",
       "  37          12      12              \n",
       "  38          12      12              \n",
       "  39          12      12              \n",
       "  40          12      12              \n",
       "  41          12      12              \n",
       "  42          12      12              \n",
       "  43          12      12              \n",
       "  44          12      12              \n",
       "  45          12      12              \n",
       "  46          12      12              \n",
       "  47          12      12              \n",
       "  48          12      12              \n",
       "  49          12      12              \n",
       "  50          12      12              \n",
       "  51          12      12              \n",
       "  52          12      12              \n",
       "  53          12      12              \n",
       "  54          12      12              \n",
       "  55          12      12              \n",
       "  56          12      12              \n",
       "  57          12      12              \n",
       "  58          12      12              \n",
       "  59          12      12              \n",
       "  \n",
       "                                              line_item    year     value  \n",
       "  0   Freehold land and buildings $000 Cost At 1 Jan...  2020.0   90430.0  \n",
       "  1     Freehold land and buildings $000 Cost Additions  2020.0     376.0  \n",
       "  2     Freehold land and buildings $000 Cost Disposals  2020.0    -149.0  \n",
       "  3      Freehold land and buildings $000 Cost Transfer  2020.0      74.0  \n",
       "  4   Freehold land and buildings $000 Cost At 31 De...  2020.0   90731.0  \n",
       "  5   Freehold land and buildings $000 Accumulated d...  2020.0   90235.0  \n",
       "  6   Freehold land and buildings $000 Accumulated d...  2020.0      57.0  \n",
       "  7   Freehold land and buildings $000 Accumulated d...  2020.0     351.0  \n",
       "  8   Freehold land and buildings $000 Accumulated d...  2020.0    -154.0  \n",
       "  9   Freehold land and buildings $000 Accumulated d...  2020.0   90489.0  \n",
       "  10  Freehold land and buildings $000 Net book valu...  2020.0     242.0  \n",
       "  11  Freehold land and buildings $000 Net book valu...  2019.0     195.0  \n",
       "  12    Plant and equipment $000 Cost At 1 January 2020  2020.0  314181.0  \n",
       "  13            Plant and equipment $000 Cost Additions  2020.0    5232.0  \n",
       "  14            Plant and equipment $000 Cost Disposals  2020.0   -1122.0  \n",
       "  15             Plant and equipment $000 Cost Transfer  2020.0     -74.0  \n",
       "  16  Plant and equipment $000 Cost At 31 December 2020  2020.0  318217.0  \n",
       "  17  Plant and equipment $000 Accumulated depreciat...  2020.0  312388.0  \n",
       "  18  Plant and equipment $000 Accumulated depreciat...  2020.0     827.0  \n",
       "  19  Plant and equipment $000 Accumulated depreciat...  2020.0    4618.0  \n",
       "  20  Plant and equipment $000 Accumulated depreciat...  2020.0   -1182.0  \n",
       "  21  Plant and equipment $000 Accumulated depreciat...  2020.0  316651.0  \n",
       "  22  Plant and equipment $000 Net book value At 31 ...  2020.0    1566.0  \n",
       "  23  Plant and equipment $000 Net book value At 31 ...  2019.0    1793.0  \n",
       "  24  Asset Retirement Obligation** $000 Cost At 1 J...  2020.0    1628.0  \n",
       "  25  Asset Retirement Obligation** $000 Cost Additions  2020.0   34643.0  \n",
       "  26  Asset Retirement Obligation** $000 Cost Disposals  2020.0       0.0  \n",
       "  27   Asset Retirement Obligation** $000 Cost Transfer  2020.0       0.0  \n",
       "  28  Asset Retirement Obligation** $000 Cost At 31 ...  2020.0   36271.0  \n",
       "  29  Asset Retirement Obligation** $000 Accumulated...  2020.0    1628.0  \n",
       "  30  Asset Retirement Obligation** $000 Accumulated...  2020.0       0.0  \n",
       "  31  Asset Retirement Obligation** $000 Accumulated...  2020.0   20598.0  \n",
       "  32  Asset Retirement Obligation** $000 Accumulated...  2020.0       0.0  \n",
       "  33  Asset Retirement Obligation** $000 Accumulated...  2020.0   22226.0  \n",
       "  34  Asset Retirement Obligation** $000 Net book va...  2020.0   14045.0  \n",
       "  35  Asset Retirement Obligation** $000 Net book va...  2019.0    1743.0  \n",
       "  36  Construction inj progress $000 Cost At 1 Janua...  2020.0    2538.0  \n",
       "  37      Construction inj progress $000 Cost Additions  2020.0       0.0  \n",
       "  38      Construction inj progress $000 Cost Disposals  2020.0     -65.0  \n",
       "  39       Construction inj progress $000 Cost Transfer  2020.0       0.0  \n",
       "  40  Construction inj progress $000 Cost At 31 Dece...  2020.0    2473.0  \n",
       "  41  Construction inj progress $000 Accumulated dep...  2020.0     795.0  \n",
       "  42  Construction inj progress $000 Accumulated dep...  2020.0       0.0  \n",
       "  43  Construction inj progress $000 Accumulated dep...  2020.0       0.0  \n",
       "  44  Construction inj progress $000 Accumulated dep...  2020.0       0.0  \n",
       "  45  Construction inj progress $000 Accumulated dep...  2020.0     795.0  \n",
       "  46  Construction inj progress $000 Net book value ...  2020.0    1678.0  \n",
       "  47  Construction inj progress $000 Net book value ...  2019.0       0.0  \n",
       "  48                  Total $000 Cost At 1 January 2020  2020.0  408777.0  \n",
       "  49                          Total $000 Cost Additions  2020.0   40251.0  \n",
       "  50                          Total $000 Cost Disposals  2020.0   -1336.0  \n",
       "  51                           Total $000 Cost Transfer  2020.0       0.0  \n",
       "  52                Total $000 Cost At 31 December 2020  2020.0  447692.0  \n",
       "  53  Total $000 Accumulated depreciation and impair...  2020.0  405046.0  \n",
       "  54  Total $000 Accumulated depreciation and impair...  2020.0     884.0  \n",
       "  55  Total $000 Accumulated depreciation and impair...  2020.0   25567.0  \n",
       "  56  Total $000 Accumulated depreciation and impair...  2020.0   -1336.0  \n",
       "  57  Total $000 Accumulated depreciation and impair...  2020.0  430161.0  \n",
       "  58      Total $000 Net book value At 31 December 2020  2020.0   17531.0  \n",
       "  59      Total $000 Net book value At 31 December 2019  2019.0    3731.0  ,\n",
       "  'notes_horizontal_table_df':                                             line_item    2019      2020\n",
       "  0   Freehold land and buildings  Cost At 1 January...     0.0   90430.0\n",
       "  1         Freehold land and buildings  Cost Additions     0.0     376.0\n",
       "  2         Freehold land and buildings  Cost Disposals     0.0    -149.0\n",
       "  3          Freehold land and buildings  Cost Transfer     0.0      74.0\n",
       "  4   Freehold land and buildings  Cost At 31 Decemb...     0.0   90731.0\n",
       "  5   Freehold land and buildings  Accumulated depre...     0.0   90235.0\n",
       "  6   Freehold land and buildings  Accumulated depre...     0.0      57.0\n",
       "  7   Freehold land and buildings  Accumulated depre...     0.0     351.0\n",
       "  8   Freehold land and buildings  Accumulated depre...     0.0    -154.0\n",
       "  9   Freehold land and buildings  Accumulated depre...     0.0   90489.0\n",
       "  10  Freehold land and buildings  Net book value At...     0.0     242.0\n",
       "  11  Freehold land and buildings  Net book value At...   195.0       0.0\n",
       "  12        Plant and equipment  Cost At 1 January 2020     0.0  314181.0\n",
       "  13                Plant and equipment  Cost Additions     0.0    5232.0\n",
       "  14                Plant and equipment  Cost Disposals     0.0   -1122.0\n",
       "  15                 Plant and equipment  Cost Transfer     0.0     -74.0\n",
       "  16      Plant and equipment  Cost At 31 December 2020     0.0  318217.0\n",
       "  17  Plant and equipment  Accumulated depreciation ...     0.0  312388.0\n",
       "  18  Plant and equipment  Accumulated depreciation ...     0.0     827.0\n",
       "  19  Plant and equipment  Accumulated depreciation ...     0.0    4618.0\n",
       "  20  Plant and equipment  Accumulated depreciation ...     0.0   -1182.0\n",
       "  21  Plant and equipment  Accumulated depreciation ...     0.0  316651.0\n",
       "  22  Plant and equipment  Net book value At 31 Dece...     0.0    1566.0\n",
       "  23  Plant and equipment  Net book value At 31 Dece...  1793.0       0.0\n",
       "  24  Asset Retirement Obligation**  Cost At 1 Janua...     0.0    1628.0\n",
       "  25      Asset Retirement Obligation**  Cost Additions     0.0   34643.0\n",
       "  26  Asset Retirement Obligation**  Cost At 31 Dece...     0.0   36271.0\n",
       "  27  Asset Retirement Obligation**  Accumulated dep...     0.0    1628.0\n",
       "  28  Asset Retirement Obligation**  Accumulated dep...     0.0   20598.0\n",
       "  29  Asset Retirement Obligation**  Accumulated dep...     0.0   22226.0\n",
       "  30  Asset Retirement Obligation**  Net book value ...     0.0   14045.0\n",
       "  31  Asset Retirement Obligation**  Net book value ...  1743.0       0.0\n",
       "  32  Construction inj progress  Cost At 1 January 2020     0.0    2538.0\n",
       "  33          Construction inj progress  Cost Disposals     0.0     -65.0\n",
       "  34  Construction inj progress  Cost At 31 December...     0.0    2473.0\n",
       "  35  Construction inj progress  Accumulated depreci...     0.0     795.0\n",
       "  36  Construction inj progress  Accumulated depreci...     0.0     795.0\n",
       "  37  Construction inj progress  Net book value At 3...     0.0    1678.0},\n",
       " 'nca_other_tangible_assets': {'main_page_row_indices': [12],\n",
       "  'main_page_year_total': [1476.0, 1007.0],\n",
       "  'main_page_year_list': ['2019', '2020'],\n",
       "  'main_page_raw_note': [],\n",
       "  'main_page_particular_text_list': ['Right-of-use assets'],\n",
       "  'main_page_value_list': [[1476.0], [1007.0]],\n",
       "  'main_page_cropped_df':             Particulars Notes    2020    2019 statement_section  \\\n",
       "  12  Right-of-use assets    13  1007.0  1476.0            assets   \n",
       "  \n",
       "     statement_sub_section  \n",
       "  12            noncurrent  ,\n",
       "  'notes_table_df': Empty DataFrame\n",
       "  Columns: [raw_note_no, note_no, subnote_no, line_item, year, value]\n",
       "  Index: [],\n",
       "  'notes_horizontal_table_df': Empty DataFrame\n",
       "  Columns: []\n",
       "  Index: []},\n",
       " 'nca_tangible_assets': {'main_page_row_indices': [],\n",
       "  'main_page_year_total': [0, 0],\n",
       "  'main_page_year_list': ['2019', '2020'],\n",
       "  'main_page_raw_note': [],\n",
       "  'main_page_particular_text_list': [],\n",
       "  'main_page_value_list': [[], []],\n",
       "  'main_page_cropped_df': Empty DataFrame\n",
       "  Columns: [Particulars, Notes, 2020, 2019, statement_section, statement_sub_section]\n",
       "  Index: [],\n",
       "  'notes_table_df': Empty DataFrame\n",
       "  Columns: [raw_note_no, note_no, subnote_no, line_item, year, value]\n",
       "  Index: [],\n",
       "  'notes_horizontal_table_df': Empty DataFrame\n",
       "  Columns: []\n",
       "  Index: []},\n",
       " 'nca_goodwill': {'main_page_row_indices': [],\n",
       "  'main_page_year_total': [0, 0],\n",
       "  'main_page_year_list': ['2019', '2020'],\n",
       "  'main_page_raw_note': [],\n",
       "  'main_page_particular_text_list': [],\n",
       "  'main_page_value_list': [[], []],\n",
       "  'main_page_cropped_df': Empty DataFrame\n",
       "  Columns: [Particulars, Notes, 2020, 2019, statement_section, statement_sub_section]\n",
       "  Index: [],\n",
       "  'notes_table_df': Empty DataFrame\n",
       "  Columns: [raw_note_no, note_no, subnote_no, line_item, year, value]\n",
       "  Index: [],\n",
       "  'notes_horizontal_table_df': Empty DataFrame\n",
       "  Columns: []\n",
       "  Index: []},\n",
       " 'nca_other_intangible_assets': {'main_page_row_indices': [],\n",
       "  'main_page_year_total': [0, 0],\n",
       "  'main_page_year_list': ['2019', '2020'],\n",
       "  'main_page_raw_note': [],\n",
       "  'main_page_particular_text_list': [],\n",
       "  'main_page_value_list': [[], []],\n",
       "  'main_page_cropped_df': Empty DataFrame\n",
       "  Columns: [Particulars, Notes, 2020, 2019, statement_section, statement_sub_section]\n",
       "  Index: [],\n",
       "  'notes_table_df': Empty DataFrame\n",
       "  Columns: [raw_note_no, note_no, subnote_no, line_item, year, value]\n",
       "  Index: [],\n",
       "  'notes_horizontal_table_df': Empty DataFrame\n",
       "  Columns: []\n",
       "  Index: []},\n",
       " 'nca_intangible_assets': {'main_page_row_indices': [],\n",
       "  'main_page_year_total': [0, 0],\n",
       "  'main_page_year_list': ['2019', '2020'],\n",
       "  'main_page_raw_note': [],\n",
       "  'main_page_particular_text_list': [],\n",
       "  'main_page_value_list': [[], []],\n",
       "  'main_page_cropped_df': Empty DataFrame\n",
       "  Columns: [Particulars, Notes, 2020, 2019, statement_section, statement_sub_section]\n",
       "  Index: [],\n",
       "  'notes_table_df': Empty DataFrame\n",
       "  Columns: [raw_note_no, note_no, subnote_no, line_item, year, value]\n",
       "  Index: [],\n",
       "  'notes_horizontal_table_df': Empty DataFrame\n",
       "  Columns: []\n",
       "  Index: []},\n",
       " 'nca_investments': {'main_page_row_indices': [10],\n",
       "  'main_page_year_total': [54535.0, 47672.0],\n",
       "  'main_page_year_list': ['2019', '2020'],\n",
       "  'main_page_raw_note': ['11', '11', '11'],\n",
       "  'main_page_particular_text_list': ['Investment in joint ventures'],\n",
       "  'main_page_value_list': [[54535.0], [47672.0]],\n",
       "  'main_page_cropped_df':                      Particulars Notes     2020     2019 statement_section  \\\n",
       "  10  Investment in joint ventures    11  47672.0  54535.0            assets   \n",
       "  \n",
       "     statement_sub_section  \n",
       "  10            noncurrent  ,\n",
       "  'notes_table_df':    raw_note_no note_no subnote_no  \\\n",
       "  0           11      11              \n",
       "  1           11      11              \n",
       "  2           11      11              \n",
       "  3           11      11              \n",
       "  4           11      11              \n",
       "  5           11      11              \n",
       "  6           11      11              \n",
       "  7           11      11              \n",
       "  8           11      11              \n",
       "  9           11      11              \n",
       "  10          11      11              \n",
       "  11          11      11              \n",
       "  12          11      11              \n",
       "  13          11      11              \n",
       "  \n",
       "                                              line_item  year    value  \n",
       "  0                                  $000  At 1 January  2020    54535  \n",
       "  1   $000  Share of gain/(loss) of joint venture, n...  2020     1586  \n",
       "  2   $000  Share of other comprehensive income, net...  2020    -8448  \n",
       "  3   $000  Carrying value of investment at end of year  2020    47672  \n",
       "  4                                  $000  At 1 January  2019    59249  \n",
       "  5   $000  Share of gain/(loss) of joint venture, n...  2019    -7587  \n",
       "  6   $000  Share of other comprehensive income, net...  2019     2873  \n",
       "  7   $000  Carrying value of investment at end of year  2019    54535  \n",
       "  8   $000  Investment in joint venture (Southern Cr...  2020    47672  \n",
       "  9   $000  Investment in joint venture (Southern Cr...  2019    54535  \n",
       "  10  Ownership interest % Southern Cross Aluminium ...  2020      0.0  \n",
       "  11  Ownership interest % Southern Cross Aluminium ...  2019      0.0  \n",
       "  12  Ownership interest $000 Southern Cross Alumini...  2020  47672.0  \n",
       "  13  Ownership interest $000 Southern Cross Alumini...  2019  54535.0  ,\n",
       "  'notes_horizontal_table_df':                                            line_item     2019     2020\n",
       "  0    Share of gain/(loss) of joint venture, net o...  -7587.0   1586.0\n",
       "  1    Share of other comprehensive income, net of tax   2873.0  -8448.0\n",
       "  2        Carrying value of investment at end of year  54535.0  47672.0\n",
       "  3  Ownership interest  Southern Cross Aluminium P...  54535.0  47672.0},\n",
       " 'nca_deffered_charges': {'main_page_row_indices': [14],\n",
       "  'main_page_year_total': [12309.0, 24223.0],\n",
       "  'main_page_year_list': ['2019', '2020'],\n",
       "  'main_page_raw_note': ['5', '5', '5'],\n",
       "  'main_page_particular_text_list': ['Deferred tax assets'],\n",
       "  'main_page_value_list': [[12309.0], [24223.0]],\n",
       "  'main_page_cropped_df':             Particulars Notes     2020     2019 statement_section  \\\n",
       "  14  Deferred tax assets     5  24223.0  12309.0            assets   \n",
       "  \n",
       "     statement_sub_section  \n",
       "  14            noncurrent  ,\n",
       "  'notes_table_df':    raw_note_no note_no subnote_no  \\\n",
       "  0            5       5              \n",
       "  1            5       5              \n",
       "  2            5       5              \n",
       "  3            5       5              \n",
       "  4            5       5              \n",
       "  ..         ...     ...        ...   \n",
       "  75           5       5              \n",
       "  76           5       5              \n",
       "  77           5       5              \n",
       "  78           5       5              \n",
       "  79           5       5              \n",
       "  \n",
       "                                              line_item  year   value  \n",
       "  0   $000 Current income tax: Current income tax be...  2020  5119.0  \n",
       "  1   $000 Current income tax: Adjustments in respec...  2020    71.0  \n",
       "  2   $000 Deferred income tax: Origination and reve...  2020  3027.0  \n",
       "  3   $000 Income tax benefit reported in the statem...  2020  8217.0  \n",
       "  4   $000 Current income tax: Current income tax be...  2019  5473.0  \n",
       "  ..                                                ...   ...     ...  \n",
       "  75  Statement of profit or loss Statement of finan...  2019     0.0  \n",
       "  76  Statement of profit or loss Statement of finan...  2019  3517.0  \n",
       "  77  Statement of profit or loss Statement of finan...  2019     0.0  \n",
       "  78  Statement of profit or loss Statement of finan...  2019     0.0  \n",
       "  79  Statement of profit or loss Statement of finan...  2019     0.0  \n",
       "  \n",
       "  [80 rows x 6 columns],\n",
       "  'notes_horizontal_table_df':                                             line_item     2019     2020\n",
       "  0      Current income tax: Current income tax benefit   5473.0   5119.0\n",
       "  1    Current income tax: Adjustments in respect of...      0.0     71.0\n",
       "  2    Deferred income tax: Origination and reversal...  -1529.0   3027.0\n",
       "  3    Income tax benefit reported in the statement ...   3944.0   8217.0\n",
       "  4                   Accounting loss before income tax -20678.0 -28082.0\n",
       "  5     At Australia's statutory income tax rate of ...   6203.0   8425.0\n",
       "  6             Amounts not deductible for tax purposes  -2276.0   -192.0\n",
       "  7     Adjustments in respect of current income tax...      0.0     71.0\n",
       "  8                                              Others     17.0    -87.0\n",
       "  9       Income tax benefit reported in profit or loss  -3944.0  -8217.0\n",
       "  10  Statement of profit or loss Statement of finan...     51.0     28.0\n",
       "  11  Statement of profit or loss Statement of finan...   5181.0 -12662.0\n",
       "  12  Statement of profit or loss Statement of finan...  -1034.0    496.0\n",
       "  13  Statement of profit or loss Statement of finan...   -443.0   -141.0\n",
       "  14  Statement of profit or loss Statement of finan...    -12.0   3730.0\n",
       "  15  Statement of profit or loss Statement of finan...   -643.0     33.0\n",
       "  16  Statement of profit or loss Statement of finan...     42.0 -11567.0\n",
       "  17  Statement of profit or loss Statement of finan...    454.0    138.0\n",
       "  18  Statement of profit or loss Statement of finan...    -79.0   -881.0\n",
       "  19  Statement of profit or loss Statement of finan...      0.0   4213.0\n",
       "  20  Statement of profit or loss Statement of finan...      0.0   -162.0\n",
       "  21  Statement of profit or loss Statement of finan...   3517.0 -16775.0},\n",
       " 'nca_other_assets': {'main_page_row_indices': [],\n",
       "  'main_page_year_total': [0, 0],\n",
       "  'main_page_year_list': ['2019', '2020'],\n",
       "  'main_page_raw_note': [],\n",
       "  'main_page_particular_text_list': [],\n",
       "  'main_page_value_list': [[], []],\n",
       "  'main_page_cropped_df': Empty DataFrame\n",
       "  Columns: [Particulars, Notes, 2020, 2019, statement_section, statement_sub_section]\n",
       "  Index: [],\n",
       "  'notes_table_df': Empty DataFrame\n",
       "  Columns: [raw_note_no, note_no, subnote_no, line_item, year, value]\n",
       "  Index: [],\n",
       "  'notes_horizontal_table_df': Empty DataFrame\n",
       "  Columns: []\n",
       "  Index: []},\n",
       " 'nca_total_non_current_assets': {'main_page_row_indices': [9, 15],\n",
       "  'main_page_year_total': [678.0, 0.0],\n",
       "  'main_page_year_list': ['2019', '2020'],\n",
       "  'main_page_raw_note': [],\n",
       "  'main_page_particular_text_list': ['Non-current assets',\n",
       "   'Other non-current assets'],\n",
       "  'main_page_value_list': [[0.0, 678.0], [0.0, 0.0]],\n",
       "  'main_page_cropped_df':                  Particulars Notes 2020   2019 statement_section  \\\n",
       "  9         Non-current assets   NaN  0.0    0.0            assets   \n",
       "  15  Other non-current assets    10  0.0  678.0            assets   \n",
       "  \n",
       "     statement_sub_section  \n",
       "  9             noncurrent  \n",
       "  15            noncurrent  ,\n",
       "  'notes_table_df': Empty DataFrame\n",
       "  Columns: [raw_note_no, note_no, subnote_no, line_item, year, value]\n",
       "  Index: [],\n",
       "  'notes_horizontal_table_df': Empty DataFrame\n",
       "  Columns: []\n",
       "  Index: []},\n",
       " 'cl_short_term_debt': {'main_page_row_indices': [21, 24],\n",
       "  'main_page_year_total': [4471.0, 412.0],\n",
       "  'main_page_year_list': ['2019', '2020'],\n",
       "  'main_page_raw_note': ['16', '16'],\n",
       "  'main_page_particular_text_list': ['Borrowings', 'Lease liabilities'],\n",
       "  'main_page_value_list': [[4000.0, 471.0], [0.0, 412.0]],\n",
       "  'main_page_cropped_df':           Particulars Notes   2020    2019   statement_section  \\\n",
       "  21         Borrowings    16    0.0  4000.0  equity_liabilities   \n",
       "  24  Lease liabilities    13  412.0   471.0  equity_liabilities   \n",
       "  \n",
       "     statement_sub_section  \n",
       "  21               current  \n",
       "  24               current  ,\n",
       "  'notes_table_df':    raw_note_no note_no subnote_no  \\\n",
       "  0           16      16              \n",
       "  1           16      16              \n",
       "  2           16      16              \n",
       "  3           16      16              \n",
       "  4           16      16              \n",
       "  5           16      16              \n",
       "  6           16      16              \n",
       "  7           16      16              \n",
       "  8           16      16              \n",
       "  9           16      16              \n",
       "  10          16      16              \n",
       "  11          16      16              \n",
       "  12          16      16              \n",
       "  13          16      16              \n",
       "  14          16      16              \n",
       "  15          16      16              \n",
       "  16          16      16              \n",
       "  17          16      16              \n",
       "  \n",
       "                                              line_item  year    value  \n",
       "  0                               $000  Bank borrowings  2020      0.0  \n",
       "  1                               $000  Bank borrowings  2019   4000.0  \n",
       "  2   Multi-option facilities $000  facilities facil...  2020  52100.0  \n",
       "  3             Multi-option facilities $000  Utilised   2020      0.0  \n",
       "  4   Multi-option facilities $000  Utilised bank gu...  2020   3273.0  \n",
       "  5   Multi-option facilities $000  Balance at 31 De...  2020  48827.0  \n",
       "  6   Bank guarantee facilities $000  facilities fac...  2020  13500.0  \n",
       "  7           Bank guarantee facilities $000  Utilised   2020      0.0  \n",
       "  8   Bank guarantee facilities $000  Utilised bank ...  2020  13500.0  \n",
       "  9   Bank guarantee facilities $000  Balance at 31 ...  2020      0.0  \n",
       "  10  Multi-option facilities $000  facilities facil...  2019  52100.0  \n",
       "  11            Multi-option facilities $000  Utilised   2019   4000.0  \n",
       "  12  Multi-option facilities $000  Utilised bank gu...  2019   1023.0  \n",
       "  13  Multi-option facilities $000  Balance at 31 De...  2019  47077.0  \n",
       "  14  Bank guarantee facilities $000  facilities fac...  2019  13500.0  \n",
       "  15          Bank guarantee facilities $000  Utilised   2019      0.0  \n",
       "  16  Bank guarantee facilities $000  Utilised bank ...  2019  13500.0  \n",
       "  17  Bank guarantee facilities $000  Balance at 31 ...  2019      0.0  ,\n",
       "  'notes_horizontal_table_df':                                            line_item     2019     2020\n",
       "  0                                    Bank borrowings   4000.0      0.0\n",
       "  1    Multi-option facilities   facilities facilities  52100.0  52100.0\n",
       "  2                Multi-option facilities   Utilised    4000.0      0.0\n",
       "  3  Multi-option facilities   Utilised bank guaran...   1023.0   3273.0\n",
       "  4  Multi-option facilities   Balance at 31 Decemb...  47077.0  48827.0\n",
       "  5  Bank guarantee facilities   facilities facilities  13500.0  13500.0\n",
       "  6  Bank guarantee facilities   Utilised bank guar...  13500.0  13500.0},\n",
       " 'cl_long_term_debt_due_in_year': {'main_page_row_indices': [19, 23],\n",
       "  'main_page_year_total': [0.0, 2935.0],\n",
       "  'main_page_year_list': ['2019', '2020'],\n",
       "  'main_page_raw_note': ['15'],\n",
       "  'main_page_particular_text_list': ['Current liabilities',\n",
       "   'Financial liabilities'],\n",
       "  'main_page_value_list': [[0.0, 0.0], [0.0, 2935.0]],\n",
       "  'main_page_cropped_df':               Particulars Notes    2020 2019   statement_section  \\\n",
       "  19    Current liabilities   NaN     0.0  0.0  equity_liabilities   \n",
       "  23  Financial liabilities    15  2935.0  0.0  equity_liabilities   \n",
       "  \n",
       "     statement_sub_section  \n",
       "  19               current  \n",
       "  23               current  ,\n",
       "  'notes_table_df':   raw_note_no note_no subnote_no  \\\n",
       "  0          15      15              \n",
       "  1          15      15              \n",
       "  2          15      15              \n",
       "  3          15      15              \n",
       "  4          15      15              \n",
       "  5          15      15              \n",
       "  \n",
       "                                             line_item  year  value  \n",
       "  0                     $000  Trade and other payables  2020  25569  \n",
       "  1  $000  Electricity derivatives at fair value th...  2020   2935  \n",
       "  2                            $000  Lease liabilities  2020   1053  \n",
       "  3                                        $000  Total  2020  29557  \n",
       "  4                                      $000  Current  2020  25662  \n",
       "  5                                  $000  Non-current  2020   3895  ,\n",
       "  'notes_horizontal_table_df':                                            line_item   2020\n",
       "  0                           Trade and other payables  25569\n",
       "  1    Electricity derivatives at fair value throug...   2935\n",
       "  2                                  Lease liabilities   1053\n",
       "  3                                            Current  25662\n",
       "  4                                        Non-current   3895},\n",
       " 'cl_note_payable_debt': {'main_page_row_indices': [],\n",
       "  'main_page_year_total': [0, 0],\n",
       "  'main_page_year_list': ['2019', '2020'],\n",
       "  'main_page_raw_note': [],\n",
       "  'main_page_particular_text_list': [],\n",
       "  'main_page_value_list': [[], []],\n",
       "  'main_page_cropped_df': Empty DataFrame\n",
       "  Columns: [Particulars, Notes, 2020, 2019, statement_section, statement_sub_section]\n",
       "  Index: [],\n",
       "  'notes_table_df': Empty DataFrame\n",
       "  Columns: [raw_note_no, note_no, subnote_no, line_item, year, value]\n",
       "  Index: [],\n",
       "  'notes_horizontal_table_df': Empty DataFrame\n",
       "  Columns: []\n",
       "  Index: []},\n",
       " 'cl_accounts_payable': {'main_page_row_indices': [20],\n",
       "  'main_page_year_total': [26101.0, 22315.0],\n",
       "  'main_page_year_list': ['2019', '2020'],\n",
       "  'main_page_raw_note': [],\n",
       "  'main_page_particular_text_list': ['Trade and other payables'],\n",
       "  'main_page_value_list': [[26101.0], [22315.0]],\n",
       "  'main_page_cropped_df':                  Particulars Notes     2020     2019   statement_section  \\\n",
       "  20  Trade and other payables   NaN  22315.0  26101.0  equity_liabilities   \n",
       "  \n",
       "     statement_sub_section  \n",
       "  20               current  ,\n",
       "  'notes_table_df': Empty DataFrame\n",
       "  Columns: [raw_note_no, note_no, subnote_no, line_item, year, value]\n",
       "  Index: [],\n",
       "  'notes_horizontal_table_df': Empty DataFrame\n",
       "  Columns: []\n",
       "  Index: []},\n",
       " 'cl_accrued_expenses': {'main_page_row_indices': [19, 23],\n",
       "  'main_page_year_total': [0.0, 2935.0],\n",
       "  'main_page_year_list': ['2019', '2020'],\n",
       "  'main_page_raw_note': ['15'],\n",
       "  'main_page_particular_text_list': ['Current liabilities',\n",
       "   'Financial liabilities'],\n",
       "  'main_page_value_list': [[0.0, 0.0], [0.0, 2935.0]],\n",
       "  'main_page_cropped_df':               Particulars Notes    2020 2019   statement_section  \\\n",
       "  19    Current liabilities   NaN     0.0  0.0  equity_liabilities   \n",
       "  23  Financial liabilities    15  2935.0  0.0  equity_liabilities   \n",
       "  \n",
       "     statement_sub_section  \n",
       "  19               current  \n",
       "  23               current  ,\n",
       "  'notes_table_df':   raw_note_no note_no subnote_no  \\\n",
       "  0          15      15              \n",
       "  1          15      15              \n",
       "  2          15      15              \n",
       "  3          15      15              \n",
       "  4          15      15              \n",
       "  5          15      15              \n",
       "  \n",
       "                                             line_item  year  value  \n",
       "  0                     $000  Trade and other payables  2020  25569  \n",
       "  1  $000  Electricity derivatives at fair value th...  2020   2935  \n",
       "  2                            $000  Lease liabilities  2020   1053  \n",
       "  3                                        $000  Total  2020  29557  \n",
       "  4                                      $000  Current  2020  25662  \n",
       "  5                                  $000  Non-current  2020   3895  ,\n",
       "  'notes_horizontal_table_df':                                            line_item   2020\n",
       "  0                           Trade and other payables  25569\n",
       "  1    Electricity derivatives at fair value throug...   2935\n",
       "  2                                  Lease liabilities   1053\n",
       "  3                                            Current  25662\n",
       "  4                                        Non-current   3895},\n",
       " 'cl_tax_payable': {'main_page_row_indices': [],\n",
       "  'main_page_year_total': [0, 0],\n",
       "  'main_page_year_list': ['2019', '2020'],\n",
       "  'main_page_raw_note': [],\n",
       "  'main_page_particular_text_list': [],\n",
       "  'main_page_value_list': [[], []],\n",
       "  'main_page_cropped_df': Empty DataFrame\n",
       "  Columns: [Particulars, Notes, 2020, 2019, statement_section, statement_sub_section]\n",
       "  Index: [],\n",
       "  'notes_table_df': Empty DataFrame\n",
       "  Columns: [raw_note_no, note_no, subnote_no, line_item, year, value]\n",
       "  Index: [],\n",
       "  'notes_horizontal_table_df': Empty DataFrame\n",
       "  Columns: []\n",
       "  Index: []},\n",
       " 'cl_other_current_liabilities': {'main_page_row_indices': [19],\n",
       "  'main_page_year_total': [0.0, 0.0],\n",
       "  'main_page_year_list': ['2019', '2020'],\n",
       "  'main_page_raw_note': [],\n",
       "  'main_page_particular_text_list': ['Current liabilities'],\n",
       "  'main_page_value_list': [[0.0], [0.0]],\n",
       "  'main_page_cropped_df':             Particulars Notes 2020 2019   statement_section  \\\n",
       "  19  Current liabilities   NaN  0.0  0.0  equity_liabilities   \n",
       "  \n",
       "     statement_sub_section  \n",
       "  19               current  ,\n",
       "  'notes_table_df': Empty DataFrame\n",
       "  Columns: [raw_note_no, note_no, subnote_no, line_item, year, value]\n",
       "  Index: [],\n",
       "  'notes_horizontal_table_df': Empty DataFrame\n",
       "  Columns: []\n",
       "  Index: []},\n",
       " 'cl_total_current_liabilities': {'main_page_row_indices': [19],\n",
       "  'main_page_year_total': [0.0, 0.0],\n",
       "  'main_page_year_list': ['2019', '2020'],\n",
       "  'main_page_raw_note': [],\n",
       "  'main_page_particular_text_list': ['Current liabilities'],\n",
       "  'main_page_value_list': [[0.0], [0.0]],\n",
       "  'main_page_cropped_df':             Particulars Notes 2020 2019   statement_section  \\\n",
       "  19  Current liabilities   NaN  0.0  0.0  equity_liabilities   \n",
       "  \n",
       "     statement_sub_section  \n",
       "  19               current  ,\n",
       "  'notes_table_df': Empty DataFrame\n",
       "  Columns: [raw_note_no, note_no, subnote_no, line_item, year, value]\n",
       "  Index: [],\n",
       "  'notes_horizontal_table_df': Empty DataFrame\n",
       "  Columns: []\n",
       "  Index: []},\n",
       " 'ncl_long_term_debt': {'main_page_row_indices': [],\n",
       "  'main_page_year_total': [0, 0],\n",
       "  'main_page_year_list': ['2019', '2020'],\n",
       "  'main_page_raw_note': [],\n",
       "  'main_page_particular_text_list': [],\n",
       "  'main_page_value_list': [[], []],\n",
       "  'main_page_cropped_df': Empty DataFrame\n",
       "  Columns: [Particulars, Notes, 2020, 2019, statement_section, statement_sub_section]\n",
       "  Index: [],\n",
       "  'notes_table_df': Empty DataFrame\n",
       "  Columns: [raw_note_no, note_no, subnote_no, line_item, year, value]\n",
       "  Index: [],\n",
       "  'notes_horizontal_table_df': Empty DataFrame\n",
       "  Columns: []\n",
       "  Index: []},\n",
       " 'ncl_long_term_borrowing': {'main_page_row_indices': [],\n",
       "  'main_page_year_total': [0, 0],\n",
       "  'main_page_year_list': ['2019', '2020'],\n",
       "  'main_page_raw_note': [],\n",
       "  'main_page_particular_text_list': [],\n",
       "  'main_page_value_list': [[], []],\n",
       "  'main_page_cropped_df': Empty DataFrame\n",
       "  Columns: [Particulars, Notes, 2020, 2019, statement_section, statement_sub_section]\n",
       "  Index: [],\n",
       "  'notes_table_df': Empty DataFrame\n",
       "  Columns: [raw_note_no, note_no, subnote_no, line_item, year, value]\n",
       "  Index: [],\n",
       "  'notes_horizontal_table_df': Empty DataFrame\n",
       "  Columns: []\n",
       "  Index: []},\n",
       " 'ncl_bond': {'main_page_row_indices': [],\n",
       "  'main_page_year_total': [0, 0],\n",
       "  'main_page_year_list': ['2019', '2020'],\n",
       "  'main_page_raw_note': [],\n",
       "  'main_page_particular_text_list': [],\n",
       "  'main_page_value_list': [[], []],\n",
       "  'main_page_cropped_df': Empty DataFrame\n",
       "  Columns: [Particulars, Notes, 2020, 2019, statement_section, statement_sub_section]\n",
       "  Index: [],\n",
       "  'notes_table_df': Empty DataFrame\n",
       "  Columns: [raw_note_no, note_no, subnote_no, line_item, year, value]\n",
       "  Index: [],\n",
       "  'notes_horizontal_table_df': Empty DataFrame\n",
       "  Columns: []\n",
       "  Index: []},\n",
       " 'ncl_suboardinate_debt': {'main_page_row_indices': [29],\n",
       "  'main_page_year_total': [1042.0, 641.0],\n",
       "  'main_page_year_list': ['2019', '2020'],\n",
       "  'main_page_raw_note': [],\n",
       "  'main_page_particular_text_list': ['Lease liabilities'],\n",
       "  'main_page_value_list': [[1042.0], [641.0]],\n",
       "  'main_page_cropped_df':           Particulars Notes   2020    2019   statement_section  \\\n",
       "  29  Lease liabilities    13  641.0  1042.0  equity_liabilities   \n",
       "  \n",
       "     statement_sub_section  \n",
       "  29            noncurrent  ,\n",
       "  'notes_table_df': Empty DataFrame\n",
       "  Columns: [raw_note_no, note_no, subnote_no, line_item, year, value]\n",
       "  Index: [],\n",
       "  'notes_horizontal_table_df': Empty DataFrame\n",
       "  Columns: []\n",
       "  Index: []},\n",
       " 'ncl_deferred_taxes': {'main_page_row_indices': [30],\n",
       "  'main_page_year_total': [23326.0, 18466.0],\n",
       "  'main_page_year_list': ['2019', '2020'],\n",
       "  'main_page_raw_note': ['5', '5', '5'],\n",
       "  'main_page_particular_text_list': ['Deferred tax liabilities'],\n",
       "  'main_page_value_list': [[23326.0], [18466.0]],\n",
       "  'main_page_cropped_df':                  Particulars Notes     2020     2019   statement_section  \\\n",
       "  30  Deferred tax liabilities     5  18466.0  23326.0  equity_liabilities   \n",
       "  \n",
       "     statement_sub_section  \n",
       "  30            noncurrent  ,\n",
       "  'notes_table_df':    raw_note_no note_no subnote_no  \\\n",
       "  0            5       5              \n",
       "  1            5       5              \n",
       "  2            5       5              \n",
       "  3            5       5              \n",
       "  4            5       5              \n",
       "  ..         ...     ...        ...   \n",
       "  75           5       5              \n",
       "  76           5       5              \n",
       "  77           5       5              \n",
       "  78           5       5              \n",
       "  79           5       5              \n",
       "  \n",
       "                                              line_item  year   value  \n",
       "  0   $000 Current income tax: Current income tax be...  2020  5119.0  \n",
       "  1   $000 Current income tax: Adjustments in respec...  2020    71.0  \n",
       "  2   $000 Deferred income tax: Origination and reve...  2020  3027.0  \n",
       "  3   $000 Income tax benefit reported in the statem...  2020  8217.0  \n",
       "  4   $000 Current income tax: Current income tax be...  2019  5473.0  \n",
       "  ..                                                ...   ...     ...  \n",
       "  75  Statement of profit or loss Statement of finan...  2019     0.0  \n",
       "  76  Statement of profit or loss Statement of finan...  2019  3517.0  \n",
       "  77  Statement of profit or loss Statement of finan...  2019     0.0  \n",
       "  78  Statement of profit or loss Statement of finan...  2019     0.0  \n",
       "  79  Statement of profit or loss Statement of finan...  2019     0.0  \n",
       "  \n",
       "  [80 rows x 6 columns],\n",
       "  'notes_horizontal_table_df':                                             line_item     2019     2020\n",
       "  0      Current income tax: Current income tax benefit   5473.0   5119.0\n",
       "  1    Current income tax: Adjustments in respect of...      0.0     71.0\n",
       "  2    Deferred income tax: Origination and reversal...  -1529.0   3027.0\n",
       "  3    Income tax benefit reported in the statement ...   3944.0   8217.0\n",
       "  4                   Accounting loss before income tax -20678.0 -28082.0\n",
       "  5     At Australia's statutory income tax rate of ...   6203.0   8425.0\n",
       "  6             Amounts not deductible for tax purposes  -2276.0   -192.0\n",
       "  7     Adjustments in respect of current income tax...      0.0     71.0\n",
       "  8                                              Others     17.0    -87.0\n",
       "  9       Income tax benefit reported in profit or loss  -3944.0  -8217.0\n",
       "  10  Statement of profit or loss Statement of finan...     51.0     28.0\n",
       "  11  Statement of profit or loss Statement of finan...   5181.0 -12662.0\n",
       "  12  Statement of profit or loss Statement of finan...  -1034.0    496.0\n",
       "  13  Statement of profit or loss Statement of finan...   -443.0   -141.0\n",
       "  14  Statement of profit or loss Statement of finan...    -12.0   3730.0\n",
       "  15  Statement of profit or loss Statement of finan...   -643.0     33.0\n",
       "  16  Statement of profit or loss Statement of finan...     42.0 -11567.0\n",
       "  17  Statement of profit or loss Statement of finan...    454.0    138.0\n",
       "  18  Statement of profit or loss Statement of finan...    -79.0   -881.0\n",
       "  19  Statement of profit or loss Statement of finan...      0.0   4213.0\n",
       "  20  Statement of profit or loss Statement of finan...      0.0   -162.0\n",
       "  21  Statement of profit or loss Statement of finan...   3517.0 -16775.0},\n",
       " 'ncl_other_long_term_liabilities': {'main_page_row_indices': [],\n",
       "  'main_page_year_total': [0, 0],\n",
       "  'main_page_year_list': ['2019', '2020'],\n",
       "  'main_page_raw_note': [],\n",
       "  'main_page_particular_text_list': [],\n",
       "  'main_page_value_list': [[], []],\n",
       "  'main_page_cropped_df': Empty DataFrame\n",
       "  Columns: [Particulars, Notes, 2020, 2019, statement_section, statement_sub_section]\n",
       "  Index: [],\n",
       "  'notes_table_df': Empty DataFrame\n",
       "  Columns: [raw_note_no, note_no, subnote_no, line_item, year, value]\n",
       "  Index: [],\n",
       "  'notes_horizontal_table_df': Empty DataFrame\n",
       "  Columns: []\n",
       "  Index: []},\n",
       " 'ncl_minority_interest': {'main_page_row_indices': [],\n",
       "  'main_page_year_total': [0, 0],\n",
       "  'main_page_year_list': ['2019', '2020'],\n",
       "  'main_page_raw_note': [],\n",
       "  'main_page_particular_text_list': [],\n",
       "  'main_page_value_list': [[], []],\n",
       "  'main_page_cropped_df': Empty DataFrame\n",
       "  Columns: [Particulars, Notes, 2020, 2019, statement_section, statement_sub_section]\n",
       "  Index: [],\n",
       "  'notes_table_df': Empty DataFrame\n",
       "  Columns: [raw_note_no, note_no, subnote_no, line_item, year, value]\n",
       "  Index: [],\n",
       "  'notes_horizontal_table_df': Empty DataFrame\n",
       "  Columns: []\n",
       "  Index: []},\n",
       " 'ncl_long_term_liabilities': {'main_page_row_indices': [],\n",
       "  'main_page_year_total': [0, 0],\n",
       "  'main_page_year_list': ['2019', '2020'],\n",
       "  'main_page_raw_note': [],\n",
       "  'main_page_particular_text_list': [],\n",
       "  'main_page_value_list': [[], []],\n",
       "  'main_page_cropped_df': Empty DataFrame\n",
       "  Columns: [Particulars, Notes, 2020, 2019, statement_section, statement_sub_section]\n",
       "  Index: [],\n",
       "  'notes_table_df': Empty DataFrame\n",
       "  Columns: [raw_note_no, note_no, subnote_no, line_item, year, value]\n",
       "  Index: [],\n",
       "  'notes_horizontal_table_df': Empty DataFrame\n",
       "  Columns: []\n",
       "  Index: []},\n",
       " 'eqt_common_stock': {'main_page_row_indices': [],\n",
       "  'main_page_year_total': [0, 0],\n",
       "  'main_page_year_list': ['2019', '2020'],\n",
       "  'main_page_raw_note': [],\n",
       "  'main_page_particular_text_list': [],\n",
       "  'main_page_value_list': [[], []],\n",
       "  'main_page_cropped_df': Empty DataFrame\n",
       "  Columns: [Particulars, Notes, 2020, 2019, statement_section, statement_sub_section]\n",
       "  Index: [],\n",
       "  'notes_table_df': Empty DataFrame\n",
       "  Columns: [raw_note_no, note_no, subnote_no, line_item, year, value]\n",
       "  Index: [],\n",
       "  'notes_horizontal_table_df': Empty DataFrame\n",
       "  Columns: []\n",
       "  Index: []},\n",
       " 'eqt_additional_paid_in_capital': {'main_page_row_indices': [],\n",
       "  'main_page_year_total': [0, 0],\n",
       "  'main_page_year_list': ['2019', '2020'],\n",
       "  'main_page_raw_note': [],\n",
       "  'main_page_particular_text_list': [],\n",
       "  'main_page_value_list': [[], []],\n",
       "  'main_page_cropped_df': Empty DataFrame\n",
       "  Columns: [Particulars, Notes, 2020, 2019, statement_section, statement_sub_section]\n",
       "  Index: [],\n",
       "  'notes_table_df': Empty DataFrame\n",
       "  Columns: [raw_note_no, note_no, subnote_no, line_item, year, value]\n",
       "  Index: [],\n",
       "  'notes_horizontal_table_df': Empty DataFrame\n",
       "  Columns: []\n",
       "  Index: []},\n",
       " 'eqt_other_reserves': {'main_page_row_indices': [],\n",
       "  'main_page_year_total': [0, 0],\n",
       "  'main_page_year_list': ['2019', '2020'],\n",
       "  'main_page_raw_note': [],\n",
       "  'main_page_particular_text_list': [],\n",
       "  'main_page_value_list': [[], []],\n",
       "  'main_page_cropped_df': Empty DataFrame\n",
       "  Columns: [Particulars, Notes, 2020, 2019, statement_section, statement_sub_section]\n",
       "  Index: [],\n",
       "  'notes_table_df': Empty DataFrame\n",
       "  Columns: [raw_note_no, note_no, subnote_no, line_item, year, value]\n",
       "  Index: [],\n",
       "  'notes_horizontal_table_df': Empty DataFrame\n",
       "  Columns: []\n",
       "  Index: []},\n",
       " 'eqt_retained_earnings': {'main_page_row_indices': [],\n",
       "  'main_page_year_total': [0, 0],\n",
       "  'main_page_year_list': ['2019', '2020'],\n",
       "  'main_page_raw_note': [],\n",
       "  'main_page_particular_text_list': [],\n",
       "  'main_page_value_list': [[], []],\n",
       "  'main_page_cropped_df': Empty DataFrame\n",
       "  Columns: [Particulars, Notes, 2020, 2019, statement_section, statement_sub_section]\n",
       "  Index: [],\n",
       "  'notes_table_df': Empty DataFrame\n",
       "  Columns: [raw_note_no, note_no, subnote_no, line_item, year, value]\n",
       "  Index: [],\n",
       "  'notes_horizontal_table_df': Empty DataFrame\n",
       "  Columns: []\n",
       "  Index: []},\n",
       " 'eqt_others': {'main_page_row_indices': [],\n",
       "  'main_page_year_total': [0, 0],\n",
       "  'main_page_year_list': ['2019', '2020'],\n",
       "  'main_page_raw_note': [],\n",
       "  'main_page_particular_text_list': [],\n",
       "  'main_page_value_list': [[], []],\n",
       "  'main_page_cropped_df': Empty DataFrame\n",
       "  Columns: [Particulars, Notes, 2020, 2019, statement_section, statement_sub_section]\n",
       "  Index: [],\n",
       "  'notes_table_df': Empty DataFrame\n",
       "  Columns: [raw_note_no, note_no, subnote_no, line_item, year, value]\n",
       "  Index: [],\n",
       "  'notes_horizontal_table_df': Empty DataFrame\n",
       "  Columns: []\n",
       "  Index: []},\n",
       " 'eqt_shareholder_equity': {'main_page_row_indices': [],\n",
       "  'main_page_year_total': [0, 0],\n",
       "  'main_page_year_list': ['2019', '2020'],\n",
       "  'main_page_raw_note': [],\n",
       "  'main_page_particular_text_list': [],\n",
       "  'main_page_value_list': [[], []],\n",
       "  'main_page_cropped_df': Empty DataFrame\n",
       "  Columns: [Particulars, Notes, 2020, 2019, statement_section, statement_sub_section]\n",
       "  Index: [],\n",
       "  'notes_table_df': Empty DataFrame\n",
       "  Columns: [raw_note_no, note_no, subnote_no, line_item, year, value]\n",
       "  Index: [],\n",
       "  'notes_horizontal_table_df': Empty DataFrame\n",
       "  Columns: []\n",
       "  Index: []},\n",
       " 'total_liability_equity': {'main_page_row_indices': [],\n",
       "  'main_page_year_total': [0, 0],\n",
       "  'main_page_year_list': ['2019', '2020'],\n",
       "  'main_page_raw_note': [],\n",
       "  'main_page_particular_text_list': [],\n",
       "  'main_page_value_list': [[], []],\n",
       "  'main_page_cropped_df': Empty DataFrame\n",
       "  Columns: [Particulars, Notes, 2020, 2019, statement_section, statement_sub_section]\n",
       "  Index: [],\n",
       "  'notes_table_df': Empty DataFrame\n",
       "  Columns: [raw_note_no, note_no, subnote_no, line_item, year, value]\n",
       "  Index: [],\n",
       "  'notes_horizontal_table_df': Empty DataFrame\n",
       "  Columns: []\n",
       "  Index: []},\n",
       " 'lbt_total_liability': {'main_page_row_indices': [],\n",
       "  'main_page_year_total': [0, 0],\n",
       "  'main_page_year_list': ['2019', '2020'],\n",
       "  'main_page_raw_note': [],\n",
       "  'main_page_particular_text_list': [],\n",
       "  'main_page_value_list': [[], []],\n",
       "  'main_page_cropped_df': Empty DataFrame\n",
       "  Columns: [Particulars, Notes, 2020, 2019, statement_section, statement_sub_section]\n",
       "  Index: [],\n",
       "  'notes_table_df': Empty DataFrame\n",
       "  Columns: [raw_note_no, note_no, subnote_no, line_item, year, value]\n",
       "  Index: [],\n",
       "  'notes_horizontal_table_df': Empty DataFrame\n",
       "  Columns: []\n",
       "  Index: []},\n",
       " 'ast_total_assets': {'main_page_row_indices': [],\n",
       "  'main_page_year_total': [0, 0],\n",
       "  'main_page_year_list': ['2019', '2020'],\n",
       "  'main_page_raw_note': [],\n",
       "  'main_page_particular_text_list': [],\n",
       "  'main_page_value_list': [[], []],\n",
       "  'main_page_cropped_df': Empty DataFrame\n",
       "  Columns: [Particulars, Notes, 2020, 2019, statement_section, statement_sub_section]\n",
       "  Index: [],\n",
       "  'notes_table_df': Empty DataFrame\n",
       "  Columns: [raw_note_no, note_no, subnote_no, line_item, year, value]\n",
       "  Index: [],\n",
       "  'notes_horizontal_table_df': Empty DataFrame\n",
       "  Columns: []\n",
       "  Index: []},\n",
       " 'nca_gross_ppe': {'main_page_row_indices': [11],\n",
       "  'main_page_year_total': [3731.0, 17531.0],\n",
       "  'main_page_year_list': ['2019', '2020'],\n",
       "  'main_page_raw_note': ['12'],\n",
       "  'main_page_particular_text_list': ['Property, plant and equipment'],\n",
       "  'main_page_value_list': [[3731.0], [17531.0]],\n",
       "  'main_page_cropped_df':                       Particulars Notes     2020    2019 statement_section  \\\n",
       "  11  Property, plant and equipment    12  17531.0  3731.0            assets   \n",
       "  \n",
       "     statement_sub_section  \n",
       "  11            noncurrent  ,\n",
       "  'notes_table_df':    raw_note_no note_no subnote_no  \\\n",
       "  0           12      12              \n",
       "  1           12      12              \n",
       "  2           12      12              \n",
       "  3           12      12              \n",
       "  4           12      12              \n",
       "  5           12      12              \n",
       "  6           12      12              \n",
       "  7           12      12              \n",
       "  8           12      12              \n",
       "  9           12      12              \n",
       "  10          12      12              \n",
       "  11          12      12              \n",
       "  12          12      12              \n",
       "  13          12      12              \n",
       "  14          12      12              \n",
       "  15          12      12              \n",
       "  16          12      12              \n",
       "  17          12      12              \n",
       "  18          12      12              \n",
       "  19          12      12              \n",
       "  20          12      12              \n",
       "  21          12      12              \n",
       "  22          12      12              \n",
       "  23          12      12              \n",
       "  24          12      12              \n",
       "  25          12      12              \n",
       "  26          12      12              \n",
       "  \n",
       "                                              line_item    year     value  \n",
       "  0   Freehold land and buildings $000 Cost At 1 Jan...  2020.0   90430.0  \n",
       "  1     Freehold land and buildings $000 Cost Additions  2020.0     376.0  \n",
       "  2     Freehold land and buildings $000 Cost Disposals  2020.0    -149.0  \n",
       "  3      Freehold land and buildings $000 Cost Transfer  2020.0      74.0  \n",
       "  4   Freehold land and buildings $000 Cost At 31 De...  2020.0   90731.0  \n",
       "  5     Plant and equipment $000 Cost At 1 January 2020  2020.0  314181.0  \n",
       "  6             Plant and equipment $000 Cost Additions  2020.0    5232.0  \n",
       "  7             Plant and equipment $000 Cost Disposals  2020.0   -1122.0  \n",
       "  8              Plant and equipment $000 Cost Transfer  2020.0     -74.0  \n",
       "  9   Plant and equipment $000 Cost At 31 December 2020  2020.0  318217.0  \n",
       "  10  Asset Retirement Obligation** $000 Cost At 1 J...  2020.0    1628.0  \n",
       "  11  Asset Retirement Obligation** $000 Cost Additions  2020.0   34643.0  \n",
       "  12  Asset Retirement Obligation** $000 Cost Disposals  2020.0       0.0  \n",
       "  13   Asset Retirement Obligation** $000 Cost Transfer  2020.0       0.0  \n",
       "  14  Asset Retirement Obligation** $000 Cost At 31 ...  2020.0   36271.0  \n",
       "  15  Construction inj progress $000 Cost At 1 Janua...  2020.0    2538.0  \n",
       "  16      Construction inj progress $000 Cost Additions  2020.0       0.0  \n",
       "  17      Construction inj progress $000 Cost Disposals  2020.0     -65.0  \n",
       "  18       Construction inj progress $000 Cost Transfer  2020.0       0.0  \n",
       "  19  Construction inj progress $000 Cost At 31 Dece...  2020.0    2473.0  \n",
       "  20  Construction inj progress $000 Net book value ...  2020.0    1678.0  \n",
       "  21  Construction inj progress $000 Net book value ...  2019.0       0.0  \n",
       "  22                  Total $000 Cost At 1 January 2020  2020.0  408777.0  \n",
       "  23                          Total $000 Cost Additions  2020.0   40251.0  \n",
       "  24                          Total $000 Cost Disposals  2020.0   -1336.0  \n",
       "  25                           Total $000 Cost Transfer  2020.0       0.0  \n",
       "  26                Total $000 Cost At 31 December 2020  2020.0  447692.0  ,\n",
       "  'notes_horizontal_table_df':                                             line_item  2019      2020\n",
       "  0   Freehold land and buildings  Cost At 1 January...   0.0   90430.0\n",
       "  1         Freehold land and buildings  Cost Additions   0.0     376.0\n",
       "  2         Freehold land and buildings  Cost Disposals   0.0    -149.0\n",
       "  3          Freehold land and buildings  Cost Transfer   0.0      74.0\n",
       "  4   Freehold land and buildings  Cost At 31 Decemb...   0.0   90731.0\n",
       "  5         Plant and equipment  Cost At 1 January 2020   0.0  314181.0\n",
       "  6                 Plant and equipment  Cost Additions   0.0    5232.0\n",
       "  7                 Plant and equipment  Cost Disposals   0.0   -1122.0\n",
       "  8                  Plant and equipment  Cost Transfer   0.0     -74.0\n",
       "  9       Plant and equipment  Cost At 31 December 2020   0.0  318217.0\n",
       "  10  Asset Retirement Obligation**  Cost At 1 Janua...   0.0    1628.0\n",
       "  11      Asset Retirement Obligation**  Cost Additions   0.0   34643.0\n",
       "  12  Asset Retirement Obligation**  Cost At 31 Dece...   0.0   36271.0\n",
       "  13  Construction inj progress  Cost At 1 January 2020   0.0    2538.0\n",
       "  14          Construction inj progress  Cost Disposals   0.0     -65.0\n",
       "  15  Construction inj progress  Cost At 31 December...   0.0    2473.0\n",
       "  16  Construction inj progress  Net book value At 3...   0.0    1678.0},\n",
       " 'ca_account_receivables': {'main_page_row_indices': [3, 6],\n",
       "  'main_page_year_total': [19529.0, 19942.0],\n",
       "  'main_page_year_list': ['2019', '2020'],\n",
       "  'main_page_raw_note': ['7', '20'],\n",
       "  'main_page_particular_text_list': ['Trade and other receivables',\n",
       "   'Income tax receivable from related parties'],\n",
       "  'main_page_value_list': [[11999.0, 7530.0], [13624.0, 6318.0]],\n",
       "  'main_page_cropped_df':                                   Particulars Notes     2020     2019  \\\n",
       "  3                 Trade and other receivables     7  13624.0  11999.0   \n",
       "  6  Income tax receivable from related parties    20   6318.0   7530.0   \n",
       "  \n",
       "    statement_section statement_sub_section  \n",
       "  3            assets               current  \n",
       "  6            assets               current  ,\n",
       "  'notes_table_df':   raw_note_no note_no subnote_no                                  line_item  \\\n",
       "  0           7       7                                  $000  GST receivable   \n",
       "  1           7       7             $000  Related party receivables (Note 20)   \n",
       "  2           7       7                                           $000  Total   \n",
       "  3           7       7                                  $000  GST receivable   \n",
       "  4           7       7             $000  Related party receivables (Note 20)   \n",
       "  5           7       7                                           $000  Total   \n",
       "  \n",
       "     year  value  \n",
       "  0  2020   1697  \n",
       "  1  2020  11927  \n",
       "  2  2020  13624  \n",
       "  3  2019   1390  \n",
       "  4  2019  10609  \n",
       "  5  2019  11999  ,\n",
       "  'notes_horizontal_table_df':                                line_item   2019   2020\n",
       "  0                         GST receivable   1390   1697\n",
       "  1    Related party receivables (Note 20)  10609  11927}}"
      ]
     },
     "execution_count": 12,
     "metadata": {},
     "output_type": "execute_result"
    }
   ],
   "source": [
    "obj_cbs_mapping.bs_bucket_dict"
   ]
  },
  {
   "cell_type": "code",
   "execution_count": 13,
   "id": "6cb1b476-9b5a-4545-9699-5146b79ad28f",
   "metadata": {},
   "outputs": [
    {
     "data": {
      "text/html": [
       "<div>\n",
       "<style scoped>\n",
       "    .dataframe tbody tr th:only-of-type {\n",
       "        vertical-align: middle;\n",
       "    }\n",
       "\n",
       "    .dataframe tbody tr th {\n",
       "        vertical-align: top;\n",
       "    }\n",
       "\n",
       "    .dataframe thead th {\n",
       "        text-align: right;\n",
       "    }\n",
       "</style>\n",
       "<table border=\"1\" class=\"dataframe\">\n",
       "  <thead>\n",
       "    <tr style=\"text-align: right;\">\n",
       "      <th></th>\n",
       "      <th>line_item</th>\n",
       "      <th>2020</th>\n",
       "    </tr>\n",
       "  </thead>\n",
       "  <tbody>\n",
       "    <tr>\n",
       "      <th>0</th>\n",
       "      <td>Freehold land and buildings  Accumulated depre...</td>\n",
       "      <td>90235.0</td>\n",
       "    </tr>\n",
       "    <tr>\n",
       "      <th>1</th>\n",
       "      <td>Freehold land and buildings  Accumulated depre...</td>\n",
       "      <td>57.0</td>\n",
       "    </tr>\n",
       "    <tr>\n",
       "      <th>2</th>\n",
       "      <td>Freehold land and buildings  Accumulated depre...</td>\n",
       "      <td>351.0</td>\n",
       "    </tr>\n",
       "    <tr>\n",
       "      <th>3</th>\n",
       "      <td>Freehold land and buildings  Accumulated depre...</td>\n",
       "      <td>-154.0</td>\n",
       "    </tr>\n",
       "    <tr>\n",
       "      <th>4</th>\n",
       "      <td>Freehold land and buildings  Accumulated depre...</td>\n",
       "      <td>90489.0</td>\n",
       "    </tr>\n",
       "    <tr>\n",
       "      <th>5</th>\n",
       "      <td>Plant and equipment  Accumulated depreciation ...</td>\n",
       "      <td>312388.0</td>\n",
       "    </tr>\n",
       "    <tr>\n",
       "      <th>6</th>\n",
       "      <td>Plant and equipment  Accumulated depreciation ...</td>\n",
       "      <td>827.0</td>\n",
       "    </tr>\n",
       "    <tr>\n",
       "      <th>7</th>\n",
       "      <td>Plant and equipment  Accumulated depreciation ...</td>\n",
       "      <td>4618.0</td>\n",
       "    </tr>\n",
       "    <tr>\n",
       "      <th>8</th>\n",
       "      <td>Plant and equipment  Accumulated depreciation ...</td>\n",
       "      <td>-1182.0</td>\n",
       "    </tr>\n",
       "    <tr>\n",
       "      <th>9</th>\n",
       "      <td>Plant and equipment  Accumulated depreciation ...</td>\n",
       "      <td>316651.0</td>\n",
       "    </tr>\n",
       "    <tr>\n",
       "      <th>10</th>\n",
       "      <td>Asset Retirement Obligation**  Accumulated dep...</td>\n",
       "      <td>1628.0</td>\n",
       "    </tr>\n",
       "    <tr>\n",
       "      <th>11</th>\n",
       "      <td>Asset Retirement Obligation**  Accumulated dep...</td>\n",
       "      <td>20598.0</td>\n",
       "    </tr>\n",
       "    <tr>\n",
       "      <th>12</th>\n",
       "      <td>Asset Retirement Obligation**  Accumulated dep...</td>\n",
       "      <td>22226.0</td>\n",
       "    </tr>\n",
       "  </tbody>\n",
       "</table>\n",
       "</div>"
      ],
      "text/plain": [
       "                                            line_item      2020\n",
       "0   Freehold land and buildings  Accumulated depre...   90235.0\n",
       "1   Freehold land and buildings  Accumulated depre...      57.0\n",
       "2   Freehold land and buildings  Accumulated depre...     351.0\n",
       "3   Freehold land and buildings  Accumulated depre...    -154.0\n",
       "4   Freehold land and buildings  Accumulated depre...   90489.0\n",
       "5   Plant and equipment  Accumulated depreciation ...  312388.0\n",
       "6   Plant and equipment  Accumulated depreciation ...     827.0\n",
       "7   Plant and equipment  Accumulated depreciation ...    4618.0\n",
       "8   Plant and equipment  Accumulated depreciation ...   -1182.0\n",
       "9   Plant and equipment  Accumulated depreciation ...  316651.0\n",
       "10  Asset Retirement Obligation**  Accumulated dep...    1628.0\n",
       "11  Asset Retirement Obligation**  Accumulated dep...   20598.0\n",
       "12  Asset Retirement Obligation**  Accumulated dep...   22226.0"
      ]
     },
     "metadata": {},
     "output_type": "display_data"
    }
   ],
   "source": [
    "from IPython.display import display\n",
    "display(obj_cbs_mapping.bs_bucket_dict.get(\"nca_accumulated_depreciation\")[\"notes_horizontal_table_df\"])"
   ]
  },
  {
   "cell_type": "code",
   "execution_count": null,
   "id": "bf5ae844-2756-47e6-8ecc-91f6117b7768",
   "metadata": {},
   "outputs": [],
   "source": []
  },
  {
   "cell_type": "code",
   "execution_count": null,
   "id": "662f97c2-4306-4009-8e21-523cf84c2637",
   "metadata": {},
   "outputs": [],
   "source": []
  },
  {
   "cell_type": "code",
   "execution_count": null,
   "id": "4c05ad59-c7f0-4a96-b3b8-70caf94e836b",
   "metadata": {},
   "outputs": [],
   "source": []
  },
  {
   "cell_type": "code",
   "execution_count": null,
   "id": "532bad3a-108e-4b50-911b-f633b2083ef6",
   "metadata": {},
   "outputs": [],
   "source": []
  },
  {
   "cell_type": "code",
   "execution_count": 20,
   "id": "d9aaa725-a342-4336-9618-8ae1ef9e621c",
   "metadata": {},
   "outputs": [],
   "source": [
    "from TechMagicFuzzy import TechMagicFuzzy\n",
    "obj_tm = TechMagicFuzzy()"
   ]
  },
  {
   "cell_type": "code",
   "execution_count": 21,
   "id": "89ff0f5c-2473-4d71-a663-5367881213fe",
   "metadata": {},
   "outputs": [],
   "source": [
    "str_tetx = \"Freehold land and buildings Cost At 1 January 2020\""
   ]
  },
  {
   "cell_type": "code",
   "execution_count": 24,
   "id": "d4783921-6adf-4b55-86c3-ebc86c28cb6d",
   "metadata": {},
   "outputs": [],
   "source": [
    "res_fuzz_match = obj_tm.partial_ratio_pro(str_tetx, [\"cost\",\"gross\"])"
   ]
  },
  {
   "cell_type": "code",
   "execution_count": null,
   "id": "1fb504c3-8320-4700-8c64-023d5281ed8b",
   "metadata": {},
   "outputs": [],
   "source": []
  },
  {
   "cell_type": "code",
   "execution_count": 15,
   "id": "059ce5a7",
   "metadata": {},
   "outputs": [],
   "source": [
    "# obj_cbs_mapping.bs_bucket_dict"
   ]
  },
  {
   "cell_type": "code",
   "execution_count": 22,
   "id": "4c2be07f-a587-4a13-99c5-0ea11240fad7",
   "metadata": {},
   "outputs": [
    {
     "data": {
      "text/plain": [
       "'  Related party receivables (Note 20)'"
      ]
     },
     "execution_count": 22,
     "metadata": {},
     "output_type": "execute_result"
    }
   ],
   "source": [
    "strin"
   ]
  },
  {
   "cell_type": "code",
   "execution_count": null,
   "id": "fd57fcea-8dc8-49e3-86f1-8b73cad5df47",
   "metadata": {},
   "outputs": [],
   "source": []
  },
  {
   "cell_type": "code",
   "execution_count": null,
   "id": "bd28f0d0-189a-42c7-a69e-fb1eb8442b98",
   "metadata": {},
   "outputs": [],
   "source": []
  },
  {
   "cell_type": "code",
   "execution_count": null,
   "id": "d5f5467d-b55d-43e7-aa5b-5cd4ad52255c",
   "metadata": {},
   "outputs": [],
   "source": []
  },
  {
   "cell_type": "code",
   "execution_count": null,
   "id": "34eb7e69-f00b-42e1-b1f5-8fbef97e5e28",
   "metadata": {},
   "outputs": [],
   "source": []
  },
  {
   "cell_type": "code",
   "execution_count": 91,
   "id": "8541fa29",
   "metadata": {},
   "outputs": [
    {
     "data": {
      "text/html": [
       "<div>\n",
       "<style scoped>\n",
       "    .dataframe tbody tr th:only-of-type {\n",
       "        vertical-align: middle;\n",
       "    }\n",
       "\n",
       "    .dataframe tbody tr th {\n",
       "        vertical-align: top;\n",
       "    }\n",
       "\n",
       "    .dataframe thead th {\n",
       "        text-align: right;\n",
       "    }\n",
       "</style>\n",
       "<table border=\"1\" class=\"dataframe\">\n",
       "  <thead>\n",
       "    <tr style=\"text-align: right;\">\n",
       "      <th></th>\n",
       "      <th>raw_note_no</th>\n",
       "      <th>note_no</th>\n",
       "      <th>subnote_no</th>\n",
       "      <th>line_item</th>\n",
       "      <th>year</th>\n",
       "      <th>value</th>\n",
       "    </tr>\n",
       "  </thead>\n",
       "  <tbody>\n",
       "    <tr>\n",
       "      <th>0</th>\n",
       "      <td>11</td>\n",
       "      <td>11</td>\n",
       "      <td></td>\n",
       "      <td>$000  At 1 January</td>\n",
       "      <td>2020</td>\n",
       "      <td>54535</td>\n",
       "    </tr>\n",
       "    <tr>\n",
       "      <th>1</th>\n",
       "      <td>11</td>\n",
       "      <td>11</td>\n",
       "      <td></td>\n",
       "      <td>$000  Share of gain/(loss) of joint venture, n...</td>\n",
       "      <td>2020</td>\n",
       "      <td>1586</td>\n",
       "    </tr>\n",
       "    <tr>\n",
       "      <th>2</th>\n",
       "      <td>11</td>\n",
       "      <td>11</td>\n",
       "      <td></td>\n",
       "      <td>$000  Share of other comprehensive income, net...</td>\n",
       "      <td>2020</td>\n",
       "      <td>-8448</td>\n",
       "    </tr>\n",
       "    <tr>\n",
       "      <th>3</th>\n",
       "      <td>11</td>\n",
       "      <td>11</td>\n",
       "      <td></td>\n",
       "      <td>$000  Carrying value of investment at end of year</td>\n",
       "      <td>2020</td>\n",
       "      <td>47672</td>\n",
       "    </tr>\n",
       "    <tr>\n",
       "      <th>4</th>\n",
       "      <td>11</td>\n",
       "      <td>11</td>\n",
       "      <td></td>\n",
       "      <td>$000  At 1 January</td>\n",
       "      <td>2019</td>\n",
       "      <td>59249</td>\n",
       "    </tr>\n",
       "    <tr>\n",
       "      <th>5</th>\n",
       "      <td>11</td>\n",
       "      <td>11</td>\n",
       "      <td></td>\n",
       "      <td>$000  Share of gain/(loss) of joint venture, n...</td>\n",
       "      <td>2019</td>\n",
       "      <td>-7587</td>\n",
       "    </tr>\n",
       "    <tr>\n",
       "      <th>6</th>\n",
       "      <td>11</td>\n",
       "      <td>11</td>\n",
       "      <td></td>\n",
       "      <td>$000  Share of other comprehensive income, net...</td>\n",
       "      <td>2019</td>\n",
       "      <td>2873</td>\n",
       "    </tr>\n",
       "    <tr>\n",
       "      <th>7</th>\n",
       "      <td>11</td>\n",
       "      <td>11</td>\n",
       "      <td></td>\n",
       "      <td>$000  Carrying value of investment at end of year</td>\n",
       "      <td>2019</td>\n",
       "      <td>54535</td>\n",
       "    </tr>\n",
       "    <tr>\n",
       "      <th>8</th>\n",
       "      <td>11</td>\n",
       "      <td>11</td>\n",
       "      <td></td>\n",
       "      <td>$000  Investment in joint venture (Southern Cr...</td>\n",
       "      <td>2020</td>\n",
       "      <td>47672</td>\n",
       "    </tr>\n",
       "    <tr>\n",
       "      <th>9</th>\n",
       "      <td>11</td>\n",
       "      <td>11</td>\n",
       "      <td></td>\n",
       "      <td>$000  Investment in joint venture (Southern Cr...</td>\n",
       "      <td>2019</td>\n",
       "      <td>54535</td>\n",
       "    </tr>\n",
       "    <tr>\n",
       "      <th>10</th>\n",
       "      <td>11</td>\n",
       "      <td>11</td>\n",
       "      <td></td>\n",
       "      <td>Ownership interest % Southern Cross Southern C...</td>\n",
       "      <td>2020</td>\n",
       "      <td>0.0</td>\n",
       "    </tr>\n",
       "    <tr>\n",
       "      <th>11</th>\n",
       "      <td>11</td>\n",
       "      <td>11</td>\n",
       "      <td></td>\n",
       "      <td>Ownership interest % Southern Cross Aluminium ...</td>\n",
       "      <td>2020</td>\n",
       "      <td>0.0</td>\n",
       "    </tr>\n",
       "    <tr>\n",
       "      <th>12</th>\n",
       "      <td>11</td>\n",
       "      <td>11</td>\n",
       "      <td></td>\n",
       "      <td>Ownership interest % Southern Cross Southern C...</td>\n",
       "      <td>2019</td>\n",
       "      <td>0.0</td>\n",
       "    </tr>\n",
       "    <tr>\n",
       "      <th>13</th>\n",
       "      <td>11</td>\n",
       "      <td>11</td>\n",
       "      <td></td>\n",
       "      <td>Ownership interest % Southern Cross Aluminium ...</td>\n",
       "      <td>2019</td>\n",
       "      <td>0.0</td>\n",
       "    </tr>\n",
       "    <tr>\n",
       "      <th>14</th>\n",
       "      <td>11</td>\n",
       "      <td>11</td>\n",
       "      <td></td>\n",
       "      <td>Ownership interest $000 Southern Cross Souther...</td>\n",
       "      <td>2020</td>\n",
       "      <td>0.0</td>\n",
       "    </tr>\n",
       "    <tr>\n",
       "      <th>15</th>\n",
       "      <td>11</td>\n",
       "      <td>11</td>\n",
       "      <td></td>\n",
       "      <td>Ownership interest $000 Southern Cross Alumini...</td>\n",
       "      <td>2020</td>\n",
       "      <td>47672.0</td>\n",
       "    </tr>\n",
       "    <tr>\n",
       "      <th>16</th>\n",
       "      <td>11</td>\n",
       "      <td>11</td>\n",
       "      <td></td>\n",
       "      <td>Ownership interest $000 Southern Cross Souther...</td>\n",
       "      <td>2019</td>\n",
       "      <td>0.0</td>\n",
       "    </tr>\n",
       "    <tr>\n",
       "      <th>17</th>\n",
       "      <td>11</td>\n",
       "      <td>11</td>\n",
       "      <td></td>\n",
       "      <td>Ownership interest $000 Southern Cross Alumini...</td>\n",
       "      <td>2019</td>\n",
       "      <td>54535.0</td>\n",
       "    </tr>\n",
       "  </tbody>\n",
       "</table>\n",
       "</div>"
      ],
      "text/plain": [
       "   raw_note_no note_no subnote_no  \\\n",
       "0           11      11              \n",
       "1           11      11              \n",
       "2           11      11              \n",
       "3           11      11              \n",
       "4           11      11              \n",
       "5           11      11              \n",
       "6           11      11              \n",
       "7           11      11              \n",
       "8           11      11              \n",
       "9           11      11              \n",
       "10          11      11              \n",
       "11          11      11              \n",
       "12          11      11              \n",
       "13          11      11              \n",
       "14          11      11              \n",
       "15          11      11              \n",
       "16          11      11              \n",
       "17          11      11              \n",
       "\n",
       "                                            line_item  year    value  \n",
       "0                                  $000  At 1 January  2020    54535  \n",
       "1   $000  Share of gain/(loss) of joint venture, n...  2020     1586  \n",
       "2   $000  Share of other comprehensive income, net...  2020    -8448  \n",
       "3   $000  Carrying value of investment at end of year  2020    47672  \n",
       "4                                  $000  At 1 January  2019    59249  \n",
       "5   $000  Share of gain/(loss) of joint venture, n...  2019    -7587  \n",
       "6   $000  Share of other comprehensive income, net...  2019     2873  \n",
       "7   $000  Carrying value of investment at end of year  2019    54535  \n",
       "8   $000  Investment in joint venture (Southern Cr...  2020    47672  \n",
       "9   $000  Investment in joint venture (Southern Cr...  2019    54535  \n",
       "10  Ownership interest % Southern Cross Southern C...  2020      0.0  \n",
       "11  Ownership interest % Southern Cross Aluminium ...  2020      0.0  \n",
       "12  Ownership interest % Southern Cross Southern C...  2019      0.0  \n",
       "13  Ownership interest % Southern Cross Aluminium ...  2019      0.0  \n",
       "14  Ownership interest $000 Southern Cross Souther...  2020      0.0  \n",
       "15  Ownership interest $000 Southern Cross Alumini...  2020  47672.0  \n",
       "16  Ownership interest $000 Southern Cross Souther...  2019      0.0  \n",
       "17  Ownership interest $000 Southern Cross Alumini...  2019  54535.0  "
      ]
     },
     "metadata": {},
     "output_type": "display_data"
    }
   ],
   "source": [
    "display(obj_cbs_mapping.bs_bucket_dict['nca_investments']['notes_table_df'])"
   ]
  },
  {
   "cell_type": "code",
   "execution_count": null,
   "id": "3e9025cc-5c9d-4793-a026-1e93251ad69d",
   "metadata": {},
   "outputs": [],
   "source": []
  },
  {
   "cell_type": "code",
   "execution_count": null,
   "id": "40723d60",
   "metadata": {},
   "outputs": [],
   "source": []
  },
  {
   "cell_type": "code",
   "execution_count": 12,
   "id": "0603964b-bebf-44df-9535-a2287e15f4cf",
   "metadata": {},
   "outputs": [
    {
     "name": "stdout",
     "output_type": "stream",
     "text": [
      "ada\n",
      "adad\n",
      "iii\n",
      "ppp\n"
     ]
    }
   ],
   "source": [
    "a = ['ada','iii']\n",
    "b = ['adad','ppp']\n",
    "for x,y in zip(a,b):\n",
    "    print(x)\n",
    "    print(y)"
   ]
  },
  {
   "cell_type": "code",
   "execution_count": null,
   "id": "7d03dca5-6d0f-44c4-b4c3-7606012a193e",
   "metadata": {},
   "outputs": [],
   "source": []
  },
  {
   "cell_type": "code",
   "execution_count": null,
   "id": "20d73883-91af-4878-bdc4-37407bcb061b",
   "metadata": {},
   "outputs": [],
   "source": []
  },
  {
   "cell_type": "code",
   "execution_count": 13,
   "id": "a1a3b4f8",
   "metadata": {},
   "outputs": [],
   "source": [
    "##dev code"
   ]
  },
  {
   "cell_type": "code",
   "execution_count": 14,
   "id": "fb84da54",
   "metadata": {},
   "outputs": [],
   "source": [
    "from TechMagicFuzzy import TechMagicFuzzy"
   ]
  },
  {
   "cell_type": "code",
   "execution_count": 15,
   "id": "57fd7f74",
   "metadata": {},
   "outputs": [],
   "source": [
    "obj_techfuzzy = TechMagicFuzzy()"
   ]
  },
  {
   "cell_type": "code",
   "execution_count": 16,
   "id": "38fc6acb",
   "metadata": {},
   "outputs": [],
   "source": [
    "text1 = \"Trade and Other receivabkles\"\n",
    "keywords1 = [\"current\"]\n",
    "text2 = \" Trade and Other receivabkles add ada\""
   ]
  },
  {
   "cell_type": "code",
   "execution_count": 17,
   "id": "2dd2e68b",
   "metadata": {},
   "outputs": [
    {
     "data": {
      "text/plain": [
       "[('current', 43)]"
      ]
     },
     "execution_count": 17,
     "metadata": {},
     "output_type": "execute_result"
    }
   ],
   "source": [
    "obj_techfuzzy.partial_ratio_pro(text1, keywords1)"
   ]
  },
  {
   "cell_type": "code",
   "execution_count": 18,
   "id": "d662c696",
   "metadata": {},
   "outputs": [
    {
     "data": {
      "text/plain": [
       "[('current', 24)]"
      ]
     },
     "execution_count": 18,
     "metadata": {},
     "output_type": "execute_result"
    }
   ],
   "source": [
    "obj_techfuzzy.token_sort_pro(text1, keywords1)"
   ]
  },
  {
   "cell_type": "code",
   "execution_count": null,
   "id": "cf962f46",
   "metadata": {},
   "outputs": [],
   "source": []
  },
  {
   "cell_type": "code",
   "execution_count": 19,
   "id": "3bd333e1",
   "metadata": {},
   "outputs": [],
   "source": [
    "from fuzzywuzzy import fuzz"
   ]
  },
  {
   "cell_type": "code",
   "execution_count": 20,
   "id": "96efb987",
   "metadata": {},
   "outputs": [
    {
     "data": {
      "text/plain": [
       "86"
      ]
     },
     "execution_count": 20,
     "metadata": {},
     "output_type": "execute_result"
    }
   ],
   "source": [
    "fuzz.ratio(text1,text2)"
   ]
  },
  {
   "cell_type": "code",
   "execution_count": null,
   "id": "05c85e2f",
   "metadata": {},
   "outputs": [],
   "source": []
  },
  {
   "cell_type": "code",
   "execution_count": 21,
   "id": "a3300299",
   "metadata": {},
   "outputs": [
    {
     "data": {
      "text/plain": [
       "[2, 4, 6]"
      ]
     },
     "execution_count": 21,
     "metadata": {},
     "output_type": "execute_result"
    }
   ],
   "source": [
    "from itertools import chain\n",
    "\n",
    "list(chain.from_iterable([[2,4,6]]))"
   ]
  },
  {
   "cell_type": "code",
   "execution_count": 22,
   "id": "d3cf6ce7-dcc1-41bc-af57-8781e0215967",
   "metadata": {},
   "outputs": [
    {
     "ename": "TypeError",
     "evalue": "'int' object is not iterable",
     "output_type": "error",
     "traceback": [
      "\u001b[0;31m---------------------------------------------------------------------------\u001b[0m",
      "\u001b[0;31mTypeError\u001b[0m                                 Traceback (most recent call last)",
      "Cell \u001b[0;32mIn [22], line 1\u001b[0m\n\u001b[0;32m----> 1\u001b[0m \u001b[38;5;28;43mlist\u001b[39;49m\u001b[43m(\u001b[49m\u001b[43mchain\u001b[49m\u001b[38;5;241;43m.\u001b[39;49m\u001b[43mfrom_iterable\u001b[49m\u001b[43m(\u001b[49m\u001b[43m[\u001b[49m\u001b[38;5;241;43m2\u001b[39;49m\u001b[43m,\u001b[49m\u001b[38;5;241;43m4\u001b[39;49m\u001b[43m,\u001b[49m\u001b[38;5;241;43m6\u001b[39;49m\u001b[43m]\u001b[49m\u001b[43m)\u001b[49m\u001b[43m)\u001b[49m\n",
      "\u001b[0;31mTypeError\u001b[0m: 'int' object is not iterable"
     ]
    }
   ],
   "source": [
    "list(chain.from_iterable([2,4,6]))"
   ]
  },
  {
   "cell_type": "code",
   "execution_count": null,
   "id": "13c80fe9-b37f-4c4d-8f80-21c3a3b1d364",
   "metadata": {},
   "outputs": [],
   "source": [
    "list(chain(*[[2,4,6]]))"
   ]
  },
  {
   "cell_type": "code",
   "execution_count": null,
   "id": "00d4956f-e8fe-408f-ab66-7a24686ea4eb",
   "metadata": {},
   "outputs": [],
   "source": [
    "list(chain(*[2,4,6]))"
   ]
  },
  {
   "cell_type": "code",
   "execution_count": null,
   "id": "52f15ec2-cfdb-44d5-bc63-46ab905da2d0",
   "metadata": {},
   "outputs": [],
   "source": [
    "from operator import add\n",
    "import functools"
   ]
  },
  {
   "cell_type": "code",
   "execution_count": null,
   "id": "17864097-3d04-4f44-a202-595502a03843",
   "metadata": {},
   "outputs": [],
   "source": [
    "functools.reduce(add, [[2,4,6]])"
   ]
  },
  {
   "cell_type": "code",
   "execution_count": null,
   "id": "0aa7ecde-da13-4e33-967c-35b04eff6b37",
   "metadata": {},
   "outputs": [],
   "source": [
    "import numpy as np"
   ]
  },
  {
   "cell_type": "code",
   "execution_count": null,
   "id": "a4f5773c-6f28-4ec9-8208-8c77b1a08548",
   "metadata": {},
   "outputs": [],
   "source": [
    "import uuid\n",
    "from uuid import UUID"
   ]
  },
  {
   "cell_type": "code",
   "execution_count": null,
   "id": "f9a941fc-ae9d-43c6-a922-dc80ef9a06b3",
   "metadata": {},
   "outputs": [],
   "source": [
    "b = [list([UUID('6354e3c7-4619-3a07-b336-df681451d867'), UUID('6354e3c7-4619-3a07-b336-df681451d867')])]"
   ]
  },
  {
   "cell_type": "code",
   "execution_count": null,
   "id": "083f4b03-f10f-47d6-98ca-f15878ec2a39",
   "metadata": {},
   "outputs": [],
   "source": [
    "len(b)"
   ]
  },
  {
   "cell_type": "code",
   "execution_count": null,
   "id": "763a62af-ca84-4fe4-953f-046d9f6cd8fb",
   "metadata": {},
   "outputs": [],
   "source": [
    "b"
   ]
  },
  {
   "cell_type": "code",
   "execution_count": null,
   "id": "4abbb88a-8797-448b-b936-74c8c1cdf134",
   "metadata": {},
   "outputs": [],
   "source": []
  },
  {
   "cell_type": "code",
   "execution_count": 102,
   "id": "5d216235-e7a9-42bf-91f0-b14e7cc10b33",
   "metadata": {},
   "outputs": [],
   "source": [
    "test_notetable = obj_cbs_mapping.bs_bucket_dict['nca_net_ppe']['notes_table_df']"
   ]
  },
  {
   "cell_type": "code",
   "execution_count": 103,
   "id": "4d19e972-e00e-43d6-88f2-5ef3ca7e72ae",
   "metadata": {},
   "outputs": [
    {
     "data": {
      "text/html": [
       "<div>\n",
       "<style scoped>\n",
       "    .dataframe tbody tr th:only-of-type {\n",
       "        vertical-align: middle;\n",
       "    }\n",
       "\n",
       "    .dataframe tbody tr th {\n",
       "        vertical-align: top;\n",
       "    }\n",
       "\n",
       "    .dataframe thead th {\n",
       "        text-align: right;\n",
       "    }\n",
       "</style>\n",
       "<table border=\"1\" class=\"dataframe\">\n",
       "  <thead>\n",
       "    <tr style=\"text-align: right;\">\n",
       "      <th></th>\n",
       "      <th>raw_note_no</th>\n",
       "      <th>note_no</th>\n",
       "      <th>subnote_no</th>\n",
       "      <th>line_item</th>\n",
       "      <th>year</th>\n",
       "      <th>value</th>\n",
       "    </tr>\n",
       "  </thead>\n",
       "  <tbody>\n",
       "    <tr>\n",
       "      <th>0</th>\n",
       "      <td>12</td>\n",
       "      <td>12</td>\n",
       "      <td></td>\n",
       "      <td>Freehold land and buildings $000 Cost Cost</td>\n",
       "      <td>2020.0</td>\n",
       "      <td>0.0</td>\n",
       "    </tr>\n",
       "    <tr>\n",
       "      <th>1</th>\n",
       "      <td>12</td>\n",
       "      <td>12</td>\n",
       "      <td></td>\n",
       "      <td>Freehold land and buildings $000 Cost At 1 Jan...</td>\n",
       "      <td>2020.0</td>\n",
       "      <td>90430.0</td>\n",
       "    </tr>\n",
       "    <tr>\n",
       "      <th>2</th>\n",
       "      <td>12</td>\n",
       "      <td>12</td>\n",
       "      <td></td>\n",
       "      <td>Freehold land and buildings $000 Cost Additions</td>\n",
       "      <td>2020.0</td>\n",
       "      <td>376.0</td>\n",
       "    </tr>\n",
       "    <tr>\n",
       "      <th>3</th>\n",
       "      <td>12</td>\n",
       "      <td>12</td>\n",
       "      <td></td>\n",
       "      <td>Freehold land and buildings $000 Cost Disposals</td>\n",
       "      <td>2020.0</td>\n",
       "      <td>-149.0</td>\n",
       "    </tr>\n",
       "    <tr>\n",
       "      <th>4</th>\n",
       "      <td>12</td>\n",
       "      <td>12</td>\n",
       "      <td></td>\n",
       "      <td>Freehold land and buildings $000 Cost Transfer</td>\n",
       "      <td>2020.0</td>\n",
       "      <td>74.0</td>\n",
       "    </tr>\n",
       "    <tr>\n",
       "      <th>...</th>\n",
       "      <td>...</td>\n",
       "      <td>...</td>\n",
       "      <td>...</td>\n",
       "      <td>...</td>\n",
       "      <td>...</td>\n",
       "      <td>...</td>\n",
       "    </tr>\n",
       "    <tr>\n",
       "      <th>70</th>\n",
       "      <td>12</td>\n",
       "      <td>12</td>\n",
       "      <td></td>\n",
       "      <td>Total $000 Accumulated depreciation and impair...</td>\n",
       "      <td>2020.0</td>\n",
       "      <td>-1336.0</td>\n",
       "    </tr>\n",
       "    <tr>\n",
       "      <th>71</th>\n",
       "      <td>12</td>\n",
       "      <td>12</td>\n",
       "      <td></td>\n",
       "      <td>Total $000 Accumulated depreciation and impair...</td>\n",
       "      <td>2020.0</td>\n",
       "      <td>430161.0</td>\n",
       "    </tr>\n",
       "    <tr>\n",
       "      <th>72</th>\n",
       "      <td>12</td>\n",
       "      <td>12</td>\n",
       "      <td></td>\n",
       "      <td>Total $000 Net book value Net book value</td>\n",
       "      <td>2020.0</td>\n",
       "      <td>0.0</td>\n",
       "    </tr>\n",
       "    <tr>\n",
       "      <th>73</th>\n",
       "      <td>12</td>\n",
       "      <td>12</td>\n",
       "      <td></td>\n",
       "      <td>Total $000 Net book value At 31 December 2020</td>\n",
       "      <td>2020.0</td>\n",
       "      <td>17531.0</td>\n",
       "    </tr>\n",
       "    <tr>\n",
       "      <th>74</th>\n",
       "      <td>12</td>\n",
       "      <td>12</td>\n",
       "      <td></td>\n",
       "      <td>Total $000 Net book value At 31 December 2019</td>\n",
       "      <td>2019.0</td>\n",
       "      <td>3731.0</td>\n",
       "    </tr>\n",
       "  </tbody>\n",
       "</table>\n",
       "<p>75 rows × 6 columns</p>\n",
       "</div>"
      ],
      "text/plain": [
       "   raw_note_no note_no subnote_no  \\\n",
       "0           12      12              \n",
       "1           12      12              \n",
       "2           12      12              \n",
       "3           12      12              \n",
       "4           12      12              \n",
       "..         ...     ...        ...   \n",
       "70          12      12              \n",
       "71          12      12              \n",
       "72          12      12              \n",
       "73          12      12              \n",
       "74          12      12              \n",
       "\n",
       "                                            line_item    year     value  \n",
       "0          Freehold land and buildings $000 Cost Cost  2020.0       0.0  \n",
       "1   Freehold land and buildings $000 Cost At 1 Jan...  2020.0   90430.0  \n",
       "2     Freehold land and buildings $000 Cost Additions  2020.0     376.0  \n",
       "3     Freehold land and buildings $000 Cost Disposals  2020.0    -149.0  \n",
       "4      Freehold land and buildings $000 Cost Transfer  2020.0      74.0  \n",
       "..                                                ...     ...       ...  \n",
       "70  Total $000 Accumulated depreciation and impair...  2020.0   -1336.0  \n",
       "71  Total $000 Accumulated depreciation and impair...  2020.0  430161.0  \n",
       "72           Total $000 Net book value Net book value  2020.0       0.0  \n",
       "73      Total $000 Net book value At 31 December 2020  2020.0   17531.0  \n",
       "74      Total $000 Net book value At 31 December 2019  2019.0    3731.0  \n",
       "\n",
       "[75 rows x 6 columns]"
      ]
     },
     "execution_count": 103,
     "metadata": {},
     "output_type": "execute_result"
    }
   ],
   "source": [
    "test_notetable"
   ]
  },
  {
   "cell_type": "code",
   "execution_count": 104,
   "id": "856d6373-052c-4112-a2ae-0ac59df1264f",
   "metadata": {},
   "outputs": [
    {
     "data": {
      "text/plain": [
       "[2019.0, 2020.0]"
      ]
     },
     "execution_count": 104,
     "metadata": {},
     "output_type": "execute_result"
    }
   ],
   "source": [
    "sorted(list(test_notetable.year.unique()))"
   ]
  },
  {
   "cell_type": "code",
   "execution_count": 112,
   "id": "06352c10-afc8-45b9-ac59-1a04a4a927d8",
   "metadata": {},
   "outputs": [],
   "source": [
    "years = sorted(list(test_notetable.year.unique()))\n",
    "years = map(int, years)"
   ]
  },
  {
   "cell_type": "code",
   "execution_count": 113,
   "id": "2c9560e1-46d1-4fb7-bcde-3d45f7b90d74",
   "metadata": {},
   "outputs": [],
   "source": [
    "col_list = [\"line_item\"]\n",
    "col_list.extend(years)"
   ]
  },
  {
   "cell_type": "code",
   "execution_count": 114,
   "id": "8125c7f5-a51e-42be-8b00-9c25780bd8fb",
   "metadata": {},
   "outputs": [
    {
     "data": {
      "text/plain": [
       "['line_item', 2019, 2020]"
      ]
     },
     "execution_count": 114,
     "metadata": {},
     "output_type": "execute_result"
    }
   ],
   "source": [
    "col_list"
   ]
  },
  {
   "cell_type": "code",
   "execution_count": null,
   "id": "eb09baea-a6c9-4032-b05d-29f76f75998a",
   "metadata": {},
   "outputs": [],
   "source": []
  },
  {
   "cell_type": "code",
   "execution_count": 115,
   "id": "68980c43-8cdc-44d1-b7e6-fe625df9916a",
   "metadata": {
    "collapsed": true,
    "jupyter": {
     "outputs_hidden": true
    },
    "tags": []
   },
   "outputs": [
    {
     "data": {
      "text/html": [
       "<div>\n",
       "<style scoped>\n",
       "    .dataframe tbody tr th:only-of-type {\n",
       "        vertical-align: middle;\n",
       "    }\n",
       "\n",
       "    .dataframe tbody tr th {\n",
       "        vertical-align: top;\n",
       "    }\n",
       "\n",
       "    .dataframe thead th {\n",
       "        text-align: right;\n",
       "    }\n",
       "</style>\n",
       "<table border=\"1\" class=\"dataframe\">\n",
       "  <thead>\n",
       "    <tr style=\"text-align: right;\">\n",
       "      <th></th>\n",
       "      <th>line_item</th>\n",
       "      <th>2019.0</th>\n",
       "      <th>2020.0</th>\n",
       "    </tr>\n",
       "  </thead>\n",
       "  <tbody>\n",
       "    <tr>\n",
       "      <th>0</th>\n",
       "      <td>Freehold land and buildings $000 Cost Cost</td>\n",
       "      <td>NaN</td>\n",
       "      <td>0.0</td>\n",
       "    </tr>\n",
       "    <tr>\n",
       "      <th>1</th>\n",
       "      <td>Freehold land and buildings $000 Cost At 1 Jan...</td>\n",
       "      <td>NaN</td>\n",
       "      <td>90430.0</td>\n",
       "    </tr>\n",
       "    <tr>\n",
       "      <th>2</th>\n",
       "      <td>Freehold land and buildings $000 Cost Additions</td>\n",
       "      <td>NaN</td>\n",
       "      <td>376.0</td>\n",
       "    </tr>\n",
       "    <tr>\n",
       "      <th>3</th>\n",
       "      <td>Freehold land and buildings $000 Cost Disposals</td>\n",
       "      <td>NaN</td>\n",
       "      <td>-149.0</td>\n",
       "    </tr>\n",
       "    <tr>\n",
       "      <th>4</th>\n",
       "      <td>Freehold land and buildings $000 Cost Transfer</td>\n",
       "      <td>NaN</td>\n",
       "      <td>74.0</td>\n",
       "    </tr>\n",
       "    <tr>\n",
       "      <th>...</th>\n",
       "      <td>...</td>\n",
       "      <td>...</td>\n",
       "      <td>...</td>\n",
       "    </tr>\n",
       "    <tr>\n",
       "      <th>70</th>\n",
       "      <td>Total $000 Accumulated depreciation and impair...</td>\n",
       "      <td>NaN</td>\n",
       "      <td>-1336.0</td>\n",
       "    </tr>\n",
       "    <tr>\n",
       "      <th>71</th>\n",
       "      <td>Total $000 Accumulated depreciation and impair...</td>\n",
       "      <td>NaN</td>\n",
       "      <td>430161.0</td>\n",
       "    </tr>\n",
       "    <tr>\n",
       "      <th>72</th>\n",
       "      <td>Total $000 Net book value Net book value</td>\n",
       "      <td>NaN</td>\n",
       "      <td>0.0</td>\n",
       "    </tr>\n",
       "    <tr>\n",
       "      <th>73</th>\n",
       "      <td>Total $000 Net book value At 31 December 2020</td>\n",
       "      <td>NaN</td>\n",
       "      <td>17531.0</td>\n",
       "    </tr>\n",
       "    <tr>\n",
       "      <th>74</th>\n",
       "      <td>Total $000 Net book value At 31 December 2019</td>\n",
       "      <td>3731.0</td>\n",
       "      <td>None</td>\n",
       "    </tr>\n",
       "  </tbody>\n",
       "</table>\n",
       "<p>75 rows × 3 columns</p>\n",
       "</div>"
      ],
      "text/plain": [
       "                                            line_item  2019.0    2020.0\n",
       "0          Freehold land and buildings $000 Cost Cost     NaN       0.0\n",
       "1   Freehold land and buildings $000 Cost At 1 Jan...     NaN   90430.0\n",
       "2     Freehold land and buildings $000 Cost Additions     NaN     376.0\n",
       "3     Freehold land and buildings $000 Cost Disposals     NaN    -149.0\n",
       "4      Freehold land and buildings $000 Cost Transfer     NaN      74.0\n",
       "..                                                ...     ...       ...\n",
       "70  Total $000 Accumulated depreciation and impair...     NaN   -1336.0\n",
       "71  Total $000 Accumulated depreciation and impair...     NaN  430161.0\n",
       "72           Total $000 Net book value Net book value     NaN       0.0\n",
       "73      Total $000 Net book value At 31 December 2020     NaN   17531.0\n",
       "74      Total $000 Net book value At 31 December 2019  3731.0      None\n",
       "\n",
       "[75 rows x 3 columns]"
      ]
     },
     "execution_count": 115,
     "metadata": {},
     "output_type": "execute_result"
    }
   ],
   "source": [
    "new_horizontal_note_df"
   ]
  },
  {
   "cell_type": "code",
   "execution_count": null,
   "id": "2b1fbee1-e7df-4a55-a178-7cc6b6161863",
   "metadata": {},
   "outputs": [],
   "source": []
  },
  {
   "cell_type": "code",
   "execution_count": 116,
   "id": "cc1bca54-6572-41f5-abc4-3090d7088835",
   "metadata": {
    "collapsed": true,
    "jupyter": {
     "outputs_hidden": true
    },
    "tags": []
   },
   "outputs": [
    {
     "data": {
      "text/plain": [
       "{'line_item': 'Freehold land and buildings $000 Cost Cost',\n",
       " 2019: None,\n",
       " 2020: 0.0}"
      ]
     },
     "metadata": {},
     "output_type": "display_data"
    },
    {
     "name": "stderr",
     "output_type": "stream",
     "text": [
      "/tmp/ipykernel_603/394880500.py:12: FutureWarning: The frame.append method is deprecated and will be removed from pandas in a future version. Use pandas.concat instead.\n",
      "  new_horizontal_note_df = new_horizontal_note_df.append(tmp_df, ignore_index=True)\n"
     ]
    },
    {
     "data": {
      "text/plain": [
       "{'line_item': 'Freehold land and buildings $000 Cost At 1 January 2020',\n",
       " 2019: None,\n",
       " 2020: 90430.0}"
      ]
     },
     "metadata": {},
     "output_type": "display_data"
    },
    {
     "name": "stderr",
     "output_type": "stream",
     "text": [
      "/tmp/ipykernel_603/394880500.py:12: FutureWarning: The frame.append method is deprecated and will be removed from pandas in a future version. Use pandas.concat instead.\n",
      "  new_horizontal_note_df = new_horizontal_note_df.append(tmp_df, ignore_index=True)\n"
     ]
    },
    {
     "data": {
      "text/plain": [
       "{'line_item': 'Freehold land and buildings $000 Cost Additions',\n",
       " 2019: None,\n",
       " 2020: 376.0}"
      ]
     },
     "metadata": {},
     "output_type": "display_data"
    },
    {
     "name": "stderr",
     "output_type": "stream",
     "text": [
      "/tmp/ipykernel_603/394880500.py:12: FutureWarning: The frame.append method is deprecated and will be removed from pandas in a future version. Use pandas.concat instead.\n",
      "  new_horizontal_note_df = new_horizontal_note_df.append(tmp_df, ignore_index=True)\n"
     ]
    },
    {
     "data": {
      "text/plain": [
       "{'line_item': 'Freehold land and buildings $000 Cost Disposals',\n",
       " 2019: None,\n",
       " 2020: -149.0}"
      ]
     },
     "metadata": {},
     "output_type": "display_data"
    },
    {
     "name": "stderr",
     "output_type": "stream",
     "text": [
      "/tmp/ipykernel_603/394880500.py:12: FutureWarning: The frame.append method is deprecated and will be removed from pandas in a future version. Use pandas.concat instead.\n",
      "  new_horizontal_note_df = new_horizontal_note_df.append(tmp_df, ignore_index=True)\n"
     ]
    },
    {
     "data": {
      "text/plain": [
       "{'line_item': 'Freehold land and buildings $000 Cost Transfer',\n",
       " 2019: None,\n",
       " 2020: 74.0}"
      ]
     },
     "metadata": {},
     "output_type": "display_data"
    },
    {
     "name": "stderr",
     "output_type": "stream",
     "text": [
      "/tmp/ipykernel_603/394880500.py:12: FutureWarning: The frame.append method is deprecated and will be removed from pandas in a future version. Use pandas.concat instead.\n",
      "  new_horizontal_note_df = new_horizontal_note_df.append(tmp_df, ignore_index=True)\n"
     ]
    },
    {
     "data": {
      "text/plain": [
       "{'line_item': 'Freehold land and buildings $000 Cost At 31 December 2020',\n",
       " 2019: None,\n",
       " 2020: 90731.0}"
      ]
     },
     "metadata": {},
     "output_type": "display_data"
    },
    {
     "name": "stderr",
     "output_type": "stream",
     "text": [
      "/tmp/ipykernel_603/394880500.py:12: FutureWarning: The frame.append method is deprecated and will be removed from pandas in a future version. Use pandas.concat instead.\n",
      "  new_horizontal_note_df = new_horizontal_note_df.append(tmp_df, ignore_index=True)\n"
     ]
    },
    {
     "data": {
      "text/plain": [
       "{'line_item': 'Freehold land and buildings $000 Accumulated depreciation and impairment Accumulated depreciation and impairment',\n",
       " 2019: None,\n",
       " 2020: 0.0}"
      ]
     },
     "metadata": {},
     "output_type": "display_data"
    },
    {
     "name": "stderr",
     "output_type": "stream",
     "text": [
      "/tmp/ipykernel_603/394880500.py:12: FutureWarning: The frame.append method is deprecated and will be removed from pandas in a future version. Use pandas.concat instead.\n",
      "  new_horizontal_note_df = new_horizontal_note_df.append(tmp_df, ignore_index=True)\n"
     ]
    },
    {
     "data": {
      "text/plain": [
       "{'line_item': 'Freehold land and buildings $000 Accumulated depreciation and impairment At1 January 2020',\n",
       " 2019: None,\n",
       " 2020: 90235.0}"
      ]
     },
     "metadata": {},
     "output_type": "display_data"
    },
    {
     "name": "stderr",
     "output_type": "stream",
     "text": [
      "/tmp/ipykernel_603/394880500.py:12: FutureWarning: The frame.append method is deprecated and will be removed from pandas in a future version. Use pandas.concat instead.\n",
      "  new_horizontal_note_df = new_horizontal_note_df.append(tmp_df, ignore_index=True)\n"
     ]
    },
    {
     "data": {
      "text/plain": [
       "{'line_item': 'Freehold land and buildings $000 Accumulated depreciation and impairment Depreciation charge for the year',\n",
       " 2019: None,\n",
       " 2020: 57.0}"
      ]
     },
     "metadata": {},
     "output_type": "display_data"
    },
    {
     "name": "stderr",
     "output_type": "stream",
     "text": [
      "/tmp/ipykernel_603/394880500.py:12: FutureWarning: The frame.append method is deprecated and will be removed from pandas in a future version. Use pandas.concat instead.\n",
      "  new_horizontal_note_df = new_horizontal_note_df.append(tmp_df, ignore_index=True)\n"
     ]
    },
    {
     "data": {
      "text/plain": [
       "{'line_item': 'Freehold land and buildings $000 Accumulated depreciation and impairment Impairment*',\n",
       " 2019: None,\n",
       " 2020: 351.0}"
      ]
     },
     "metadata": {},
     "output_type": "display_data"
    },
    {
     "name": "stderr",
     "output_type": "stream",
     "text": [
      "/tmp/ipykernel_603/394880500.py:12: FutureWarning: The frame.append method is deprecated and will be removed from pandas in a future version. Use pandas.concat instead.\n",
      "  new_horizontal_note_df = new_horizontal_note_df.append(tmp_df, ignore_index=True)\n"
     ]
    },
    {
     "data": {
      "text/plain": [
       "{'line_item': 'Freehold land and buildings $000 Accumulated depreciation and impairment Disposals',\n",
       " 2019: None,\n",
       " 2020: -154.0}"
      ]
     },
     "metadata": {},
     "output_type": "display_data"
    },
    {
     "name": "stderr",
     "output_type": "stream",
     "text": [
      "/tmp/ipykernel_603/394880500.py:12: FutureWarning: The frame.append method is deprecated and will be removed from pandas in a future version. Use pandas.concat instead.\n",
      "  new_horizontal_note_df = new_horizontal_note_df.append(tmp_df, ignore_index=True)\n"
     ]
    },
    {
     "data": {
      "text/plain": [
       "{'line_item': 'Freehold land and buildings $000 Accumulated depreciation and impairment At 31 December 2020',\n",
       " 2019: None,\n",
       " 2020: 90489.0}"
      ]
     },
     "metadata": {},
     "output_type": "display_data"
    },
    {
     "name": "stderr",
     "output_type": "stream",
     "text": [
      "/tmp/ipykernel_603/394880500.py:12: FutureWarning: The frame.append method is deprecated and will be removed from pandas in a future version. Use pandas.concat instead.\n",
      "  new_horizontal_note_df = new_horizontal_note_df.append(tmp_df, ignore_index=True)\n"
     ]
    },
    {
     "data": {
      "text/plain": [
       "{'line_item': 'Freehold land and buildings $000 Net book value Net book value',\n",
       " 2019: None,\n",
       " 2020: 0.0}"
      ]
     },
     "metadata": {},
     "output_type": "display_data"
    },
    {
     "name": "stderr",
     "output_type": "stream",
     "text": [
      "/tmp/ipykernel_603/394880500.py:12: FutureWarning: The frame.append method is deprecated and will be removed from pandas in a future version. Use pandas.concat instead.\n",
      "  new_horizontal_note_df = new_horizontal_note_df.append(tmp_df, ignore_index=True)\n"
     ]
    },
    {
     "data": {
      "text/plain": [
       "{'line_item': 'Freehold land and buildings $000 Net book value At 31 December 2020',\n",
       " 2019: None,\n",
       " 2020: 242.0}"
      ]
     },
     "metadata": {},
     "output_type": "display_data"
    },
    {
     "name": "stderr",
     "output_type": "stream",
     "text": [
      "/tmp/ipykernel_603/394880500.py:12: FutureWarning: The frame.append method is deprecated and will be removed from pandas in a future version. Use pandas.concat instead.\n",
      "  new_horizontal_note_df = new_horizontal_note_df.append(tmp_df, ignore_index=True)\n"
     ]
    },
    {
     "data": {
      "text/plain": [
       "{'line_item': 'Freehold land and buildings $000 Net book value At 31 December 2019',\n",
       " 2019: 195.0,\n",
       " 2020: None}"
      ]
     },
     "metadata": {},
     "output_type": "display_data"
    },
    {
     "name": "stderr",
     "output_type": "stream",
     "text": [
      "/tmp/ipykernel_603/394880500.py:12: FutureWarning: The frame.append method is deprecated and will be removed from pandas in a future version. Use pandas.concat instead.\n",
      "  new_horizontal_note_df = new_horizontal_note_df.append(tmp_df, ignore_index=True)\n"
     ]
    },
    {
     "data": {
      "text/plain": [
       "{'line_item': 'Plant and equipment $000 Cost Cost', 2019: None, 2020: 0.0}"
      ]
     },
     "metadata": {},
     "output_type": "display_data"
    },
    {
     "name": "stderr",
     "output_type": "stream",
     "text": [
      "/tmp/ipykernel_603/394880500.py:12: FutureWarning: The frame.append method is deprecated and will be removed from pandas in a future version. Use pandas.concat instead.\n",
      "  new_horizontal_note_df = new_horizontal_note_df.append(tmp_df, ignore_index=True)\n"
     ]
    },
    {
     "data": {
      "text/plain": [
       "{'line_item': 'Plant and equipment $000 Cost At 1 January 2020',\n",
       " 2019: None,\n",
       " 2020: 314181.0}"
      ]
     },
     "metadata": {},
     "output_type": "display_data"
    },
    {
     "name": "stderr",
     "output_type": "stream",
     "text": [
      "/tmp/ipykernel_603/394880500.py:12: FutureWarning: The frame.append method is deprecated and will be removed from pandas in a future version. Use pandas.concat instead.\n",
      "  new_horizontal_note_df = new_horizontal_note_df.append(tmp_df, ignore_index=True)\n"
     ]
    },
    {
     "data": {
      "text/plain": [
       "{'line_item': 'Plant and equipment $000 Cost Additions',\n",
       " 2019: None,\n",
       " 2020: 5232.0}"
      ]
     },
     "metadata": {},
     "output_type": "display_data"
    },
    {
     "name": "stderr",
     "output_type": "stream",
     "text": [
      "/tmp/ipykernel_603/394880500.py:12: FutureWarning: The frame.append method is deprecated and will be removed from pandas in a future version. Use pandas.concat instead.\n",
      "  new_horizontal_note_df = new_horizontal_note_df.append(tmp_df, ignore_index=True)\n"
     ]
    },
    {
     "data": {
      "text/plain": [
       "{'line_item': 'Plant and equipment $000 Cost Disposals',\n",
       " 2019: None,\n",
       " 2020: -1122.0}"
      ]
     },
     "metadata": {},
     "output_type": "display_data"
    },
    {
     "name": "stderr",
     "output_type": "stream",
     "text": [
      "/tmp/ipykernel_603/394880500.py:12: FutureWarning: The frame.append method is deprecated and will be removed from pandas in a future version. Use pandas.concat instead.\n",
      "  new_horizontal_note_df = new_horizontal_note_df.append(tmp_df, ignore_index=True)\n"
     ]
    },
    {
     "data": {
      "text/plain": [
       "{'line_item': 'Plant and equipment $000 Cost Transfer',\n",
       " 2019: None,\n",
       " 2020: -74.0}"
      ]
     },
     "metadata": {},
     "output_type": "display_data"
    },
    {
     "name": "stderr",
     "output_type": "stream",
     "text": [
      "/tmp/ipykernel_603/394880500.py:12: FutureWarning: The frame.append method is deprecated and will be removed from pandas in a future version. Use pandas.concat instead.\n",
      "  new_horizontal_note_df = new_horizontal_note_df.append(tmp_df, ignore_index=True)\n"
     ]
    },
    {
     "data": {
      "text/plain": [
       "{'line_item': 'Plant and equipment $000 Cost At 31 December 2020',\n",
       " 2019: None,\n",
       " 2020: 318217.0}"
      ]
     },
     "metadata": {},
     "output_type": "display_data"
    },
    {
     "name": "stderr",
     "output_type": "stream",
     "text": [
      "/tmp/ipykernel_603/394880500.py:12: FutureWarning: The frame.append method is deprecated and will be removed from pandas in a future version. Use pandas.concat instead.\n",
      "  new_horizontal_note_df = new_horizontal_note_df.append(tmp_df, ignore_index=True)\n"
     ]
    },
    {
     "data": {
      "text/plain": [
       "{'line_item': 'Plant and equipment $000 Accumulated depreciation and impairment Accumulated depreciation and impairment',\n",
       " 2019: None,\n",
       " 2020: 0.0}"
      ]
     },
     "metadata": {},
     "output_type": "display_data"
    },
    {
     "name": "stderr",
     "output_type": "stream",
     "text": [
      "/tmp/ipykernel_603/394880500.py:12: FutureWarning: The frame.append method is deprecated and will be removed from pandas in a future version. Use pandas.concat instead.\n",
      "  new_horizontal_note_df = new_horizontal_note_df.append(tmp_df, ignore_index=True)\n"
     ]
    },
    {
     "data": {
      "text/plain": [
       "{'line_item': 'Plant and equipment $000 Accumulated depreciation and impairment At1 January 2020',\n",
       " 2019: None,\n",
       " 2020: 312388.0}"
      ]
     },
     "metadata": {},
     "output_type": "display_data"
    },
    {
     "name": "stderr",
     "output_type": "stream",
     "text": [
      "/tmp/ipykernel_603/394880500.py:12: FutureWarning: The frame.append method is deprecated and will be removed from pandas in a future version. Use pandas.concat instead.\n",
      "  new_horizontal_note_df = new_horizontal_note_df.append(tmp_df, ignore_index=True)\n"
     ]
    },
    {
     "data": {
      "text/plain": [
       "{'line_item': 'Plant and equipment $000 Accumulated depreciation and impairment Depreciation charge for the year',\n",
       " 2019: None,\n",
       " 2020: 827.0}"
      ]
     },
     "metadata": {},
     "output_type": "display_data"
    },
    {
     "name": "stderr",
     "output_type": "stream",
     "text": [
      "/tmp/ipykernel_603/394880500.py:12: FutureWarning: The frame.append method is deprecated and will be removed from pandas in a future version. Use pandas.concat instead.\n",
      "  new_horizontal_note_df = new_horizontal_note_df.append(tmp_df, ignore_index=True)\n"
     ]
    },
    {
     "data": {
      "text/plain": [
       "{'line_item': 'Plant and equipment $000 Accumulated depreciation and impairment Impairment*',\n",
       " 2019: None,\n",
       " 2020: 4618.0}"
      ]
     },
     "metadata": {},
     "output_type": "display_data"
    },
    {
     "name": "stderr",
     "output_type": "stream",
     "text": [
      "/tmp/ipykernel_603/394880500.py:12: FutureWarning: The frame.append method is deprecated and will be removed from pandas in a future version. Use pandas.concat instead.\n",
      "  new_horizontal_note_df = new_horizontal_note_df.append(tmp_df, ignore_index=True)\n"
     ]
    },
    {
     "data": {
      "text/plain": [
       "{'line_item': 'Plant and equipment $000 Accumulated depreciation and impairment Disposals',\n",
       " 2019: None,\n",
       " 2020: -1182.0}"
      ]
     },
     "metadata": {},
     "output_type": "display_data"
    },
    {
     "name": "stderr",
     "output_type": "stream",
     "text": [
      "/tmp/ipykernel_603/394880500.py:12: FutureWarning: The frame.append method is deprecated and will be removed from pandas in a future version. Use pandas.concat instead.\n",
      "  new_horizontal_note_df = new_horizontal_note_df.append(tmp_df, ignore_index=True)\n"
     ]
    },
    {
     "data": {
      "text/plain": [
       "{'line_item': 'Plant and equipment $000 Accumulated depreciation and impairment At 31 December 2020',\n",
       " 2019: None,\n",
       " 2020: 316651.0}"
      ]
     },
     "metadata": {},
     "output_type": "display_data"
    },
    {
     "name": "stderr",
     "output_type": "stream",
     "text": [
      "/tmp/ipykernel_603/394880500.py:12: FutureWarning: The frame.append method is deprecated and will be removed from pandas in a future version. Use pandas.concat instead.\n",
      "  new_horizontal_note_df = new_horizontal_note_df.append(tmp_df, ignore_index=True)\n"
     ]
    },
    {
     "data": {
      "text/plain": [
       "{'line_item': 'Plant and equipment $000 Net book value Net book value',\n",
       " 2019: None,\n",
       " 2020: 0.0}"
      ]
     },
     "metadata": {},
     "output_type": "display_data"
    },
    {
     "name": "stderr",
     "output_type": "stream",
     "text": [
      "/tmp/ipykernel_603/394880500.py:12: FutureWarning: The frame.append method is deprecated and will be removed from pandas in a future version. Use pandas.concat instead.\n",
      "  new_horizontal_note_df = new_horizontal_note_df.append(tmp_df, ignore_index=True)\n"
     ]
    },
    {
     "data": {
      "text/plain": [
       "{'line_item': 'Plant and equipment $000 Net book value At 31 December 2020',\n",
       " 2019: None,\n",
       " 2020: 1566.0}"
      ]
     },
     "metadata": {},
     "output_type": "display_data"
    },
    {
     "name": "stderr",
     "output_type": "stream",
     "text": [
      "/tmp/ipykernel_603/394880500.py:12: FutureWarning: The frame.append method is deprecated and will be removed from pandas in a future version. Use pandas.concat instead.\n",
      "  new_horizontal_note_df = new_horizontal_note_df.append(tmp_df, ignore_index=True)\n"
     ]
    },
    {
     "data": {
      "text/plain": [
       "{'line_item': 'Plant and equipment $000 Net book value At 31 December 2019',\n",
       " 2019: 1793.0,\n",
       " 2020: None}"
      ]
     },
     "metadata": {},
     "output_type": "display_data"
    },
    {
     "name": "stderr",
     "output_type": "stream",
     "text": [
      "/tmp/ipykernel_603/394880500.py:12: FutureWarning: The frame.append method is deprecated and will be removed from pandas in a future version. Use pandas.concat instead.\n",
      "  new_horizontal_note_df = new_horizontal_note_df.append(tmp_df, ignore_index=True)\n"
     ]
    },
    {
     "data": {
      "text/plain": [
       "{'line_item': 'Asset Retirement Obligation** $000 Cost Cost',\n",
       " 2019: None,\n",
       " 2020: 0.0}"
      ]
     },
     "metadata": {},
     "output_type": "display_data"
    },
    {
     "name": "stderr",
     "output_type": "stream",
     "text": [
      "/tmp/ipykernel_603/394880500.py:12: FutureWarning: The frame.append method is deprecated and will be removed from pandas in a future version. Use pandas.concat instead.\n",
      "  new_horizontal_note_df = new_horizontal_note_df.append(tmp_df, ignore_index=True)\n"
     ]
    },
    {
     "data": {
      "text/plain": [
       "{'line_item': 'Asset Retirement Obligation** $000 Cost At 1 January 2020',\n",
       " 2019: None,\n",
       " 2020: 1628.0}"
      ]
     },
     "metadata": {},
     "output_type": "display_data"
    },
    {
     "name": "stderr",
     "output_type": "stream",
     "text": [
      "/tmp/ipykernel_603/394880500.py:12: FutureWarning: The frame.append method is deprecated and will be removed from pandas in a future version. Use pandas.concat instead.\n",
      "  new_horizontal_note_df = new_horizontal_note_df.append(tmp_df, ignore_index=True)\n"
     ]
    },
    {
     "data": {
      "text/plain": [
       "{'line_item': 'Asset Retirement Obligation** $000 Cost Additions',\n",
       " 2019: None,\n",
       " 2020: 34643.0}"
      ]
     },
     "metadata": {},
     "output_type": "display_data"
    },
    {
     "name": "stderr",
     "output_type": "stream",
     "text": [
      "/tmp/ipykernel_603/394880500.py:12: FutureWarning: The frame.append method is deprecated and will be removed from pandas in a future version. Use pandas.concat instead.\n",
      "  new_horizontal_note_df = new_horizontal_note_df.append(tmp_df, ignore_index=True)\n"
     ]
    },
    {
     "data": {
      "text/plain": [
       "{'line_item': 'Asset Retirement Obligation** $000 Cost Disposals',\n",
       " 2019: None,\n",
       " 2020: 0.0}"
      ]
     },
     "metadata": {},
     "output_type": "display_data"
    },
    {
     "name": "stderr",
     "output_type": "stream",
     "text": [
      "/tmp/ipykernel_603/394880500.py:12: FutureWarning: The frame.append method is deprecated and will be removed from pandas in a future version. Use pandas.concat instead.\n",
      "  new_horizontal_note_df = new_horizontal_note_df.append(tmp_df, ignore_index=True)\n"
     ]
    },
    {
     "data": {
      "text/plain": [
       "{'line_item': 'Asset Retirement Obligation** $000 Cost Transfer',\n",
       " 2019: None,\n",
       " 2020: 0.0}"
      ]
     },
     "metadata": {},
     "output_type": "display_data"
    },
    {
     "name": "stderr",
     "output_type": "stream",
     "text": [
      "/tmp/ipykernel_603/394880500.py:12: FutureWarning: The frame.append method is deprecated and will be removed from pandas in a future version. Use pandas.concat instead.\n",
      "  new_horizontal_note_df = new_horizontal_note_df.append(tmp_df, ignore_index=True)\n"
     ]
    },
    {
     "data": {
      "text/plain": [
       "{'line_item': 'Asset Retirement Obligation** $000 Cost At 31 December 2020',\n",
       " 2019: None,\n",
       " 2020: 36271.0}"
      ]
     },
     "metadata": {},
     "output_type": "display_data"
    },
    {
     "name": "stderr",
     "output_type": "stream",
     "text": [
      "/tmp/ipykernel_603/394880500.py:12: FutureWarning: The frame.append method is deprecated and will be removed from pandas in a future version. Use pandas.concat instead.\n",
      "  new_horizontal_note_df = new_horizontal_note_df.append(tmp_df, ignore_index=True)\n"
     ]
    },
    {
     "data": {
      "text/plain": [
       "{'line_item': 'Asset Retirement Obligation** $000 Accumulated depreciation and impairment Accumulated depreciation and impairment',\n",
       " 2019: None,\n",
       " 2020: 0.0}"
      ]
     },
     "metadata": {},
     "output_type": "display_data"
    },
    {
     "name": "stderr",
     "output_type": "stream",
     "text": [
      "/tmp/ipykernel_603/394880500.py:12: FutureWarning: The frame.append method is deprecated and will be removed from pandas in a future version. Use pandas.concat instead.\n",
      "  new_horizontal_note_df = new_horizontal_note_df.append(tmp_df, ignore_index=True)\n"
     ]
    },
    {
     "data": {
      "text/plain": [
       "{'line_item': 'Asset Retirement Obligation** $000 Accumulated depreciation and impairment At1 January 2020',\n",
       " 2019: None,\n",
       " 2020: 1628.0}"
      ]
     },
     "metadata": {},
     "output_type": "display_data"
    },
    {
     "name": "stderr",
     "output_type": "stream",
     "text": [
      "/tmp/ipykernel_603/394880500.py:12: FutureWarning: The frame.append method is deprecated and will be removed from pandas in a future version. Use pandas.concat instead.\n",
      "  new_horizontal_note_df = new_horizontal_note_df.append(tmp_df, ignore_index=True)\n"
     ]
    },
    {
     "data": {
      "text/plain": [
       "{'line_item': 'Asset Retirement Obligation** $000 Accumulated depreciation and impairment Depreciation charge for the year',\n",
       " 2019: None,\n",
       " 2020: 0.0}"
      ]
     },
     "metadata": {},
     "output_type": "display_data"
    },
    {
     "name": "stderr",
     "output_type": "stream",
     "text": [
      "/tmp/ipykernel_603/394880500.py:12: FutureWarning: The frame.append method is deprecated and will be removed from pandas in a future version. Use pandas.concat instead.\n",
      "  new_horizontal_note_df = new_horizontal_note_df.append(tmp_df, ignore_index=True)\n"
     ]
    },
    {
     "data": {
      "text/plain": [
       "{'line_item': 'Asset Retirement Obligation** $000 Accumulated depreciation and impairment Impairment*',\n",
       " 2019: None,\n",
       " 2020: 20598.0}"
      ]
     },
     "metadata": {},
     "output_type": "display_data"
    },
    {
     "name": "stderr",
     "output_type": "stream",
     "text": [
      "/tmp/ipykernel_603/394880500.py:12: FutureWarning: The frame.append method is deprecated and will be removed from pandas in a future version. Use pandas.concat instead.\n",
      "  new_horizontal_note_df = new_horizontal_note_df.append(tmp_df, ignore_index=True)\n"
     ]
    },
    {
     "data": {
      "text/plain": [
       "{'line_item': 'Asset Retirement Obligation** $000 Accumulated depreciation and impairment Disposals',\n",
       " 2019: None,\n",
       " 2020: 0.0}"
      ]
     },
     "metadata": {},
     "output_type": "display_data"
    },
    {
     "name": "stderr",
     "output_type": "stream",
     "text": [
      "/tmp/ipykernel_603/394880500.py:12: FutureWarning: The frame.append method is deprecated and will be removed from pandas in a future version. Use pandas.concat instead.\n",
      "  new_horizontal_note_df = new_horizontal_note_df.append(tmp_df, ignore_index=True)\n"
     ]
    },
    {
     "data": {
      "text/plain": [
       "{'line_item': 'Asset Retirement Obligation** $000 Accumulated depreciation and impairment At 31 December 2020',\n",
       " 2019: None,\n",
       " 2020: 22226.0}"
      ]
     },
     "metadata": {},
     "output_type": "display_data"
    },
    {
     "name": "stderr",
     "output_type": "stream",
     "text": [
      "/tmp/ipykernel_603/394880500.py:12: FutureWarning: The frame.append method is deprecated and will be removed from pandas in a future version. Use pandas.concat instead.\n",
      "  new_horizontal_note_df = new_horizontal_note_df.append(tmp_df, ignore_index=True)\n"
     ]
    },
    {
     "data": {
      "text/plain": [
       "{'line_item': 'Asset Retirement Obligation** $000 Net book value Net book value',\n",
       " 2019: None,\n",
       " 2020: 0.0}"
      ]
     },
     "metadata": {},
     "output_type": "display_data"
    },
    {
     "name": "stderr",
     "output_type": "stream",
     "text": [
      "/tmp/ipykernel_603/394880500.py:12: FutureWarning: The frame.append method is deprecated and will be removed from pandas in a future version. Use pandas.concat instead.\n",
      "  new_horizontal_note_df = new_horizontal_note_df.append(tmp_df, ignore_index=True)\n"
     ]
    },
    {
     "data": {
      "text/plain": [
       "{'line_item': 'Asset Retirement Obligation** $000 Net book value At 31 December 2020',\n",
       " 2019: None,\n",
       " 2020: 14045.0}"
      ]
     },
     "metadata": {},
     "output_type": "display_data"
    },
    {
     "name": "stderr",
     "output_type": "stream",
     "text": [
      "/tmp/ipykernel_603/394880500.py:12: FutureWarning: The frame.append method is deprecated and will be removed from pandas in a future version. Use pandas.concat instead.\n",
      "  new_horizontal_note_df = new_horizontal_note_df.append(tmp_df, ignore_index=True)\n"
     ]
    },
    {
     "data": {
      "text/plain": [
       "{'line_item': 'Asset Retirement Obligation** $000 Net book value At 31 December 2019',\n",
       " 2019: 1743.0,\n",
       " 2020: None}"
      ]
     },
     "metadata": {},
     "output_type": "display_data"
    },
    {
     "name": "stderr",
     "output_type": "stream",
     "text": [
      "/tmp/ipykernel_603/394880500.py:12: FutureWarning: The frame.append method is deprecated and will be removed from pandas in a future version. Use pandas.concat instead.\n",
      "  new_horizontal_note_df = new_horizontal_note_df.append(tmp_df, ignore_index=True)\n"
     ]
    },
    {
     "data": {
      "text/plain": [
       "{'line_item': 'Construction inj progress $000 Cost Cost',\n",
       " 2019: None,\n",
       " 2020: 0.0}"
      ]
     },
     "metadata": {},
     "output_type": "display_data"
    },
    {
     "name": "stderr",
     "output_type": "stream",
     "text": [
      "/tmp/ipykernel_603/394880500.py:12: FutureWarning: The frame.append method is deprecated and will be removed from pandas in a future version. Use pandas.concat instead.\n",
      "  new_horizontal_note_df = new_horizontal_note_df.append(tmp_df, ignore_index=True)\n"
     ]
    },
    {
     "data": {
      "text/plain": [
       "{'line_item': 'Construction inj progress $000 Cost At 1 January 2020',\n",
       " 2019: None,\n",
       " 2020: 2538.0}"
      ]
     },
     "metadata": {},
     "output_type": "display_data"
    },
    {
     "name": "stderr",
     "output_type": "stream",
     "text": [
      "/tmp/ipykernel_603/394880500.py:12: FutureWarning: The frame.append method is deprecated and will be removed from pandas in a future version. Use pandas.concat instead.\n",
      "  new_horizontal_note_df = new_horizontal_note_df.append(tmp_df, ignore_index=True)\n"
     ]
    },
    {
     "data": {
      "text/plain": [
       "{'line_item': 'Construction inj progress $000 Cost Additions',\n",
       " 2019: None,\n",
       " 2020: 0.0}"
      ]
     },
     "metadata": {},
     "output_type": "display_data"
    },
    {
     "name": "stderr",
     "output_type": "stream",
     "text": [
      "/tmp/ipykernel_603/394880500.py:12: FutureWarning: The frame.append method is deprecated and will be removed from pandas in a future version. Use pandas.concat instead.\n",
      "  new_horizontal_note_df = new_horizontal_note_df.append(tmp_df, ignore_index=True)\n"
     ]
    },
    {
     "data": {
      "text/plain": [
       "{'line_item': 'Construction inj progress $000 Cost Disposals',\n",
       " 2019: None,\n",
       " 2020: -65.0}"
      ]
     },
     "metadata": {},
     "output_type": "display_data"
    },
    {
     "name": "stderr",
     "output_type": "stream",
     "text": [
      "/tmp/ipykernel_603/394880500.py:12: FutureWarning: The frame.append method is deprecated and will be removed from pandas in a future version. Use pandas.concat instead.\n",
      "  new_horizontal_note_df = new_horizontal_note_df.append(tmp_df, ignore_index=True)\n"
     ]
    },
    {
     "data": {
      "text/plain": [
       "{'line_item': 'Construction inj progress $000 Cost Transfer',\n",
       " 2019: None,\n",
       " 2020: 0.0}"
      ]
     },
     "metadata": {},
     "output_type": "display_data"
    },
    {
     "name": "stderr",
     "output_type": "stream",
     "text": [
      "/tmp/ipykernel_603/394880500.py:12: FutureWarning: The frame.append method is deprecated and will be removed from pandas in a future version. Use pandas.concat instead.\n",
      "  new_horizontal_note_df = new_horizontal_note_df.append(tmp_df, ignore_index=True)\n"
     ]
    },
    {
     "data": {
      "text/plain": [
       "{'line_item': 'Construction inj progress $000 Cost At 31 December 2020',\n",
       " 2019: None,\n",
       " 2020: 2473.0}"
      ]
     },
     "metadata": {},
     "output_type": "display_data"
    },
    {
     "name": "stderr",
     "output_type": "stream",
     "text": [
      "/tmp/ipykernel_603/394880500.py:12: FutureWarning: The frame.append method is deprecated and will be removed from pandas in a future version. Use pandas.concat instead.\n",
      "  new_horizontal_note_df = new_horizontal_note_df.append(tmp_df, ignore_index=True)\n"
     ]
    },
    {
     "data": {
      "text/plain": [
       "{'line_item': 'Construction inj progress $000 Accumulated depreciation and impairment Accumulated depreciation and impairment',\n",
       " 2019: None,\n",
       " 2020: 0.0}"
      ]
     },
     "metadata": {},
     "output_type": "display_data"
    },
    {
     "name": "stderr",
     "output_type": "stream",
     "text": [
      "/tmp/ipykernel_603/394880500.py:12: FutureWarning: The frame.append method is deprecated and will be removed from pandas in a future version. Use pandas.concat instead.\n",
      "  new_horizontal_note_df = new_horizontal_note_df.append(tmp_df, ignore_index=True)\n"
     ]
    },
    {
     "data": {
      "text/plain": [
       "{'line_item': 'Construction inj progress $000 Accumulated depreciation and impairment At1 January 2020',\n",
       " 2019: None,\n",
       " 2020: 795.0}"
      ]
     },
     "metadata": {},
     "output_type": "display_data"
    },
    {
     "name": "stderr",
     "output_type": "stream",
     "text": [
      "/tmp/ipykernel_603/394880500.py:12: FutureWarning: The frame.append method is deprecated and will be removed from pandas in a future version. Use pandas.concat instead.\n",
      "  new_horizontal_note_df = new_horizontal_note_df.append(tmp_df, ignore_index=True)\n"
     ]
    },
    {
     "data": {
      "text/plain": [
       "{'line_item': 'Construction inj progress $000 Accumulated depreciation and impairment Depreciation charge for the year',\n",
       " 2019: None,\n",
       " 2020: 0.0}"
      ]
     },
     "metadata": {},
     "output_type": "display_data"
    },
    {
     "name": "stderr",
     "output_type": "stream",
     "text": [
      "/tmp/ipykernel_603/394880500.py:12: FutureWarning: The frame.append method is deprecated and will be removed from pandas in a future version. Use pandas.concat instead.\n",
      "  new_horizontal_note_df = new_horizontal_note_df.append(tmp_df, ignore_index=True)\n"
     ]
    },
    {
     "data": {
      "text/plain": [
       "{'line_item': 'Construction inj progress $000 Accumulated depreciation and impairment Impairment*',\n",
       " 2019: None,\n",
       " 2020: 0.0}"
      ]
     },
     "metadata": {},
     "output_type": "display_data"
    },
    {
     "name": "stderr",
     "output_type": "stream",
     "text": [
      "/tmp/ipykernel_603/394880500.py:12: FutureWarning: The frame.append method is deprecated and will be removed from pandas in a future version. Use pandas.concat instead.\n",
      "  new_horizontal_note_df = new_horizontal_note_df.append(tmp_df, ignore_index=True)\n"
     ]
    },
    {
     "data": {
      "text/plain": [
       "{'line_item': 'Construction inj progress $000 Accumulated depreciation and impairment Disposals',\n",
       " 2019: None,\n",
       " 2020: 0.0}"
      ]
     },
     "metadata": {},
     "output_type": "display_data"
    },
    {
     "name": "stderr",
     "output_type": "stream",
     "text": [
      "/tmp/ipykernel_603/394880500.py:12: FutureWarning: The frame.append method is deprecated and will be removed from pandas in a future version. Use pandas.concat instead.\n",
      "  new_horizontal_note_df = new_horizontal_note_df.append(tmp_df, ignore_index=True)\n"
     ]
    },
    {
     "data": {
      "text/plain": [
       "{'line_item': 'Construction inj progress $000 Accumulated depreciation and impairment At 31 December 2020',\n",
       " 2019: None,\n",
       " 2020: 795.0}"
      ]
     },
     "metadata": {},
     "output_type": "display_data"
    },
    {
     "name": "stderr",
     "output_type": "stream",
     "text": [
      "/tmp/ipykernel_603/394880500.py:12: FutureWarning: The frame.append method is deprecated and will be removed from pandas in a future version. Use pandas.concat instead.\n",
      "  new_horizontal_note_df = new_horizontal_note_df.append(tmp_df, ignore_index=True)\n"
     ]
    },
    {
     "data": {
      "text/plain": [
       "{'line_item': 'Construction inj progress $000 Net book value Net book value',\n",
       " 2019: None,\n",
       " 2020: 0.0}"
      ]
     },
     "metadata": {},
     "output_type": "display_data"
    },
    {
     "name": "stderr",
     "output_type": "stream",
     "text": [
      "/tmp/ipykernel_603/394880500.py:12: FutureWarning: The frame.append method is deprecated and will be removed from pandas in a future version. Use pandas.concat instead.\n",
      "  new_horizontal_note_df = new_horizontal_note_df.append(tmp_df, ignore_index=True)\n"
     ]
    },
    {
     "data": {
      "text/plain": [
       "{'line_item': 'Construction inj progress $000 Net book value At 31 December 2020',\n",
       " 2019: None,\n",
       " 2020: 1678.0}"
      ]
     },
     "metadata": {},
     "output_type": "display_data"
    },
    {
     "name": "stderr",
     "output_type": "stream",
     "text": [
      "/tmp/ipykernel_603/394880500.py:12: FutureWarning: The frame.append method is deprecated and will be removed from pandas in a future version. Use pandas.concat instead.\n",
      "  new_horizontal_note_df = new_horizontal_note_df.append(tmp_df, ignore_index=True)\n"
     ]
    },
    {
     "data": {
      "text/plain": [
       "{'line_item': 'Construction inj progress $000 Net book value At 31 December 2019',\n",
       " 2019: 0.0,\n",
       " 2020: None}"
      ]
     },
     "metadata": {},
     "output_type": "display_data"
    },
    {
     "name": "stderr",
     "output_type": "stream",
     "text": [
      "/tmp/ipykernel_603/394880500.py:12: FutureWarning: The frame.append method is deprecated and will be removed from pandas in a future version. Use pandas.concat instead.\n",
      "  new_horizontal_note_df = new_horizontal_note_df.append(tmp_df, ignore_index=True)\n"
     ]
    },
    {
     "data": {
      "text/plain": [
       "{'line_item': 'Total $000 Cost Cost', 2019: None, 2020: 0.0}"
      ]
     },
     "metadata": {},
     "output_type": "display_data"
    },
    {
     "name": "stderr",
     "output_type": "stream",
     "text": [
      "/tmp/ipykernel_603/394880500.py:12: FutureWarning: The frame.append method is deprecated and will be removed from pandas in a future version. Use pandas.concat instead.\n",
      "  new_horizontal_note_df = new_horizontal_note_df.append(tmp_df, ignore_index=True)\n"
     ]
    },
    {
     "data": {
      "text/plain": [
       "{'line_item': 'Total $000 Cost At 1 January 2020', 2019: None, 2020: 408777.0}"
      ]
     },
     "metadata": {},
     "output_type": "display_data"
    },
    {
     "name": "stderr",
     "output_type": "stream",
     "text": [
      "/tmp/ipykernel_603/394880500.py:12: FutureWarning: The frame.append method is deprecated and will be removed from pandas in a future version. Use pandas.concat instead.\n",
      "  new_horizontal_note_df = new_horizontal_note_df.append(tmp_df, ignore_index=True)\n"
     ]
    },
    {
     "data": {
      "text/plain": [
       "{'line_item': 'Total $000 Cost Additions', 2019: None, 2020: 40251.0}"
      ]
     },
     "metadata": {},
     "output_type": "display_data"
    },
    {
     "name": "stderr",
     "output_type": "stream",
     "text": [
      "/tmp/ipykernel_603/394880500.py:12: FutureWarning: The frame.append method is deprecated and will be removed from pandas in a future version. Use pandas.concat instead.\n",
      "  new_horizontal_note_df = new_horizontal_note_df.append(tmp_df, ignore_index=True)\n"
     ]
    },
    {
     "data": {
      "text/plain": [
       "{'line_item': 'Total $000 Cost Disposals', 2019: None, 2020: -1336.0}"
      ]
     },
     "metadata": {},
     "output_type": "display_data"
    },
    {
     "name": "stderr",
     "output_type": "stream",
     "text": [
      "/tmp/ipykernel_603/394880500.py:12: FutureWarning: The frame.append method is deprecated and will be removed from pandas in a future version. Use pandas.concat instead.\n",
      "  new_horizontal_note_df = new_horizontal_note_df.append(tmp_df, ignore_index=True)\n"
     ]
    },
    {
     "data": {
      "text/plain": [
       "{'line_item': 'Total $000 Cost Transfer', 2019: None, 2020: 0.0}"
      ]
     },
     "metadata": {},
     "output_type": "display_data"
    },
    {
     "name": "stderr",
     "output_type": "stream",
     "text": [
      "/tmp/ipykernel_603/394880500.py:12: FutureWarning: The frame.append method is deprecated and will be removed from pandas in a future version. Use pandas.concat instead.\n",
      "  new_horizontal_note_df = new_horizontal_note_df.append(tmp_df, ignore_index=True)\n"
     ]
    },
    {
     "data": {
      "text/plain": [
       "{'line_item': 'Total $000 Cost At 31 December 2020',\n",
       " 2019: None,\n",
       " 2020: 447692.0}"
      ]
     },
     "metadata": {},
     "output_type": "display_data"
    },
    {
     "name": "stderr",
     "output_type": "stream",
     "text": [
      "/tmp/ipykernel_603/394880500.py:12: FutureWarning: The frame.append method is deprecated and will be removed from pandas in a future version. Use pandas.concat instead.\n",
      "  new_horizontal_note_df = new_horizontal_note_df.append(tmp_df, ignore_index=True)\n"
     ]
    },
    {
     "data": {
      "text/plain": [
       "{'line_item': 'Total $000 Accumulated depreciation and impairment Accumulated depreciation and impairment',\n",
       " 2019: None,\n",
       " 2020: 0.0}"
      ]
     },
     "metadata": {},
     "output_type": "display_data"
    },
    {
     "name": "stderr",
     "output_type": "stream",
     "text": [
      "/tmp/ipykernel_603/394880500.py:12: FutureWarning: The frame.append method is deprecated and will be removed from pandas in a future version. Use pandas.concat instead.\n",
      "  new_horizontal_note_df = new_horizontal_note_df.append(tmp_df, ignore_index=True)\n"
     ]
    },
    {
     "data": {
      "text/plain": [
       "{'line_item': 'Total $000 Accumulated depreciation and impairment At1 January 2020',\n",
       " 2019: None,\n",
       " 2020: 405046.0}"
      ]
     },
     "metadata": {},
     "output_type": "display_data"
    },
    {
     "name": "stderr",
     "output_type": "stream",
     "text": [
      "/tmp/ipykernel_603/394880500.py:12: FutureWarning: The frame.append method is deprecated and will be removed from pandas in a future version. Use pandas.concat instead.\n",
      "  new_horizontal_note_df = new_horizontal_note_df.append(tmp_df, ignore_index=True)\n"
     ]
    },
    {
     "data": {
      "text/plain": [
       "{'line_item': 'Total $000 Accumulated depreciation and impairment Depreciation charge for the year',\n",
       " 2019: None,\n",
       " 2020: 884.0}"
      ]
     },
     "metadata": {},
     "output_type": "display_data"
    },
    {
     "name": "stderr",
     "output_type": "stream",
     "text": [
      "/tmp/ipykernel_603/394880500.py:12: FutureWarning: The frame.append method is deprecated and will be removed from pandas in a future version. Use pandas.concat instead.\n",
      "  new_horizontal_note_df = new_horizontal_note_df.append(tmp_df, ignore_index=True)\n"
     ]
    },
    {
     "data": {
      "text/plain": [
       "{'line_item': 'Total $000 Accumulated depreciation and impairment Impairment*',\n",
       " 2019: None,\n",
       " 2020: 25567.0}"
      ]
     },
     "metadata": {},
     "output_type": "display_data"
    },
    {
     "name": "stderr",
     "output_type": "stream",
     "text": [
      "/tmp/ipykernel_603/394880500.py:12: FutureWarning: The frame.append method is deprecated and will be removed from pandas in a future version. Use pandas.concat instead.\n",
      "  new_horizontal_note_df = new_horizontal_note_df.append(tmp_df, ignore_index=True)\n"
     ]
    },
    {
     "data": {
      "text/plain": [
       "{'line_item': 'Total $000 Accumulated depreciation and impairment Disposals',\n",
       " 2019: None,\n",
       " 2020: -1336.0}"
      ]
     },
     "metadata": {},
     "output_type": "display_data"
    },
    {
     "name": "stderr",
     "output_type": "stream",
     "text": [
      "/tmp/ipykernel_603/394880500.py:12: FutureWarning: The frame.append method is deprecated and will be removed from pandas in a future version. Use pandas.concat instead.\n",
      "  new_horizontal_note_df = new_horizontal_note_df.append(tmp_df, ignore_index=True)\n"
     ]
    },
    {
     "data": {
      "text/plain": [
       "{'line_item': 'Total $000 Accumulated depreciation and impairment At 31 December 2020',\n",
       " 2019: None,\n",
       " 2020: 430161.0}"
      ]
     },
     "metadata": {},
     "output_type": "display_data"
    },
    {
     "name": "stderr",
     "output_type": "stream",
     "text": [
      "/tmp/ipykernel_603/394880500.py:12: FutureWarning: The frame.append method is deprecated and will be removed from pandas in a future version. Use pandas.concat instead.\n",
      "  new_horizontal_note_df = new_horizontal_note_df.append(tmp_df, ignore_index=True)\n"
     ]
    },
    {
     "data": {
      "text/plain": [
       "{'line_item': 'Total $000 Net book value Net book value',\n",
       " 2019: None,\n",
       " 2020: 0.0}"
      ]
     },
     "metadata": {},
     "output_type": "display_data"
    },
    {
     "name": "stderr",
     "output_type": "stream",
     "text": [
      "/tmp/ipykernel_603/394880500.py:12: FutureWarning: The frame.append method is deprecated and will be removed from pandas in a future version. Use pandas.concat instead.\n",
      "  new_horizontal_note_df = new_horizontal_note_df.append(tmp_df, ignore_index=True)\n"
     ]
    },
    {
     "data": {
      "text/plain": [
       "{'line_item': 'Total $000 Net book value At 31 December 2020',\n",
       " 2019: None,\n",
       " 2020: 17531.0}"
      ]
     },
     "metadata": {},
     "output_type": "display_data"
    },
    {
     "name": "stderr",
     "output_type": "stream",
     "text": [
      "/tmp/ipykernel_603/394880500.py:12: FutureWarning: The frame.append method is deprecated and will be removed from pandas in a future version. Use pandas.concat instead.\n",
      "  new_horizontal_note_df = new_horizontal_note_df.append(tmp_df, ignore_index=True)\n"
     ]
    },
    {
     "data": {
      "text/plain": [
       "{'line_item': 'Total $000 Net book value At 31 December 2019',\n",
       " 2019: 3731.0,\n",
       " 2020: None}"
      ]
     },
     "metadata": {},
     "output_type": "display_data"
    },
    {
     "name": "stderr",
     "output_type": "stream",
     "text": [
      "/tmp/ipykernel_603/394880500.py:12: FutureWarning: The frame.append method is deprecated and will be removed from pandas in a future version. Use pandas.concat instead.\n",
      "  new_horizontal_note_df = new_horizontal_note_df.append(tmp_df, ignore_index=True)\n"
     ]
    }
   ],
   "source": [
    "new_horizontal_note_df = pd.DataFrame(columns=col_list)\n",
    "for idx,row in test_notetable.iterrows():\n",
    "    # print(row)\n",
    "    if row[\"line_item\"] in set(new_horizontal_note_df['line_item']):\n",
    "        new_horizontal_note_df.loc[new_horizontal_note_df.line_item == row[\"line_item\"],row[\"year\"]] = row[\"value\"]\n",
    "    else:\n",
    "        tmp_df = dict.fromkeys(col_list)\n",
    "        tmp_df[\"line_item\"] =  row[\"line_item\"]\n",
    "        tmp_df[row[\"year\"]] = row[\"value\"]\n",
    "        display(tmp_df)\n",
    "        # print(tmp_df)\n",
    "        new_horizontal_note_df = new_horizontal_note_df.append(tmp_df, ignore_index=True)"
   ]
  },
  {
   "cell_type": "code",
   "execution_count": 119,
   "id": "0c210877-0a07-484a-8cee-cb530332414e",
   "metadata": {},
   "outputs": [],
   "source": [
    "pd.set_option('display.max_rows', 500)"
   ]
  },
  {
   "cell_type": "code",
   "execution_count": 11,
   "id": "4816fa28-65ef-4880-a29b-adcb3e87b8b0",
   "metadata": {},
   "outputs": [],
   "source": [
    "# new_horizontal_note_df"
   ]
  },
  {
   "cell_type": "code",
   "execution_count": 12,
   "id": "48c1308f-8b99-4df8-9f0c-07d6f4999ab3",
   "metadata": {},
   "outputs": [],
   "source": [
    "# test_notetable"
   ]
  },
  {
   "cell_type": "code",
   "execution_count": null,
   "id": "735d6810-eb8f-46e8-8cc4-2df4e7a7f9a3",
   "metadata": {},
   "outputs": [],
   "source": []
  },
  {
   "cell_type": "code",
   "execution_count": 13,
   "id": "8ff9a2a1-2372-4629-ab16-fece58b4df56",
   "metadata": {},
   "outputs": [],
   "source": [
    "### raw dump to excels"
   ]
  },
  {
   "cell_type": "code",
   "execution_count": 39,
   "id": "31191364-d0c9-4596-8ed5-3c0e177728e7",
   "metadata": {},
   "outputs": [],
   "source": [
    "from openpyxl.utils import get_column_letter"
   ]
  },
  {
   "cell_type": "code",
   "execution_count": 40,
   "id": "d8b7693e-8e17-4891-a61e-170942140d2c",
   "metadata": {},
   "outputs": [
    {
     "data": {
      "text/plain": [
       "'A'"
      ]
     },
     "execution_count": 40,
     "metadata": {},
     "output_type": "execute_result"
    }
   ],
   "source": [
    "get_column_letter(1)"
   ]
  },
  {
   "cell_type": "code",
   "execution_count": 41,
   "id": "4c474d90-1580-4222-a559-e7c01499ca2d",
   "metadata": {},
   "outputs": [],
   "source": [
    "from openpyxl import Workbook\n",
    "from openpyxl.worksheet.table import Table, TableStyleInfo\n",
    "wb = Workbook()"
   ]
  },
  {
   "cell_type": "code",
   "execution_count": 42,
   "id": "9a7a4e41-c032-4fe7-8a57-913ddf360df3",
   "metadata": {},
   "outputs": [
    {
     "data": {
      "text/plain": [
       "<Worksheet \"ccf\">"
      ]
     },
     "execution_count": 42,
     "metadata": {},
     "output_type": "execute_result"
    }
   ],
   "source": [
    "wb.create_sheet('cbs')\n",
    "wb.create_sheet('cpl')\n",
    "wb.create_sheet('ccf')"
   ]
  },
  {
   "cell_type": "code",
   "execution_count": 43,
   "id": "8c13f815-5999-436d-8f74-11d177f011eb",
   "metadata": {},
   "outputs": [],
   "source": [
    "wb.active = wb['cbs']"
   ]
  },
  {
   "cell_type": "code",
   "execution_count": 44,
   "id": "0ab42e71-f419-4776-b259-872adb943f1e",
   "metadata": {},
   "outputs": [],
   "source": [
    "ws  = wb.active"
   ]
  },
  {
   "cell_type": "code",
   "execution_count": 45,
   "id": "e21d01ce-a2ab-4a3f-8bac-c52c4cb63826",
   "metadata": {},
   "outputs": [
    {
     "name": "stdout",
     "output_type": "stream",
     "text": [
      "ca_cash_and_cash_equivalents\n",
      "ca_inventories\n",
      "ca_prepaid_expenses\n",
      "ca_other_current_assets\n",
      "ca_total_current_assets\n",
      "nca_net_ppe\n",
      "nca_gross_ppe\n",
      "nca_other_tangible_assets\n",
      "nca_tangible_assets\n",
      "nca_goodwill\n",
      "nca_other_intangible_assets\n",
      "nca_intangible_assets\n",
      "nca_investments\n",
      "nca_deffered_charges\n",
      "nca_other_assets\n",
      "nca_total_non_current_assets\n",
      "cl_short_term_debt\n",
      "cl_long_term_debt_due_in_year\n",
      "cl_note_payable_debt\n",
      "cl_accounts_payable\n",
      "cl_accrued_expenses\n",
      "cl_tax_payable\n",
      "cl_other_current_liabilities\n",
      "cl_total_current_liabilities\n",
      "ncl_long_term_debt\n",
      "ncl_long_term_borrowing\n",
      "ncl_bond\n",
      "ncl_suboardinate_debt\n",
      "ncl_deferred_taxes\n",
      "ncl_other_long_term_liabilities\n",
      "ncl_minority_interest\n",
      "ncl_long_term_liabilities\n",
      "eqt_common_stock\n",
      "eqt_additional_paid_in_capital\n",
      "eqt_other_reserves\n",
      "eqt_retained_earnings\n",
      "eqt_others\n",
      "eqt_shareholder_equity\n",
      "total_liability_equity\n",
      "lbt_total_liability\n",
      "ast_total_assets\n",
      "nca_accumulated_depreciation\n",
      "ca_account_receivables\n"
     ]
    }
   ],
   "source": [
    "for meta_key, val in obj_cbs_mapping.bs_bucket_dict.items():\n",
    "    print(meta_key)\n",
    "    ws.append([meta_key])\n",
    "    ws.append([\"Main Page Selected line items\"])\n",
    "    if len(val['main_page_cropped_df']) > 0:\n",
    "        ws.append(list(val['main_page_cropped_df'].columns))\n",
    "        for idx,row in val['main_page_cropped_df'].iterrows():\n",
    "            ws.append(row.tolist())\n",
    "    ws.append([\"Notes Data\"])\n",
    "    if len(val['notes_horizontal_table_df'])>0:\n",
    "        ws.append(list(val['notes_horizontal_table_df'].columns))\n",
    "        for idx,row in val['notes_horizontal_table_df'].iterrows():\n",
    "            ws.append(row.tolist())\n",
    "    ws.append([])"
   ]
  },
  {
   "cell_type": "code",
   "execution_count": null,
   "id": "b536125b-1c0b-4b75-9058-2c410665d0ca",
   "metadata": {},
   "outputs": [],
   "source": []
  },
  {
   "cell_type": "code",
   "execution_count": 46,
   "id": "122f27b7-6e6c-47d3-97e5-97b88c4effdb",
   "metadata": {},
   "outputs": [],
   "source": [
    "wb.save('rawdump.xlsx')"
   ]
  },
  {
   "cell_type": "code",
   "execution_count": null,
   "id": "071f43fe-f267-46df-9189-a0c2c9d87ed5",
   "metadata": {},
   "outputs": [],
   "source": []
  },
  {
   "cell_type": "code",
   "execution_count": null,
   "id": "8464537f-96ac-4775-9698-dc45efe21950",
   "metadata": {},
   "outputs": [],
   "source": []
  },
  {
   "cell_type": "code",
   "execution_count": null,
   "id": "fb81923e-1d77-4a75-b048-e38c15545e3f",
   "metadata": {},
   "outputs": [],
   "source": []
  },
  {
   "cell_type": "code",
   "execution_count": null,
   "id": "b67e02dd-4c3d-40b8-8d8f-6a5b7e477e92",
   "metadata": {},
   "outputs": [],
   "source": []
  },
  {
   "cell_type": "code",
   "execution_count": null,
   "id": "10a71b99-0e56-4458-8be0-fed8cbe531c8",
   "metadata": {},
   "outputs": [],
   "source": []
  },
  {
   "cell_type": "code",
   "execution_count": null,
   "id": "7ff795ee-f5cc-478c-9057-7ad70523c0df",
   "metadata": {},
   "outputs": [],
   "source": []
  },
  {
   "cell_type": "code",
   "execution_count": null,
   "id": "528e2920-13f0-43e2-a3d8-5e78f627dc39",
   "metadata": {},
   "outputs": [],
   "source": []
  }
 ],
 "metadata": {
  "kernelspec": {
   "display_name": "Python 3 (ipykernel)",
   "language": "python",
   "name": "python3"
  },
  "language_info": {
   "codemirror_mode": {
    "name": "ipython",
    "version": 3
   },
   "file_extension": ".py",
   "mimetype": "text/x-python",
   "name": "python",
   "nbconvert_exporter": "python",
   "pygments_lexer": "ipython3",
   "version": "3.9.0"
  }
 },
 "nbformat": 4,
 "nbformat_minor": 5
}
