{
 "cells": [
  {
   "cell_type": "code",
   "execution_count": 1,
   "id": "bd94292d",
   "metadata": {},
   "outputs": [],
   "source": [
    "import pandas as pd\n",
    "import numpy as np"
   ]
  },
  {
   "cell_type": "code",
   "execution_count": null,
   "id": "a4e58c53",
   "metadata": {},
   "outputs": [],
   "source": []
  },
  {
   "cell_type": "code",
   "execution_count": null,
   "id": "8b314ca0",
   "metadata": {},
   "outputs": [],
   "source": []
  },
  {
   "cell_type": "code",
   "execution_count": null,
   "id": "d2156c34",
   "metadata": {},
   "outputs": [],
   "source": []
  },
  {
   "cell_type": "code",
   "execution_count": null,
   "id": "149094cd",
   "metadata": {},
   "outputs": [],
   "source": []
  },
  {
   "cell_type": "code",
   "execution_count": null,
   "id": "eb7c3858",
   "metadata": {},
   "outputs": [],
   "source": []
  },
  {
   "cell_type": "code",
   "execution_count": null,
   "id": "a5e213eb",
   "metadata": {},
   "outputs": [],
   "source": []
  },
  {
   "cell_type": "code",
   "execution_count": null,
   "id": "b5380662",
   "metadata": {},
   "outputs": [],
   "source": []
  },
  {
   "cell_type": "code",
   "execution_count": null,
   "id": "9518bcc6",
   "metadata": {},
   "outputs": [],
   "source": []
  },
  {
   "cell_type": "code",
   "execution_count": null,
   "id": "d3000417",
   "metadata": {},
   "outputs": [],
   "source": []
  },
  {
   "cell_type": "code",
   "execution_count": null,
   "id": "1fa80e3c",
   "metadata": {},
   "outputs": [],
   "source": []
  },
  {
   "cell_type": "code",
   "execution_count": 2,
   "id": "7c5b82a8",
   "metadata": {},
   "outputs": [],
   "source": [
    "##dev code"
   ]
  },
  {
   "cell_type": "code",
   "execution_count": 3,
   "id": "5e21faf3",
   "metadata": {},
   "outputs": [
    {
     "name": "stderr",
     "output_type": "stream",
     "text": [
      "/home/mgsadmin/anaconda3/envs/crm_syd/lib/python3.9/site-packages/fuzzywuzzy/fuzz.py:11: UserWarning: Using slow pure-python SequenceMatcher. Install python-Levenshtein to remove this warning\n",
      "  warnings.warn('Using slow pure-python SequenceMatcher. Install python-Levenshtein to remove this warning')\n"
     ]
    }
   ],
   "source": [
    "from TechMagicFuzzy import TechMagicFuzzy"
   ]
  },
  {
   "cell_type": "code",
   "execution_count": 4,
   "id": "0331fa8e",
   "metadata": {},
   "outputs": [],
   "source": [
    "obj_techfuzzy = TechMagicFuzzy()"
   ]
  },
  {
   "cell_type": "code",
   "execution_count": 7,
   "id": "d0875625",
   "metadata": {},
   "outputs": [],
   "source": [
    "text1 = \"Accumulated depreciation and impairment obj_techfuzzy\"\n",
    "keywords1 = [\"Accumulated depreciation\"]"
   ]
  },
  {
   "cell_type": "code",
   "execution_count": 8,
   "id": "3225f4ef",
   "metadata": {},
   "outputs": [
    {
     "data": {
      "text/plain": [
       "[('Accumulated depreciation', 100)]"
      ]
     },
     "execution_count": 8,
     "metadata": {},
     "output_type": "execute_result"
    }
   ],
   "source": [
    "obj_techfuzzy.partial_ratio_pro(text1, keywords1)"
   ]
  },
  {
   "cell_type": "code",
   "execution_count": 9,
   "id": "d0cb2f23",
   "metadata": {},
   "outputs": [
    {
     "data": {
      "text/plain": [
       "[('Accumulated depreciation', 56)]"
      ]
     },
     "execution_count": 9,
     "metadata": {},
     "output_type": "execute_result"
    }
   ],
   "source": [
    "obj_techfuzzy.token_sort_pro(text1, keywords1)"
   ]
  },
  {
   "cell_type": "code",
   "execution_count": null,
   "id": "672504dc",
   "metadata": {},
   "outputs": [],
   "source": []
  },
  {
   "cell_type": "code",
   "execution_count": null,
   "id": "118f6e12",
   "metadata": {},
   "outputs": [],
   "source": []
  },
  {
   "cell_type": "code",
   "execution_count": null,
   "id": "5cf15bcd",
   "metadata": {},
   "outputs": [],
   "source": []
  },
  {
   "cell_type": "code",
   "execution_count": null,
   "id": "6f56f6d4",
   "metadata": {},
   "outputs": [],
   "source": []
  },
  {
   "cell_type": "code",
   "execution_count": null,
   "id": "a631d870",
   "metadata": {},
   "outputs": [],
   "source": []
  }
 ],
 "metadata": {
  "kernelspec": {
   "display_name": "Python 3 (ipykernel)",
   "language": "python",
   "name": "python3"
  },
  "language_info": {
   "codemirror_mode": {
    "name": "ipython",
    "version": 3
   },
   "file_extension": ".py",
   "mimetype": "text/x-python",
   "name": "python",
   "nbconvert_exporter": "python",
   "pygments_lexer": "ipython3",
   "version": "3.9.15"
  }
 },
 "nbformat": 4,
 "nbformat_minor": 5
}
