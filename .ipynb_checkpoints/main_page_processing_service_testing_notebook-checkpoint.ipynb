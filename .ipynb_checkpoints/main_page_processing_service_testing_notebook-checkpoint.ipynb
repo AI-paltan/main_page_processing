{
 "cells": [
  {
   "cell_type": "code",
   "execution_count": 1,
   "id": "331cf077",
   "metadata": {},
   "outputs": [],
   "source": [
    "import pandas as pd\n",
    "import os\n",
    "from os import path\n",
    "import json"
   ]
  },
  {
   "cell_type": "code",
   "execution_count": 2,
   "id": "9c7a2195",
   "metadata": {},
   "outputs": [
    {
     "name": "stderr",
     "output_type": "stream",
     "text": [
      "/home/mgsadmin/anaconda3/envs/crm_syd/lib/python3.9/site-packages/fuzzywuzzy/fuzz.py:11: UserWarning: Using slow pure-python SequenceMatcher. Install python-Levenshtein to remove this warning\n",
      "  warnings.warn('Using slow pure-python SequenceMatcher. Install python-Levenshtein to remove this warning')\n"
     ]
    }
   ],
   "source": [
    "from process_core import mainPageProcess"
   ]
  },
  {
   "cell_type": "code",
   "execution_count": null,
   "id": "63179bb5",
   "metadata": {},
   "outputs": [],
   "source": []
  },
  {
   "cell_type": "code",
   "execution_count": 3,
   "id": "5be4f475",
   "metadata": {},
   "outputs": [],
   "source": [
    "fileid = \"1990cc10-c828-49f0-b312-a71ab3a541da\""
   ]
  },
  {
   "cell_type": "code",
   "execution_count": 4,
   "id": "69cde8ad",
   "metadata": {},
   "outputs": [],
   "source": [
    "mp = mainPageProcess()"
   ]
  },
  {
   "cell_type": "code",
   "execution_count": 5,
   "id": "3c67b691",
   "metadata": {},
   "outputs": [],
   "source": [
    "cbs_dict,cpl_dict,ccf_dict,meta_dict,final_notes_dict,ref_notes_list, notes_region_meta_data,cropped_table_dict = mp.process_main_pages(fileid=fileid)"
   ]
  },
  {
   "cell_type": "code",
   "execution_count": 6,
   "id": "45d01b74",
   "metadata": {},
   "outputs": [
    {
     "data": {
      "text/plain": [
       "{'7': {'': ['Cash and cash equivalents', 'Cash and cash equivalents at the end of the financial year']}, '8': {'': ['Trade and other receivables']}, '9': {'': ['Income tax refund due']}, '10': {'': ['Contract assets']}, '11': {'': ['Capitalised contract costs']}, '12': {'': ['Other current assets']}, '13': {'': ['Property, plant and equipment', 'Payments for property, plant and equipment']}, '14': {'': ['Right-of-use assets']}, '15': {'': ['Intangibles']}, '16': {'': ['Deferred tax']}, '17': {'': ['Capitalised contract costs']}, '18': {'': ['Trade and other payables']}, '19': {'': ['Borrowings']}, '20': {'': ['Lease liabilities']}, '21': {'': ['Employee benefits']}, '22': {'': ['Contract liabilities']}, '23': {'': ['Borrowings']}, '24': {'': ['Lease liabilities']}, '25': {'': ['Employee benefits']}, '26': {'': ['Issued capital']}, '27': {'': ['Retained profits', 'Air Group (Holdings) Pty Limited and Controlled Entities']}, '4': {'': ['Revenue']}, '6': {'': ['Income tax benefit']}}"
      ]
     },
     "execution_count": 6,
     "metadata": {},
     "output_type": "execute_result"
    }
   ],
   "source": [
    "mp.final_notes_dict"
   ]
  },
  {
   "cell_type": "code",
   "execution_count": 8,
   "id": "8af7fafd",
   "metadata": {},
   "outputs": [],
   "source": [
    "# mp.standardised_cropped_dict"
   ]
  },
  {
   "cell_type": "code",
   "execution_count": 9,
   "id": "624a09ff",
   "metadata": {},
   "outputs": [],
   "source": [
    "output_folder = './output/'\n",
    "file_folder = os.path.join(output_folder,fileid)"
   ]
  },
  {
   "cell_type": "code",
   "execution_count": 10,
   "id": "880a536c",
   "metadata": {},
   "outputs": [],
   "source": [
    "try:\n",
    "    os.mkdir(file_folder)\n",
    "except:\n",
    "    pass"
   ]
  },
  {
   "cell_type": "code",
   "execution_count": 11,
   "id": "8743f8da",
   "metadata": {},
   "outputs": [],
   "source": [
    "with open(os.path.join(file_folder,f\"{fileid}_notes_account_dict.json\"),\"w\") as f:\n",
    "        json.dump(mp.final_notes_dict,f)"
   ]
  },
  {
   "cell_type": "code",
   "execution_count": 12,
   "id": "0570afd1",
   "metadata": {},
   "outputs": [],
   "source": [
    "notes_region_meta_data.to_csv(os.path.join(file_folder,f\"{fileid}_notes_region_meta_data.csv\"),index=False)"
   ]
  },
  {
   "cell_type": "code",
   "execution_count": 13,
   "id": "6a56616a",
   "metadata": {},
   "outputs": [],
   "source": [
    "with open(os.path.join(file_folder,f\"{fileid}_notes_ref_list.json\"),\"w\") as f:\n",
    "    json.dump(mp.notes_ref_dict,f)"
   ]
  },
  {
   "cell_type": "code",
   "execution_count": null,
   "id": "500116f0",
   "metadata": {},
   "outputs": [],
   "source": [
    "with open(os.path.join(file_folder,f\"{fileid}_standradrd_notes_meta_dict.json\"),\"w\") as f:\n",
    "    json.dump(mp.standard_note_meta_dict,f)"
   ]
  },
  {
   "cell_type": "code",
   "execution_count": 14,
   "id": "8f072ab9",
   "metadata": {},
   "outputs": [],
   "source": [
    "writer = pd.ExcelWriter(os.path.join(file_folder,f\"{fileid}_notes_cropped_df.xlsx\"), engine='xlsxwriter')\n",
    "for key,value in mp.cropped_table_dict.items():\n",
    "    value.to_excel(writer, sheet_name=key[:20],index=False)\n",
    "writer.save()"
   ]
  },
  {
   "cell_type": "code",
   "execution_count": 15,
   "id": "52de31f0",
   "metadata": {},
   "outputs": [],
   "source": [
    "writer = pd.ExcelWriter(os.path.join(file_folder,f\"{fileid}_main_pages.xlsx\"), engine='xlsxwriter')\n",
    "for key,value in cbs_dict.items():\n",
    "    value.to_excel(writer, sheet_name=f\"cbs_{key}\",index=False)\n",
    "for key,value in cpl_dict.items():\n",
    "    value.to_excel(writer, sheet_name=f\"cpl_{key}\",index=False)\n",
    "for key,value in ccf_dict.items():\n",
    "    value.to_excel(writer, sheet_name=f\"ccf_{key}\",index=False)\n",
    "writer.save()"
   ]
  },
  {
   "cell_type": "code",
   "execution_count": 18,
   "id": "4a004977",
   "metadata": {},
   "outputs": [],
   "source": [
    "writer = pd.ExcelWriter(os.path.join(file_folder,f\"{fileid}_notes_standard_cropped_df.xlsx\"), engine='xlsxwriter')\n",
    "for key,value in mp.standardised_cropped_dict.items():\n",
    "    if value is not None:\n",
    "            value.to_excel(writer, sheet_name=key[:20],index=False)\n",
    "    else:\n",
    "            temp_df = pd.DataFrame()\n",
    "            temp_df.to_excel(writer, sheet_name=key[:20],index=False)\n",
    "\n",
    "writer.save()\n"
   ]
  },
  {
   "cell_type": "code",
   "execution_count": null,
   "id": "6a8ac976",
   "metadata": {},
   "outputs": [],
   "source": []
  },
  {
   "cell_type": "code",
   "execution_count": null,
   "id": "9bb1d342",
   "metadata": {},
   "outputs": [],
   "source": []
  },
  {
   "cell_type": "code",
   "execution_count": null,
   "id": "311aea42",
   "metadata": {},
   "outputs": [],
   "source": []
  },
  {
   "cell_type": "code",
   "execution_count": null,
   "id": "d9fa84b1",
   "metadata": {},
   "outputs": [],
   "source": []
  }
 ],
 "metadata": {
  "kernelspec": {
   "display_name": "Python 3 (ipykernel)",
   "language": "python",
   "name": "python3"
  },
  "language_info": {
   "codemirror_mode": {
    "name": "ipython",
    "version": 3
   },
   "file_extension": ".py",
   "mimetype": "text/x-python",
   "name": "python",
   "nbconvert_exporter": "python",
   "pygments_lexer": "ipython3",
   "version": "3.9.15"
  }
 },
 "nbformat": 4,
 "nbformat_minor": 5
}
