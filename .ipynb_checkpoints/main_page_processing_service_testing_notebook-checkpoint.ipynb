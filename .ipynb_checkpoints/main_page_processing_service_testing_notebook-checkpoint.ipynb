{
 "cells": [
  {
   "cell_type": "code",
   "execution_count": 1,
   "id": "dfdf939b",
   "metadata": {},
   "outputs": [],
   "source": [
    "import pandas as pd\n",
    "import os\n",
    "from os import path\n",
    "import json"
   ]
  },
  {
   "cell_type": "code",
   "execution_count": 2,
   "id": "c1cfe112",
   "metadata": {},
   "outputs": [
    {
     "name": "stderr",
     "output_type": "stream",
     "text": [
      "/home/mgsadmin/anaconda3/envs/crm_syd/lib/python3.9/site-packages/fuzzywuzzy/fuzz.py:11: UserWarning: Using slow pure-python SequenceMatcher. Install python-Levenshtein to remove this warning\n",
      "  warnings.warn('Using slow pure-python SequenceMatcher. Install python-Levenshtein to remove this warning')\n"
     ]
    }
   ],
   "source": [
    "from process_core import mainPageProcess"
   ]
  },
  {
   "cell_type": "code",
   "execution_count": null,
   "id": "76a410b7",
   "metadata": {},
   "outputs": [],
   "source": []
  },
  {
   "cell_type": "code",
   "execution_count": null,
   "id": "48261a5d",
   "metadata": {},
   "outputs": [],
   "source": [
    "fileid = \"89a92882-15ad-4da9-9afc-1d1937342c64\""
   ]
  },
  {
   "cell_type": "code",
   "execution_count": null,
   "id": "cbf78309",
   "metadata": {},
   "outputs": [],
   "source": [
    "mp = mainPageProcess()"
   ]
  },
  {
   "cell_type": "code",
   "execution_count": null,
   "id": "f351ec81",
   "metadata": {},
   "outputs": [],
   "source": [
    "cbs_dict,cpl_dict,ccf_dict,meta_dict,final_notes_dict,ref_notes_list, notes_region_meta_data,cropped_table_dict = mp.process_main_pages(fileid=fileid)"
   ]
  },
  {
   "cell_type": "code",
   "execution_count": null,
   "id": "581d9d82",
   "metadata": {},
   "outputs": [],
   "source": []
  },
  {
   "cell_type": "code",
   "execution_count": null,
   "id": "45dec21f",
   "metadata": {},
   "outputs": [],
   "source": []
  },
  {
   "cell_type": "code",
   "execution_count": 3,
   "id": "1266d54f",
   "metadata": {},
   "outputs": [
    {
     "ename": "NameError",
     "evalue": "name 'fileid' is not defined",
     "output_type": "error",
     "traceback": [
      "\u001b[0;31m---------------------------------------------------------------------------\u001b[0m",
      "\u001b[0;31mNameError\u001b[0m                                 Traceback (most recent call last)",
      "Cell \u001b[0;32mIn [3], line 2\u001b[0m\n\u001b[1;32m      1\u001b[0m output_folder \u001b[38;5;241m=\u001b[39m \u001b[38;5;124m'\u001b[39m\u001b[38;5;124m./output/\u001b[39m\u001b[38;5;124m'\u001b[39m\n\u001b[0;32m----> 2\u001b[0m file_folder \u001b[38;5;241m=\u001b[39m os\u001b[38;5;241m.\u001b[39mpath\u001b[38;5;241m.\u001b[39mjoin(output_folder,\u001b[43mfileid\u001b[49m)\n",
      "\u001b[0;31mNameError\u001b[0m: name 'fileid' is not defined"
     ]
    }
   ],
   "source": [
    "output_folder = './output/'\n",
    "file_folder = os.path.join(output_folder,fileid)"
   ]
  },
  {
   "cell_type": "code",
   "execution_count": 5,
   "id": "ef1eedb0",
   "metadata": {},
   "outputs": [],
   "source": [
    "try:\n",
    "    os.mkdir(file_folder)\n",
    "except:\n",
    "    pass"
   ]
  },
  {
   "cell_type": "code",
   "execution_count": null,
   "id": "170134fc",
   "metadata": {},
   "outputs": [],
   "source": [
    "with open(os.path.join(file_folder,f\"{fileid}_notes_account_dict.json\"),\"w\") as f:\n",
    "        json.dump(mp.final_notes_dict,f)"
   ]
  },
  {
   "cell_type": "code",
   "execution_count": null,
   "id": "133c415e",
   "metadata": {},
   "outputs": [],
   "source": [
    "notes_region_meta_data.to_csv(os.path.join(file_folder,f\"{fileid}_notes_region_meta_data.csv\"),index=False)"
   ]
  },
  {
   "cell_type": "code",
   "execution_count": null,
   "id": "9cab934c",
   "metadata": {},
   "outputs": [],
   "source": [
    "with open(os.path.join(file_folder,f\"{fileid}_notes_ref_list.json\"),\"w\") as f:\n",
    "    json.dump(mp.notes_ref_dict,f)"
   ]
  },
  {
   "cell_type": "code",
   "execution_count": null,
   "id": "0e0ea239",
   "metadata": {},
   "outputs": [],
   "source": [
    "writer = pd.ExcelWriter(os.path.join(file_folder,f\"{fileid}_notes_cropped_df.xlsx\"), engine='xlsxwriter')\n",
    "for key,value in mp.cropped_table_dict.items():\n",
    "    value.to_excel(writer, sheet_name=key[:20],index=False)\n",
    "writer.save()"
   ]
  },
  {
   "cell_type": "code",
   "execution_count": null,
   "id": "6f2c2aa0",
   "metadata": {},
   "outputs": [],
   "source": [
    "writer = pd.ExcelWriter(os.path.join(file_folder,f\"{fileid}_main_pages.xlsx\"), engine='xlsxwriter')\n",
    "for key,value in cbs_dict.items():\n",
    "    value.to_excel(writer, sheet_name=f\"cbs_{key}\",index=False)\n",
    "for key,value in cpl_dict.items():\n",
    "    value.to_excel(writer, sheet_name=f\"cpl_{key}\",index=False)\n",
    "for key,value in ccf_dict.items():\n",
    "    value.to_excel(writer, sheet_name=f\"ccf_{key}\",index=False)\n",
    "writer.save()"
   ]
  },
  {
   "cell_type": "code",
   "execution_count": null,
   "id": "471b8088",
   "metadata": {},
   "outputs": [],
   "source": [
    "writer = pd.ExcelWriter(os.path.join(file_folder,f\"{fileid}_notes_standard_cropped_df.xlsx\"), engine='xlsxwriter')\n",
    "for key,value in mp.standardised_cropped_dict.items():\n",
    "    if value is not None:\n",
    "            value.to_excel(writer, sheet_name=key[:20],index=False)\n",
    "        else:\n",
    "            temp_df = pd.DataFrame()\n",
    "            temp_df.to_excel(writer, sheet_name=key[:20],index=False)\n",
    "\n",
    "writer.save()\n"
   ]
  },
  {
   "cell_type": "code",
   "execution_count": null,
   "id": "2d232c4d",
   "metadata": {},
   "outputs": [],
   "source": []
  },
  {
   "cell_type": "code",
   "execution_count": null,
   "id": "f5fd67b5",
   "metadata": {},
   "outputs": [],
   "source": []
  },
  {
   "cell_type": "code",
   "execution_count": null,
   "id": "e3e59aa9",
   "metadata": {},
   "outputs": [],
   "source": []
  },
  {
   "cell_type": "code",
   "execution_count": null,
   "id": "ba399204",
   "metadata": {},
   "outputs": [],
   "source": []
  }
 ],
 "metadata": {
  "kernelspec": {
   "display_name": "Python 3 (ipykernel)",
   "language": "python",
   "name": "python3"
  },
  "language_info": {
   "codemirror_mode": {
    "name": "ipython",
    "version": 3
   },
   "file_extension": ".py",
   "mimetype": "text/x-python",
   "name": "python",
   "nbconvert_exporter": "python",
   "pygments_lexer": "ipython3",
   "version": "3.9.15"
  }
 },
 "nbformat": 4,
 "nbformat_minor": 5
}
